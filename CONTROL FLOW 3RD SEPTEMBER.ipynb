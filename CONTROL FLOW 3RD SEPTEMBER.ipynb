{
 "cells": [
  {
   "cell_type": "markdown",
   "id": "f51522a5",
   "metadata": {},
   "source": [
    "# CONTROL FLOW"
   ]
  },
  {
   "cell_type": "raw",
   "id": "ece671ff",
   "metadata": {},
   "source": [
    "Basic If-Else Statements:"
   ]
  },
  {
   "cell_type": "code",
   "execution_count": null,
   "id": "7c63b17a",
   "metadata": {},
   "outputs": [],
   "source": [
    "1. Write a Python program to check if a given number is positive or negative?"
   ]
  },
  {
   "cell_type": "code",
   "execution_count": 1,
   "id": "72a47547",
   "metadata": {},
   "outputs": [
    {
     "name": "stdout",
     "output_type": "stream",
     "text": [
      "Enter a number: -5\n",
      "-5.0 is negative.\n"
     ]
    }
   ],
   "source": [
    "# Input: Take user input for the number\n",
    "num = float(input(\"Enter a number: \"))\n",
    "\n",
    "# Check if the number is positive or negative using if-else statements\n",
    "if num > 0:\n",
    "    print(f\"{num} is positive.\")\n",
    "elif num < 0:\n",
    "    print(f\"{num} is negative.\")\n",
    "else:\n",
    "    print(\"The number is zero.\")\n"
   ]
  },
  {
   "cell_type": "raw",
   "id": "2f394850",
   "metadata": {},
   "source": []
  },
  {
   "cell_type": "code",
   "execution_count": null,
   "id": "8197b0df",
   "metadata": {},
   "outputs": [],
   "source": [
    "2. Create a program that determines if a person is eligible to vote based on their age?"
   ]
  },
  {
   "cell_type": "code",
   "execution_count": 1,
   "id": "f200218b",
   "metadata": {},
   "outputs": [
    {
     "name": "stdout",
     "output_type": "stream",
     "text": [
      "Enter your age: 23\n",
      "You are eligible to vote.\n"
     ]
    }
   ],
   "source": [
    "# Input: Take the user's age as input\n",
    "age = int(input(\"Enter your age: \"))\n",
    "\n",
    "# Check if the age meets the voting eligibility criteria\n",
    "if age >= 18:\n",
    "    print(\"You are eligible to vote.\")\n",
    "else:\n",
    "    print(\"You are not eligible to vote.\")\n"
   ]
  },
  {
   "cell_type": "raw",
   "id": "5e7b7465",
   "metadata": {},
   "source": []
  },
  {
   "cell_type": "code",
   "execution_count": null,
   "id": "58a61e1c",
   "metadata": {},
   "outputs": [],
   "source": [
    "3. Develop a program to find the maximum of two numbers using if-else statements?"
   ]
  },
  {
   "cell_type": "code",
   "execution_count": 2,
   "id": "d351b5a9",
   "metadata": {},
   "outputs": [
    {
     "name": "stdout",
     "output_type": "stream",
     "text": [
      "Enter the first number: 23\n",
      "Enter the second number: 35\n",
      "The maximum number is 35.0.\n"
     ]
    }
   ],
   "source": [
    "# Input: Take two numbers from the user\n",
    "num1 = float(input(\"Enter the first number: \"))\n",
    "num2 = float(input(\"Enter the second number: \"))\n",
    "\n",
    "# Determine the maximum using if-else\n",
    "if num1 > num2:\n",
    "    print(f\"The maximum number is {num1}.\")\n",
    "else:\n",
    "    print(f\"The maximum number is {num2}.\")\n"
   ]
  },
  {
   "cell_type": "raw",
   "id": "c798655d",
   "metadata": {},
   "source": []
  },
  {
   "cell_type": "code",
   "execution_count": null,
   "id": "6d99f74b",
   "metadata": {},
   "outputs": [],
   "source": [
    "4. Write a Python script to classify a given year as a leap year or not?"
   ]
  },
  {
   "cell_type": "code",
   "execution_count": 1,
   "id": "5c5d9b4d",
   "metadata": {},
   "outputs": [
    {
     "name": "stdout",
     "output_type": "stream",
     "text": [
      "Enter the year to check if it's a leap year: 2024\n",
      "2024 is a leap year.\n"
     ]
    }
   ],
   "source": [
    "# Program to classify a given year as a leap year or not\n",
    "\n",
    "# Input: Prompt the user to enter a year\n",
    "year = int(input(\"Enter the year to check if it's a leap year: \"))\n",
    "\n",
    "# Logic: Check leap year conditions\n",
    "if (year % 4 == 0 and year % 100 != 0) or (year % 400 == 0):\n",
    "    print(f\"{year} is a leap year.\")\n",
    "else:\n",
    "    print(f\"{year} is not a leap year.\")\n"
   ]
  },
  {
   "cell_type": "raw",
   "id": "1228d28d",
   "metadata": {},
   "source": []
  },
  {
   "cell_type": "code",
   "execution_count": null,
   "id": "61741fed",
   "metadata": {},
   "outputs": [],
   "source": [
    "5. Create a program that checks whether a character is a vowel or a consonant?"
   ]
  },
  {
   "cell_type": "code",
   "execution_count": 2,
   "id": "4a052d92",
   "metadata": {},
   "outputs": [
    {
     "name": "stdout",
     "output_type": "stream",
     "text": [
      "Enter a single character: i\n",
      "i is a vowel.\n"
     ]
    }
   ],
   "source": [
    "# Input: Prompt the user to enter a character\n",
    "char = input(\"Enter a single character: \").lower()\n",
    "\n",
    "# Check if the input is a single alphabetic character\n",
    "if char.isalpha() and len(char) == 1:\n",
    "    # Check if the character is a vowel\n",
    "    if char in \"aeiou\":\n",
    "        print(f\"{char} is a vowel.\")\n",
    "    else:\n",
    "        print(f\"{char} is a consonant.\")\n",
    "else:\n",
    "    print(\"Invalid input. Please enter a single alphabetic character.\")\n"
   ]
  },
  {
   "cell_type": "raw",
   "id": "a94e636d",
   "metadata": {},
   "source": []
  },
  {
   "cell_type": "code",
   "execution_count": null,
   "id": "27434177",
   "metadata": {},
   "outputs": [],
   "source": [
    "6. Implement a program to determine whether a given number is even or odd?"
   ]
  },
  {
   "cell_type": "code",
   "execution_count": 3,
   "id": "64a49688",
   "metadata": {},
   "outputs": [
    {
     "name": "stdout",
     "output_type": "stream",
     "text": [
      "Enter a number: 25\n",
      "25 is an odd number.\n"
     ]
    }
   ],
   "source": [
    "# Input: Prompt the user to enter a number\n",
    "number = int(input(\"Enter a number: \"))\n",
    "\n",
    "# Check if the number is even or odd\n",
    "if number % 2 == 0:\n",
    "    print(f\"{number} is an even number.\")\n",
    "else:\n",
    "    print(f\"{number} is an odd number.\")\n"
   ]
  },
  {
   "cell_type": "raw",
   "id": "418d132b",
   "metadata": {},
   "source": []
  },
  {
   "cell_type": "code",
   "execution_count": null,
   "id": "06abf864",
   "metadata": {},
   "outputs": [],
   "source": [
    "7. Write a Python function to calculate the absolute value of a number without using the `abs()` function?"
   ]
  },
  {
   "cell_type": "code",
   "execution_count": 4,
   "id": "4ad6d00f",
   "metadata": {},
   "outputs": [
    {
     "name": "stdout",
     "output_type": "stream",
     "text": [
      "Enter a number: 2005\n",
      "The absolute value of 2005.0 is 2005.0\n"
     ]
    }
   ],
   "source": [
    "def calculate_absolute_value(number):\n",
    "    \"\"\"\n",
    "    This function returns the absolute value of a given number\n",
    "    without using the abs() function.\n",
    "    \"\"\"\n",
    "    # If the number is negative, negate it\n",
    "    if number < 0:\n",
    "        return -number\n",
    "    # Otherwise, return the number itself\n",
    "    return number\n",
    "\n",
    "# Example usage\n",
    "num = float(input(\"Enter a number: \"))\n",
    "result = calculate_absolute_value(num)\n",
    "print(f\"The absolute value of {num} is {result}\")\n"
   ]
  },
  {
   "cell_type": "raw",
   "id": "cc461ef7",
   "metadata": {},
   "source": []
  },
  {
   "cell_type": "code",
   "execution_count": null,
   "id": "637a1e3c",
   "metadata": {},
   "outputs": [],
   "source": [
    "8. Develop a program that determines the largest of three given numbers using if-else statements?"
   ]
  },
  {
   "cell_type": "code",
   "execution_count": 5,
   "id": "c7d17a21",
   "metadata": {},
   "outputs": [
    {
     "name": "stdout",
     "output_type": "stream",
     "text": [
      "Enter the first number: 25\n",
      "Enter the second number: 50\n",
      "Enter the third number: 77\n",
      "The largest number is: 77.0\n"
     ]
    }
   ],
   "source": [
    "# Input: Prompt the user to enter three numbers\n",
    "num1 = float(input(\"Enter the first number: \"))\n",
    "num2 = float(input(\"Enter the second number: \"))\n",
    "num3 = float(input(\"Enter the third number: \"))\n",
    "\n",
    "# Determine the largest number using if-else statements\n",
    "if num1 >= num2 and num1 >= num3:\n",
    "    largest = num1\n",
    "elif num2 >= num1 and num2 >= num3:\n",
    "    largest = num2\n",
    "else:\n",
    "    largest = num3\n",
    "\n",
    "# Output: Display the largest number\n",
    "print(f\"The largest number is: {largest}\")\n"
   ]
  },
  {
   "cell_type": "raw",
   "id": "26228ea6",
   "metadata": {},
   "source": []
  },
  {
   "cell_type": "code",
   "execution_count": null,
   "id": "8084b873",
   "metadata": {},
   "outputs": [],
   "source": [
    "9. Create a program that checks if a given string is a palindrome?"
   ]
  },
  {
   "cell_type": "code",
   "execution_count": 6,
   "id": "1e8c44c9",
   "metadata": {},
   "outputs": [
    {
     "name": "stdout",
     "output_type": "stream",
     "text": [
      "Enter a string: vivekanandan\n",
      "\"vivekanandan\" is not a palindrome.\n"
     ]
    }
   ],
   "source": [
    "# Input: Prompt the user to enter a string\n",
    "string = input(\"Enter a string: \").lower()  # Convert to lowercase for case-insensitive comparison\n",
    "\n",
    "# Remove spaces and non-alphanumeric characters (optional)\n",
    "cleaned_string = ''.join(char for char in string if char.isalnum())\n",
    "\n",
    "# Check if the string is a palindrome\n",
    "if cleaned_string == cleaned_string[::-1]:  # Compare the string with its reverse\n",
    "    print(f'\"{string}\" is a palindrome.')\n",
    "else:\n",
    "    print(f'\"{string}\" is not a palindrome.')\n"
   ]
  },
  {
   "cell_type": "raw",
   "id": "91d9acf9",
   "metadata": {},
   "source": []
  },
  {
   "cell_type": "code",
   "execution_count": null,
   "id": "4c1ee3eb",
   "metadata": {},
   "outputs": [],
   "source": [
    "10. Write a Python program to calculate the grade based on a student's score?"
   ]
  },
  {
   "cell_type": "code",
   "execution_count": 7,
   "id": "30d4ff1a",
   "metadata": {},
   "outputs": [
    {
     "name": "stdout",
     "output_type": "stream",
     "text": [
      "Enter the student's score (0-100): 98\n",
      "The student's grade is: A\n"
     ]
    }
   ],
   "source": [
    "# Input: Prompt the user to enter the student's score\n",
    "score = float(input(\"Enter the student's score (0-100): \"))\n",
    "\n",
    "# Determine the grade based on the score\n",
    "if 90 <= score <= 100:\n",
    "    grade = \"A\"\n",
    "elif 80 <= score < 90:\n",
    "    grade = \"B\"\n",
    "elif 70 <= score < 80:\n",
    "    grade = \"C\"\n",
    "elif 60 <= score < 70:\n",
    "    grade = \"D\"\n",
    "elif 0 <= score < 60:\n",
    "    grade = \"F\"\n",
    "else:\n",
    "    grade = \"Invalid score\"\n",
    "\n",
    "# Output the grade\n",
    "print(f\"The student's grade is: {grade}\")\n"
   ]
  },
  {
   "cell_type": "raw",
   "id": "9bac399f",
   "metadata": {},
   "source": []
  },
  {
   "cell_type": "markdown",
   "id": "e5d277ac",
   "metadata": {},
   "source": [
    "# Nested If-Else Statements:"
   ]
  },
  {
   "cell_type": "raw",
   "id": "c353621d",
   "metadata": {},
   "source": []
  },
  {
   "cell_type": "code",
   "execution_count": null,
   "id": "5edab822",
   "metadata": {},
   "outputs": [],
   "source": [
    "11. Write a program to find the largest among three numbers using nested if-else statements?"
   ]
  },
  {
   "cell_type": "code",
   "execution_count": 9,
   "id": "b31ba092",
   "metadata": {},
   "outputs": [
    {
     "name": "stdout",
     "output_type": "stream",
     "text": [
      "Enter the first number: 25\n",
      "Enter the second number: 27\n",
      "Enter the third number: 57\n",
      "The largest number among 25.0, 27.0, and 57.0 is: 57.0\n"
     ]
    }
   ],
   "source": [
    "# Input: Prompt the user to enter three numbers\n",
    "num1 = float(input(\"Enter the first number: \"))\n",
    "num2 = float(input(\"Enter the second number: \"))\n",
    "num3 = float(input(\"Enter the third number: \"))\n",
    "\n",
    "# Nested if-else to find the largest number\n",
    "if num1 >= num2:\n",
    "    if num1 >= num3:\n",
    "        largest = num1\n",
    "    else:\n",
    "        largest = num3\n",
    "else:\n",
    "    if num2 >= num3:\n",
    "        largest = num2\n",
    "    else:\n",
    "        largest = num3\n",
    "\n",
    "# Output: Display the largest number\n",
    "print(f\"The largest number among {num1}, {num2}, and {num3} is: {largest}\")\n"
   ]
  },
  {
   "cell_type": "raw",
   "id": "301683f7",
   "metadata": {},
   "source": []
  },
  {
   "cell_type": "code",
   "execution_count": null,
   "id": "255ad05a",
   "metadata": {},
   "outputs": [],
   "source": [
    "12. Implement a program to determine if a triangle is equilateral, isosceles, or scalene?"
   ]
  },
  {
   "cell_type": "code",
   "execution_count": 10,
   "id": "fb40c0b9",
   "metadata": {},
   "outputs": [
    {
     "name": "stdout",
     "output_type": "stream",
     "text": [
      "Enter the length of the first side: 1000\n",
      "Enter the length of the second side: 2500\n",
      "Enter the length of the third side: 3000\n",
      "The triangle is scalene.\n"
     ]
    }
   ],
   "source": [
    "# Input: Prompt the user to enter the lengths of the triangle sides\n",
    "side1 = float(input(\"Enter the length of the first side: \"))\n",
    "side2 = float(input(\"Enter the length of the second side: \"))\n",
    "side3 = float(input(\"Enter the length of the third side: \"))\n",
    "\n",
    "# Check if the entered sides can form a triangle\n",
    "if side1 + side2 > side3 and side1 + side3 > side2 and side2 + side3 > side1:\n",
    "    # Check for the type of triangle\n",
    "    if side1 == side2 == side3:\n",
    "        print(\"The triangle is equilateral.\")\n",
    "    elif side1 == side2 or side1 == side3 or side2 == side3:\n",
    "        print(\"The triangle is isosceles.\")\n",
    "    else:\n",
    "        print(\"The triangle is scalene.\")\n",
    "else:\n",
    "    print(\"The given sides do not form a valid triangle.\")\n"
   ]
  },
  {
   "cell_type": "raw",
   "id": "c6e96faf",
   "metadata": {},
   "source": []
  },
  {
   "cell_type": "code",
   "execution_count": null,
   "id": "8205209e",
   "metadata": {},
   "outputs": [],
   "source": [
    "13. Develop a program that checks if a year is a leap year and also if it is a century year?"
   ]
  },
  {
   "cell_type": "code",
   "execution_count": 11,
   "id": "59f7e5ef",
   "metadata": {},
   "outputs": [
    {
     "name": "stdout",
     "output_type": "stream",
     "text": [
      "Enter a year: 2015\n",
      "2015 is not a leap year and not a century year.\n"
     ]
    }
   ],
   "source": [
    "# Input: Prompt the user to enter a year\n",
    "year = int(input(\"Enter a year: \"))\n",
    "\n",
    "# Check if the year is a leap year\n",
    "if (year % 4 == 0 and year % 100 != 0) or (year % 400 == 0):\n",
    "    leap_status = \"a leap year\"\n",
    "else:\n",
    "    leap_status = \"not a leap year\"\n",
    "\n",
    "# Check if the year is a century year\n",
    "if year % 100 == 0:\n",
    "    century_status = \"a century year\"\n",
    "else:\n",
    "    century_status = \"not a century year\"\n",
    "\n",
    "# Output the results\n",
    "print(f\"{year} is {leap_status} and {century_status}.\")\n"
   ]
  },
  {
   "cell_type": "raw",
   "id": "31f17f27",
   "metadata": {},
   "source": []
  },
  {
   "cell_type": "code",
   "execution_count": null,
   "id": "9b0d82cf",
   "metadata": {},
   "outputs": [],
   "source": [
    "14. Write a Python script to determine if a number is positive, negative, or zero?"
   ]
  },
  {
   "cell_type": "code",
   "execution_count": 12,
   "id": "3072926e",
   "metadata": {},
   "outputs": [
    {
     "name": "stdout",
     "output_type": "stream",
     "text": [
      "Enter a number: 33\n",
      "33.0 is a positive number.\n"
     ]
    }
   ],
   "source": [
    "# Input: Prompt the user to enter a number\n",
    "num = float(input(\"Enter a number: \"))\n",
    "\n",
    "# Determine if the number is positive, negative, or zero\n",
    "if num > 0:\n",
    "    print(f\"{num} is a positive number.\")\n",
    "elif num < 0:\n",
    "    print(f\"{num} is a negative number.\")\n",
    "else:\n",
    "    print(\"The number is zero.\")\n"
   ]
  },
  {
   "cell_type": "raw",
   "id": "373fa767",
   "metadata": {},
   "source": []
  },
  {
   "cell_type": "code",
   "execution_count": null,
   "id": "0c8060b9",
   "metadata": {},
   "outputs": [],
   "source": [
    "15. Create a program to check if a person is a teenager (between 13 and 19 years old)?"
   ]
  },
  {
   "cell_type": "code",
   "execution_count": 14,
   "id": "037e78e4",
   "metadata": {},
   "outputs": [
    {
     "name": "stdout",
     "output_type": "stream",
     "text": [
      "Enter the age of the person: 45\n",
      "The person, aged 45, is not a teenager.\n"
     ]
    }
   ],
   "source": [
    "# Program to check if a person is a teenager\n",
    "\n",
    "# Input: Get the age of the person\n",
    "age = int(input(\"Enter the age of the person: \"))\n",
    "\n",
    "# Check if the age is in the teenage range (13 to 19 inclusive)\n",
    "if 13 <= age <= 19:\n",
    "    print(f\"The person, aged {age}, is a teenager.\")\n",
    "else:\n",
    "    print(f\"The person, aged {age}, is not a teenager.\")\n"
   ]
  },
  {
   "cell_type": "raw",
   "id": "19f5539c",
   "metadata": {},
   "source": []
  },
  {
   "cell_type": "code",
   "execution_count": null,
   "id": "74fb5dd4",
   "metadata": {},
   "outputs": [],
   "source": [
    "16. Develop a program that determines the type of angle based on its measure (acute, obtuse, or right)?"
   ]
  },
  {
   "cell_type": "code",
   "execution_count": 15,
   "id": "1b70bc0b",
   "metadata": {},
   "outputs": [
    {
     "name": "stdout",
     "output_type": "stream",
     "text": [
      "Enter the measure of the angle in degrees: 45\n",
      "The angle is an Acute Angle.\n"
     ]
    }
   ],
   "source": [
    "# Program to determine the type of angle based on its measure\n",
    "\n",
    "# Input: Prompt the user to enter the measure of the angle\n",
    "angle = float(input(\"Enter the measure of the angle in degrees: \"))\n",
    "\n",
    "# Determine the type of angle\n",
    "if angle < 0 or angle > 360:\n",
    "    print(\"Invalid angle. Please enter a value between 0 and 360 degrees.\")\n",
    "elif angle == 0 or angle == 180:\n",
    "    print(\"The angle measure cannot be 0 or 180 degrees.\")\n",
    "elif angle == 90:\n",
    "    print(\"The angle is a Right Angle.\")\n",
    "elif angle < 90:\n",
    "    print(\"The angle is an Acute Angle.\")\n",
    "elif angle > 90 and angle < 180:\n",
    "    print(\"The angle is an Obtuse Angle.\")\n",
    "else:\n",
    "    print(\"The angle is a straight angle (180 degrees).\")\n"
   ]
  },
  {
   "cell_type": "raw",
   "id": "e85940e7",
   "metadata": {},
   "source": []
  },
  {
   "cell_type": "code",
   "execution_count": null,
   "id": "e721ae6a",
   "metadata": {},
   "outputs": [],
   "source": [
    "17. Write a Python program to calculate the roots of a quadratic equation?"
   ]
  },
  {
   "cell_type": "code",
   "execution_count": 16,
   "id": "517a7fe2",
   "metadata": {},
   "outputs": [
    {
     "name": "stdout",
     "output_type": "stream",
     "text": [
      "Enter the coefficient a: 28\n",
      "Enter the coefficient b: 32\n",
      "Enter the coefficient c: 45\n",
      "The roots of the quadratic equation 28.0x^2 + 32.0x + 45.0 = 0 are:\n",
      "Root 1: (-0.5714285714285714+1.1316413941253471j)\n",
      "Root 2: (-0.5714285714285714-1.1316413941253471j)\n"
     ]
    }
   ],
   "source": [
    "import cmath  # Import the complex math module to handle square root of negative numbers\n",
    "\n",
    "# Function to calculate the roots of a quadratic equation\n",
    "def quadratic_roots(a, b, c):\n",
    "    # Calculate the discriminant\n",
    "    discriminant = cmath.sqrt(b**2 - 4*a*c)\n",
    "\n",
    "    # Calculate the two roots\n",
    "    root1 = (-b + discriminant) / (2 * a)\n",
    "    root2 = (-b - discriminant) / (2 * a)\n",
    "\n",
    "    return root1, root2\n",
    "\n",
    "# Input: Coefficients of the quadratic equation\n",
    "a = float(input(\"Enter the coefficient a: \"))\n",
    "b = float(input(\"Enter the coefficient b: \"))\n",
    "c = float(input(\"Enter the coefficient c: \"))\n",
    "\n",
    "# Calculate the roots\n",
    "root1, root2 = quadratic_roots(a, b, c)\n",
    "\n",
    "# Output the roots\n",
    "print(f\"The roots of the quadratic equation {a}x^2 + {b}x + {c} = 0 are:\")\n",
    "print(f\"Root 1: {root1}\")\n",
    "print(f\"Root 2: {root2}\")\n"
   ]
  },
  {
   "cell_type": "raw",
   "id": "a4deedc9",
   "metadata": {},
   "source": []
  },
  {
   "cell_type": "code",
   "execution_count": null,
   "id": "e0db3980",
   "metadata": {},
   "outputs": [],
   "source": [
    "18. Implement a program to determine the day of the week based on a user-provided number (1 for Monday, 2\n",
    "for Tuesday, etc.)?"
   ]
  },
  {
   "cell_type": "code",
   "execution_count": 17,
   "id": "29a15b35",
   "metadata": {},
   "outputs": [
    {
     "name": "stdout",
     "output_type": "stream",
     "text": [
      "Enter a number (1-7) representing the day of the week: 5\n",
      "The day of the week for number 5 is Friday.\n"
     ]
    }
   ],
   "source": [
    "# Define a dictionary to map numbers to days of the week\n",
    "days_of_week = {\n",
    "    1: \"Monday\",\n",
    "    2: \"Tuesday\",\n",
    "    3: \"Wednesday\",\n",
    "    4: \"Thursday\",\n",
    "    5: \"Friday\",\n",
    "    6: \"Saturday\",\n",
    "    7: \"Sunday\"\n",
    "}\n",
    "\n",
    "# Ask the user to input a number representing the day of the week\n",
    "try:\n",
    "    day_number = int(input(\"Enter a number (1-7) representing the day of the week: \"))\n",
    "    \n",
    "    # Check if the provided number is within the valid range\n",
    "    if 1 <= day_number <= 7:\n",
    "        print(f\"The day of the week for number {day_number} is {days_of_week[day_number]}.\")\n",
    "    else:\n",
    "        print(\"Invalid number. Please enter a number between 1 and 7.\")\n",
    "\n",
    "except ValueError:\n",
    "    # Handle the case where input is not a number\n",
    "    print(\"Invalid input. Please enter a valid integer number.\")\n"
   ]
  },
  {
   "cell_type": "raw",
   "id": "7001c296",
   "metadata": {},
   "source": []
  },
  {
   "cell_type": "code",
   "execution_count": null,
   "id": "dd0f87bd",
   "metadata": {},
   "outputs": [],
   "source": [
    "19. Create a program that determines if a year is a leap year and also if it is evenly divisible by 400?"
   ]
  },
  {
   "cell_type": "code",
   "execution_count": 18,
   "id": "ee74553a",
   "metadata": {},
   "outputs": [
    {
     "name": "stdout",
     "output_type": "stream",
     "text": [
      "Enter a year: 2023\n",
      "2023 is not a leap year.\n",
      "2023 is not divisible by 400.\n"
     ]
    }
   ],
   "source": [
    "# Input: Prompt the user to enter a year\n",
    "year = int(input(\"Enter a year: \"))\n",
    "\n",
    "# Check if the year is a leap year and divisible by 400\n",
    "if (year % 4 == 0 and year % 100 != 0) or (year % 400 == 0):\n",
    "    print(f\"{year} is a leap year.\")\n",
    "else:\n",
    "    print(f\"{year} is not a leap year.\")\n",
    "\n",
    "# Additionally, check if the year is divisible by 400\n",
    "if year % 400 == 0:\n",
    "    print(f\"{year} is evenly divisible by 400.\")\n",
    "else:\n",
    "    print(f\"{year} is not divisible by 400.\")\n"
   ]
  },
  {
   "cell_type": "raw",
   "id": "4ae0227a",
   "metadata": {},
   "source": []
  },
  {
   "cell_type": "code",
   "execution_count": null,
   "id": "a419a38a",
   "metadata": {},
   "outputs": [],
   "source": [
    "20. Develop a program that checks if a given number is prime or not using nested if-else statements?"
   ]
  },
  {
   "cell_type": "code",
   "execution_count": 19,
   "id": "0e32e015",
   "metadata": {},
   "outputs": [
    {
     "name": "stdout",
     "output_type": "stream",
     "text": [
      "Enter a number: 20\n",
      "20 is not a prime number.\n"
     ]
    }
   ],
   "source": [
    "# Program to check if a given number is prime using nested if-else statements\n",
    "\n",
    "# Input: Get a number from the user\n",
    "num = int(input(\"Enter a number: \"))\n",
    "\n",
    "# Check if the number is greater than 1 (since prime numbers start from 2)\n",
    "if num > 1:\n",
    "    # Check if the number has any divisors other than 1 and itself\n",
    "    for i in range(2, num):\n",
    "        if num % i == 0:\n",
    "            # If divisible by any number, it's not prime\n",
    "            print(f\"{num} is not a prime number.\")\n",
    "            break\n",
    "        else:\n",
    "            # Continue checking until the loop completes\n",
    "            if i == num - 1:\n",
    "                print(f\"{num} is a prime number.\")\n",
    "else:\n",
    "    print(f\"{num} is not a prime number.\")\n"
   ]
  },
  {
   "cell_type": "raw",
   "id": "6e51a187",
   "metadata": {},
   "source": []
  },
  {
   "cell_type": "markdown",
   "id": "c757221b",
   "metadata": {},
   "source": [
    "# Elif Statements"
   ]
  },
  {
   "cell_type": "code",
   "execution_count": null,
   "id": "350ecbab",
   "metadata": {},
   "outputs": [],
   "source": [
    "21. Write a Python program to assign grades based on different ranges of scores using elif statement?"
   ]
  },
  {
   "cell_type": "code",
   "execution_count": 20,
   "id": "2468455c",
   "metadata": {},
   "outputs": [
    {
     "name": "stdout",
     "output_type": "stream",
     "text": [
      "Enter the score: 95\n",
      "The grade for a score of 95.0 is: A\n"
     ]
    }
   ],
   "source": [
    "# Python program to assign grades based on different ranges of scores\n",
    "\n",
    "# Get the score input from the user\n",
    "score = float(input(\"Enter the score: \"))\n",
    "\n",
    "# Determine the grade based on the score ranges using elif statements\n",
    "if score >= 90 and score <= 100:\n",
    "    grade = 'A'\n",
    "elif score >= 80 and score < 90:\n",
    "    grade = 'B'\n",
    "elif score >= 70 and score < 80:\n",
    "    grade = 'C'\n",
    "elif score >= 60 and score < 70:\n",
    "    grade = 'D'\n",
    "elif score >= 50 and score < 60:\n",
    "    grade = 'E'\n",
    "elif score >= 0 and score < 50:\n",
    "    grade = 'F'\n",
    "else:\n",
    "    grade = 'Invalid Score'\n",
    "\n",
    "# Print the result\n",
    "print(f\"The grade for a score of {score} is: {grade}\")\n"
   ]
  },
  {
   "cell_type": "raw",
   "id": "ce17ae73",
   "metadata": {},
   "source": []
  },
  {
   "cell_type": "code",
   "execution_count": null,
   "id": "dbcce412",
   "metadata": {},
   "outputs": [],
   "source": [
    "22. Implement a program to determine the type of a triangle based on its angles?"
   ]
  },
  {
   "cell_type": "code",
   "execution_count": 22,
   "id": "6363dc08",
   "metadata": {},
   "outputs": [
    {
     "name": "stdout",
     "output_type": "stream",
     "text": [
      "Enter the first angle in degrees: 30\n",
      "Enter the second angle in degrees: 60\n",
      "Enter the third angle in degrees: 90\n",
      "The given triangle is a Right triangle.\n"
     ]
    }
   ],
   "source": [
    "# Function to determine the type of a triangle based on its angles\n",
    "def classify_triangle_by_angles(angle1, angle2, angle3):\n",
    "    # Check if the sum of angles is 180 degrees\n",
    "    if angle1 + angle2 + angle3 != 180:\n",
    "        return \"Invalid triangle. The sum of the angles must be 180 degrees.\"\n",
    "\n",
    "    # Classify the triangle based on individual angles\n",
    "    if angle1 == 90 or angle2 == 90 or angle3 == 90:\n",
    "        return \"Right triangle\"\n",
    "    elif angle1 > 90 or angle2 > 90 or angle3 > 90:\n",
    "        return \"Obtuse triangle\"\n",
    "    else:\n",
    "        return \"Acute triangle\"\n",
    "\n",
    "# Input: Angles of the triangle\n",
    "angle1 = float(input(\"Enter the first angle in degrees: \"))\n",
    "angle2 = float(input(\"Enter the second angle in degrees: \"))\n",
    "angle3 = float(input(\"Enter the third angle in degrees: \"))\n",
    "\n",
    "# Classify and output the type of triangle\n",
    "triangle_type = classify_triangle_by_angles(angle1, angle2, angle3)\n",
    "print(f\"The given triangle is a {triangle_type}.\")\n"
   ]
  },
  {
   "cell_type": "raw",
   "id": "fc90ded0",
   "metadata": {},
   "source": []
  },
  {
   "cell_type": "code",
   "execution_count": null,
   "id": "dfef4320",
   "metadata": {},
   "outputs": [],
   "source": [
    "23. Develop a program to categorize a given person's BMI into underweight, normal, overweight, or obese using\n",
    "elif statements?"
   ]
  },
  {
   "cell_type": "code",
   "execution_count": null,
   "id": "b3aab7ea",
   "metadata": {},
   "outputs": [],
   "source": [
    "# Program to categorize a person's BMI\n",
    "\n",
    "# Input: Weight in kilograms (kg) and height in meters (m)\n",
    "weight = float(input(\"Enter your weight in kilograms (kg): \"))\n",
    "height = float(input(\"Enter your height in meters (m): \"))\n",
    "\n",
    "# Calculate BMI\n",
    "bmi = weight / (height ** 2)\n",
    "\n",
    "# Categorize the BMI using elif statements\n",
    "if bmi < 18.5:\n",
    "    print(f\"Your BMI is {bmi:.2f}. Category: Underweight\")\n",
    "elif 18.5 <= bmi < 24.9:\n",
    "    print(f\"Your BMI is {bmi:.2f}. Category: Normal weight\")\n",
    "elif 25 <= bmi < 29.9:\n",
    "    print(f\"Your BMI is {bmi:.2f}. Category: Overweight\")\n",
    "else:\n",
    "    print(f\"Your BMI is {bmi:.2f}. Category: Obese\")\n"
   ]
  },
  {
   "cell_type": "raw",
   "id": "b645d4b9",
   "metadata": {},
   "source": []
  },
  {
   "cell_type": "code",
   "execution_count": null,
   "id": "d3653a65",
   "metadata": {},
   "outputs": [],
   "source": [
    "24. Create a program that determines whether a given number is positive, negative, or zero using elif\n",
    "statements?"
   ]
  },
  {
   "cell_type": "code",
   "execution_count": 23,
   "id": "1b1b20a9",
   "metadata": {},
   "outputs": [
    {
     "name": "stdout",
     "output_type": "stream",
     "text": [
      "Enter a number: 25\n",
      "25.0 is a positive number.\n"
     ]
    }
   ],
   "source": [
    "# Program to determine whether a given number is positive, negative, or zero\n",
    "\n",
    "# Input: Get a number from the user\n",
    "num = float(input(\"Enter a number: \"))\n",
    "\n",
    "# Check if the number is positive, negative, or zero\n",
    "if num > 0:\n",
    "    print(f\"{num} is a positive number.\")\n",
    "elif num < 0:\n",
    "    print(f\"{num} is a negative number.\")\n",
    "else:\n",
    "    print(f\"{num} is zero.\")\n"
   ]
  },
  {
   "cell_type": "raw",
   "id": "c907ebd7",
   "metadata": {},
   "source": []
  },
  {
   "cell_type": "code",
   "execution_count": null,
   "id": "5bfc012a",
   "metadata": {},
   "outputs": [],
   "source": [
    "25. Write a Python script to determine the type of a character (uppercase, lowercase, or special) using elif\n",
    "statements?"
   ]
  },
  {
   "cell_type": "code",
   "execution_count": 25,
   "id": "abd0d6fb",
   "metadata": {},
   "outputs": [
    {
     "name": "stdout",
     "output_type": "stream",
     "text": [
      "Enter a character: V\n",
      "The character 'V' is an UPPERCASE letter.\n"
     ]
    }
   ],
   "source": [
    "# Input: Prompt the user to enter a single character\n",
    "char = input(\"Enter a character: \")\n",
    "\n",
    "# Ensure the input contains only one character\n",
    "if len(char) != 1:\n",
    "    print(\"Please enter only one character.\")\n",
    "else:\n",
    "    # Determine the type of character using elif statements\n",
    "    if char.isupper():\n",
    "        print(f\"The character '{char}' is an UPPERCASE letter.\")\n",
    "    elif char.islower():\n",
    "        print(f\"The character '{char}' is a lowercase letter.\")\n",
    "    elif char.isdigit():\n",
    "        print(f\"The character '{char}' is a DIGIT.\")\n",
    "    else:\n",
    "        print(f\"The character '{char}' is a SPECIAL character.\")\n"
   ]
  },
  {
   "cell_type": "raw",
   "id": "f86df2d4",
   "metadata": {},
   "source": []
  },
  {
   "cell_type": "code",
   "execution_count": null,
   "id": "1226dc0f",
   "metadata": {},
   "outputs": [],
   "source": [
    "26. Implement a program to calculate the discounted price based on different purchase amounts using elif\n",
    "statements?"
   ]
  },
  {
   "cell_type": "code",
   "execution_count": 26,
   "id": "ab65c4e5",
   "metadata": {},
   "outputs": [
    {
     "name": "stdout",
     "output_type": "stream",
     "text": [
      "Enter the purchase amount: 1500\n",
      "Original Purchase Amount: $1500.0\n",
      "Discount Applied: 10.0%\n",
      "Discounted Price: $1350.00\n"
     ]
    }
   ],
   "source": [
    "# Input: Prompt the user to enter the purchase amount\n",
    "purchase_amount = float(input(\"Enter the purchase amount: \"))\n",
    "\n",
    "# Apply discounts based on purchase amounts\n",
    "if purchase_amount >= 5000:\n",
    "    discount = 0.2  # 20% discount for purchase amounts 5000 and above\n",
    "elif purchase_amount >= 3000:\n",
    "    discount = 0.15  # 15% discount for purchase amounts 3000 - 4999\n",
    "elif purchase_amount >= 1000:\n",
    "    discount = 0.1   # 10% discount for purchase amounts 1000 - 2999\n",
    "else:\n",
    "    discount = 0.05  # 5% discount for purchase amounts less than 1000\n",
    "\n",
    "# Calculate the discounted price\n",
    "discounted_price = purchase_amount * (1 - discount)\n",
    "\n",
    "# Output: Print the discounted price and discount percentage\n",
    "print(f\"Original Purchase Amount: ${purchase_amount}\")\n",
    "print(f\"Discount Applied: {discount * 100}%\")\n",
    "print(f\"Discounted Price: ${discounted_price:.2f}\")\n"
   ]
  },
  {
   "cell_type": "raw",
   "id": "9c8ffbd8",
   "metadata": {},
   "source": []
  },
  {
   "cell_type": "code",
   "execution_count": null,
   "id": "82ced8d0",
   "metadata": {},
   "outputs": [],
   "source": [
    "27. Develop a program to calculate the electricity bill based on different consumption slabs using elif\n",
    "statements?"
   ]
  },
  {
   "cell_type": "code",
   "execution_count": 27,
   "id": "f6e66f39",
   "metadata": {},
   "outputs": [
    {
     "name": "stdout",
     "output_type": "stream",
     "text": [
      "Enter the number of electricity units consumed: 150\n",
      "The total electricity bill for 150.0 units is: Rs. 300.0\n"
     ]
    }
   ],
   "source": [
    "# Function to calculate the electricity bill based on consumption slabs\n",
    "def calculate_bill(units):\n",
    "    # Define slab rates (these rates may vary based on your provider and location)\n",
    "    if units <= 100:\n",
    "        rate = 1.5    # Cost per unit in Rupees for first 100 units\n",
    "    elif units <= 300:\n",
    "        rate = 2.0    # Cost per unit in Rupees for next 200 units (101-300)\n",
    "    elif units <= 500:\n",
    "        rate = 2.5    # Cost per unit in Rupees for next 200 units (301-500)\n",
    "    else:\n",
    "        rate = 3.0    # Cost per unit in Rupees beyond 500 units\n",
    "\n",
    "    # Calculate the bill based on the slab rate\n",
    "    total_cost = units * rate\n",
    "    return total_cost\n",
    "\n",
    "# Take input from the user\n",
    "try:\n",
    "    units_consumed = float(input(\"Enter the number of electricity units consumed: \"))\n",
    "    if units_consumed < 0:\n",
    "        print(\"Units cannot be negative. Please enter a valid value.\")\n",
    "    else:\n",
    "        total_amount = calculate_bill(units_consumed)\n",
    "        print(f\"The total electricity bill for {units_consumed} units is: Rs. {total_amount}\")\n",
    "except ValueError:\n",
    "    print(\"Please enter a valid numeric input for units consumed.\")\n"
   ]
  },
  {
   "cell_type": "raw",
   "id": "715fc9e9",
   "metadata": {},
   "source": []
  },
  {
   "cell_type": "code",
   "execution_count": null,
   "id": "ddcff1d5",
   "metadata": {},
   "outputs": [],
   "source": [
    "28. Create a program to determine the type of quadrilateral based on its angles and sides using elif\n",
    "statements?"
   ]
  },
  {
   "cell_type": "code",
   "execution_count": 28,
   "id": "fd62b7e2",
   "metadata": {},
   "outputs": [
    {
     "name": "stdout",
     "output_type": "stream",
     "text": [
      "The quadrilateral type is: Square\n"
     ]
    }
   ],
   "source": [
    "# Function to determine the type of quadrilateral\n",
    "def determine_quadrilateral(sides, angles):\n",
    "    a, b, c, d = sides  # sides\n",
    "    angle1, angle2, angle3, angle4 = angles  # angles\n",
    "\n",
    "    # Check conditions to determine the type of quadrilateral\n",
    "    if a == b == c == d and angle1 == 90 and angle2 == 90 and angle3 == 90 and angle4 == 90:\n",
    "        return \"Square\"\n",
    "    elif a == c and b == d and angle1 == 90 and angle2 == 90 and angle3 == 90 and angle4 == 90:\n",
    "        return \"Rectangle\"\n",
    "    elif a == b == c == d:\n",
    "        return \"Rhombus\"\n",
    "    elif a == c and b == d:\n",
    "        return \"Parallelogram\"\n",
    "    elif (a + b) == (c + d):\n",
    "        return \"Trapezium (Trapezoid)\"\n",
    "    else:\n",
    "        return \"Other Quadrilateral\"\n",
    "\n",
    "# Sample inputs to demonstrate function\n",
    "sides = [3, 3, 3, 3]  # Lengths of sides of the quadrilateral\n",
    "angles = [90, 90, 90, 90]  # Angles at the vertices\n",
    "\n",
    "quadrilateral_type = determine_quadrilateral(sides, angles)\n",
    "print(f\"The quadrilateral type is: {quadrilateral_type}\")\n"
   ]
  },
  {
   "cell_type": "raw",
   "id": "22ed9ffe",
   "metadata": {},
   "source": []
  },
  {
   "cell_type": "code",
   "execution_count": null,
   "id": "b86de352",
   "metadata": {},
   "outputs": [],
   "source": [
    "29. Write a Python script to determine the season based on a user-provided month using elif statements?"
   ]
  },
  {
   "cell_type": "code",
   "execution_count": 29,
   "id": "2e8a5461",
   "metadata": {},
   "outputs": [
    {
     "name": "stdout",
     "output_type": "stream",
     "text": [
      "Enter the name of a month: march\n",
      "March is in Spring.\n"
     ]
    }
   ],
   "source": [
    "# Get the month input from the user\n",
    "month = input(\"Enter the name of a month: \").strip().capitalize()\n",
    "\n",
    "# Determine the season based on the month\n",
    "if month in [\"December\", \"January\", \"February\"]:\n",
    "    print(f\"{month} is in Winter.\")\n",
    "elif month in [\"March\", \"April\", \"May\"]:\n",
    "    print(f\"{month} is in Spring.\")\n",
    "elif month in [\"June\", \"July\", \"August\"]:\n",
    "    print(f\"{month} is in Summer.\")\n",
    "elif month in [\"September\", \"October\", \"November\"]:\n",
    "    print(f\"{month} is in Autumn.\")\n",
    "else:\n",
    "    print(\"Invalid month name. Please enter a valid month.\")\n"
   ]
  },
  {
   "cell_type": "raw",
   "id": "e9b17508",
   "metadata": {},
   "source": []
  },
  {
   "cell_type": "code",
   "execution_count": null,
   "id": "af25a2ef",
   "metadata": {},
   "outputs": [],
   "source": [
    "30. Implement a program to determine the type of a year (leap or common) and month (30 or 31 days) using\n",
    "elif statements?"
   ]
  },
  {
   "cell_type": "code",
   "execution_count": 30,
   "id": "95a91293",
   "metadata": {},
   "outputs": [
    {
     "name": "stdout",
     "output_type": "stream",
     "text": [
      "Enter a year: 1993\n",
      "Enter the month (1-12): 3\n",
      "The year 1993 is a Common Year.\n",
      "Month 3 has 31 days.\n"
     ]
    }
   ],
   "source": [
    "# Input: Prompt the user to enter the year and month\n",
    "year = int(input(\"Enter a year: \"))\n",
    "month = int(input(\"Enter the month (1-12): \"))\n",
    "\n",
    "# Determine if the year is a leap year\n",
    "if (year % 4 == 0 and year % 100 != 0) or (year % 400 == 0):\n",
    "    year_type = \"Leap Year\"\n",
    "else:\n",
    "    year_type = \"Common Year\"\n",
    "\n",
    "# Determine the number of days in the given month\n",
    "if month in [1, 3, 5, 7, 8, 10, 12]:\n",
    "    days_in_month = 31\n",
    "elif month in [4, 6, 9, 11]:\n",
    "    days_in_month = 30\n",
    "elif month == 2:\n",
    "    # For February, check if it's a leap year\n",
    "    if year_type == \"Leap Year\":\n",
    "        days_in_month = 29\n",
    "    else:\n",
    "        days_in_month = 28\n",
    "else:\n",
    "    print(\"Invalid month input.\")\n",
    "    exit()\n",
    "\n",
    "# Output the results\n",
    "print(f\"The year {year} is a {year_type}.\")\n",
    "print(f\"Month {month} has {days_in_month} days.\")\n"
   ]
  },
  {
   "cell_type": "raw",
   "id": "9983ee5f",
   "metadata": {},
   "source": []
  },
  {
   "cell_type": "markdown",
   "id": "c9718fb7",
   "metadata": {},
   "source": [
    "# Basic Level:"
   ]
  },
  {
   "cell_type": "code",
   "execution_count": null,
   "id": "45985d90",
   "metadata": {},
   "outputs": [],
   "source": [
    "1. Write a Python program that checks if a given number is positive, negative, or zero?"
   ]
  },
  {
   "cell_type": "code",
   "execution_count": 1,
   "id": "9e654190",
   "metadata": {},
   "outputs": [
    {
     "name": "stdout",
     "output_type": "stream",
     "text": [
      "Enter a number: 23\n",
      "The number is Positive.\n"
     ]
    }
   ],
   "source": [
    "# Input: Prompt the user to enter a number\n",
    "number = float(input(\"Enter a number: \"))\n",
    "\n",
    "# Check if the number is positive, negative, or zero\n",
    "if number > 0:\n",
    "    print(\"The number is Positive.\")\n",
    "elif number < 0:\n",
    "    print(\"The number is Negative.\")\n",
    "else:\n",
    "    print(\"The number is Zero.\")\n"
   ]
  },
  {
   "cell_type": "code",
   "execution_count": null,
   "id": "738df11d",
   "metadata": {},
   "outputs": [],
   "source": []
  },
  {
   "cell_type": "code",
   "execution_count": null,
   "id": "43f64282",
   "metadata": {},
   "outputs": [],
   "source": [
    "2. Create a program to determine if a person is eligible to vote based on their age?"
   ]
  },
  {
   "cell_type": "code",
   "execution_count": 2,
   "id": "3874e823",
   "metadata": {},
   "outputs": [
    {
     "name": "stdout",
     "output_type": "stream",
     "text": [
      "Enter your age: 27\n",
      "You are eligible to vote.\n"
     ]
    }
   ],
   "source": [
    "# Input: Prompt the user to enter their age\n",
    "age = int(input(\"Enter your age: \"))\n",
    "\n",
    "# Check eligibility to vote\n",
    "if age >= 18:\n",
    "    print(\"You are eligible to vote.\")\n",
    "else:\n",
    "    print(\"You are not eligible to vote.\")\n"
   ]
  },
  {
   "cell_type": "raw",
   "id": "1d7baa4f",
   "metadata": {},
   "source": []
  },
  {
   "cell_type": "code",
   "execution_count": null,
   "id": "b442a6aa",
   "metadata": {},
   "outputs": [],
   "source": [
    "3. Write a program to find the maximum of two given numbers using conditional statements?"
   ]
  },
  {
   "cell_type": "code",
   "execution_count": 1,
   "id": "a03103a5",
   "metadata": {},
   "outputs": [
    {
     "name": "stdout",
     "output_type": "stream",
     "text": [
      "Enter the first number: 90\n",
      "Enter the second number: 45\n",
      "The maximum of the two numbers is: 90.0\n"
     ]
    }
   ],
   "source": [
    "# Input: Prompt the user to enter two numbers\n",
    "num1 = float(input(\"Enter the first number: \"))\n",
    "num2 = float(input(\"Enter the second number: \"))\n",
    "\n",
    "# Using conditional statements to find the maximum\n",
    "if num1 > num2:\n",
    "    max_number = num1\n",
    "elif num2 > num1:\n",
    "    max_number = num2\n",
    "else:\n",
    "    max_number = None  # Numbers are equal\n",
    "\n",
    "# Output the result\n",
    "if max_number is not None:\n",
    "    print(f\"The maximum of the two numbers is: {max_number}\")\n",
    "else:\n",
    "    print(\"Both numbers are equal.\")\n"
   ]
  },
  {
   "cell_type": "raw",
   "id": "f4b6b0a0",
   "metadata": {},
   "source": []
  },
  {
   "cell_type": "code",
   "execution_count": null,
   "id": "6a5a389a",
   "metadata": {},
   "outputs": [],
   "source": [
    "4. Develop a program that calculates the grade of a student based on their exam score?"
   ]
  },
  {
   "cell_type": "code",
   "execution_count": 2,
   "id": "61f95df8",
   "metadata": {},
   "outputs": [
    {
     "name": "stdout",
     "output_type": "stream",
     "text": [
      "Enter the student's exam score (0-100): 95\n",
      "The grade for the student with a score of 95.0 is: A\n"
     ]
    }
   ],
   "source": [
    "# Input: Prompt the user to enter the exam score\n",
    "score = float(input(\"Enter the student's exam score (0-100): \"))\n",
    "\n",
    "# Determine the grade based on the score\n",
    "if 90 <= score <= 100:\n",
    "    grade = \"A\"\n",
    "elif 80 <= score < 90:\n",
    "    grade = \"B\"\n",
    "elif 70 <= score < 80:\n",
    "    grade = \"C\"\n",
    "elif 60 <= score < 70:\n",
    "    grade = \"D\"\n",
    "elif 50 <= score < 60:\n",
    "    grade = \"E\"\n",
    "elif 0 <= score < 50:\n",
    "    grade = \"F\"\n",
    "else:\n",
    "    grade = \"Invalid Score\"\n",
    "\n",
    "# Output: Display the grade\n",
    "print(f\"The grade for the student with a score of {score} is: {grade}\")\n"
   ]
  },
  {
   "cell_type": "markdown",
   "id": "5df237ee",
   "metadata": {},
   "source": []
  },
  {
   "cell_type": "code",
   "execution_count": null,
   "id": "7d1052d1",
   "metadata": {},
   "outputs": [],
   "source": [
    "5. Create a program that checks if a year is a leap year or not?"
   ]
  },
  {
   "cell_type": "code",
   "execution_count": 3,
   "id": "77629666",
   "metadata": {},
   "outputs": [
    {
     "name": "stdout",
     "output_type": "stream",
     "text": [
      "Enter a year: 2023\n",
      "2023 is not a Leap Year.\n"
     ]
    }
   ],
   "source": [
    "# Input: Prompt the user to enter a year\n",
    "year = int(input(\"Enter a year: \"))\n",
    "\n",
    "# Check if the year is a leap year\n",
    "if (year % 4 == 0 and year % 100 != 0) or (year % 400 == 0):\n",
    "    print(f\"{year} is a Leap Year.\")\n",
    "else:\n",
    "    print(f\"{year} is not a Leap Year.\")\n"
   ]
  },
  {
   "cell_type": "raw",
   "id": "d5c23154",
   "metadata": {},
   "source": [
    "# "
   ]
  },
  {
   "cell_type": "code",
   "execution_count": null,
   "id": "bd2008e6",
   "metadata": {},
   "outputs": [],
   "source": [
    "6. Write a program to classify a triangle based on its sides' lengths"
   ]
  },
  {
   "cell_type": "code",
   "execution_count": 7,
   "id": "ec6857e5",
   "metadata": {},
   "outputs": [
    {
     "name": "stdout",
     "output_type": "stream",
     "text": [
      "Enter the length of the first side: 2000\n",
      "Enter the length of the second side: 3000\n",
      "Enter the length of the third side: 1500\n",
      "The given sides form a Scalene Triangle.\n"
     ]
    }
   ],
   "source": [
    "# Input: Prompt the user to enter the lengths of the three sides\n",
    "side1 = float(input(\"Enter the length of the first side: \"))\n",
    "side2 = float(input(\"Enter the length of the second side: \"))\n",
    "side3 = float(input(\"Enter the length of the third side: \"))\n",
    "\n",
    "# Check if the given sides can form a triangle using the triangle inequality theorem\n",
    "if (side1 + side2 > side3) and (side1 + side3 > side2) and (side2 + side3 > side1):\n",
    "    # Classify the triangle based on its sides\n",
    "    if side1 == side2 == side3:\n",
    "        triangle_type = \"Equilateral Triangle\"\n",
    "    elif side1 == side2 or side1 == side3 or side2 == side3:\n",
    "        triangle_type = \"Isosceles Triangle\"\n",
    "    else:\n",
    "        triangle_type = \"Scalene Triangle\"\n",
    "    \n",
    "    # Output the result\n",
    "    print(f\"The given sides form a {triangle_type}.\")\n",
    "else:\n",
    "    print(\"The given sides do not form a valid triangle.\")\n"
   ]
  },
  {
   "cell_type": "raw",
   "id": "1ecb648e",
   "metadata": {},
   "source": []
  },
  {
   "cell_type": "code",
   "execution_count": null,
   "id": "3e13786f",
   "metadata": {},
   "outputs": [],
   "source": [
    "7. Build a program that determines the largest of three given numbers?"
   ]
  },
  {
   "cell_type": "code",
   "execution_count": 8,
   "id": "1eb7ceeb",
   "metadata": {},
   "outputs": [
    {
     "name": "stdout",
     "output_type": "stream",
     "text": [
      "Enter the first number: 25\n",
      "Enter the second number: 50\n",
      "Enter the third number: 75\n",
      "The largest number among 25.0, 50.0, and 75.0 is 75.0.\n"
     ]
    }
   ],
   "source": [
    "# Input: Prompt the user to enter three numbers\n",
    "num1 = float(input(\"Enter the first number: \"))\n",
    "num2 = float(input(\"Enter the second number: \"))\n",
    "num3 = float(input(\"Enter the third number: \"))\n",
    "\n",
    "# Determine the largest number using if-elif-else\n",
    "if num1 >= num2 and num1 >= num3:\n",
    "    largest = num1\n",
    "elif num2 >= num1 and num2 >= num3:\n",
    "    largest = num2\n",
    "else:\n",
    "    largest = num3\n",
    "\n",
    "# Output the result\n",
    "print(f\"The largest number among {num1}, {num2}, and {num3} is {largest}.\")\n"
   ]
  },
  {
   "cell_type": "raw",
   "id": "d0cf0928",
   "metadata": {},
   "source": []
  },
  {
   "cell_type": "code",
   "execution_count": null,
   "id": "67987767",
   "metadata": {},
   "outputs": [],
   "source": [
    "8. Develop a program that checks whether a character is a vowel or a consonant?"
   ]
  },
  {
   "cell_type": "code",
   "execution_count": 9,
   "id": "5506f615",
   "metadata": {},
   "outputs": [
    {
     "name": "stdout",
     "output_type": "stream",
     "text": [
      "Enter a single character: S\n",
      "The character 'S' is a Consonant.\n"
     ]
    }
   ],
   "source": [
    "# Input: Prompt the user to enter a single character\n",
    "character = input(\"Enter a single character: \")\n",
    "\n",
    "# Check if the input is a valid alphabet\n",
    "if character.isalpha() and len(character) == 1:\n",
    "    # Convert to lowercase to simplify checks\n",
    "    char_lower = character.lower()\n",
    "\n",
    "    # Check if the character is a vowel\n",
    "    if char_lower in \"aeiou\":\n",
    "        print(f\"The character '{character}' is a Vowel.\")\n",
    "    else:\n",
    "        print(f\"The character '{character}' is a Consonant.\")\n",
    "else:\n",
    "    print(\"Invalid input! Please enter a single alphabetic character.\")\n"
   ]
  },
  {
   "cell_type": "raw",
   "id": "1d8ad550",
   "metadata": {},
   "source": []
  },
  {
   "cell_type": "code",
   "execution_count": null,
   "id": "2bcd2f7e",
   "metadata": {},
   "outputs": [],
   "source": [
    "9. Create a program to calculate the total cost of a shopping cart based on discounts?"
   ]
  },
  {
   "cell_type": "code",
   "execution_count": 10,
   "id": "dbe6cd32",
   "metadata": {},
   "outputs": [
    {
     "name": "stdout",
     "output_type": "stream",
     "text": [
      "Laptop: $800.00 - Discount: $80.00\n",
      "Headphones: $200.00 - Discount: $30.00\n",
      "Mouse: $150.00 - Discount: $7.50\n",
      "\n",
      "--- Shopping Cart Summary ---\n",
      "Total Discount: $117.50\n",
      "Total Cost After Discounts: $1032.50\n"
     ]
    }
   ],
   "source": [
    "# Input: Prices and discount details\n",
    "cart = [\n",
    "    {\"item\": \"Laptop\", \"price\": 800, \"quantity\": 1},\n",
    "    {\"item\": \"Headphones\", \"price\": 100, \"quantity\": 2},\n",
    "    {\"item\": \"Mouse\", \"price\": 50, \"quantity\": 3},\n",
    "]\n",
    "\n",
    "# Discounts: Flat discounts for categories based on conditions\n",
    "discounts = {\n",
    "    \"Laptop\": 0.10,  # 10% off\n",
    "    \"Headphones\": 0.15,  # 15% off\n",
    "    \"Mouse\": 0.05,  # 5% off\n",
    "}\n",
    "\n",
    "# Calculate total cost\n",
    "total_cost = 0\n",
    "total_discount = 0\n",
    "\n",
    "for item in cart:\n",
    "    name = item[\"item\"]\n",
    "    price = item[\"price\"]\n",
    "    quantity = item[\"quantity\"]\n",
    "    \n",
    "    # Original cost for the item\n",
    "    item_cost = price * quantity\n",
    "    \n",
    "    # Calculate discount\n",
    "    discount_rate = discounts.get(name, 0)\n",
    "    item_discount = item_cost * discount_rate\n",
    "    \n",
    "    # Add to totals\n",
    "    total_cost += item_cost - item_discount\n",
    "    total_discount += item_discount\n",
    "    \n",
    "    # Print itemized cost\n",
    "    print(f\"{name}: ${item_cost:.2f} - Discount: ${item_discount:.2f}\")\n",
    "\n",
    "# Output total\n",
    "print(\"\\n--- Shopping Cart Summary ---\")\n",
    "print(f\"Total Discount: ${total_discount:.2f}\")\n",
    "print(f\"Total Cost After Discounts: ${total_cost:.2f}\")\n"
   ]
  },
  {
   "cell_type": "raw",
   "id": "bf293de5",
   "metadata": {},
   "source": []
  },
  {
   "cell_type": "code",
   "execution_count": null,
   "id": "74a0fb08",
   "metadata": {},
   "outputs": [],
   "source": [
    "10. Write a program that checks if a given number is even or odd?"
   ]
  },
  {
   "cell_type": "code",
   "execution_count": 11,
   "id": "42d33dda",
   "metadata": {},
   "outputs": [
    {
     "name": "stdout",
     "output_type": "stream",
     "text": [
      "Enter a number: 26\n",
      "The number 26 is Even.\n"
     ]
    }
   ],
   "source": [
    "# Input: Prompt the user to enter a number\n",
    "number = int(input(\"Enter a number: \"))\n",
    "\n",
    "# Check if the number is even or odd\n",
    "if number % 2 == 0:\n",
    "    print(f\"The number {number} is Even.\")\n",
    "else:\n",
    "    print(f\"The number {number} is Odd.\")\n"
   ]
  },
  {
   "cell_type": "raw",
   "id": "0b11996b",
   "metadata": {},
   "source": []
  },
  {
   "cell_type": "markdown",
   "id": "2a0b62e4",
   "metadata": {},
   "source": [
    "# Intermediate Level:"
   ]
  },
  {
   "cell_type": "code",
   "execution_count": null,
   "id": "3e94fa04",
   "metadata": {},
   "outputs": [],
   "source": [
    "11. Write a program that calculates the roots of a quadratic equation?"
   ]
  },
  {
   "cell_type": "code",
   "execution_count": 12,
   "id": "9450f3fa",
   "metadata": {},
   "outputs": [
    {
     "name": "stdout",
     "output_type": "stream",
     "text": [
      "Enter the coefficient a: 10\n",
      "Enter the coefficient b: 20\n",
      "Enter the coefficient c: 30\n",
      "The roots of the quadratic equation 10.0x^2 + 20.0x + 30.0 = 0 are:\n",
      "Root 1: (-1+1.4142135623730951j)\n",
      "Root 2: (-1-1.4142135623730951j)\n"
     ]
    }
   ],
   "source": [
    "import cmath  # To handle complex square roots\n",
    "\n",
    "# Input: Coefficients of the quadratic equation\n",
    "a = float(input(\"Enter the coefficient a: \"))\n",
    "b = float(input(\"Enter the coefficient b: \"))\n",
    "c = float(input(\"Enter the coefficient c: \"))\n",
    "\n",
    "# Calculate the discriminant\n",
    "discriminant = cmath.sqrt(b**2 - 4*a*c)\n",
    "\n",
    "# Calculate the roots using the quadratic formula\n",
    "root1 = (-b + discriminant) / (2 * a)\n",
    "root2 = (-b - discriminant) / (2 * a)\n",
    "\n",
    "# Output the results\n",
    "print(f\"The roots of the quadratic equation {a}x^2 + {b}x + {c} = 0 are:\")\n",
    "print(f\"Root 1: {root1}\")\n",
    "print(f\"Root 2: {root2}\")\n"
   ]
  },
  {
   "cell_type": "raw",
   "id": "fce9dc84",
   "metadata": {},
   "source": []
  },
  {
   "cell_type": "code",
   "execution_count": null,
   "id": "2519a652",
   "metadata": {},
   "outputs": [],
   "source": [
    "12. Create a program that determines the day of the week based on the day number (1-7)?"
   ]
  },
  {
   "cell_type": "code",
   "execution_count": 13,
   "id": "ec2565de",
   "metadata": {},
   "outputs": [
    {
     "name": "stdout",
     "output_type": "stream",
     "text": [
      "Enter a number (1-7) representing the day of the week: 4\n",
      "4 corresponds to Thursday.\n"
     ]
    }
   ],
   "source": [
    "# Input: Ask the user to enter a number representing the day\n",
    "day_number = int(input(\"Enter a number (1-7) representing the day of the week: \"))\n",
    "\n",
    "# Determine the day of the week\n",
    "if day_number == 1:\n",
    "    print(\"1 corresponds to Monday.\")\n",
    "elif day_number == 2:\n",
    "    print(\"2 corresponds to Tuesday.\")\n",
    "elif day_number == 3:\n",
    "    print(\"3 corresponds to Wednesday.\")\n",
    "elif day_number == 4:\n",
    "    print(\"4 corresponds to Thursday.\")\n",
    "elif day_number == 5:\n",
    "    print(\"5 corresponds to Friday.\")\n",
    "elif day_number == 6:\n",
    "    print(\"6 corresponds to Saturday.\")\n",
    "elif day_number == 7:\n",
    "    print(\"7 corresponds to Sunday.\")\n",
    "else:\n",
    "    print(\"Invalid day number. Please enter a number between 1 and 7.\")\n"
   ]
  },
  {
   "cell_type": "raw",
   "id": "7634acde",
   "metadata": {},
   "source": []
  },
  {
   "cell_type": "code",
   "execution_count": null,
   "id": "44a91f43",
   "metadata": {},
   "outputs": [],
   "source": [
    "13. Develop a program that calculates the factorial of a given number using recursion?"
   ]
  },
  {
   "cell_type": "code",
   "execution_count": 14,
   "id": "6b5adf7c",
   "metadata": {},
   "outputs": [
    {
     "name": "stdout",
     "output_type": "stream",
     "text": [
      "Enter a non-negative integer: 24\n",
      "The factorial of 24 is 620448401733239439360000\n"
     ]
    }
   ],
   "source": [
    "# Function to calculate the factorial of a given number using recursion\n",
    "def factorial(n):\n",
    "    # Base case: factorial of 0 or 1 is 1\n",
    "    if n == 0 or n == 1:\n",
    "        return 1\n",
    "    # Recursive case: n! = n * (n-1)!\n",
    "    else:\n",
    "        return n * factorial(n - 1)\n",
    "\n",
    "# Input: Ask the user to enter a non-negative integer\n",
    "try:\n",
    "    num = int(input(\"Enter a non-negative integer: \"))\n",
    "\n",
    "    if num < 0:\n",
    "        print(\"Factorial is not defined for negative numbers.\")\n",
    "    else:\n",
    "        # Calculate the factorial using the recursive function\n",
    "        result = factorial(num)\n",
    "        print(f\"The factorial of {num} is {result}\")\n",
    "\n",
    "except ValueError:\n",
    "    print(\"Invalid input! Please enter a valid non-negative integer.\")\n"
   ]
  },
  {
   "cell_type": "raw",
   "id": "cd06f177",
   "metadata": {},
   "source": []
  },
  {
   "cell_type": "code",
   "execution_count": null,
   "id": "e9c973c8",
   "metadata": {},
   "outputs": [],
   "source": [
    "14. Write a program to find the largest among three numbers without using the `max()` function?"
   ]
  },
  {
   "cell_type": "code",
   "execution_count": 15,
   "id": "20df06fb",
   "metadata": {},
   "outputs": [
    {
     "name": "stdout",
     "output_type": "stream",
     "text": [
      "Enter the first number: 89\n",
      "Enter the second number: 98\n",
      "Enter the third number: 25\n",
      "The largest number is 98.0\n"
     ]
    }
   ],
   "source": [
    "# Input: Prompt the user to enter three numbers\n",
    "num1 = float(input(\"Enter the first number: \"))\n",
    "num2 = float(input(\"Enter the second number: \"))\n",
    "num3 = float(input(\"Enter the third number: \"))\n",
    "\n",
    "# Compare the numbers using if-else statements\n",
    "if num1 >= num2 and num1 >= num3:\n",
    "    largest = num1\n",
    "elif num2 >= num1 and num2 >= num3:\n",
    "    largest = num2\n",
    "else:\n",
    "    largest = num3\n",
    "\n",
    "# Output the largest number\n",
    "print(f\"The largest number is {largest}\")\n"
   ]
  },
  {
   "cell_type": "raw",
   "id": "900875ea",
   "metadata": {},
   "source": []
  },
  {
   "cell_type": "code",
   "execution_count": null,
   "id": "081250ad",
   "metadata": {},
   "outputs": [],
   "source": [
    "15. Create a program that simulates a basic ATM transaction menu?"
   ]
  },
  {
   "cell_type": "code",
   "execution_count": 16,
   "id": "96de814c",
   "metadata": {},
   "outputs": [
    {
     "name": "stdout",
     "output_type": "stream",
     "text": [
      "\n",
      "--- ATM Main Menu ---\n",
      "1. Check Balance\n",
      "2. Deposit Money\n",
      "3. Withdraw Money\n",
      "4. Exit\n",
      "Select an option (1-4): 2\n",
      "Enter the amount to deposit: 1000\n",
      "$1000.0 has been deposited. New balance: $2000.0\n",
      "\n",
      "--- ATM Main Menu ---\n",
      "1. Check Balance\n",
      "2. Deposit Money\n",
      "3. Withdraw Money\n",
      "4. Exit\n",
      "Select an option (1-4): \\3\n",
      "Invalid selection. Please choose a valid option (1-4).\n",
      "\n",
      "--- ATM Main Menu ---\n",
      "1. Check Balance\n",
      "2. Deposit Money\n",
      "3. Withdraw Money\n",
      "4. Exit\n",
      "Select an option (1-4): 500\n",
      "Invalid selection. Please choose a valid option (1-4).\n",
      "\n",
      "--- ATM Main Menu ---\n",
      "1. Check Balance\n",
      "2. Deposit Money\n",
      "3. Withdraw Money\n",
      "4. Exit\n",
      "Select an option (1-4): 3\n",
      "Enter the amount to withdraw: 500\n",
      "$500.0 has been withdrawn. New balance: $1500.0\n",
      "\n",
      "--- ATM Main Menu ---\n",
      "1. Check Balance\n",
      "2. Deposit Money\n",
      "3. Withdraw Money\n",
      "4. Exit\n",
      "Select an option (1-4): 4\n",
      "Thank you for using the ATM. Have a great day!\n"
     ]
    }
   ],
   "source": [
    "# Simple ATM Simulation\n",
    "\n",
    "# Initial account balance\n",
    "balance = 1000.0  # Starting balance in dollars\n",
    "\n",
    "# Define ATM menu options\n",
    "def show_menu():\n",
    "    print(\"\\n--- ATM Main Menu ---\")\n",
    "    print(\"1. Check Balance\")\n",
    "    print(\"2. Deposit Money\")\n",
    "    print(\"3. Withdraw Money\")\n",
    "    print(\"4. Exit\")\n",
    "\n",
    "# Function to check balance\n",
    "def check_balance():\n",
    "    print(f\"Your current balance is: ${balance}\")\n",
    "\n",
    "# Function to deposit money\n",
    "def deposit():\n",
    "    global balance\n",
    "    try:\n",
    "        amount = float(input(\"Enter the amount to deposit: \"))\n",
    "        if amount > 0:\n",
    "            balance += amount\n",
    "            print(f\"${amount} has been deposited. New balance: ${balance}\")\n",
    "        else:\n",
    "            print(\"Deposit amount must be greater than zero.\")\n",
    "    except ValueError:\n",
    "        print(\"Invalid input. Please enter a valid number.\")\n",
    "\n",
    "# Function to withdraw money\n",
    "def withdraw():\n",
    "    global balance\n",
    "    try:\n",
    "        amount = float(input(\"Enter the amount to withdraw: \"))\n",
    "        if amount > 0:\n",
    "            if amount > balance:\n",
    "                print(\"Insufficient balance. Transaction cannot be completed.\")\n",
    "            else:\n",
    "                balance -= amount\n",
    "                print(f\"${amount} has been withdrawn. New balance: ${balance}\")\n",
    "        else:\n",
    "            print(\"Withdrawal amount must be greater than zero.\")\n",
    "    except ValueError:\n",
    "        print(\"Invalid input. Please enter a valid number.\")\n",
    "\n",
    "# Main loop to simulate the ATM interface\n",
    "while True:\n",
    "    show_menu()\n",
    "\n",
    "    choice = input(\"Select an option (1-4): \")\n",
    "\n",
    "    if choice == \"1\":\n",
    "        check_balance()\n",
    "    elif choice == \"2\":\n",
    "        deposit()\n",
    "    elif choice == \"3\":\n",
    "        withdraw()\n",
    "    elif choice == \"4\":\n",
    "        print(\"Thank you for using the ATM. Have a great day!\")\n",
    "        break\n",
    "    else:\n",
    "        print(\"Invalid selection. Please choose a valid option (1-4).\")\n"
   ]
  },
  {
   "cell_type": "raw",
   "id": "b9d90c92",
   "metadata": {},
   "source": []
  },
  {
   "cell_type": "code",
   "execution_count": null,
   "id": "a2faac81",
   "metadata": {},
   "outputs": [],
   "source": [
    "16. Build a program that checks if a given string is a palindrome or not?"
   ]
  },
  {
   "cell_type": "code",
   "execution_count": 17,
   "id": "8571b729",
   "metadata": {},
   "outputs": [
    {
     "name": "stdout",
     "output_type": "stream",
     "text": [
      "Enter a string to check if it's a palindrome: Sowmi\n",
      "'Sowmi' is not a palindrome.\n"
     ]
    }
   ],
   "source": [
    "# Function to check if a given string is a palindrome\n",
    "def is_palindrome(string):\n",
    "    # Remove spaces and convert to lowercase to handle case insensitivity and spaces\n",
    "    cleaned_string = string.replace(\" \", \"\").lower()\n",
    "\n",
    "    # Check if the string reads the same forward and backward\n",
    "    return cleaned_string == cleaned_string[::-1]\n",
    "\n",
    "# Get user input\n",
    "string = input(\"Enter a string to check if it's a palindrome: \")\n",
    "\n",
    "# Check if the input string is a palindrome\n",
    "if is_palindrome(string):\n",
    "    print(f\"'{string}' is a palindrome.\")\n",
    "else:\n",
    "    print(f\"'{string}' is not a palindrome.\")\n"
   ]
  },
  {
   "cell_type": "raw",
   "id": "f130054a",
   "metadata": {},
   "source": []
  },
  {
   "cell_type": "code",
   "execution_count": null,
   "id": "ff4a4f4f",
   "metadata": {},
   "outputs": [],
   "source": [
    "17. Write a program that calculates the average of a list of numbers, excluding the smallest and largest values?"
   ]
  },
  {
   "cell_type": "code",
   "execution_count": 18,
   "id": "a84807ba",
   "metadata": {},
   "outputs": [
    {
     "name": "stdout",
     "output_type": "stream",
     "text": [
      "The average of the list [1, 3, 4, 6, 7, 8, 9, 12] excluding the smallest and largest values is 6.166666666666667\n"
     ]
    }
   ],
   "source": [
    "def average_excluding_smallest_largest(numbers):\n",
    "    # Check if the list contains at least 3 elements to exclude smallest and largest\n",
    "    if len(numbers) < 3:\n",
    "        return None  # Not enough elements to exclude\n",
    "\n",
    "    # Sort the list to easily identify the smallest and largest values\n",
    "    numbers.sort()\n",
    "\n",
    "    # Exclude the smallest and largest numbers\n",
    "    trimmed_numbers = numbers[1:-1]\n",
    "\n",
    "    # Calculate the average of the remaining numbers\n",
    "    average = sum(trimmed_numbers) / len(trimmed_numbers)\n",
    "\n",
    "    return average\n",
    "\n",
    "# Input: A list of numbers\n",
    "numbers = [4, 7, 1, 9, 12, 3, 8, 6]\n",
    "\n",
    "# Call the function and get the result\n",
    "average_result = average_excluding_smallest_largest(numbers)\n",
    "\n",
    "# Output the results\n",
    "if average_result is not None:\n",
    "    print(f\"The average of the list {numbers} excluding the smallest and largest values is {average_result}\")\n",
    "else:\n",
    "    print(\"The list contains too few numbers to exclude the smallest and largest values.\")\n"
   ]
  },
  {
   "cell_type": "raw",
   "id": "e7f1cdef",
   "metadata": {},
   "source": []
  },
  {
   "cell_type": "code",
   "execution_count": null,
   "id": "e24fed6a",
   "metadata": {},
   "outputs": [],
   "source": [
    "18. Develop a program that converts a given temperature from Celsius to Fahrenheit?"
   ]
  },
  {
   "cell_type": "code",
   "execution_count": 19,
   "id": "d77b2628",
   "metadata": {},
   "outputs": [
    {
     "name": "stdout",
     "output_type": "stream",
     "text": [
      "Enter the temperature in Celsius: 75\n",
      "75.0°C is equal to 167.0°F\n"
     ]
    }
   ],
   "source": [
    "# Program to convert a given temperature from Celsius to Fahrenheit\n",
    "\n",
    "# Input: Temperature in Celsius\n",
    "celsius = float(input(\"Enter the temperature in Celsius: \"))\n",
    "\n",
    "# Formula to convert Celsius to Fahrenheit\n",
    "fahrenheit = (celsius * 9/5) + 32\n",
    "\n",
    "# Output: Display the converted temperature\n",
    "print(f\"{celsius}°C is equal to {fahrenheit}°F\")\n"
   ]
  },
  {
   "cell_type": "raw",
   "id": "7f0e270a",
   "metadata": {},
   "source": []
  },
  {
   "cell_type": "code",
   "execution_count": null,
   "id": "a70d7574",
   "metadata": {},
   "outputs": [],
   "source": [
    "19. Create a program that simulates a basic calculator for addition, subtraction, multiplication, and division?"
   ]
  },
  {
   "cell_type": "code",
   "execution_count": 20,
   "id": "c8ef7c4d",
   "metadata": {},
   "outputs": [
    {
     "name": "stdout",
     "output_type": "stream",
     "text": [
      "Select an operation to perform:\n",
      "1. Addition (+)\n",
      "2. Subtraction (-)\n",
      "3. Multiplication (*)\n",
      "4. Division (/)\n",
      "Enter the operation number (1/2/3/4): 1\n",
      "Enter the first number: 10\n",
      "Enter the second number: 25\n",
      "10.0 + 25.0 = 35.0\n"
     ]
    }
   ],
   "source": [
    "# Simple Calculator Program\n",
    "\n",
    "# Function to perform addition\n",
    "def add(x, y):\n",
    "    return x + y\n",
    "\n",
    "# Function to perform subtraction\n",
    "def subtract(x, y):\n",
    "    return x - y\n",
    "\n",
    "# Function to perform multiplication\n",
    "def multiply(x, y):\n",
    "    return x * y\n",
    "\n",
    "# Function to perform division\n",
    "def divide(x, y):\n",
    "    if y != 0:\n",
    "        return x / y\n",
    "    else:\n",
    "        return \"Error: Division by zero is not allowed\"\n",
    "\n",
    "# Display the menu of operations\n",
    "print(\"Select an operation to perform:\")\n",
    "print(\"1. Addition (+)\")\n",
    "print(\"2. Subtraction (-)\")\n",
    "print(\"3. Multiplication (*)\")\n",
    "print(\"4. Division (/)\")\n",
    "\n",
    "# Take user input for choice of operation\n",
    "choice = input(\"Enter the operation number (1/2/3/4): \")\n",
    "\n",
    "# Take two numbers as input\n",
    "try:\n",
    "    num1 = float(input(\"Enter the first number: \"))\n",
    "    num2 = float(input(\"Enter the second number: \"))\n",
    "\n",
    "    if choice == '1':\n",
    "        print(f\"{num1} + {num2} = {add(num1, num2)}\")\n",
    "    elif choice == '2':\n",
    "        print(f\"{num1} - {num2} = {subtract(num1, num2)}\")\n",
    "    elif choice == '3':\n",
    "        print(f\"{num1} x {num2} = {multiply(num1, num2)}\")\n",
    "    elif choice == '4':\n",
    "        print(f\"{num1} / {num2} = {divide(num1, num2)}\")\n",
    "    else:\n",
    "        print(\"Invalid choice! Please select a valid operation.\")\n",
    "except ValueError:\n",
    "    print(\"Invalid input. Please enter numeric values.\")\n"
   ]
  },
  {
   "cell_type": "raw",
   "id": "c49c1dd2",
   "metadata": {},
   "source": []
  },
  {
   "cell_type": "code",
   "execution_count": null,
   "id": "f9bf79c4",
   "metadata": {},
   "outputs": [],
   "source": [
    "20. Write a program that determines the roots of a cubic equation using the Cardano formula?"
   ]
  },
  {
   "cell_type": "code",
   "execution_count": 21,
   "id": "d550fd30",
   "metadata": {},
   "outputs": [
    {
     "name": "stdout",
     "output_type": "stream",
     "text": [
      "Enter coefficient a: 15\n",
      "Enter coefficient b: 20\n",
      "Enter coefficient c: 30\n",
      "Enter coefficient d: 45\n",
      "The roots of the cubic equation 15.0x^3 + 20.0x^2 + 30.0x + 45.0 = 0 are:\n",
      "Root 1: (1.28105787381962+1.4467296519541388j)\n",
      "Root 2: (-2.7287033219106496-1.060665815485337j)\n",
      "Root 3: (0.16658757427140913-1.8327934884229409j)\n"
     ]
    }
   ],
   "source": [
    "import cmath\n",
    "\n",
    "def solve_cubic(a, b, c, d):\n",
    "    # Normalize coefficients\n",
    "    a_inv = 1 / a\n",
    "    b /= a\n",
    "    c /= a\n",
    "    d /= a\n",
    "\n",
    "    # Depressed cubic form: x^3 + px + q = 0\n",
    "    p = c - (b**2) / 3\n",
    "    q = d + (2 * b**3) / 27 - (b * c) / 3\n",
    "\n",
    "    # Calculate the discriminant\n",
    "    discriminant = (q**2) + (4 * p**3) / 27\n",
    "\n",
    "    # Calculate the cube roots of unity\n",
    "    u = cmath.exp(cmath.pi * 1j / 3)\n",
    "\n",
    "    # Use Cardano's formula to find the roots\n",
    "    root1 = (-q + cmath.sqrt(discriminant))**(1/3) + (-q - cmath.sqrt(discriminant))**(1/3)\n",
    "    root2 = (-1 + u) * (-q + cmath.sqrt(discriminant))**(1/3) + (-1 + u**2) * (-q - cmath.sqrt(discriminant))**(1/3)\n",
    "    root3 = (-1 - u) * (-q + cmath.sqrt(discriminant))**(1/3) + (-1 - u**2) * (-q - cmath.sqrt(discriminant))**(1/3)\n",
    "\n",
    "    return root1, root2, root3\n",
    "\n",
    "# Coefficients of the cubic equation ax^3 + bx^2 + cx + d = 0\n",
    "a = float(input(\"Enter coefficient a: \"))\n",
    "b = float(input(\"Enter coefficient b: \"))\n",
    "c = float(input(\"Enter coefficient c: \"))\n",
    "d = float(input(\"Enter coefficient d: \"))\n",
    "\n",
    "r1, r2, r3 = solve_cubic(a, b, c, d)\n",
    "\n",
    "print(f\"The roots of the cubic equation {a}x^3 + {b}x^2 + {c}x + {d} = 0 are:\")\n",
    "print(f\"Root 1: {r1}\")\n",
    "print(f\"Root 2: {r2}\")\n",
    "print(f\"Root 3: {r3}\")\n"
   ]
  },
  {
   "cell_type": "raw",
   "id": "3a28296c",
   "metadata": {},
   "source": []
  },
  {
   "cell_type": "markdown",
   "id": "49770abb",
   "metadata": {},
   "source": [
    "# Advanced Level:"
   ]
  },
  {
   "cell_type": "code",
   "execution_count": null,
   "id": "9ce09587",
   "metadata": {},
   "outputs": [],
   "source": [
    "21. Create a program that calculates the income tax based on the user's income and tax brackets?"
   ]
  },
  {
   "cell_type": "code",
   "execution_count": 23,
   "id": "27339f9d",
   "metadata": {},
   "outputs": [
    {
     "name": "stdout",
     "output_type": "stream",
     "text": [
      "Enter your annual income: ₹50000\n",
      "Your calculated income tax is: ₹0\n"
     ]
    }
   ],
   "source": [
    "# Income Tax Calculator Based on Tax Brackets\n",
    "\n",
    "# Define a function to calculate income tax\n",
    "def calculate_income_tax(income):\n",
    "    tax = 0\n",
    "\n",
    "    # Define tax brackets\n",
    "    if income <= 250000:\n",
    "        tax = 0  # No tax for income up to 2.5 lakhs\n",
    "    elif income <= 500000:\n",
    "        tax = (income - 250000) * 0.05  # 5% for income between 2.5 and 5 lakhs\n",
    "    elif income <= 1000000:\n",
    "        tax = (income - 500000) * 0.2 + 12500  # 20% for income between 5 and 10 lakhs + 12,500 tax\n",
    "    else:\n",
    "        tax = (income - 1000000) * 0.3 + 125000  # 30% for income above 10 lakhs + 1,25,000 tax\n",
    "\n",
    "    return tax\n",
    "\n",
    "# Get user input\n",
    "try:\n",
    "    income = float(input(\"Enter your annual income: ₹\"))\n",
    "    if income < 0:\n",
    "        print(\"Income cannot be negative. Please enter a valid amount.\")\n",
    "    else:\n",
    "        tax = calculate_income_tax(income)\n",
    "        print(f\"Your calculated income tax is: ₹{tax}\")\n",
    "except ValueError:\n",
    "    print(\"Please enter a valid numeric input.\")\n"
   ]
  },
  {
   "cell_type": "raw",
   "id": "11313850",
   "metadata": {},
   "source": []
  },
  {
   "cell_type": "code",
   "execution_count": null,
   "id": "ab2d6851",
   "metadata": {},
   "outputs": [],
   "source": [
    "22. Write a program that simulates a rock-paper-scissors game against the computer?"
   ]
  },
  {
   "cell_type": "code",
   "execution_count": 24,
   "id": "411fe2a2",
   "metadata": {},
   "outputs": [
    {
     "name": "stdout",
     "output_type": "stream",
     "text": [
      "Welcome to Rock-Paper-Scissors!\n",
      "Enter your choice (rock, paper, or scissors): rock\n",
      "Computer chose: scissors\n",
      "You win!\n"
     ]
    }
   ],
   "source": [
    "import random\n",
    "\n",
    "# Function to get the computer's choice\n",
    "def get_computer_choice():\n",
    "    choices = [\"rock\", \"paper\", \"scissors\"]\n",
    "    return random.choice(choices)\n",
    "\n",
    "# Function to determine the winner\n",
    "def determine_winner(user_choice, computer_choice):\n",
    "    if user_choice == computer_choice:\n",
    "        return \"It's a tie!\"\n",
    "    elif (user_choice == \"rock\" and computer_choice == \"scissors\") or \\\n",
    "         (user_choice == \"paper\" and computer_choice == \"rock\") or \\\n",
    "         (user_choice == \"scissors\" and computer_choice == \"paper\"):\n",
    "        return \"You win!\"\n",
    "    else:\n",
    "        return \"Computer wins!\"\n",
    "\n",
    "# Main program to simulate the game\n",
    "print(\"Welcome to Rock-Paper-Scissors!\")\n",
    "\n",
    "# Get user's choice\n",
    "user_choice = input(\"Enter your choice (rock, paper, or scissors): \").lower()\n",
    "\n",
    "# Validate user input\n",
    "if user_choice not in [\"rock\", \"paper\", \"scissors\"]:\n",
    "    print(\"Invalid choice! Please select 'rock', 'paper', or 'scissors'.\")\n",
    "else:\n",
    "    # Get computer's choice\n",
    "    computer_choice = get_computer_choice()\n",
    "\n",
    "    print(f\"Computer chose: {computer_choice}\")\n",
    "    # Determine and display the winner\n",
    "    result = determine_winner(user_choice, computer_choice)\n",
    "    print(result)\n"
   ]
  },
  {
   "cell_type": "raw",
   "id": "69f2c9fe",
   "metadata": {},
   "source": []
  },
  {
   "cell_type": "code",
   "execution_count": null,
   "id": "10ffc93d",
   "metadata": {},
   "outputs": [],
   "source": [
    "23. Develop a program that generates a random password based on user preferences (length, complexity)?"
   ]
  },
  {
   "cell_type": "code",
   "execution_count": 25,
   "id": "52b99ac1",
   "metadata": {},
   "outputs": [
    {
     "name": "stdout",
     "output_type": "stream",
     "text": [
      "Enter the desired password length: 5\n",
      "Include uppercase letters? (yes/no): y\n",
      "Include digits? (yes/no): y\n",
      "Include special characters? (yes/no): n\n",
      "Generated password: nafta\n"
     ]
    }
   ],
   "source": [
    "import random\n",
    "import string\n",
    "\n",
    "# Function to generate a random password based on user preferences\n",
    "def generate_password(length, include_uppercase, include_digits, include_special):\n",
    "    # Define character sets based on user preferences\n",
    "    characters = string.ascii_lowercase  # Always include lowercase characters\n",
    "    \n",
    "    if include_uppercase:\n",
    "        characters += string.ascii_uppercase\n",
    "    if include_digits:\n",
    "        characters += string.digits\n",
    "    if include_special:\n",
    "        characters += \"!@#$%^&*()_+-=[]{}|;:',.<>/?\"\n",
    "\n",
    "    # Generate a random password by selecting characters from the defined set\n",
    "    password = ''.join(random.choice(characters) for _ in range(length))\n",
    "\n",
    "    return password\n",
    "\n",
    "# Get user input\n",
    "try:\n",
    "    length = int(input(\"Enter the desired password length: \"))\n",
    "\n",
    "    # Ask if the user wants to include different character types\n",
    "    include_uppercase = input(\"Include uppercase letters? (yes/no): \").strip().lower() == 'yes'\n",
    "    include_digits = input(\"Include digits? (yes/no): \").strip().lower() == 'yes'\n",
    "    include_special = input(\"Include special characters? (yes/no): \").strip().lower() == 'yes'\n",
    "\n",
    "    # Generate the password\n",
    "    password = generate_password(length, include_uppercase, include_digits, include_special)\n",
    "\n",
    "    # Display the generated password\n",
    "    print(f\"Generated password: {password}\")\n",
    "\n",
    "except ValueError:\n",
    "    print(\"Please enter a valid number for the password length.\")\n"
   ]
  },
  {
   "cell_type": "raw",
   "id": "aad2840c",
   "metadata": {},
   "source": []
  },
  {
   "cell_type": "code",
   "execution_count": null,
   "id": "85cb397e",
   "metadata": {},
   "outputs": [],
   "source": [
    "24. Create a program that implements a simple text-based adventure game with branching scenarios"
   ]
  },
  {
   "cell_type": "code",
   "execution_count": 26,
   "id": "a2012004",
   "metadata": {},
   "outputs": [
    {
     "name": "stdout",
     "output_type": "stream",
     "text": [
      "Welcome to the Adventure Game!\n",
      "You find yourself at the entrance of a mysterious forest.\n",
      "Do you want to enter the forest? (yes/no): y\n",
      "Invalid choice. Please enter 'yes' or 'no'.\n",
      "Welcome to the Adventure Game!\n",
      "You find yourself at the entrance of a mysterious forest.\n",
      "Do you want to enter the forest? (yes/no): n\n",
      "Invalid choice. Please enter 'yes' or 'no'.\n",
      "Welcome to the Adventure Game!\n",
      "You find yourself at the entrance of a mysterious forest.\n",
      "Do you want to enter the forest? (yes/no): n\n",
      "Invalid choice. Please enter 'yes' or 'no'.\n",
      "Welcome to the Adventure Game!\n",
      "You find yourself at the entrance of a mysterious forest.\n",
      "Do you want to enter the forest? (yes/no): yes\n",
      "\n",
      "You step into the forest and hear birds singing and leaves rustling.\n",
      "Suddenly, you see two paths:\n",
      "1. A dark path to the left.\n",
      "2. A sunny path to the right.\n",
      "Which path would you like to take? (left/right): right\n",
      "\n",
      "You follow the sunny path and find a hidden treasure chest!\n",
      "Do you want to open the chest? (yes/no): no\n",
      "You decide not to open the chest and walk away. The adventure ends here.\n"
     ]
    }
   ],
   "source": [
    "# Simple Text-Based Adventure Game\n",
    "\n",
    "def start_game():\n",
    "    print(\"Welcome to the Adventure Game!\")\n",
    "    print(\"You find yourself at the entrance of a mysterious forest.\")\n",
    "    choice = input(\"Do you want to enter the forest? (yes/no): \").strip().lower()\n",
    "\n",
    "    if choice == \"yes\":\n",
    "        enter_forest()\n",
    "    elif choice == \"no\":\n",
    "        print(\"You decide it's better to stay back. The adventure ends here. Goodbye!\")\n",
    "    else:\n",
    "        print(\"Invalid choice. Please enter 'yes' or 'no'.\")\n",
    "        start_game()\n",
    "\n",
    "\n",
    "def enter_forest():\n",
    "    print(\"\\nYou step into the forest and hear birds singing and leaves rustling.\")\n",
    "    print(\"Suddenly, you see two paths:\")\n",
    "    print(\"1. A dark path to the left.\")\n",
    "    print(\"2. A sunny path to the right.\")\n",
    "\n",
    "    choice = input(\"Which path would you like to take? (left/right): \").strip().lower()\n",
    "\n",
    "    if choice == \"left\":\n",
    "        encounter_wolves()\n",
    "    elif choice == \"right\":\n",
    "        find_treasure()\n",
    "    else:\n",
    "        print(\"Invalid choice. Please enter 'left' or 'right'.\")\n",
    "        enter_forest()\n",
    "\n",
    "\n",
    "def encounter_wolves():\n",
    "    print(\"\\nOh no! You encounter a pack of wild wolves!\")\n",
    "    choice = input(\"Do you want to fight or run? (fight/run): \").strip().lower()\n",
    "\n",
    "    if choice == \"fight\":\n",
    "        print(\"You bravely fight the wolves and, after a tough battle, you emerge victorious!\")\n",
    "        print(\"Congratulations! You survived the adventure!\")\n",
    "    elif choice == \"run\":\n",
    "        print(\"You run away as fast as you can, but the wolves chase you down. Game over.\")\n",
    "    else:\n",
    "        print(\"Invalid choice. Please enter 'fight' or 'run'.\")\n",
    "        encounter_wolves()\n",
    "\n",
    "\n",
    "def find_treasure():\n",
    "    print(\"\\nYou follow the sunny path and find a hidden treasure chest!\")\n",
    "    choice = input(\"Do you want to open the chest? (yes/no): \").strip().lower()\n",
    "\n",
    "    if choice == \"yes\":\n",
    "        print(\"Inside the chest, you find gold coins and precious gems. You're rich!\")\n",
    "        print(\"Congratulations! You've found the treasure and completed the adventure!\")\n",
    "    elif choice == \"no\":\n",
    "        print(\"You decide not to open the chest and walk away. The adventure ends here.\")\n",
    "    else:\n",
    "        print(\"Invalid choice. Please enter 'yes' or 'no'.\")\n",
    "        find_treasure()\n",
    "\n",
    "\n",
    "# Start the game\n",
    "start_game()\n"
   ]
  },
  {
   "cell_type": "raw",
   "id": "69f09c89",
   "metadata": {},
   "source": []
  },
  {
   "cell_type": "code",
   "execution_count": 32,
   "id": "63e4fa78",
   "metadata": {},
   "outputs": [
    {
     "name": "stdout",
     "output_type": "stream",
     "text": [
      "Object `cases` not found.\n"
     ]
    }
   ],
   "source": [
    "25. Build a program that solves a linear equation for x, considering different cases?"
   ]
  },
  {
   "cell_type": "code",
   "execution_count": null,
   "id": "3033bbe2",
   "metadata": {},
   "outputs": [],
   "source": [
    "25. Build a program that solves a linear equation for x, considering different cases"
   ]
  },
  {
   "cell_type": "code",
   "execution_count": 33,
   "id": "c3a87033",
   "metadata": {},
   "outputs": [
    {
     "name": "stdout",
     "output_type": "stream",
     "text": [
      "Enter the coefficient 'a': 10\n",
      "Enter the constant term 'b': 12\n",
      "The solution for x is: -1.2\n"
     ]
    }
   ],
   "source": [
    "# Function to solve the linear equation ax + b = 0\n",
    "def solve_linear_equation(a, b):\n",
    "    # Check different cases\n",
    "    if a == 0 and b == 0:\n",
    "        return \"The equation has infinitely many solutions.\"\n",
    "    elif a == 0 and b != 0:\n",
    "        return \"The equation has no solution.\"\n",
    "    else:\n",
    "        # Solving for x\n",
    "        x = -b / a\n",
    "        return f\"The solution for x is: {x}\"\n",
    "\n",
    "# Taking user input for coefficients a and b\n",
    "try:\n",
    "    a = float(input(\"Enter the coefficient 'a': \"))\n",
    "    b = float(input(\"Enter the constant term 'b': \"))\n",
    "\n",
    "    # Solving and printing the result\n",
    "    result = solve_linear_equation(a, b)\n",
    "    print(result)\n",
    "\n",
    "except ValueError:\n",
    "    print(\"Invalid input. Please enter numeric values for coefficients.\")\n"
   ]
  },
  {
   "cell_type": "raw",
   "id": "0160a331",
   "metadata": {},
   "source": []
  },
  {
   "cell_type": "code",
   "execution_count": null,
   "id": "e53dd805",
   "metadata": {},
   "outputs": [],
   "source": [
    "26. Write a program that simulates a basic quiz game with multiple-choice questions and scoring?"
   ]
  },
  {
   "cell_type": "code",
   "execution_count": 34,
   "id": "90800ff7",
   "metadata": {},
   "outputs": [
    {
     "name": "stdout",
     "output_type": "stream",
     "text": [
      "Welcome to the Quiz Game! 🎉\n",
      "Enter your name: vivek\n",
      "Hello vivek! Let's start the quiz.\n",
      "\n",
      "What is the capital of France?\n",
      "1. Paris\n",
      "2. Berlin\n",
      "3. Madrid\n",
      "4. Rome\n",
      "Enter the number of your choice: 1\n",
      "Correct! ✅\n",
      "\n",
      "Which programming language is this quiz written in?\n",
      "1. Java\n",
      "2. C++\n",
      "3. Python\n",
      "4. HTML\n",
      "Enter the number of your choice: 1\n"
     ]
    },
    {
     "ename": "KeyError",
     "evalue": "3",
     "output_type": "error",
     "traceback": [
      "\u001b[1;31m---------------------------------------------------------------------------\u001b[0m",
      "\u001b[1;31mKeyError\u001b[0m                                  Traceback (most recent call last)",
      "Input \u001b[1;32mIn [34]\u001b[0m, in \u001b[0;36m<cell line: 66>\u001b[1;34m()\u001b[0m\n\u001b[0;32m     65\u001b[0m \u001b[38;5;66;03m# Start the quiz\u001b[39;00m\n\u001b[0;32m     66\u001b[0m \u001b[38;5;28;01mif\u001b[39;00m \u001b[38;5;18m__name__\u001b[39m \u001b[38;5;241m==\u001b[39m \u001b[38;5;124m\"\u001b[39m\u001b[38;5;124m__main__\u001b[39m\u001b[38;5;124m\"\u001b[39m:\n\u001b[1;32m---> 67\u001b[0m     \u001b[43mmain\u001b[49m\u001b[43m(\u001b[49m\u001b[43m)\u001b[49m\n",
      "Input \u001b[1;32mIn [34]\u001b[0m, in \u001b[0;36mmain\u001b[1;34m()\u001b[0m\n\u001b[0;32m     52\u001b[0m \u001b[38;5;66;03m# Ask each question in the quiz\u001b[39;00m\n\u001b[0;32m     53\u001b[0m \u001b[38;5;28;01mfor\u001b[39;00m q \u001b[38;5;129;01min\u001b[39;00m quiz:\n\u001b[1;32m---> 54\u001b[0m     score \u001b[38;5;241m+\u001b[39m\u001b[38;5;241m=\u001b[39m \u001b[43mask_question\u001b[49m\u001b[43m(\u001b[49m\u001b[43mq\u001b[49m\u001b[43m[\u001b[49m\u001b[38;5;124;43m\"\u001b[39;49m\u001b[38;5;124;43mquestion\u001b[39;49m\u001b[38;5;124;43m\"\u001b[39;49m\u001b[43m]\u001b[49m\u001b[43m,\u001b[49m\u001b[43m \u001b[49m\u001b[43mq\u001b[49m\u001b[43m[\u001b[49m\u001b[38;5;124;43m\"\u001b[39;49m\u001b[38;5;124;43moptions\u001b[39;49m\u001b[38;5;124;43m\"\u001b[39;49m\u001b[43m]\u001b[49m\u001b[43m,\u001b[49m\u001b[43m \u001b[49m\u001b[43mq\u001b[49m\u001b[43m[\u001b[49m\u001b[38;5;124;43m\"\u001b[39;49m\u001b[38;5;124;43mcorrect_option\u001b[39;49m\u001b[38;5;124;43m\"\u001b[39;49m\u001b[43m]\u001b[49m\u001b[43m)\u001b[49m\n\u001b[0;32m     56\u001b[0m \u001b[38;5;66;03m# Final results\u001b[39;00m\n\u001b[0;32m     57\u001b[0m \u001b[38;5;28mprint\u001b[39m(\u001b[38;5;124mf\u001b[39m\u001b[38;5;124m\"\u001b[39m\u001b[38;5;130;01m\\n\u001b[39;00m\u001b[38;5;132;01m{\u001b[39;00mname\u001b[38;5;132;01m}\u001b[39;00m\u001b[38;5;124m, your final score is: \u001b[39m\u001b[38;5;132;01m{\u001b[39;00mscore\u001b[38;5;132;01m}\u001b[39;00m\u001b[38;5;124m/\u001b[39m\u001b[38;5;132;01m{\u001b[39;00m\u001b[38;5;28mlen\u001b[39m(quiz)\u001b[38;5;132;01m}\u001b[39;00m\u001b[38;5;124m\"\u001b[39m)\n",
      "Input \u001b[1;32mIn [34]\u001b[0m, in \u001b[0;36mask_question\u001b[1;34m(question, options, correct_option)\u001b[0m\n\u001b[0;32m     15\u001b[0m     \u001b[38;5;28;01mreturn\u001b[39;00m \u001b[38;5;241m1\u001b[39m  \u001b[38;5;66;03m# Return 1 for a correct answer\u001b[39;00m\n\u001b[0;32m     16\u001b[0m \u001b[38;5;28;01melse\u001b[39;00m:\n\u001b[1;32m---> 17\u001b[0m     \u001b[38;5;28mprint\u001b[39m(\u001b[38;5;124mf\u001b[39m\u001b[38;5;124m\"\u001b[39m\u001b[38;5;124mWrong! ❌ The correct answer was \u001b[39m\u001b[38;5;132;01m{\u001b[39;00mcorrect_option\u001b[38;5;132;01m}\u001b[39;00m\u001b[38;5;124m. \u001b[39m\u001b[38;5;132;01m{\u001b[39;00moptions[correct_option]\u001b[38;5;132;01m}\u001b[39;00m\u001b[38;5;124m\"\u001b[39m)\n\u001b[0;32m     18\u001b[0m     \u001b[38;5;28;01mreturn\u001b[39;00m \u001b[38;5;241m0\u001b[39m\n",
      "\u001b[1;31mKeyError\u001b[0m: 3"
     ]
    }
   ],
   "source": [
    "# Simple Quiz Game with Multiple Choice Questions and Scoring\n",
    "\n",
    "# Function to display a question and check the user's answer\n",
    "def ask_question(question, options, correct_option):\n",
    "    print(\"\\n\" + question)\n",
    "    for key in options:\n",
    "        print(f\"{key}. {options[key]}\")\n",
    "    \n",
    "    # Get user's answer\n",
    "    answer = input(\"Enter the number of your choice: \")\n",
    "    \n",
    "    # Check if the answer is correct\n",
    "    if answer == str(correct_option):\n",
    "        print(\"Correct! ✅\")\n",
    "        return 1  # Return 1 for a correct answer\n",
    "    else:\n",
    "        print(f\"Wrong! ❌ The correct answer was {correct_option}. {options[correct_option]}\")\n",
    "        return 0  # Return 0 for a wrong answer\n",
    "\n",
    "# Main quiz function\n",
    "def main():\n",
    "    print(\"Welcome to the Quiz Game! 🎉\")\n",
    "    name = input(\"Enter your name: \")\n",
    "    print(f\"Hello {name}! Let's start the quiz.\")\n",
    "\n",
    "    # Define quiz questions\n",
    "    quiz = [\n",
    "        {\n",
    "            \"question\": \"What is the capital of France?\",\n",
    "            \"options\": { \"1\": \"Paris\", \"2\": \"Berlin\", \"3\": \"Madrid\", \"4\": \"Rome\" },\n",
    "            \"correct_option\": 1\n",
    "        },\n",
    "        {\n",
    "            \"question\": \"Which programming language is this quiz written in?\",\n",
    "            \"options\": { \"1\": \"Java\", \"2\": \"C++\", \"3\": \"Python\", \"4\": \"HTML\" },\n",
    "            \"correct_option\": 3\n",
    "        },\n",
    "        {\n",
    "            \"question\": \"Which of the following is a prime number?\",\n",
    "            \"options\": { \"1\": \"4\", \"2\": \"6\", \"3\": \"7\", \"4\": \"8\" },\n",
    "            \"correct_option\": 3\n",
    "        },\n",
    "        {\n",
    "            \"question\": \"How many continents are there on Earth?\",\n",
    "            \"options\": { \"1\": \"5\", \"2\": \"6\", \"3\": \"7\", \"4\": \"8\" },\n",
    "            \"correct_option\": 3\n",
    "        }\n",
    "    ]\n",
    "\n",
    "    score = 0\n",
    "\n",
    "    # Ask each question in the quiz\n",
    "    for q in quiz:\n",
    "        score += ask_question(q[\"question\"], q[\"options\"], q[\"correct_option\"])\n",
    "\n",
    "    # Final results\n",
    "    print(f\"\\n{name}, your final score is: {score}/{len(quiz)}\")\n",
    "    if score == len(quiz):\n",
    "        print(\"Excellent! You're a Quiz Master! 🏆\")\n",
    "    elif score >= len(quiz) // 2:\n",
    "        print(\"Good job! You have a great knowledge base! 👌\")\n",
    "    else:\n",
    "        print(\"Better luck next time! Don't stop learning! 🚀\")\n",
    "\n",
    "# Start the quiz\n",
    "if __name__ == \"__main__\":\n",
    "    main()\n"
   ]
  },
  {
   "cell_type": "raw",
   "id": "3a737fd4",
   "metadata": {},
   "source": []
  },
  {
   "cell_type": "code",
   "execution_count": null,
   "id": "8e80adff",
   "metadata": {},
   "outputs": [],
   "source": [
    "27. Develop a program that determines whether a given year is a prime number or not?"
   ]
  },
  {
   "cell_type": "code",
   "execution_count": 35,
   "id": "000b7ea6",
   "metadata": {},
   "outputs": [
    {
     "name": "stdout",
     "output_type": "stream",
     "text": [
      "Enter a year: 1993\n",
      "The year 1993 is a prime number.\n"
     ]
    }
   ],
   "source": [
    "# Program to check if a given year is a prime number\n",
    "\n",
    "# Input: Prompt the user to enter the year\n",
    "year = int(input(\"Enter a year: \"))\n",
    "\n",
    "# Function to determine if the given year is a prime number\n",
    "def is_prime(num):\n",
    "    if num < 2:\n",
    "        return False\n",
    "    for i in range(2, int(num ** 0.5) + 1):\n",
    "        if num % i == 0:\n",
    "            return False\n",
    "    return True\n",
    "\n",
    "# Check if the given year is prime and output the result\n",
    "if is_prime(year):\n",
    "    print(f\"The year {year} is a prime number.\")\n",
    "else:\n",
    "    print(f\"The year {year} is not a prime number.\")\n"
   ]
  },
  {
   "cell_type": "raw",
   "id": "9401f861",
   "metadata": {},
   "source": []
  },
  {
   "cell_type": "code",
   "execution_count": null,
   "id": "b09f0283",
   "metadata": {},
   "outputs": [],
   "source": [
    "28. Create a program that sorts three numbers in ascending order using conditional statements?"
   ]
  },
  {
   "cell_type": "code",
   "execution_count": 36,
   "id": "ce226215",
   "metadata": {},
   "outputs": [
    {
     "name": "stdout",
     "output_type": "stream",
     "text": [
      "Enter the first number: 15\n",
      "Enter the second number: 25\n",
      "Enter the third number: 30\n",
      "Numbers in ascending order: 15.0, 25.0, 30.0\n"
     ]
    }
   ],
   "source": [
    "# Program to sort three numbers in ascending order using conditional statements\n",
    "\n",
    "# Input: Get three numbers from the user\n",
    "num1 = float(input(\"Enter the first number: \"))\n",
    "num2 = float(input(\"Enter the second number: \"))\n",
    "num3 = float(input(\"Enter the third number: \"))\n",
    "\n",
    "# Sorting using conditional statements\n",
    "if num1 <= num2 and num1 <= num3:\n",
    "    if num2 <= num3:\n",
    "        print(f\"Numbers in ascending order: {num1}, {num2}, {num3}\")\n",
    "    else:\n",
    "        print(f\"Numbers in ascending order: {num1}, {num3}, {num2}\")\n",
    "elif num2 <= num1 and num2 <= num3:\n",
    "    if num1 <= num3:\n",
    "        print(f\"Numbers in ascending order: {num2}, {num1}, {num3}\")\n",
    "    else:\n",
    "        print(f\"Numbers in ascending order: {num2}, {num3}, {num1}\")\n",
    "else:\n",
    "    if num1 <= num2:\n",
    "        print(f\"Numbers in ascending order: {num3}, {num1}, {num2}\")\n",
    "    else:\n",
    "        print(f\"Numbers in ascending order: {num3}, {num2}, {num1}\")\n"
   ]
  },
  {
   "cell_type": "raw",
   "id": "0d6edd06",
   "metadata": {},
   "source": []
  },
  {
   "cell_type": "code",
   "execution_count": null,
   "id": "651e02fe",
   "metadata": {},
   "outputs": [],
   "source": [
    "29. Build a program that determines the roots of a quartic equation using numerical methods?"
   ]
  },
  {
   "cell_type": "code",
   "execution_count": 39,
   "id": "6db76758",
   "metadata": {},
   "outputs": [
    {
     "name": "stdout",
     "output_type": "stream",
     "text": [
      "Warning: Derivative near zero. Iteration stopped at x = 0.9937915164589227\n",
      "Warning: Derivative near zero. Iteration stopped at x = 0.9939796525882085\n",
      "Warning: Derivative near zero. Iteration stopped at x = 0.9943622895673104\n",
      "Warning: Derivative near zero. Iteration stopped at x = 1.0053514200048814\n",
      "Roots of the quartic equation are: []\n"
     ]
    }
   ],
   "source": [
    "import numpy as np\n",
    "\n",
    "# Define the quartic equation: ax^4 + bx^3 + cx^2 + dx + e = 0\n",
    "# In the form f(x) = ax^4 + bx^3 + cx^2 + dx + e\n",
    "\n",
    "def quartic_equation(x, coefficients):\n",
    "    a, b, c, d, e = coefficients\n",
    "    return a * x**4 + b * x**3 + c * x**2 + d * x + e\n",
    "\n",
    "# Derivative of the quartic equation (for Newton's method)\n",
    "def quartic_derivative(x, coefficients):\n",
    "    a, b, c, d, e = coefficients\n",
    "    return 4 * a * x**3 + 3 * b * x**2 + 2 * c * x + d\n",
    "\n",
    "# Newton's method to find roots\n",
    "def newtons_method(coefficients, initial_guess, tolerance=1e-6, max_iter=1000):\n",
    "    x = initial_guess\n",
    "    for _ in range(max_iter):\n",
    "        fx = quartic_equation(x, coefficients)\n",
    "        fx_prime = quartic_derivative(x, coefficients)\n",
    "        \n",
    "        if abs(fx_prime) < tolerance:  # Avoid division by very small numbers\n",
    "            print(f\"Warning: Derivative near zero. Iteration stopped at x = {x}\")\n",
    "            return None\n",
    "        \n",
    "        x_new = x - fx / fx_prime  # Newton's iteration step\n",
    "        if abs(x_new - x) < tolerance:  # Check for convergence\n",
    "            return x_new\n",
    "        \n",
    "        x = x_new  # Update for next iteration\n",
    "    \n",
    "    print(\"Maximum iterations reached without convergence.\")\n",
    "    return None\n",
    "\n",
    "# Main function to find all roots of a quartic equation\n",
    "def find_roots(coefficients):\n",
    "    # Initial guesses for the roots (4 roots for a quartic equation)\n",
    "    initial_guesses = [-10, -5, 0, 5]  # These guesses can be adjusted based on the equation\n",
    "    roots = []\n",
    "\n",
    "    for guess in initial_guesses:\n",
    "        root = newtons_method(coefficients, guess)\n",
    "        if root is not None and root not in roots:\n",
    "            roots.append(root)\n",
    "\n",
    "    return roots\n",
    "\n",
    "# Example quartic equation: 1x^4 - 4x^3 + 6x^2 - 4x + 1 = 0\n",
    "coefficients = [1, -4, 6, -4, 1]\n",
    "\n",
    "# Find roots\n",
    "roots = find_roots(coefficients)\n",
    "print(\"Roots of the quartic equation are:\", roots)\n"
   ]
  },
  {
   "cell_type": "code",
   "execution_count": null,
   "id": "063aee13",
   "metadata": {},
   "outputs": [],
   "source": []
  },
  {
   "cell_type": "code",
   "execution_count": null,
   "id": "17dc50ed",
   "metadata": {},
   "outputs": [],
   "source": [
    "30. Write a program that calculates the BMI (Body Mass Index) and provides health recommendations based\n",
    "on the user's input?"
   ]
  },
  {
   "cell_type": "code",
   "execution_count": 40,
   "id": "3396f3d6",
   "metadata": {},
   "outputs": [
    {
     "name": "stdout",
     "output_type": "stream",
     "text": [
      "Enter your weight in kilograms (kg): 78\n",
      "Enter your height in meters (m): 2\n",
      "Your BMI is: 19.50\n",
      "BMI Category: Normal weight\n",
      "Health Recommendation: Maintain your healthy lifestyle and diet.\n"
     ]
    }
   ],
   "source": [
    "# BMI Calculation and Health Recommendations\n",
    "\n",
    "# Function to calculate BMI\n",
    "def calculate_bmi(weight, height):\n",
    "    return weight / (height ** 2)\n",
    "\n",
    "# Input: User's weight (in kilograms) and height (in meters)\n",
    "try:\n",
    "    weight = float(input(\"Enter your weight in kilograms (kg): \"))\n",
    "    height = float(input(\"Enter your height in meters (m): \"))\n",
    "\n",
    "    # Calculate BMI\n",
    "    bmi = calculate_bmi(weight, height)\n",
    "\n",
    "    # Determine health recommendations based on BMI ranges\n",
    "    if bmi < 18.5:\n",
    "        category = \"Underweight\"\n",
    "        recommendation = \"You need to eat a balanced diet and gain some weight.\"\n",
    "    elif 18.5 <= bmi < 24.9:\n",
    "        category = \"Normal weight\"\n",
    "        recommendation = \"Maintain your healthy lifestyle and diet.\"\n",
    "    elif 25 <= bmi < 29.9:\n",
    "        category = \"Overweight\"\n",
    "        recommendation = \"Consider a balanced diet and regular exercise.\"\n",
    "    else:\n",
    "        category = \"Obesity\"\n",
    "        recommendation = \"You should consult with a healthcare professional for a tailored plan.\"\n",
    "\n",
    "    # Output BMI and health recommendation\n",
    "    print(f\"Your BMI is: {bmi:.2f}\")\n",
    "    print(f\"BMI Category: {category}\")\n",
    "    print(f\"Health Recommendation: {recommendation}\")\n",
    "\n",
    "except ValueError:\n",
    "    print(\"Please enter valid numerical inputs for weight and height.\")\n"
   ]
  },
  {
   "cell_type": "raw",
   "id": "2e2cd365",
   "metadata": {},
   "source": []
  },
  {
   "cell_type": "markdown",
   "id": "950fbf5b",
   "metadata": {},
   "source": [
    "# Challenge Level:"
   ]
  },
  {
   "cell_type": "code",
   "execution_count": null,
   "id": "299f378b",
   "metadata": {},
   "outputs": [],
   "source": [
    "31. Create a program that validates a password based on complexity rules (length, characters, etc.)?"
   ]
  },
  {
   "cell_type": "code",
   "execution_count": 45,
   "id": "7e74076f",
   "metadata": {},
   "outputs": [
    {
     "name": "stdout",
     "output_type": "stream",
     "text": [
      "Enter your password: Vive@sowmi92\n",
      "Password is valid.\n"
     ]
    }
   ],
   "source": [
    "import re\n",
    "\n",
    "# Function to validate the password based on complexity rules\n",
    "def validate_password(password):\n",
    "    # Check the length of the password\n",
    "    if len(password) < 8:\n",
    "        return \"Password must be at least 8 characters long.\"\n",
    "\n",
    "    # Check if the password contains at least one lowercase letter\n",
    "    if not any(char.islower() for char in password):\n",
    "        return \"Password must contain at least one lowercase letter.\"\n",
    "\n",
    "    # Check if the password contains at least one uppercase letter\n",
    "    if not any(char.isupper() for char in password):\n",
    "        return \"Password must contain at least one uppercase letter.\"\n",
    "\n",
    "    # Check if the password contains at least one digit\n",
    "    if not any(char.isdigit() for char in password):\n",
    "        return \"Password must contain at least one digit.\"\n",
    "\n",
    "    # Check if the password contains at least one special character\n",
    "    if not re.search(r'[!@#$%^&*(),.?\":{}|<>]', password):\n",
    "        return \"Password must contain at least one special character (!, @, #, $, etc.).\"\n",
    "\n",
    "    return \"Password is valid.\"\n",
    "\n",
    "# Input: Ask the user to enter a password\n",
    "user_password = input(\"Enter your password: \")\n",
    "\n",
    "# Validate the password and output the result\n",
    "result = validate_password(user_password)\n",
    "print(result)\n"
   ]
  },
  {
   "cell_type": "raw",
   "id": "405cc5e9",
   "metadata": {},
   "source": []
  },
  {
   "cell_type": "code",
   "execution_count": null,
   "id": "f6036089",
   "metadata": {},
   "outputs": [],
   "source": [
    "32. Develop a program that performs matrix addition and subtraction based on user input?"
   ]
  },
  {
   "cell_type": "code",
   "execution_count": 50,
   "id": "57bc5860",
   "metadata": {},
   "outputs": [
    {
     "name": "stdout",
     "output_type": "stream",
     "text": [
      "Matrix Addition and Subtraction Program\n",
      "Enter the number of rows: 1\n",
      "Enter the number of columns: 1\n",
      "\n",
      "Enter the first matrix:\n",
      "Enter the elements of the 1x1 matrix row by row, with space-separated values:\n",
      "1\n",
      "\n",
      "Enter the second matrix:\n",
      "Enter the elements of the 1x1 matrix row by row, with space-separated values:\n",
      "2\n",
      "\n",
      "Sum of the matrices:\n",
      "3\n",
      "\n",
      "Difference of the matrices:\n",
      "-1\n"
     ]
    }
   ],
   "source": [
    "# Function to input a matrix of given dimensions\n",
    "def input_matrix(rows, cols):\n",
    "    matrix = []\n",
    "    print(f\"Enter the elements of the {rows}x{cols} matrix row by row, with space-separated values:\")\n",
    "    for i in range(rows):\n",
    "        row = list(map(int, input().split()))\n",
    "        if len(row) != cols:\n",
    "            print(f\"Please enter exactly {cols} elements.\")\n",
    "            return input_matrix(rows, cols)\n",
    "        matrix.append(row)\n",
    "    return matrix\n",
    "\n",
    "# Function to add two matrices\n",
    "def add_matrices(matrix1, matrix2):\n",
    "    rows = len(matrix1)\n",
    "    cols = len(matrix1[0])\n",
    "    result = []\n",
    "    for i in range(rows):\n",
    "        row = [matrix1[i][j] + matrix2[i][j] for j in range(cols)]\n",
    "        result.append(row)\n",
    "    return result\n",
    "\n",
    "# Function to subtract two matrices\n",
    "def subtract_matrices(matrix1, matrix2):\n",
    "    rows = len(matrix1)\n",
    "    cols = len(matrix1[0])\n",
    "    result = []\n",
    "    for i in range(rows):\n",
    "        row = [matrix1[i][j] - matrix2[i][j] for j in range(cols)]\n",
    "        result.append(row)\n",
    "    return result\n",
    "\n",
    "# Function to display a matrix\n",
    "def display_matrix(matrix):\n",
    "    for row in matrix:\n",
    "        print(\" \".join(map(str, row)))\n",
    "\n",
    "# Main Program\n",
    "print(\"Matrix Addition and Subtraction Program\")\n",
    "\n",
    "# Input matrix dimensions\n",
    "rows = int(input(\"Enter the number of rows: \"))\n",
    "cols = int(input(\"Enter the number of columns: \"))\n",
    "\n",
    "print(\"\\nEnter the first matrix:\")\n",
    "matrix1 = input_matrix(rows, cols)\n",
    "\n",
    "print(\"\\nEnter the second matrix:\")\n",
    "matrix2 = input_matrix(rows, cols)\n",
    "\n",
    "# Perform matrix addition and subtraction\n",
    "sum_matrix = add_matrices(matrix1, matrix2)\n",
    "diff_matrix = subtract_matrices(matrix1, matrix2)\n",
    "\n",
    "print(\"\\nSum of the matrices:\")\n",
    "display_matrix(sum_matrix)\n",
    "\n",
    "print(\"\\nDifference of the matrices:\")\n",
    "display_matrix(diff_matrix)\n"
   ]
  },
  {
   "cell_type": "raw",
   "id": "e6461ed9",
   "metadata": {},
   "source": []
  },
  {
   "cell_type": "code",
   "execution_count": null,
   "id": "7a7cfe7f",
   "metadata": {},
   "outputs": [],
   "source": [
    "33. Write a program that calculates the greatest common divisor (GCD) of two numbers using the Euclidean\n",
    "algorithm?"
   ]
  },
  {
   "cell_type": "code",
   "execution_count": 51,
   "id": "6eceeffa",
   "metadata": {},
   "outputs": [
    {
     "name": "stdout",
     "output_type": "stream",
     "text": [
      "Enter the first number: 12\n",
      "Enter the second number: 24\n",
      "The Greatest Common Divisor (GCD) of 12 and 24 is: 12\n"
     ]
    }
   ],
   "source": [
    "# Function to calculate GCD using Euclidean Algorithm\n",
    "def gcd(a, b):\n",
    "    while b != 0:\n",
    "        # Assign the value of b to a and the remainder of a divided by b to b\n",
    "        a, b = b, a % b\n",
    "    return abs(a)  # Return the absolute value of a\n",
    "\n",
    "# Input: Get two numbers from the user\n",
    "num1 = int(input(\"Enter the first number: \"))\n",
    "num2 = int(input(\"Enter the second number: \"))\n",
    "\n",
    "# Calculate the Greatest Common Divisor\n",
    "result = gcd(num1, num2)\n",
    "\n",
    "# Output the result\n",
    "print(f\"The Greatest Common Divisor (GCD) of {num1} and {num2} is: {result}\")\n"
   ]
  },
  {
   "cell_type": "raw",
   "id": "63ad60fe",
   "metadata": {},
   "source": []
  },
  {
   "cell_type": "code",
   "execution_count": null,
   "id": "e4c45a63",
   "metadata": {},
   "outputs": [],
   "source": [
    "34. Build a program that performs matrix multiplication using nested loops and conditional statements?"
   ]
  },
  {
   "cell_type": "code",
   "execution_count": 52,
   "id": "aef8df0c",
   "metadata": {},
   "outputs": [
    {
     "name": "stdout",
     "output_type": "stream",
     "text": [
      "Resultant Matrix after Multiplication:\n",
      "[22, 34]\n",
      "[8, 16]\n"
     ]
    }
   ],
   "source": [
    "# Function to multiply two matrices\n",
    "def matrix_multiplication(matrix1, matrix2):\n",
    "    # Get dimensions of matrices\n",
    "    rows_matrix1 = len(matrix1)\n",
    "    cols_matrix1 = len(matrix1[0])\n",
    "    rows_matrix2 = len(matrix2)\n",
    "    cols_matrix2 = len(matrix2[0])\n",
    "\n",
    "    # Check if matrix multiplication is possible\n",
    "    if cols_matrix1 != rows_matrix2:\n",
    "        print(\"Matrix multiplication is not possible. The number of columns in Matrix 1 must equal the number of rows in Matrix 2.\")\n",
    "        return\n",
    "\n",
    "    # Initialize result matrix with zeros\n",
    "    result = [[0 for _ in range(cols_matrix2)] for _ in range(rows_matrix1)]\n",
    "\n",
    "    # Perform matrix multiplication using nested loops\n",
    "    for i in range(rows_matrix1):\n",
    "        for j in range(cols_matrix2):\n",
    "            for k in range(cols_matrix1):\n",
    "                result[i][j] += matrix1[i][k] * matrix2[k][j]\n",
    "\n",
    "    return result\n",
    "\n",
    "\n",
    "# Define two matrices\n",
    "matrix1 = [\n",
    "    [2, 4],\n",
    "    [3, 1]\n",
    "]\n",
    "\n",
    "matrix2 = [\n",
    "    [1, 3],\n",
    "    [5, 7]\n",
    "]\n",
    "\n",
    "# Perform matrix multiplication\n",
    "result = matrix_multiplication(matrix1, matrix2)\n",
    "\n",
    "# Print the resulting matrix\n",
    "if result:\n",
    "    print(\"Resultant Matrix after Multiplication:\")\n",
    "    for row in result:\n",
    "        print(row)\n"
   ]
  },
  {
   "cell_type": "raw",
   "id": "18c41681",
   "metadata": {},
   "source": []
  },
  {
   "cell_type": "code",
   "execution_count": null,
   "id": "2279e389",
   "metadata": {},
   "outputs": [],
   "source": [
    "35. Create a program that simulates a basic text-based tic-tac-toe game against the computer?"
   ]
  },
  {
   "cell_type": "code",
   "execution_count": 54,
   "id": "44976de5",
   "metadata": {},
   "outputs": [
    {
     "name": "stdout",
     "output_type": "stream",
     "text": [
      "Welcome to Tic-Tac-Toe!\n",
      "You are 'X' and the computer is 'O'.\n",
      "\n",
      "_ | _ | _\n",
      "-----\n",
      "_ | _ | _\n",
      "-----\n",
      "_ | _ | _\n",
      "\n",
      "\n",
      "Enter your move (1-9): 1\n",
      "X | _ | _\n",
      "-----\n",
      "_ | _ | _\n",
      "-----\n",
      "_ | _ | _\n",
      "\n",
      "\n",
      "Computer chooses position 8\n",
      "X | _ | _\n",
      "-----\n",
      "_ | _ | _\n",
      "-----\n",
      "_ | O | _\n",
      "\n",
      "\n",
      "Enter your move (1-9): 2\n",
      "X | X | _\n",
      "-----\n",
      "_ | _ | _\n",
      "-----\n",
      "_ | O | _\n",
      "\n",
      "\n",
      "Computer chooses position 9\n",
      "X | X | _\n",
      "-----\n",
      "_ | _ | _\n",
      "-----\n",
      "_ | O | O\n",
      "\n",
      "\n",
      "Enter your move (1-9): 3\n",
      "X | X | X\n",
      "-----\n",
      "_ | _ | _\n",
      "-----\n",
      "_ | O | O\n",
      "\n",
      "\n",
      "Congratulations! You win!\n"
     ]
    }
   ],
   "source": [
    "### import random\n",
    "\n",
    "# Function to display the Tic-Tac-Toe board\n",
    "def display_board(board):\n",
    "    print(f\"{board[0]} | {board[1]} | {board[2]}\")\n",
    "    print(\"-\" * 5)\n",
    "    print(f\"{board[3]} | {board[4]} | {board[5]}\")\n",
    "    print(\"-\" * 5)\n",
    "    print(f\"{board[6]} | {board[7]} | {board[8]}\")\n",
    "    print(\"\\n\")\n",
    "\n",
    "# Function to check if a player has won the game\n",
    "def check_winner(board, player):\n",
    "    win_combinations = [\n",
    "        [0, 1, 2],  # Top row\n",
    "        [3, 4, 5],  # Middle row\n",
    "        [6, 7, 8],  # Bottom row\n",
    "        [0, 3, 6],  # Left column\n",
    "        [1, 4, 7],  # Middle column\n",
    "        [2, 5, 8],  # Right column\n",
    "        [0, 4, 8],  # Diagonal\n",
    "        [2, 4, 6]   # Diagonal\n",
    "    ]\n",
    "    for combo in win_combinations:\n",
    "        if board[combo[0]] == board[combo[1]] == board[combo[2]] == player:\n",
    "            return True\n",
    "    return False\n",
    "\n",
    "# Function to check if the board is full (no empty spaces)\n",
    "def is_full(board):\n",
    "    return \"_\" not in board\n",
    "\n",
    "# Function for the computer to make a move\n",
    "def computer_move(board):\n",
    "    empty_indices = [i for i in range(9) if board[i] == \"_\"]\n",
    "    return random.choice(empty_indices)\n",
    "\n",
    "# Main function to play the game\n",
    "def play_game():\n",
    "    board = [\"_\"] * 9  # Initialize a 3x3 board with empty spaces\n",
    "    print(\"Welcome to Tic-Tac-Toe!\")\n",
    "    print(\"You are 'X' and the computer is 'O'.\\n\")\n",
    "\n",
    "    display_board(board)\n",
    "\n",
    "    while True:\n",
    "        # Player move\n",
    "        player_move = int(input(\"Enter your move (1-9): \")) - 1\n",
    "        if 0 <= player_move < 9 and board[player_move] == \"_\":\n",
    "            board[player_move] = \"X\"\n",
    "        else:\n",
    "            print(\"Invalid move. Try again.\")\n",
    "            continue\n",
    "\n",
    "        display_board(board)\n",
    "\n",
    "        # Check if the player has won\n",
    "        if check_winner(board, \"X\"):\n",
    "            print(\"Congratulations! You win!\")\n",
    "            break\n",
    "\n",
    "        # Check if the game is a draw\n",
    "        if is_full(board):\n",
    "            print(\"It's a draw!\")\n",
    "            break\n",
    "\n",
    "        # Computer move\n",
    "        comp_move = computer_move(board)\n",
    "        print(f\"Computer chooses position {comp_move + 1}\")\n",
    "        board[comp_move] = \"O\"\n",
    "\n",
    "        display_board(board)\n",
    "\n",
    "        # Check if the computer has won\n",
    "        if check_winner(board, \"O\"):\n",
    "            print(\"Computer wins! Better luck next time.\")\n",
    "            break\n",
    "\n",
    "# Start the game\n",
    "play_game()\n"
   ]
  },
  {
   "cell_type": "markdown",
   "id": "c1ec3ddd",
   "metadata": {},
   "source": []
  },
  {
   "cell_type": "code",
   "execution_count": null,
   "id": "d25c481a",
   "metadata": {},
   "outputs": [],
   "source": [
    "36. Write a program that generates Fibonacci numbers up to a specified term using iterative methods?"
   ]
  },
  {
   "cell_type": "code",
   "execution_count": 55,
   "id": "8df4ea1a",
   "metadata": {},
   "outputs": [
    {
     "name": "stdout",
     "output_type": "stream",
     "text": [
      "Enter the number of terms: 3\n",
      "Fibonacci sequence up to 3 terms:\n",
      "[0, 1, 1]\n"
     ]
    }
   ],
   "source": [
    "# Python script to generate Fibonacci numbers up to a specified term using an iterative method\n",
    "\n",
    "# Function to generate and print the Fibonacci sequence up to n terms\n",
    "def generate_fibonacci(n):\n",
    "    fib_sequence = []\n",
    "\n",
    "    # Initialize the first two Fibonacci numbers\n",
    "    a, b = 0, 1\n",
    "\n",
    "    print(f\"Fibonacci sequence up to {n} terms:\")\n",
    "\n",
    "    for i in range(n):\n",
    "        fib_sequence.append(a)\n",
    "        # Update the numbers for the next term\n",
    "        a, b = b, a + b\n",
    "\n",
    "    return fib_sequence\n",
    "\n",
    "# Get user input to specify how many terms they want\n",
    "num_terms = int(input(\"Enter the number of terms: \"))\n",
    "\n",
    "# Generate and display the Fibonacci sequence\n",
    "fib_numbers = generate_fibonacci(num_terms)\n",
    "print(fib_numbers)\n"
   ]
  },
  {
   "cell_type": "raw",
   "id": "c38d4d14",
   "metadata": {},
   "source": []
  },
  {
   "cell_type": "code",
   "execution_count": null,
   "id": "8a58ac67",
   "metadata": {},
   "outputs": [],
   "source": [
    "37. Develop a program that calculates the nth term of the Fibonacci sequence using memoization?"
   ]
  },
  {
   "cell_type": "code",
   "execution_count": 57,
   "id": "57915ded",
   "metadata": {},
   "outputs": [
    {
     "name": "stdout",
     "output_type": "stream",
     "text": [
      "Enter the term number (n) to get the nth Fibonacci number: 12\n",
      "The 12-th term of the Fibonacci sequence is: 144\n"
     ]
    }
   ],
   "source": [
    "# Fibonacci sequence using memoization\n",
    "\n",
    "# Define a dictionary to store previously computed Fibonacci numbers\n",
    "fib_cache = {}\n",
    "\n",
    "# Define a function to calculate the nth term of the Fibonacci sequence\n",
    "def fibonacci(n):\n",
    "    if n in fib_cache:\n",
    "        return fib_cache[n]\n",
    "    \n",
    "    if n == 0:\n",
    "        fib_cache[n] = 0\n",
    "        return 0\n",
    "    elif n == 1:\n",
    "        fib_cache[n] = 1\n",
    "        return 1\n",
    "    \n",
    "    # Use memoization to store the result of previous computations\n",
    "    fib_cache[n] = fibonacci(n-1) + fibonacci(n-2)\n",
    "    return fib_cache[n]\n",
    "\n",
    "# Input: Prompt the user to enter the term 'n' they want to find in the Fibonacci sequence\n",
    "n = int(input(\"Enter the term number (n) to get the nth Fibonacci number: \"))\n",
    "\n",
    "# Calculate the nth term of the Fibonacci sequence\n",
    "nth_fib = fibonacci(n)\n",
    "\n",
    "# Output the result\n",
    "print(f\"The {n}-th term of the Fibonacci sequence is: {nth_fib}\")\n"
   ]
  },
  {
   "cell_type": "raw",
   "id": "327498af",
   "metadata": {},
   "source": []
  },
  {
   "cell_type": "code",
   "execution_count": null,
   "id": "85c49356",
   "metadata": {},
   "outputs": [],
   "source": [
    "38. Create a program that generates a calendar for a given month and year using conditional statements?"
   ]
  },
  {
   "cell_type": "code",
   "execution_count": 58,
   "id": "d0b28d03",
   "metadata": {},
   "outputs": [
    {
     "name": "stdout",
     "output_type": "stream",
     "text": [
      "Enter a year: 1994\n",
      "Enter a month (1-12): 3\n",
      "\n",
      "Calendar for 3/1994\n",
      "\n",
      "Mo Tu We Th Fr Sa Su\n",
      "    1  2  3  4  5  6 \n",
      " 7  8  9 10 11 12 13 \n",
      "14 15 16 17 18 19 20 \n",
      "21 22 23 24 25 26 27 \n",
      "28 29 30 31 "
     ]
    }
   ],
   "source": [
    "# Program to generate a calendar for a given month and year using conditional statements\n",
    "\n",
    "# Define a function to check if a year is a leap year\n",
    "def is_leap_year(year):\n",
    "    return (year % 4 == 0 and year % 100 != 0) or (year % 400 == 0)\n",
    "\n",
    "# Define a dictionary containing the number of days in each month\n",
    "month_days = {\n",
    "    1: 31,   # January\n",
    "    2: 29 if is_leap_year(2024) else 28,  # February (leap or common year)\n",
    "    3: 31,   # March\n",
    "    4: 30,   # April\n",
    "    5: 31,   # May\n",
    "    6: 30,   # June\n",
    "    7: 31,   # July\n",
    "    8: 31,   # August\n",
    "    9: 30,   # September\n",
    "    10: 31,  # October\n",
    "    11: 30,  # November\n",
    "    12: 31   # December\n",
    "}\n",
    "\n",
    "# Get user input for month and year\n",
    "year = int(input(\"Enter a year: \"))\n",
    "month = int(input(\"Enter a month (1-12): \"))\n",
    "\n",
    "# Validate month input\n",
    "if month < 1 or month > 12:\n",
    "    print(\"Invalid month input. Month should be between 1 and 12.\")\n",
    "else:\n",
    "    print(f\"\\nCalendar for {month}/{year}\\n\")\n",
    "    print(\"Mo Tu We Th Fr Sa Su\")\n",
    "\n",
    "    # We start by calculating the first weekday of the month\n",
    "    import calendar\n",
    "    \n",
    "    # Get the weekday of the first day of the given month and year (0 = Monday, ..., 6 = Sunday)\n",
    "    start_day = calendar.monthrange(year, month)[0]\n",
    "\n",
    "    # Days printed initially as empty spaces until first day of the month\n",
    "    for space in range(start_day):\n",
    "        print(\"  \", end=\" \")\n",
    "\n",
    "    # Print days of the month\n",
    "    for day in range(1, month_days[month]+1):\n",
    "        print(f\"{day:2}\", end=\" \")\n",
    "\n",
    "        if (start_day + day) % 7 == 0:\n",
    "            print()   # New row for a new week\n"
   ]
  },
  {
   "cell_type": "raw",
   "id": "e9733739",
   "metadata": {},
   "source": []
  },
  {
   "cell_type": "code",
   "execution_count": null,
   "id": "3df9ce66",
   "metadata": {},
   "outputs": [],
   "source": [
    "39. Build a program that simulates a basic text-based blackjack game against the computer."
   ]
  },
  {
   "cell_type": "code",
   "execution_count": 59,
   "id": "ff66d591",
   "metadata": {},
   "outputs": [
    {
     "name": "stdout",
     "output_type": "stream",
     "text": [
      "Welcome to Blackjack!\n",
      "\n",
      "Your hand:\n",
      "6 of Spades\n",
      "4 of Clubs\n",
      "Total value: 10\n",
      "\n",
      "Dealer's hand:\n",
      "King of Spades and an unknown card\n",
      "\n",
      "Do you want to 'hit' or 'stand'? hit\n",
      "\n",
      "Your hand after hitting:\n",
      "6 of Spades\n",
      "4 of Clubs\n",
      "9 of Diamonds\n",
      "Total value: 19\n",
      "Do you want to 'hit' or 'stand'? stand\n",
      "\n",
      "Dealer's turn\n",
      "King of Spades\n",
      "2 of Spades\n",
      "Total value: 12\n",
      "\n",
      "Dealer hits.\n",
      "King of Spades\n",
      "2 of Spades\n",
      "Queen of Spades\n",
      "Total value: 22\n",
      "\n",
      "Congratulations! You win!\n"
     ]
    }
   ],
   "source": [
    "import random\n",
    "\n",
    "# Define the card deck\n",
    "def create_deck():\n",
    "    suits = ['Hearts', 'Diamonds', 'Clubs', 'Spades']\n",
    "    ranks = ['2', '3', '4', '5', '6', '7', '8', '9', '10', 'Jack', 'Queen', 'King', 'Ace']\n",
    "    deck = [{'suit': suit, 'rank': rank} for suit in suits for rank in ranks]\n",
    "    return deck\n",
    "\n",
    "# Calculate hand value\n",
    "def hand_value(hand):\n",
    "    value = 0\n",
    "    num_aces = 0\n",
    "\n",
    "    for card in hand:\n",
    "        rank = card['rank']\n",
    "        if rank in ['Jack', 'Queen', 'King']:\n",
    "            value += 10\n",
    "        elif rank == 'Ace':\n",
    "            num_aces += 1\n",
    "            value += 11\n",
    "        else:\n",
    "            value += int(rank)\n",
    "\n",
    "    # Adjust for Aces if value > 21\n",
    "    while value > 21 and num_aces:\n",
    "        value -= 10\n",
    "        num_aces -= 1\n",
    "\n",
    "    return value\n",
    "\n",
    "# Display the hand of cards\n",
    "def display_hand(hand):\n",
    "    for card in hand:\n",
    "        print(f\"{card['rank']} of {card['suit']}\")\n",
    "    print(f\"Total value: {hand_value(hand)}\")\n",
    "\n",
    "# The main game function\n",
    "def play_blackjack():\n",
    "    print(\"Welcome to Blackjack!\")\n",
    "\n",
    "    # Create and shuffle the deck\n",
    "    deck = create_deck()\n",
    "    random.shuffle(deck)\n",
    "\n",
    "    # Deal initial hands\n",
    "    player_hand = [deck.pop(), deck.pop()]\n",
    "    dealer_hand = [deck.pop(), deck.pop()]\n",
    "\n",
    "    print(\"\\nYour hand:\")\n",
    "    display_hand(player_hand)\n",
    "\n",
    "    print(\"\\nDealer's hand:\")\n",
    "    print(f\"{dealer_hand[0]['rank']} of {dealer_hand[0]['suit']} and an unknown card\\n\")\n",
    "\n",
    "    # Player's turn\n",
    "    while hand_value(player_hand) < 21:\n",
    "        choice = input(\"Do you want to 'hit' or 'stand'? \").lower()\n",
    "\n",
    "        if choice == 'hit':\n",
    "            player_hand.append(deck.pop())\n",
    "            print(\"\\nYour hand after hitting:\")\n",
    "            display_hand(player_hand)\n",
    "        elif choice == 'stand':\n",
    "            break\n",
    "        else:\n",
    "            print(\"Invalid choice. Please type 'hit' or 'stand'.\")\n",
    "\n",
    "    player_total = hand_value(player_hand)\n",
    "    if player_total > 21:\n",
    "        print(\"\\nYou busted! Dealer wins.\")\n",
    "        return\n",
    "\n",
    "    # Dealer's turn\n",
    "    print(\"\\nDealer's turn\")\n",
    "    display_hand(dealer_hand)\n",
    "\n",
    "    while hand_value(dealer_hand) < 17:\n",
    "        dealer_hand.append(deck.pop())\n",
    "        print(\"\\nDealer hits.\")\n",
    "        display_hand(dealer_hand)\n",
    "\n",
    "    dealer_total = hand_value(dealer_hand)\n",
    "\n",
    "    # Determine the winner\n",
    "    if dealer_total > 21 or player_total > dealer_total:\n",
    "        print(\"\\nCongratulations! You win!\")\n",
    "    elif dealer_total > player_total:\n",
    "        print(\"\\nDealer wins. Better luck next time!\")\n",
    "    else:\n",
    "        print(\"\\nIt's a tie!\")\n",
    "\n",
    "# Start the game\n",
    "play_blackjack()\n"
   ]
  },
  {
   "cell_type": "raw",
   "id": "8250d23a",
   "metadata": {},
   "source": []
  },
  {
   "cell_type": "code",
   "execution_count": null,
   "id": "164c4400",
   "metadata": {},
   "outputs": [],
   "source": [
    "40. Write a program that generates the prime factors of a given number using trial division?"
   ]
  },
  {
   "cell_type": "code",
   "execution_count": 60,
   "id": "85d7fd18",
   "metadata": {},
   "outputs": [
    {
     "name": "stdout",
     "output_type": "stream",
     "text": [
      "Enter a positive integer: 66\n",
      "The prime factors of 66 are: [2, 3, 11]\n"
     ]
    }
   ],
   "source": [
    "# Function to find and print prime factors of a given number using trial division\n",
    "def prime_factors(number):\n",
    "    factors = []\n",
    "\n",
    "    # Check divisibility by 2 first\n",
    "    while number % 2 == 0:\n",
    "        factors.append(2)\n",
    "        number //= 2\n",
    "\n",
    "    # Check divisibility by odd numbers starting from 3\n",
    "    for i in range(3, int(number**0.5) + 1, 2):\n",
    "        while number % i == 0:\n",
    "            factors.append(i)\n",
    "            number //= i\n",
    "\n",
    "    # If number is still greater than 2, it's a prime number\n",
    "    if number > 2:\n",
    "        factors.append(number)\n",
    "\n",
    "    return factors\n",
    "\n",
    "# Input: Ask the user to enter a number\n",
    "num = int(input(\"Enter a positive integer: \"))\n",
    "\n",
    "# Get prime factors of the number\n",
    "factors = prime_factors(num)\n",
    "\n",
    "# Output the prime factors\n",
    "print(f\"The prime factors of {num} are: {factors}\")\n"
   ]
  },
  {
   "cell_type": "raw",
   "id": "f3dcb274",
   "metadata": {},
   "source": []
  }
 ],
 "metadata": {
  "kernelspec": {
   "display_name": "Python 3 (ipykernel)",
   "language": "python",
   "name": "python3"
  },
  "language_info": {
   "codemirror_mode": {
    "name": "ipython",
    "version": 3
   },
   "file_extension": ".py",
   "mimetype": "text/x-python",
   "name": "python",
   "nbconvert_exporter": "python",
   "pygments_lexer": "ipython3",
   "version": "3.9.12"
  }
 },
 "nbformat": 4,
 "nbformat_minor": 5
}
