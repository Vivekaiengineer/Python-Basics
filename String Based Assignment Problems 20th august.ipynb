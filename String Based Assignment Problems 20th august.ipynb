{
 "cells": [
  {
   "cell_type": "markdown",
   "id": "e0ea7f86",
   "metadata": {},
   "source": [
    "# String Based Assignment Problems"
   ]
  },
  {
   "cell_type": "markdown",
   "id": "a13e2228",
   "metadata": {},
   "source": [
    "1. Write a program to reverse a string."
   ]
  },
  {
   "cell_type": "code",
   "execution_count": 6,
   "id": "23e9b5eb",
   "metadata": {},
   "outputs": [
    {
     "name": "stdout",
     "output_type": "stream",
     "text": [
      "Enter your string = Vivekanandan\n",
      "Reversed String is :  nadnanakeviV\n"
     ]
    }
   ],
   "source": [
    "# for string take a user input as astring\n",
    "# code for input string\n",
    "mystring = input(\"Enter your string = \")\n",
    "# Using slicing options to reverse the string\n",
    "# Reversed string as ouput\n",
    "print(\"Reversed String is : \",mystring[::-1])"
   ]
  },
  {
   "cell_type": "markdown",
   "id": "93abda25",
   "metadata": {},
   "source": [
    "2.Check if a string is a palindrome."
   ]
  },
  {
   "cell_type": "code",
   "execution_count": 2,
   "id": "588f3d8e",
   "metadata": {},
   "outputs": [
    {
     "name": "stdout",
     "output_type": "stream",
     "text": [
      "chennai is hot city\n",
      "chennai is hot city is not a palindrome.\n"
     ]
    }
   ],
   "source": [
    "# writing a function for checking the string is palindrome.\n",
    "def is_palindrome(input_string):\n",
    "# Remove spaces and convert the string to lowercase for case insensitivity\n",
    "    cleaned_string = input_string.replace(\" \", \"\").lower()\n",
    "  \n",
    "# Check if the cleaned string is equal to its reverse\n",
    "    return cleaned_string == cleaned_string[::-1]\n",
    "# writing a programme to get the result of palindrome or not\n",
    "input_string = input()\n",
    "\n",
    "#Calling the function\n",
    "result = is_palindrome(input_string)\n",
    "#if condition to check the plaindrome\n",
    "if result:\n",
    "    print(f\"{input_string} is a palindrome.\")\n",
    "else:\n",
    "    print(f\"{input_string} is not a palindrome.\")\n"
   ]
  },
  {
   "cell_type": "markdown",
   "id": "d4279292",
   "metadata": {},
   "source": [
    "\n"
   ]
  },
  {
   "cell_type": "markdown",
   "id": "7c8d9489",
   "metadata": {},
   "source": [
    "3.Convert a string to uppercase.\n"
   ]
  },
  {
   "cell_type": "code",
   "execution_count": 10,
   "id": "9332588c",
   "metadata": {},
   "outputs": [
    {
     "name": "stdout",
     "output_type": "stream",
     "text": [
      "sowmiya\n",
      "SOWMIYA\n"
     ]
    }
   ],
   "source": [
    "# Writing the code to get the string from user\n",
    "Inputstring = input()\n",
    "#Code for converting uppercase\n",
    "Upperstring = Inputstring.upper()\n",
    "print(Upperstring)\n"
   ]
  },
  {
   "cell_type": "code",
   "execution_count": 11,
   "id": "a4ec2005",
   "metadata": {
    "scrolled": true
   },
   "outputs": [
    {
     "data": {
      "text/plain": [
       "'SOWMIYA'"
      ]
     },
     "execution_count": 11,
     "metadata": {},
     "output_type": "execute_result"
    }
   ],
   "source": [
    "Upperstring"
   ]
  },
  {
   "cell_type": "markdown",
   "id": "df32e805",
   "metadata": {},
   "source": []
  },
  {
   "cell_type": "markdown",
   "id": "8d4849e5",
   "metadata": {},
   "source": [
    "4. Convert a string to lowercase."
   ]
  },
  {
   "cell_type": "code",
   "execution_count": 5,
   "id": "a52c29f3",
   "metadata": {},
   "outputs": [
    {
     "name": "stdout",
     "output_type": "stream",
     "text": [
      "MUMBAI IS A PORT CITY\n"
     ]
    }
   ],
   "source": [
    "# Writing the code to get the string from user as  a Upper case\n",
    "Inputstring = input()\n",
    "#Code for converting lowercase\n",
    "Lowerstring = Inputstring.lower()"
   ]
  },
  {
   "cell_type": "code",
   "execution_count": 6,
   "id": "5b07013c",
   "metadata": {},
   "outputs": [
    {
     "data": {
      "text/plain": [
       "'mumbai is a port city'"
      ]
     },
     "execution_count": 6,
     "metadata": {},
     "output_type": "execute_result"
    }
   ],
   "source": [
    "# Printing lowercase\n",
    "Lowerstring"
   ]
  },
  {
   "cell_type": "code",
   "execution_count": null,
   "id": "9b73f77b",
   "metadata": {},
   "outputs": [],
   "source": []
  },
  {
   "cell_type": "markdown",
   "id": "194312e0",
   "metadata": {},
   "source": [
    "5. Count the number of vowels in a string."
   ]
  },
  {
   "cell_type": "code",
   "execution_count": null,
   "id": "e6bcebd0",
   "metadata": {},
   "outputs": [],
   "source": [
    "# Code for take a string iinput from the user"
   ]
  },
  {
   "cell_type": "code",
   "execution_count": 9,
   "id": "a442bb8e",
   "metadata": {},
   "outputs": [
    {
     "name": "stdout",
     "output_type": "stream",
     "text": [
      "Enter your string : Hello world!\n",
      "Number of vowels in 'Hello world!': 3\n"
     ]
    }
   ],
   "source": [
    "# Create the fucntion for finding the vowels in the string\n",
    "def count_vowels(input_string):\n",
    "    # Convert the input string to lowercase to make the comparison case-insensitive\n",
    "    input_string = input_string.lower()\n",
    "    \n",
    "    # Define a set of vowels\n",
    "    vowels = set(\"aeiou\")\n",
    "    \n",
    "    # Initialize a count for vowels\n",
    "    vowel_count = 0\n",
    "    \n",
    "    # Iterate through the characters in the input string\n",
    "    for char in input_string:\n",
    "        if char in vowels:\n",
    "            vowel_count += 1\n",
    "    \n",
    "    return vowel_count\n",
    "\n",
    "# Example usage:\n",
    "# Take a string from the user input\n",
    "input_string = input(\"Enter your string : \")\n",
    "vowels = count_vowels(input_string)\n",
    "print(f\"Number of vowels in '{input_string}': {vowels}\")\n",
    "\n"
   ]
  },
  {
   "cell_type": "markdown",
   "id": "0d3b3160",
   "metadata": {},
   "source": []
  },
  {
   "cell_type": "markdown",
   "id": "04a06d88",
   "metadata": {},
   "source": [
    "6. Count the number of consonants in a string."
   ]
  },
  {
   "cell_type": "code",
   "execution_count": 10,
   "id": "02ffacd2",
   "metadata": {},
   "outputs": [
    {
     "name": "stdout",
     "output_type": "stream",
     "text": [
      "Number of consonants in 'Hello, World!': 7\n"
     ]
    }
   ],
   "source": [
    "def count_consonants(input_string):\n",
    "    # Convert the input string to lowercase to make the comparison case-insensitive\n",
    "    input_string = input_string.lower()\n",
    "    \n",
    "    # Define a set of vowels\n",
    "    vowels = set(\"aeiou\")\n",
    "    \n",
    "    # Initialize a count for consonants\n",
    "    consonant_count = 0\n",
    "    \n",
    "    # Iterate through the characters in the input string\n",
    "    for char in input_string:\n",
    "        if char.isalpha() and char not in vowels:\n",
    "            consonant_count += 1\n",
    "    \n",
    "    return consonant_count\n",
    "\n",
    "# Example usage:\n",
    "input_string = \"Hello, World!\"\n",
    "consonants = count_consonants(input_string)\n",
    "print(f\"Number of consonants in '{input_string}': {consonants}\")\n"
   ]
  },
  {
   "cell_type": "markdown",
   "id": "a6e7c855",
   "metadata": {},
   "source": [
    "7. Remove all whitespaces from a string"
   ]
  },
  {
   "cell_type": "code",
   "execution_count": 3,
   "id": "c3718f9a",
   "metadata": {},
   "outputs": [
    {
     "name": "stdout",
     "output_type": "stream",
     "text": [
      "Enter your text:Bangalore is a green city\n",
      "Bangaloreisagreencity\n"
     ]
    }
   ],
   "source": [
    "# Using replace method to remove the spce from the input string:\n",
    "def remove_whitespace_with_replace(yourtextinput):\n",
    "    return yourtextinput.replace(\" \", \"\")\n",
    "# Write a code for input variables\n",
    "yourtextinput = input(\"Enter your text:\")\n",
    "# Out put string\n",
    "print(remove_whitespace_with_replace(yourtextinput))\n"
   ]
  },
  {
   "cell_type": "code",
   "execution_count": 4,
   "id": "fc341562",
   "metadata": {},
   "outputs": [
    {
     "name": "stdout",
     "output_type": "stream",
     "text": [
      "Enter your string : Chennai is hot city\n",
      "Chennaiishotcity\n"
     ]
    }
   ],
   "source": [
    "# Using join methode\n",
    "# creating the function  for remon=ving the spaces\n",
    "def remove_whitespace_with_join(my_string):\n",
    "    return ''.join(my_string.split())\n",
    "\n",
    "# Write a code for creating input variables\n",
    "my_string = input(\"Enter your string : \")\n",
    "\n",
    "# printing the results\n",
    "print(remove_whitespace_with_join(my_string))\n",
    "\n",
    "\n"
   ]
  },
  {
   "cell_type": "markdown",
   "id": "83c942da",
   "metadata": {},
   "source": [
    "8. Find the length of the string with out using the 'len()' function."
   ]
  },
  {
   "cell_type": "code",
   "execution_count": 7,
   "id": "2bc2cab5",
   "metadata": {},
   "outputs": [
    {
     "name": "stdout",
     "output_type": "stream",
     "text": [
      "enter your string: WelcomeToBangalore\n",
      "18\n"
     ]
    }
   ],
   "source": [
    "# write a function to count the string\n",
    "def string_length(string):\n",
    "    count = 0\n",
    "    #Looping the srting for counting\n",
    "    for x in string:\n",
    "        count += 1\n",
    "    #Return the count values\n",
    "    return count\n",
    "# Write a code for user input variables\n",
    "userinput = input(\"enter your string: \")\n",
    "# Calling teh functionms to calculate the length of the string\n",
    "stringlength = string_length(userinput)\n",
    "# printing the results\n",
    "print(stringlength)"
   ]
  },
  {
   "cell_type": "markdown",
   "id": "384c969a",
   "metadata": {},
   "source": [
    "9. Check if a string contains a specific word"
   ]
  },
  {
   "cell_type": "code",
   "execution_count": 2,
   "id": "793d6422",
   "metadata": {},
   "outputs": [],
   "source": [
    "# Creating Variables\n",
    "string = \"Bangalore is a IT hub city in india\"\n",
    "word = \"hub\""
   ]
  },
  {
   "cell_type": "code",
   "execution_count": 3,
   "id": "46a0e55d",
   "metadata": {},
   "outputs": [],
   "source": [
    "# Create a function for checking the word\n",
    "def check_word(word,string):\n",
    "    return word in string"
   ]
  },
  {
   "cell_type": "code",
   "execution_count": 4,
   "id": "ca13aafe",
   "metadata": {},
   "outputs": [
    {
     "name": "stdout",
     "output_type": "stream",
     "text": [
      "True\n"
     ]
    }
   ],
   "source": [
    "# Getting output as True are false\n",
    "result = check_word(word,string)\n",
    "print(result)"
   ]
  },
  {
   "cell_type": "markdown",
   "id": "15f6c0a9",
   "metadata": {},
   "source": []
  },
  {
   "cell_type": "markdown",
   "id": "8aeb593b",
   "metadata": {},
   "source": [
    "10. Replace a word in a string with another word.\n"
   ]
  },
  {
   "cell_type": "code",
   "execution_count": 8,
   "id": "548ab574",
   "metadata": {},
   "outputs": [],
   "source": [
    "# Creating variables for the replacing the word\n",
    "string = \"This is action scene\"\n",
    "replaces_word = \"action\"\n",
    "new_word = \"Romance\"\n"
   ]
  },
  {
   "cell_type": "code",
   "execution_count": 13,
   "id": "32559fa2",
   "metadata": {},
   "outputs": [],
   "source": [
    "# creating function for replace the new word\n",
    "def replace_word_in_string(string,replaces_word,new_word):\n",
    "    return string.replace(replaces_word, new_word)\n",
    "\n"
   ]
  },
  {
   "cell_type": "code",
   "execution_count": 14,
   "id": "942952ba",
   "metadata": {},
   "outputs": [
    {
     "name": "stdout",
     "output_type": "stream",
     "text": [
      "This is Romance scene\n"
     ]
    }
   ],
   "source": [
    "# Getting output as a string\n",
    "new_string = replace_word_in_string(string, replaces_word, new_word)\n",
    "print(new_string)"
   ]
  },
  {
   "cell_type": "markdown",
   "id": "84b1e3d4",
   "metadata": {},
   "source": []
  },
  {
   "cell_type": "markdown",
   "id": "e141eac6",
   "metadata": {},
   "source": [
    "11. Count the occurrences of a word in a string."
   ]
  },
  {
   "cell_type": "code",
   "execution_count": 15,
   "id": "c31bf020",
   "metadata": {},
   "outputs": [],
   "source": [
    "# finding the no of time present the word in the string"
   ]
  },
  {
   "cell_type": "code",
   "execution_count": 16,
   "id": "8a8090fd",
   "metadata": {},
   "outputs": [
    {
     "name": "stdout",
     "output_type": "stream",
     "text": [
      "2\n"
     ]
    }
   ],
   "source": [
    "#Creating Variables for string and counting words\n",
    "string = \"Village life is a green area where we can grow our food and it is nature\"\n",
    "count_word = \"is\"\n",
    "\n",
    "#Create a fuunction for findout the repeateted word\n",
    "def getting_repeated_word(string,count_word):\n",
    "    return string.lower().count(count_word.lower())\n",
    "\n",
    "# Calling function to get the count\n",
    "counting = getting_repeated_word(string,count_word)\n",
    "\n",
    "# Getting output\n",
    "print(counting)"
   ]
  },
  {
   "cell_type": "markdown",
   "id": "1969b64a",
   "metadata": {},
   "source": [
    "12. Find the first occurrence of a word in a string."
   ]
  },
  {
   "cell_type": "code",
   "execution_count": 4,
   "id": "7577d258",
   "metadata": {},
   "outputs": [],
   "source": []
  },
  {
   "cell_type": "code",
   "execution_count": null,
   "id": "ba70736a",
   "metadata": {
    "scrolled": true
   },
   "outputs": [],
   "source": []
  },
  {
   "cell_type": "code",
   "execution_count": 7,
   "id": "6c73a7a3",
   "metadata": {},
   "outputs": [
    {
     "name": "stdout",
     "output_type": "stream",
     "text": [
      "The word 'sample' first occurs at index 3.\n"
     ]
    }
   ],
   "source": [
    "#Example : 02\n",
    "    \n",
    "def first_occurrence(string, word):\n",
    "    # Split the string into words\n",
    "    words = string.split()\n",
    "    \n",
    "    # Iterate through the words\n",
    "    for i, w in enumerate(words):\n",
    "        # Check if the word matches\n",
    "        if w == word:\n",
    "            # Return the index of the first occurrence\n",
    "            return i\n",
    "    \n",
    "    # If the word is not found, return -1\n",
    "    return -1\n",
    "\n",
    "# Example usage\n",
    "string = \"This is a sample string to demonstrate finding the first occurrence.\"\n",
    "word_to_find = \"sample\"\n",
    "index = first_occurrence(string, word_to_find)\n",
    "if index != -1:\n",
    "    print(f\"The word '{word_to_find}' first occurs at index {index}.\")\n",
    "else:\n",
    "    print(f\"The word '{word_to_find}' is not found in the string.\")\n",
    "    "
   ]
  },
  {
   "cell_type": "markdown",
   "id": "29376378",
   "metadata": {},
   "source": [
    "13. Find the last occurrence of a word in a string."
   ]
  },
  {
   "cell_type": "code",
   "execution_count": 1,
   "id": "6e2a09b2",
   "metadata": {
    "scrolled": true
   },
   "outputs": [
    {
     "name": "stdout",
     "output_type": "stream",
     "text": [
      "The word 'string' last occurs at index 4.\n"
     ]
    }
   ],
   "source": [
    "# writing the code for creating funtions\n",
    "def last_occurrence(string, word):\n",
    "# Split the string into words\n",
    "    words = string.split()\n",
    "\n",
    "# Initialize a variable to store the index of the last occurrence\n",
    "    last_index = -1\n",
    "\n",
    "# Iterate through the words in reverse order\n",
    "    for i in range(len(words) - 1, -1, -1):\n",
    "# Check if the word matches\n",
    "        if words[i] == word:\n",
    "# Update the last occurrence index\n",
    "            last_index = i\n",
    "# Break the loop as we've found the last occurrence\n",
    "            break\n",
    "    \n",
    "# Return the index of the last occurrence\n",
    "    return last_index\n",
    "\n",
    "# Example usage\n",
    "string = \"This is a sample string to demonstrate finding the last occurrence of a word in a string.\"\n",
    "word_to_find = \"string\"\n",
    "index = last_occurrence(string, word_to_find)\n",
    "if index != -1:\n",
    "    print(f\"The word '{word_to_find}' last occurs at index {index}.\")\n",
    "else:\n",
    "    print(f\"The word '{word_to_find}' is not found in the string.\")\n"
   ]
  },
  {
   "cell_type": "raw",
   "id": "e6c05dc9",
   "metadata": {},
   "source": [
    " "
   ]
  },
  {
   "cell_type": "markdown",
   "id": "6cb937af",
   "metadata": {},
   "source": [
    "14. Split a string into a list of words."
   ]
  },
  {
   "cell_type": "code",
   "execution_count": 2,
   "id": "aa70fee8",
   "metadata": {},
   "outputs": [
    {
     "name": "stdout",
     "output_type": "stream",
     "text": [
      "['Hello,', 'this', 'is', 'a', 'vivek', 'sample', 'string.']\n"
     ]
    }
   ],
   "source": [
    "# writing the Sample string\n",
    "my_string = \"Hello, this is a vivek sample string.\"\n",
    "\n",
    "# Split the string into a list of words\n",
    "words_list = my_string.split()\n",
    "\n",
    "# Print the list of words\n",
    "print(words_list)\n",
    "\n",
    "#take away is .split()\n"
   ]
  },
  {
   "cell_type": "raw",
   "id": "a448e915",
   "metadata": {},
   "source": []
  },
  {
   "cell_type": "markdown",
   "id": "6fc7eae6",
   "metadata": {},
   "source": [
    "15. Join a list of words into a string."
   ]
  },
  {
   "cell_type": "code",
   "execution_count": 3,
   "id": "159c2fdb",
   "metadata": {},
   "outputs": [
    {
     "name": "stdout",
     "output_type": "stream",
     "text": [
      "apple banana orange\n"
     ]
    }
   ],
   "source": [
    "# ctreating Sample list of words\n",
    "words_list = ['apple', 'banana', 'orange']\n",
    "\n",
    "# Join the list of words into a string with space as separator\n",
    "my_string = ' '.join(words_list)\n",
    "\n",
    "# Print the resulting string\n",
    "print(my_string)\n"
   ]
  },
  {
   "cell_type": "code",
   "execution_count": 4,
   "id": "9f815a50",
   "metadata": {},
   "outputs": [
    {
     "name": "stdout",
     "output_type": "stream",
     "text": [
      "apple,banana,orange\n"
     ]
    }
   ],
   "source": [
    "# Join the list of words into a string with comma as separator\n",
    "my_string = ','.join(words_list)\n",
    "\n",
    "# Print the resulting string\n",
    "print(my_string)\n",
    "\n",
    "# Take away is .join()"
   ]
  },
  {
   "cell_type": "raw",
   "id": "b24ee47c",
   "metadata": {},
   "source": []
  },
  {
   "cell_type": "markdown",
   "id": "4cc64b74",
   "metadata": {},
   "source": [
    "16. Convert a string where words are separated by spaces to one where words are separated by underscores."
   ]
  },
  {
   "cell_type": "code",
   "execution_count": 5,
   "id": "979f027f",
   "metadata": {},
   "outputs": [
    {
     "name": "stdout",
     "output_type": "stream",
     "text": [
      "This_is_a_sample_string_with_spaces.\n"
     ]
    }
   ],
   "source": [
    "# writing Sample string with words separated by spaces\n",
    "original_string = \"This is a sample string with spaces.\"\n",
    "\n",
    "# writing code for replace spaces with underscores\n",
    "modified_string = original_string.replace(' ', '_')\n",
    "\n",
    "# Print the modified string\n",
    "print(modified_string)\n",
    "\n",
    "\n",
    "# Take away is .replace()"
   ]
  },
  {
   "cell_type": "raw",
   "id": "299d2b9e",
   "metadata": {},
   "source": []
  },
  {
   "cell_type": "markdown",
   "id": "acddfeb0",
   "metadata": {},
   "source": [
    "17. Check if a string starts with a specific word or phrase."
   ]
  },
  {
   "cell_type": "code",
   "execution_count": 6,
   "id": "5e7626a0",
   "metadata": {},
   "outputs": [
    {
     "name": "stdout",
     "output_type": "stream",
     "text": [
      "The string starts with 'Hello'.\n",
      "The string does not start with 'Goodbye'.\n"
     ]
    }
   ],
   "source": [
    "# we can use statrtswith() method of strings. True and Fasle method\n",
    "# Creating variable for sample string\n",
    "my_string = \"Hello, world!\"\n",
    "\n",
    "# Using startswith() and if conditions to check if the string starts with \"Hello\"\n",
    "if my_string.startswith(\"Hello\"):\n",
    "    print(\"The string starts with 'Hello'.\")\n",
    "else:\n",
    "    print(\"The string does not start with 'Hello'.\")\n",
    "\n",
    "# Check if the string starts with \"Goodbye\"\n",
    "if my_string.startswith(\"Goodbye\"):\n",
    "    print(\"The string starts with 'Goodbye'.\")\n",
    "else:\n",
    "    print(\"The string does not start with 'Goodbye'.\")\n"
   ]
  },
  {
   "cell_type": "code",
   "execution_count": null,
   "id": "256b54bd",
   "metadata": {},
   "outputs": [],
   "source": [
    "# Take way is startswith() and if, else conditions"
   ]
  },
  {
   "cell_type": "markdown",
   "id": "0a316693",
   "metadata": {},
   "source": []
  },
  {
   "cell_type": "markdown",
   "id": "34ef78d5",
   "metadata": {},
   "source": [
    "18. Check if a string ends with a specific word or phrase."
   ]
  },
  {
   "cell_type": "code",
   "execution_count": 7,
   "id": "e2c39014",
   "metadata": {},
   "outputs": [
    {
     "name": "stdout",
     "output_type": "stream",
     "text": [
      "The string does not end with 'world!'.\n",
      "The string does not end with 'Goodbye'.\n"
     ]
    }
   ],
   "source": [
    "# We can use endswith() for checking the specific words in end of the pharse.\n",
    "# Creating variables for a pharse\n",
    "Vivekanandan = \"I am automation Engineer\"\n",
    "\n",
    "# Check if the string ends with \"Engineer\"\n",
    "if Vivekanandan.endswith(\"world!\"):\n",
    "    print(\"The string ends with 'world!'.\")\n",
    "else:\n",
    "    print(\"The string does not end with 'world!'.\")\n",
    "\n",
    "# Check if the string ends with \"Goodbye\"\n",
    "if Vivekanandan.endswith(\"Goodbye\"):\n",
    "    print(\"The string ends with 'Goodbye'.\")\n",
    "else:\n",
    "    print(\"The string does not end with 'Goodbye'.\")\n"
   ]
  },
  {
   "cell_type": "code",
   "execution_count": null,
   "id": "14aef95d",
   "metadata": {},
   "outputs": [],
   "source": [
    "# Take away is using .endswith() and if and else concept"
   ]
  },
  {
   "cell_type": "raw",
   "id": "8bae0759",
   "metadata": {},
   "source": []
  },
  {
   "cell_type": "markdown",
   "id": "b4ece3f8",
   "metadata": {},
   "source": [
    "19. Convert a string to title case (e.g., \"i am an automation engineer\" to \"I Am An Automation Engineer\")."
   ]
  },
  {
   "cell_type": "code",
   "execution_count": 10,
   "id": "660a6eec",
   "metadata": {},
   "outputs": [
    {
     "name": "stdout",
     "output_type": "stream",
     "text": [
      "I Am An Automation Engineer\n"
     ]
    }
   ],
   "source": [
    "# Converting to title case using .title()\n",
    "# creating variable for sample string\n",
    "vivek = \"i am an automation engineer\"\n",
    "\n",
    "# Convert the string to title case\n",
    "title_case_string = vivek.title()\n",
    "\n",
    "# Print the title case string\n",
    "print(title_case_string)\n"
   ]
  },
  {
   "cell_type": "code",
   "execution_count": null,
   "id": "0ee73032",
   "metadata": {},
   "outputs": [],
   "source": [
    "#Take away is .title()"
   ]
  },
  {
   "cell_type": "raw",
   "id": "e3dd1ace",
   "metadata": {},
   "source": []
  },
  {
   "cell_type": "markdown",
   "id": "2580a04e",
   "metadata": {},
   "source": [
    "20. Find the longest word in a string."
   ]
  },
  {
   "cell_type": "code",
   "execution_count": 11,
   "id": "ddaa223b",
   "metadata": {},
   "outputs": [
    {
     "name": "stdout",
     "output_type": "stream",
     "text": [
      "The longest word in the string is: automation\n"
     ]
    }
   ],
   "source": [
    "# Using .split() and len() Length of the word\n",
    "# Creating variables for sample string\n",
    "engineer = \"How to become a automation engineer.\"\n",
    "\n",
    "# Split the string into words\n",
    "words_list = engineer.split()\n",
    "\n",
    "# Initialize variables to store the longest word and its length\n",
    "longest_word = \"\"\n",
    "max_length = 0\n",
    "\n",
    "# Using for loop to iterate through each word to find the longest one\n",
    "for word in words_list:\n",
    "    if len(word) > max_length:\n",
    "        max_length = len(word)\n",
    "        longest_word = word\n",
    "\n",
    "# Print the longest word\n",
    "print(\"The longest word in the string is:\", longest_word)\n"
   ]
  },
  {
   "cell_type": "code",
   "execution_count": null,
   "id": "1c415dc7",
   "metadata": {},
   "outputs": [],
   "source": [
    "# Take away .split() and for loop"
   ]
  },
  {
   "cell_type": "raw",
   "id": "3ca49914",
   "metadata": {},
   "source": []
  },
  {
   "cell_type": "markdown",
   "id": "960075f8",
   "metadata": {},
   "source": [
    "21. Find the shortest word in a string."
   ]
  },
  {
   "cell_type": "code",
   "execution_count": 12,
   "id": "40c5f714",
   "metadata": {},
   "outputs": [
    {
     "name": "stdout",
     "output_type": "stream",
     "text": [
      "The longest word in the string is: a\n"
     ]
    }
   ],
   "source": [
    "# Using .split() and len() Length of the word\n",
    "# Creating variables for sample string\n",
    "engineer = \"How to become a automation engineer.\"\n",
    "\n",
    "# Split the string into words\n",
    "words_list = engineer.split()\n",
    "\n",
    "# Initialize variables to store the longest word and its length\n",
    "shortest_word = words_list[0]\n",
    "min_length = len(shortest_word)\n",
    "\n",
    "# Using for loop to iterate through each word to find the longest one\n",
    "for word in words_list:\n",
    "    if len(word) < min_length:\n",
    "        max_length = len(word)\n",
    "        shortest_word = word\n",
    "\n",
    "# Print the longest word\n",
    "print(\"The longest word in the string is:\", shortest_word)"
   ]
  },
  {
   "cell_type": "raw",
   "id": "9dd70559",
   "metadata": {},
   "source": []
  },
  {
   "cell_type": "markdown",
   "id": "ef59e1ad",
   "metadata": {},
   "source": [
    "22. Reverse the order of words in a string."
   ]
  },
  {
   "cell_type": "code",
   "execution_count": 14,
   "id": "07fe600b",
   "metadata": {},
   "outputs": [
    {
     "name": "stdout",
     "output_type": "stream",
     "text": [
      "words. of order the reverse to string sample a is This\n"
     ]
    }
   ],
   "source": [
    "# Using .split() and .join() word and reversing the order [::-1]\n",
    "# Creating variables for sample string\n",
    "my_string = \"This is a sample string to reverse the order of words.\"\n",
    "\n",
    "# Split the string into words\n",
    "words_list = my_string.split()\n",
    "\n",
    "# Reverse the order of words\n",
    "reversed_words_list = words_list[::-1]\n",
    "\n",
    "# Join the words back together into a single string\n",
    "reversed_string = ' '.join(reversed_words_list)\n",
    "\n",
    "# Print the reversed string\n",
    "print(reversed_string)\n"
   ]
  },
  {
   "cell_type": "code",
   "execution_count": null,
   "id": "3c0c903d",
   "metadata": {},
   "outputs": [],
   "source": [
    "# Take away is .split(), .join(), reverse order [::-1]"
   ]
  },
  {
   "cell_type": "raw",
   "id": "d125438d",
   "metadata": {},
   "source": []
  },
  {
   "cell_type": "markdown",
   "id": "394eec81",
   "metadata": {},
   "source": [
    "23. Check if a string is alphanumeric."
   ]
  },
  {
   "cell_type": "code",
   "execution_count": 15,
   "id": "825bd2b1",
   "metadata": {},
   "outputs": [
    {
     "name": "stdout",
     "output_type": "stream",
     "text": [
      "string1 is alphanumeric.\n",
      "string2 is not alphanumeric.\n"
     ]
    }
   ],
   "source": [
    "#Using isalnum(), and True and False method using if and else method\n",
    "#Creating Variables\n",
    "string1 = \"abc123\"  # Alphanumeric string\n",
    "string2 = \"abc123!\"  # Non-alphanumeric string\n",
    "\n",
    "# Check if string1 is alphanumeric\n",
    "if string1.isalnum():\n",
    "    print(\"string1 is alphanumeric.\")\n",
    "else:\n",
    "    print(\"string1 is not alphanumeric.\")\n",
    "\n",
    "# Check if string2 is alphanumeric\n",
    "if string2.isalnum():\n",
    "    print(\"string2 is alphanumeric.\")\n",
    "else:\n",
    "    print(\"string2 is not alphanumeric.\")\n"
   ]
  },
  {
   "cell_type": "code",
   "execution_count": null,
   "id": "21945cf4",
   "metadata": {},
   "outputs": [],
   "source": [
    "#Take away is .isalnum() and if else"
   ]
  },
  {
   "cell_type": "raw",
   "id": "c66cf51d",
   "metadata": {},
   "source": []
  },
  {
   "cell_type": "markdown",
   "id": "04b37220",
   "metadata": {},
   "source": [
    "24. Extract all digits from a string."
   ]
  },
  {
   "cell_type": "code",
   "execution_count": 17,
   "id": "1a05086e",
   "metadata": {},
   "outputs": [
    {
     "name": "stdout",
     "output_type": "stream",
     "text": [
      "Digits extracted from the string: 123456789\n"
     ]
    }
   ],
   "source": [
    "# Using isdigit() method for loop for iterations\n",
    "# Creating variables for sample string\n",
    "my_string = \"abc123def456ghi789\"\n",
    "\n",
    "# Initialize an empty string to store digits\n",
    "digits = \"\"\n",
    "\n",
    "# Iterate through each character of the string\n",
    "for char in my_string:\n",
    "    # Check if the character is a digit\n",
    "    if char.isdigit():\n",
    "        # Append the digit to the 'digits' string\n",
    "        digits += char\n",
    "\n",
    "# Print the extracted digits\n",
    "print(\"Digits extracted from the string:\", digits)\n"
   ]
  },
  {
   "cell_type": "raw",
   "id": "1c07cd84",
   "metadata": {},
   "source": []
  },
  {
   "cell_type": "markdown",
   "id": "ed8d7aca",
   "metadata": {},
   "source": [
    "25. Extract all alphabets from a string."
   ]
  },
  {
   "cell_type": "code",
   "execution_count": 18,
   "id": "2a825bd8",
   "metadata": {},
   "outputs": [
    {
     "name": "stdout",
     "output_type": "stream",
     "text": [
      "Alphabets extracted from the string: abcdefghi\n"
     ]
    }
   ],
   "source": [
    "# Using isdigit() method for loop for iterations\n",
    "# Creating variables for sample string\n",
    "my_string = \"abc123def456ghi789\"\n",
    "\n",
    "# Initialize an empty string to store alphabets\n",
    "alphabets = \"\"\n",
    "\n",
    "# Iterate through each character of the string\n",
    "for char in my_string:\n",
    "    # Check if the character is an alphabet\n",
    "    if char.isalpha():\n",
    "        # Append the alphabet to the 'alphabets' string\n",
    "        alphabets += char\n",
    "\n",
    "# Print the extracted alphabets\n",
    "print(\"Alphabets extracted from the string:\", alphabets)\n"
   ]
  },
  {
   "cell_type": "code",
   "execution_count": null,
   "id": "6599c660",
   "metadata": {},
   "outputs": [],
   "source": [
    "# Take away ius isalpha() and for loop and if conditions"
   ]
  },
  {
   "cell_type": "raw",
   "id": "2646c35e",
   "metadata": {},
   "source": []
  },
  {
   "cell_type": "markdown",
   "id": "629f4122",
   "metadata": {},
   "source": []
  },
  {
   "cell_type": "code",
   "execution_count": null,
   "id": "416a7ebf",
   "metadata": {},
   "outputs": [],
   "source": [
    "26. Count the number of uppercase letters in a string."
   ]
  },
  {
   "cell_type": "code",
   "execution_count": 1,
   "id": "c830ca93",
   "metadata": {},
   "outputs": [
    {
     "name": "stdout",
     "output_type": "stream",
     "text": [
      "Number of uppercase letters: 6\n"
     ]
    }
   ],
   "source": [
    "# Using isupper() method\n",
    "# Create the function\n",
    "def count_uppercase_letters(string):\n",
    "    count = 0\n",
    "    # Iteration using for loop and if conditions\n",
    "    for char in string:\n",
    "        if char.isupper():\n",
    "            count += 1\n",
    "    return count\n",
    "\n",
    "# Example usage:\n",
    "input_string = \"Hello World! This Is An Example.\"\n",
    "uppercase_count = count_uppercase_letters(input_string)\n",
    "print(\"Number of uppercase letters:\", uppercase_count)\n",
    "\n"
   ]
  },
  {
   "cell_type": "raw",
   "id": "bfd91532",
   "metadata": {},
   "source": []
  },
  {
   "cell_type": "markdown",
   "id": "ef2e5cee",
   "metadata": {},
   "source": [
    "27. Count the number of lowercase letters in a string."
   ]
  },
  {
   "cell_type": "code",
   "execution_count": null,
   "id": "f08c1de5",
   "metadata": {},
   "outputs": [],
   "source": [
    "# Using islower() method"
   ]
  },
  {
   "cell_type": "code",
   "execution_count": 7,
   "id": "368f9bf7",
   "metadata": {},
   "outputs": [
    {
     "name": "stdout",
     "output_type": "stream",
     "text": [
      "Number of lowercase_letters: 19\n"
     ]
    }
   ],
   "source": [
    "# Create the fuction\n",
    "def count_lowercase_letters(string):\n",
    "    count=0\n",
    "    for char in string:\n",
    "        if char.islower():\n",
    "         count += 1\n",
    "    return count\n",
    "\n",
    "# calling the funtions\n",
    "# creating function varibles to call the function\n",
    "input_string = \"Hello World! This Is An Example.\"\n",
    "# Counting lower case\n",
    "lowercase_count = count_lowercase_letters(input_string)\n",
    "print(\"Number of lowercase_letters:\", lowercase_count)"
   ]
  },
  {
   "cell_type": "raw",
   "id": "2edd1dec",
   "metadata": {},
   "source": [
    "Takeaway is islower() and for loop for checking the conditions"
   ]
  },
  {
   "cell_type": "raw",
   "id": "69b6523e",
   "metadata": {},
   "source": []
  },
  {
   "cell_type": "markdown",
   "id": "477a5cad",
   "metadata": {},
   "source": []
  },
  {
   "cell_type": "code",
   "execution_count": null,
   "id": "51bd94f1",
   "metadata": {},
   "outputs": [],
   "source": [
    "28. Swap the case of each character in a string."
   ]
  },
  {
   "cell_type": "code",
   "execution_count": 8,
   "id": "42a94779",
   "metadata": {},
   "outputs": [
    {
     "name": "stdout",
     "output_type": "stream",
     "text": [
      "Swapped string: hELLO wORLD! tHIS iS aN eXAMPLE.\n"
     ]
    }
   ],
   "source": [
    "# Using swapcase() method\n",
    "\n",
    "#Create the function\n",
    "def swap_case(string):\n",
    "    return string.swapcase()\n",
    "\n",
    "# Creation of variable for function to call\n",
    "input_string = \"Hello World! This Is An Example.\"\n",
    "swapped_string = swap_case(input_string)\n",
    "print(\"Swapped string:\",swapped_string)"
   ]
  },
  {
   "cell_type": "code",
   "execution_count": null,
   "id": "33e012b5",
   "metadata": {},
   "outputs": [],
   "source": [
    "#Takeaway is .swapcase() methode using in string"
   ]
  },
  {
   "cell_type": "raw",
   "id": "90eee0dc",
   "metadata": {},
   "source": []
  },
  {
   "cell_type": "markdown",
   "id": "5321b2ba",
   "metadata": {},
   "source": [
    "29. Remove a specific word from a string."
   ]
  },
  {
   "cell_type": "code",
   "execution_count": 9,
   "id": "37ab3268",
   "metadata": {},
   "outputs": [
    {
     "name": "stdout",
     "output_type": "stream",
     "text": [
      "New string: This is a  string with a word to remove.\n"
     ]
    }
   ],
   "source": [
    "# we can use the replace method to remove the word\n",
    "#Creating the fuction of the task\n",
    "def remove_word(input_string, word_to_remove):\n",
    "    return input_string.replace(word_to_remove, \"\")\n",
    "#Variable creation\n",
    "input_string = \"This is a sample string with a word to remove.\"\n",
    "word_to_remove = \"sample\"\n",
    "new_string = remove_word(input_string, word_to_remove)\n",
    "print(\"New string:\", new_string)"
   ]
  },
  {
   "cell_type": "code",
   "execution_count": null,
   "id": "dbedaadf",
   "metadata": {},
   "outputs": [],
   "source": [
    "#Takeaway is .replace() method"
   ]
  },
  {
   "cell_type": "raw",
   "id": "c09724be",
   "metadata": {},
   "source": []
  },
  {
   "cell_type": "markdown",
   "id": "7372411f",
   "metadata": {},
   "source": [
    "30. Check if a string is a valid email address."
   ]
  },
  {
   "cell_type": "code",
   "execution_count": 11,
   "id": "607807e6",
   "metadata": {},
   "outputs": [
    {
     "name": "stdout",
     "output_type": "stream",
     "text": [
      "Is 'vivek@example.com' a valid email address? True\n",
      "Is 'sowmi_email.com' a valid email address? False\n",
      "Is 'mapla@domain' a valid email address? False\n"
     ]
    }
   ],
   "source": [
    "# Import necessory packages\n",
    "import re\n",
    "# Creating functions\n",
    "def is_valid_email(email):\n",
    "    # Regular expression pattern for validating email addresses\n",
    "    pattern = r'^[\\w\\.-]+@[a-zA-Z0-9\\.-]+\\.[a-zA-Z]{2,}$'\n",
    "    \n",
    "    # Check if the email matches the pattern\n",
    "    if re.match(pattern, email):\n",
    "        return True\n",
    "    else:\n",
    "        return False\n",
    "\n",
    "# Example usage:\n",
    "email1 = \"vivek@example.com\"\n",
    "email2 = \"sowmi_email.com\"\n",
    "email3 = \"mapla@domain\"\n",
    "#Out put\n",
    "print(\"Is '{}' a valid email address? {}\".format(email1, is_valid_email(email1)))\n",
    "print(\"Is '{}' a valid email address? {}\".format(email2, is_valid_email(email2)))\n",
    "print(\"Is '{}' a valid email address? {}\".format(email3, is_valid_email(email3)))\n"
   ]
  },
  {
   "cell_type": "code",
   "execution_count": null,
   "id": "6933459b",
   "metadata": {},
   "outputs": [],
   "source": [
    "# Pattern condition applied"
   ]
  },
  {
   "cell_type": "raw",
   "id": "ea50f52e",
   "metadata": {},
   "source": []
  },
  {
   "cell_type": "markdown",
   "id": "8682e5a8",
   "metadata": {},
   "source": [
    "31. Extract the username from an email address string."
   ]
  },
  {
   "cell_type": "code",
   "execution_count": null,
   "id": "0cb8e0d6",
   "metadata": {},
   "outputs": [],
   "source": [
    "\n",
    "#You can extract the username from an email address string by splitting the email address at the \"@\" symbol and taking the part before it."
   ]
  },
  {
   "cell_type": "code",
   "execution_count": 13,
   "id": "1b8523ee",
   "metadata": {},
   "outputs": [
    {
     "name": "stdout",
     "output_type": "stream",
     "text": [
      "Username: vivek_automation\n"
     ]
    }
   ],
   "source": [
    "# Create the fuction \n",
    "def extract_username(email):\n",
    "    # Split the email address at the \"@\" symbol\n",
    "    parts = email.split('@')\n",
    "    \n",
    "    # The username is the first part before the \"@\" symbol\n",
    "    username = parts[0]\n",
    "    \n",
    "    return username\n",
    "\n",
    "# Example usage:\n",
    "email = \"vivek_automation@example.com\"\n",
    "username = extract_username(email)\n",
    "print(\"Username:\", username)\n"
   ]
  },
  {
   "cell_type": "code",
   "execution_count": null,
   "id": "ff1f1ad3",
   "metadata": {},
   "outputs": [],
   "source": [
    "# Spliting and taking index number to get the user name"
   ]
  },
  {
   "cell_type": "raw",
   "id": "34ded618",
   "metadata": {},
   "source": []
  },
  {
   "cell_type": "markdown",
   "id": "9290885f",
   "metadata": {},
   "source": [
    "32. Extract the domain name from an email address string."
   ]
  },
  {
   "cell_type": "code",
   "execution_count": null,
   "id": "85e07bf1",
   "metadata": {},
   "outputs": [],
   "source": [
    "\n",
    "#To extract the domain name from an email address string, you can split the email address at the \"@\" symbol and take the part after it."
   ]
  },
  {
   "cell_type": "code",
   "execution_count": 14,
   "id": "633c69ca",
   "metadata": {},
   "outputs": [
    {
     "name": "stdout",
     "output_type": "stream",
     "text": [
      "Domain: gmail.com\n"
     ]
    }
   ],
   "source": [
    "# Write the fuction for this task\n",
    "def extract_domain(email):\n",
    "    # Split the email address at the \"@\" symbol\n",
    "    parts = email.split('@')\n",
    "    \n",
    "    # The domain name is the second part after the \"@\" symbol\n",
    "    domain = parts[1]\n",
    "    \n",
    "    return domain\n",
    "\n",
    "# Example usage:\n",
    "email = \"vivek_automation@gmail.com\"\n",
    "domain = extract_domain(email)\n",
    "print(\"Domain:\", domain)\n",
    "\n"
   ]
  },
  {
   "cell_type": "raw",
   "id": "39b4719b",
   "metadata": {},
   "source": []
  },
  {
   "cell_type": "markdown",
   "id": "411e586a",
   "metadata": {},
   "source": [
    "33. Replace multiple spaces in a string with a single space."
   ]
  },
  {
   "cell_type": "code",
   "execution_count": 17,
   "id": "bf2e3eea",
   "metadata": {},
   "outputs": [
    {
     "name": "stdout",
     "output_type": "stream",
     "text": [
      "Modified string: This is a string with multiple spaces.\n"
     ]
    }
   ],
   "source": [
    "# import necessory library (re = regular exoression (module))\n",
    "import re\n",
    "# creating functions\n",
    "def replace_multiple_space(string):\n",
    "    # use regular expression to replace multiple spaces with a single spce\n",
    "    return re.sub(r'\\s+', ' ', string)\n",
    "# Example usage:\n",
    "input_string = \"This  is  a  string  with  multiple   spaces.\"\n",
    "modified_string = replace_multiple_space(input_string)\n",
    "print(\"Modified string:\", modified_string)"
   ]
  },
  {
   "cell_type": "raw",
   "id": "a3fb46ee",
   "metadata": {},
   "source": []
  },
  {
   "cell_type": "markdown",
   "id": "20b1deb5",
   "metadata": {},
   "source": [
    "34. Check if a string is a valid URL."
   ]
  },
  {
   "cell_type": "code",
   "execution_count": 18,
   "id": "de8e017f",
   "metadata": {},
   "outputs": [
    {
     "name": "stdout",
     "output_type": "stream",
     "text": [
      "Is 'https://www.example.com' a valid URL? True\n",
      "Is 'invalid_url.com' a valid URL? False\n",
      "Is 'http://missing-domain/' a valid URL? True\n",
      "Is 'ftp://example.com' a valid URL? True\n"
     ]
    }
   ],
   "source": [
    "#import necessory library \n",
    "from urllib.parse import urlparse\n",
    "\n",
    "#Create the fuctions\n",
    "def is_valid_url(url):\n",
    "    try:\n",
    "        result = urlparse(url)\n",
    "        return all([result.scheme, result.netloc])\n",
    "    except ValueError:\n",
    "        return False\n",
    "# Example urls:\n",
    "url1 = \"https://www.example.com\"\n",
    "url2 = \"invalid_url.com\"\n",
    "url3 = \"http://missing-domain/\"\n",
    "url4 = \"ftp://example.com\"\n",
    "print(\"Is '{}' a valid URL? {}\".format(url1, is_valid_url(url1)))\n",
    "print(\"Is '{}' a valid URL? {}\".format(url2, is_valid_url(url2)))\n",
    "print(\"Is '{}' a valid URL? {}\".format(url3, is_valid_url(url3)))\n",
    "print(\"Is '{}' a valid URL? {}\".format(url4, is_valid_url(url4)))"
   ]
  },
  {
   "cell_type": "raw",
   "id": "e6e11816",
   "metadata": {},
   "source": []
  },
  {
   "cell_type": "markdown",
   "id": "bef29f34",
   "metadata": {},
   "source": [
    "35. Extract the protocol (http or https) from a URL string."
   ]
  },
  {
   "cell_type": "code",
   "execution_count": 20,
   "id": "6f4eb537",
   "metadata": {},
   "outputs": [
    {
     "name": "stdout",
     "output_type": "stream",
     "text": [
      "Protocol of 'https://www.example.com' is: https\n",
      "Protocol of 'http://example.com/path/to/page' is: http\n",
      "Protocol of 'ftp://ftp.example.com' is: ftp\n"
     ]
    }
   ],
   "source": [
    "# import necessory libraries\n",
    "from urllib.parse import urlparse\n",
    "# Creating functions\n",
    "def extract_protocol(url):\n",
    "    parsed_url = urlparse(url)\n",
    "    if parsed_url.scheme:\n",
    "        return parsed_url.scheme\n",
    "    else:\n",
    "        return None\n",
    "\n",
    "# Example usage:\n",
    "url1 = \"https://www.example.com\"\n",
    "url2 = \"http://example.com/path/to/page\"\n",
    "url3 = \"ftp://ftp.example.com\"\n",
    "\n",
    "protocol1 = extract_protocol(url1)\n",
    "protocol2 = extract_protocol(url2)\n",
    "protocol3 = extract_protocol(url3)\n",
    "# Output\n",
    "print(\"Protocol of '{}' is: {}\".format(url1, protocol1))\n",
    "print(\"Protocol of '{}' is: {}\".format(url2, protocol2))\n",
    "print(\"Protocol of '{}' is: {}\".format(url3, protocol3))\n"
   ]
  },
  {
   "cell_type": "code",
   "execution_count": null,
   "id": "def470a3",
   "metadata": {},
   "outputs": [],
   "source": []
  },
  {
   "cell_type": "markdown",
   "id": "840a3567",
   "metadata": {},
   "source": [
    "36. Find the frequency of each character in a string."
   ]
  },
  {
   "cell_type": "code",
   "execution_count": 1,
   "id": "59d8761e",
   "metadata": {},
   "outputs": [
    {
     "name": "stdout",
     "output_type": "stream",
     "text": [
      "character_frequencies:\n",
      "h: 1\n",
      "e: 1\n",
      "l: 3\n",
      "o: 2\n",
      " : 1\n",
      "w: 1\n",
      "r: 1\n",
      "d: 1\n"
     ]
    }
   ],
   "source": [
    "# creating the function for the quesdtion\n",
    "def character_frequency(string):\n",
    "    frequency = {}\n",
    "    #count the frequency of each chatracter\n",
    "    for char in string:\n",
    "        if char in frequency:\n",
    "            frequency[char] += 1\n",
    "        else:\n",
    "            frequency[char] = 1\n",
    "    return frequency\n",
    "\n",
    "# Example Usage:\n",
    "input_string = \"hello world\"\n",
    "frequency = character_frequency(input_string)\n",
    "print(\"character_frequencies:\")\n",
    "for char, freq in frequency.items():\n",
    "    print(f\"{char}: {freq}\")"
   ]
  },
  {
   "cell_type": "code",
   "execution_count": null,
   "id": "23de6206",
   "metadata": {},
   "outputs": [],
   "source": [
    "#take aways .items and for loops"
   ]
  },
  {
   "cell_type": "raw",
   "id": "cadb38f4",
   "metadata": {},
   "source": []
  },
  {
   "cell_type": "markdown",
   "id": "f48a7a49",
   "metadata": {},
   "source": [
    "37. Remove all punctuation from a string."
   ]
  },
  {
   "cell_type": "code",
   "execution_count": 2,
   "id": "a9179f9b",
   "metadata": {},
   "outputs": [
    {
     "name": "stdout",
     "output_type": "stream",
     "text": [
      "String without punctuation: Hello world how are you doing \n"
     ]
    }
   ],
   "source": [
    "#for removing puncuation fronm a string use .translate() method\n",
    "\n",
    "# importing necessories libraries\n",
    "import string\n",
    "\n",
    "# creating function for this task\n",
    "def remove_punctuation(text):\n",
    "    # Create translation table mapping punctuation to None\n",
    "    translator = str.maketrans('', '', string.punctuation)\n",
    "    # Use translate() to remove punctuation\n",
    "    return text.translate(translator)\n",
    "# Example usage:\n",
    "input_string = \"Hello world how are you doing? \"\n",
    "result = remove_punctuation(input_string)\n",
    "# Output\n",
    "print(\"String without punctuation:\", result)\n"
   ]
  },
  {
   "cell_type": "markdown",
   "id": "93d1202d",
   "metadata": {},
   "source": []
  },
  {
   "cell_type": "markdown",
   "id": "a5afb884",
   "metadata": {},
   "source": [
    "38. Check if a string contains only digits."
   ]
  },
  {
   "cell_type": "code",
   "execution_count": 5,
   "id": "3cd5870c",
   "metadata": {},
   "outputs": [
    {
     "name": "stdout",
     "output_type": "stream",
     "text": [
      "The String contains only digits.\n"
     ]
    }
   ],
   "source": [
    "# using isdigit method\n",
    "# write the function to find the digit in the input string for this task\n",
    "def contains_only_digits(string):\n",
    "    return string.isdigit()\n",
    "\n",
    "#Example usage:\n",
    "input_string = \"12345\"\n",
    "# Write the if else conditions for output\n",
    "if contains_only_digits(input_string):\n",
    "    print(\"The String contains only digits.\")\n",
    "else:\n",
    "    print(\"The strong contains non digit characters\")"
   ]
  },
  {
   "cell_type": "raw",
   "id": "e64720e7",
   "metadata": {},
   "source": []
  },
  {
   "cell_type": "markdown",
   "id": "6f95fb7e",
   "metadata": {},
   "source": [
    "39. Check if a string contains only alphabets."
   ]
  },
  {
   "cell_type": "code",
   "execution_count": 7,
   "id": "2c1bc5ae",
   "metadata": {},
   "outputs": [
    {
     "name": "stdout",
     "output_type": "stream",
     "text": [
      "The string contains only alphabets.\n"
     ]
    }
   ],
   "source": [
    "# write the fundtions for check the string contains ionly alphabets\n",
    "\n",
    "def contains_only_alphabets(string):\n",
    "    # Iterate through each character in the string\n",
    "    for char in string:\n",
    "        # check if the char is an alphabet\n",
    "        # usinf isalpha() method which returns the true if all characters are alphabets\n",
    "        if not char.isalpha():\n",
    "        # If a non - alphabet character is found, return False\n",
    "            return False\n",
    "    #If all characters ar alphabets, return True\n",
    "    return True\n",
    "\n",
    "#Example usage:\n",
    "input_string = \"HelloWorld\"\n",
    "if contains_only_alphabets(input_string):\n",
    "    print(\"The string contains only alphabets.\")\n",
    "else:\n",
    "    print(\"The string contains non alphabet characters.\")\n",
    "\n",
    "    "
   ]
  },
  {
   "cell_type": "code",
   "execution_count": 6,
   "id": "3f42823e",
   "metadata": {},
   "outputs": [],
   "source": [
    "# take away is for loop, if else conditions and isalpha() method"
   ]
  },
  {
   "cell_type": "code",
   "execution_count": null,
   "id": "54d24af5",
   "metadata": {},
   "outputs": [],
   "source": []
  },
  {
   "cell_type": "code",
   "execution_count": null,
   "id": "7c4f74b1",
   "metadata": {},
   "outputs": [],
   "source": [
    "40. Convert a string to a list of characters."
   ]
  },
  {
   "cell_type": "code",
   "execution_count": 8,
   "id": "f6dd3b8a",
   "metadata": {},
   "outputs": [
    {
     "name": "stdout",
     "output_type": "stream",
     "text": [
      "List of characters: ['H', 'e', 'l', 'l', 'o']\n"
     ]
    }
   ],
   "source": [
    "def string_to_list(string):\n",
    "    # Initialize an empty list\n",
    "    char_list=[]\n",
    "    \n",
    "    # Iterate through each character in the string\n",
    "    for char in string:\n",
    "        # append each character to the string\n",
    "        char_list.append(char)\n",
    "    # return the list\n",
    "    return char_list\n",
    "\n",
    "# Eaxmple usage\n",
    "input_string = \"Hello\"\n",
    "result_list = string_to_list(input_string)\n",
    "print(\"List of characters:\", result_list)"
   ]
  },
  {
   "cell_type": "code",
   "execution_count": null,
   "id": "12aa5d23",
   "metadata": {},
   "outputs": [],
   "source": [
    "#Take away is for loop and .append()method"
   ]
  },
  {
   "cell_type": "code",
   "execution_count": null,
   "id": "480dca67",
   "metadata": {},
   "outputs": [],
   "source": []
  },
  {
   "cell_type": "markdown",
   "id": "bc9a65bd",
   "metadata": {},
   "source": [
    "41. Check if two strings are anagrams."
   ]
  },
  {
   "cell_type": "code",
   "execution_count": 1,
   "id": "f4c41561",
   "metadata": {},
   "outputs": [
    {
     "name": "stdout",
     "output_type": "stream",
     "text": [
      "listen and silent are anagrams.\n"
     ]
    }
   ],
   "source": [
    "def are_anagrams(str1, str2):\n",
    "    # Remove spaces and convert to lowercase\n",
    "    str1 = str1.replace(\" \", \"\").lower()\n",
    "    str2 = str2.replace(\" \", \"\").lower()\n",
    "\n",
    "    # Check if the lengths of the strings are equal\n",
    "    if len(str1) != len(str2):\n",
    "        return False\n",
    "\n",
    "    # Count the frequency of characters in both strings\n",
    "    char_count = {}\n",
    "\n",
    "    # Increment count for characters in str1\n",
    "    for char in str1:\n",
    "        if char in char_count:\n",
    "            char_count[char] += 1\n",
    "        else:\n",
    "            char_count[char] = 1\n",
    "\n",
    "    # Decrement count for characters in str2\n",
    "    for char in str2:\n",
    "        if char in char_count:\n",
    "            char_count[char] -= 1\n",
    "        else:\n",
    "            # If a character in str2 is not in str1, they are not anagrams\n",
    "            return False\n",
    "\n",
    "    # If all counts are zero, the strings are anagrams\n",
    "    for count in char_count.values():\n",
    "        if count != 0:\n",
    "            return False\n",
    "\n",
    "    return True\n",
    "\n",
    "# Test the function\n",
    "str1 = \"listen\"\n",
    "str2 = \"silent\"\n",
    "if are_anagrams(str1, str2):\n",
    "    print(f\"{str1} and {str2} are anagrams.\")\n",
    "else:\n",
    "    print(f\"{str1} and {str2} are not anagrams.\")\n"
   ]
  },
  {
   "cell_type": "code",
   "execution_count": null,
   "id": "43b63f11",
   "metadata": {},
   "outputs": [],
   "source": [
    "# take away replace(),lower() if else conditions and for loops"
   ]
  },
  {
   "cell_type": "code",
   "execution_count": null,
   "id": "a97a7305",
   "metadata": {},
   "outputs": [],
   "source": []
  },
  {
   "cell_type": "code",
   "execution_count": null,
   "id": "59747f80",
   "metadata": {},
   "outputs": [],
   "source": [
    "42. Encode a string using a Caesar cipher."
   ]
  },
  {
   "cell_type": "code",
   "execution_count": 2,
   "id": "d29d1cb4",
   "metadata": {},
   "outputs": [
    {
     "name": "stdout",
     "output_type": "stream",
     "text": [
      "Original: Hello, World!\n",
      "Encoded: Khoor, Zruog!\n"
     ]
    }
   ],
   "source": [
    "def caesar_cipher(text, shift):\n",
    "    # Initialize an empty string to store the encoded text\n",
    "    encoded_text = \"\"\n",
    "\n",
    "    # Iterate through each character in the input text\n",
    "    for char in text:\n",
    "        # Check if the character is a letter\n",
    "        if char.isalpha():\n",
    "            # Determine the position of the character in the alphabet (0-indexed)\n",
    "            if char.islower():\n",
    "                start = ord('a')  # ASCII value of 'a'\n",
    "            else:\n",
    "                start = ord('A')  # ASCII value of 'A'\n",
    "\n",
    "            # Apply the Caesar cipher shift\n",
    "            shifted_char = chr((ord(char) - start + shift) % 26 + start)\n",
    "\n",
    "            # Append the shifted character to the encoded text\n",
    "            encoded_text += shifted_char\n",
    "        else:\n",
    "            # If the character is not a letter, append it unchanged\n",
    "            encoded_text += char\n",
    "\n",
    "    # Return the encoded text\n",
    "    return encoded_text\n",
    "\n",
    "# Test the function\n",
    "plaintext = \"Hello, World!\"\n",
    "shift = 3\n",
    "print(\"Original:\", plaintext)\n",
    "encoded_text = caesar_cipher(plaintext, shift)\n",
    "print(\"Encoded:\", encoded_text)\n"
   ]
  },
  {
   "cell_type": "code",
   "execution_count": null,
   "id": "e967dc70",
   "metadata": {},
   "outputs": [],
   "source": []
  },
  {
   "cell_type": "code",
   "execution_count": null,
   "id": "cd40bd7c",
   "metadata": {},
   "outputs": [],
   "source": [
    "43. Decode a Caesar cipher encoded string?"
   ]
  },
  {
   "cell_type": "code",
   "execution_count": 12,
   "id": "449f01b5",
   "metadata": {},
   "outputs": [
    {
     "name": "stdout",
     "output_type": "stream",
     "text": [
      "Decoded Message: Hello World\n"
     ]
    }
   ],
   "source": [
    "# Create decode_caesar_cipher function with comments\n",
    "\n",
    "def decode_caesar_cipher(encoded_text, shift):\n",
    "    # Initialize an empty string to hold the decoded text\n",
    "    decoded_text = \"\"\n",
    "\n",
    "    # Loop through each character in the encoded text\n",
    "    for char in encoded_text:\n",
    "        # Check if the character is a letter\n",
    "        if char.isalpha():\n",
    "            # Shift the character backward by the specified shift value\n",
    "            shifted = ord(char) - shift\n",
    "\n",
    "            # Check if the character is uppercase and maintain within 'A' to 'Z'\n",
    "            if char.isupper():\n",
    "                # If shifted value is less than 'A', wrap around by adding 26\n",
    "                if shifted < ord('A'):\n",
    "                    shifted += 26\n",
    "            # Check if the character is lowercase and maintain within 'a' to 'z'\n",
    "            elif char.islower():\n",
    "                # If shifted value is less than 'a', wrap around by adding 26\n",
    "                if shifted < ord('a'):\n",
    "                    shifted += 26\n",
    "\n",
    "            # Convert the adjusted ASCII value back to a character and add it to decoded text\n",
    "            decoded_text += chr(shifted)\n",
    "        else:\n",
    "            # For non-alphabet characters, add them to decoded text without modification\n",
    "            decoded_text += char\n",
    "\n",
    "    return decoded_text\n",
    "\n",
    "# Example usage\n",
    "encoded_text = \"Khoor Zruog\"  # Encoded text with a shift of 3\n",
    "shift = 3\n",
    "decoded_message = decode_caesar_cipher(encoded_text, shift)\n",
    "print(\"Decoded Message:\", decoded_message)\n"
   ]
  },
  {
   "cell_type": "code",
   "execution_count": null,
   "id": "925b98c0",
   "metadata": {},
   "outputs": [],
   "source": []
  },
  {
   "cell_type": "code",
   "execution_count": null,
   "id": "a1af90d3",
   "metadata": {},
   "outputs": [],
   "source": [
    "44. Find the most frequent word in a string?\n"
   ]
  },
  {
   "cell_type": "code",
   "execution_count": 13,
   "id": "e6c209bd",
   "metadata": {},
   "outputs": [
    {
     "name": "stdout",
     "output_type": "stream",
     "text": [
      "The most frequent word is 'this' with a frequency of 2.\n"
     ]
    }
   ],
   "source": [
    "# Create a function of most_frequent_word\n",
    "def most_frequent_word(text):\n",
    "    # Split the text into words\n",
    "    words = text.split()\n",
    "    \n",
    "    # Dictionary to store word frequencies\n",
    "    word_counts = {}\n",
    "    \n",
    "    # Count occurrences of each word\n",
    "    for word in words:\n",
    "        word = word.lower()  # Convert to lowercase for case-insensitive counting\n",
    "        if word in word_counts:\n",
    "            word_counts[word] += 1\n",
    "        else:\n",
    "            word_counts[word] = 1\n",
    "    \n",
    "    # Find the word with the maximum frequency\n",
    "    most_frequent = max(word_counts, key=word_counts.get)\n",
    "    return most_frequent, word_counts[most_frequent]\n",
    "\n",
    "# Example usage\n",
    "text = \"This is a test. This test is only a test.\"\n",
    "word, frequency = most_frequent_word(text)\n",
    "print(f\"The most frequent word is '{word}' with a frequency of {frequency}.\")\n"
   ]
  },
  {
   "cell_type": "code",
   "execution_count": null,
   "id": "bd9ba288",
   "metadata": {},
   "outputs": [],
   "source": []
  },
  {
   "cell_type": "code",
   "execution_count": null,
   "id": "5cb890c3",
   "metadata": {},
   "outputs": [],
   "source": [
    "45. Find all unique words in a string?"
   ]
  },
  {
   "cell_type": "code",
   "execution_count": 14,
   "id": "1de54821",
   "metadata": {},
   "outputs": [
    {
     "name": "stdout",
     "output_type": "stream",
     "text": [
      "Unique words: {'unique', 'with', 'sample', 'this', 'text', 'is', 'and', 'words', 'a'}\n"
     ]
    }
   ],
   "source": [
    "def find_unique_words(text):\n",
    "    # Convert the text to lowercase to handle case sensitivity\n",
    "    words = text.lower().split()\n",
    "    # Use a set to find unique words\n",
    "    unique_words = set(words)\n",
    "    return unique_words\n",
    "\n",
    "# Example usage\n",
    "text = \"This is a sample text with sample words and unique words\"\n",
    "unique_words = find_unique_words(text)\n",
    "print(\"Unique words:\", unique_words)\n"
   ]
  },
  {
   "cell_type": "raw",
   "id": "b0ccb5f8",
   "metadata": {},
   "source": [
    "\n"
   ]
  },
  {
   "cell_type": "markdown",
   "id": "f03ac883",
   "metadata": {},
   "source": []
  },
  {
   "cell_type": "code",
   "execution_count": null,
   "id": "92cbedfb",
   "metadata": {},
   "outputs": [],
   "source": [
    "46. Count the number of syllables in a string?"
   ]
  },
  {
   "cell_type": "code",
   "execution_count": 15,
   "id": "f9c31a4f",
   "metadata": {},
   "outputs": [
    {
     "name": "stdout",
     "output_type": "stream",
     "text": [
      "Number of syllables: 9\n"
     ]
    }
   ],
   "source": [
    "def count_syllables(text):\n",
    "    vowels = \"aeiouyAEIOUY\"  # Consider 'y' as a vowel in syllable context\n",
    "    syllable_count = 0\n",
    "\n",
    "    # Split text into words\n",
    "    words = text.split()\n",
    "    \n",
    "    for word in words:\n",
    "        word_syllable_count = 0\n",
    "        last_char_was_vowel = False\n",
    "\n",
    "        for char in word:\n",
    "            if char in vowels:\n",
    "                # Count a vowel if it doesn't follow another vowel\n",
    "                if not last_char_was_vowel:\n",
    "                    word_syllable_count += 1\n",
    "                    last_char_was_vowel = True\n",
    "            else:\n",
    "                last_char_was_vowel = False\n",
    "\n",
    "        # Adjust for silent 'e' at the end of the word\n",
    "        if word.endswith(\"e\") and word_syllable_count > 1:\n",
    "            word_syllable_count -= 1\n",
    "\n",
    "        syllable_count += word_syllable_count\n",
    "\n",
    "    return syllable_count\n",
    "\n",
    "# Example usage\n",
    "text = \"Counting syllables can be tricky\"\n",
    "print(\"Number of syllables:\", count_syllables(text))\n"
   ]
  },
  {
   "cell_type": "code",
   "execution_count": null,
   "id": "ec0fbf3c",
   "metadata": {},
   "outputs": [],
   "source": []
  },
  {
   "cell_type": "code",
   "execution_count": null,
   "id": "cc53a1bf",
   "metadata": {},
   "outputs": [],
   "source": [
    "47. Check if a string contains any special characters?"
   ]
  },
  {
   "cell_type": "code",
   "execution_count": null,
   "id": "214daa78",
   "metadata": {},
   "outputs": [],
   "source": [
    "#import regular expression library\n"
   ]
  },
  {
   "cell_type": "code",
   "execution_count": null,
   "id": "c6c55bf7",
   "metadata": {},
   "outputs": [],
   "source": []
  },
  {
   "cell_type": "code",
   "execution_count": 18,
   "id": "4f531ffb",
   "metadata": {},
   "outputs": [
    {
     "ename": "SyntaxError",
     "evalue": "EOL while scanning string literal (758210524.py, line 17)",
     "output_type": "error",
     "traceback": [
      "\u001b[1;36m  Input \u001b[1;32mIn [18]\u001b[1;36m\u001b[0m\n\u001b[1;33m    print (\"Contains sdpecial characters?, contains_special_characters(input_string1))\u001b[0m\n\u001b[1;37m                                                                                       ^\u001b[0m\n\u001b[1;31mSyntaxError\u001b[0m\u001b[1;31m:\u001b[0m EOL while scanning string literal\n"
     ]
    }
   ],
   "source": [
    "import re \n",
    "def contains_special_characters(input_string):\n",
    "    # Define a regex pattern that matches anu character that is not a letter, number, or space\n",
    "    special_character_pattern = re.compile(r'[^a-zA-Z0-9]')\n",
    "    # search input string for special characters\n",
    "    if special_character_pattern.search(input_string):\n",
    "        \n",
    "        # return True if special character is found\n",
    "        return true\n",
    "    else:\n",
    "        return False\n",
    "    \n",
    "    \n",
    "    #Example usage:\n",
    "    \n",
    "input_string1 = \"Hello, World!\" # Contains Special Characters: \",\" and \"!\"\n",
    "print (\"Contains sdpecial characters?, contains_special_characters(input_string1)) \n",
    "\n",
    "           \n",
    "input_string2 = \"Hello World 123\" # No special characters\n",
    "print(\"Contains special characters?\", contains_special_characters(input_string2))\n",
    "\n",
    "           \n",
    "           \n",
    "           \n",
    "           \n",
    "           \n",
    "           \n",
    "    \n",
    "           \n",
    "    \n",
    "    \n",
    "    \n",
    "    \n",
    "    \n",
    "    \n",
    "    \n",
    "    \n",
    "    \n",
    "    "
   ]
  },
  {
   "cell_type": "raw",
   "id": "2d2c794e",
   "metadata": {},
   "source": [
    "Answer:\n",
    "True\n",
    "False"
   ]
  },
  {
   "cell_type": "markdown",
   "id": "f8b39b97",
   "metadata": {},
   "source": []
  },
  {
   "cell_type": "code",
   "execution_count": null,
   "id": "1c3ca525",
   "metadata": {},
   "outputs": [],
   "source": [
    "48. Remove the nth word from a string?"
   ]
  },
  {
   "cell_type": "code",
   "execution_count": 19,
   "id": "a8dd46cc",
   "metadata": {},
   "outputs": [
    {
     "ename": "SyntaxError",
     "evalue": "invalid syntax (386795033.py, line 23)",
     "output_type": "error",
     "traceback": [
      "\u001b[1;36m  Input \u001b[1;32mIn [19]\u001b[1;36m\u001b[0m\n\u001b[1;33m    input string = \"This is a sample sentence for testing.\"\u001b[0m\n\u001b[1;37m          ^\u001b[0m\n\u001b[1;31mSyntaxError\u001b[0m\u001b[1;31m:\u001b[0m invalid syntax\n"
     ]
    }
   ],
   "source": [
    "# Create remove nth word functions\n",
    "\n",
    "def remove_nth_word(input_string,n):\n",
    "    # split the input string into a list of words\n",
    "    words = input_string.split()\n",
    "    \n",
    "    # check if the index is with in the bounds of the list \n",
    "    \n",
    "    if 0 <= n < len(words):\n",
    "        # remove the nth word from the list\n",
    "        \n",
    "        words.pop(n)\n",
    "    else:\n",
    "        print(\"Error: Index out of range.\")\n",
    "        \n",
    "# join the list back into a single string with spaces\n",
    "\n",
    "modified_string = ' '.join(words)\n",
    "return modified_string\n",
    "\n",
    "# Example usage\n",
    "\n",
    "input string = \"This is a sample sentence for testing.\"\n",
    "\n",
    "n = 2 # Index of the word to remove (0 - based index)\n",
    "print(\"Original String:\", input_string)\n",
    "print(\"Modified String:\", remove_nth_word(input_string,n))"
   ]
  },
  {
   "cell_type": "markdown",
   "id": "50a19763",
   "metadata": {},
   "source": [
    "Original String: \"This is a sample sentence for testing.\"\n",
    "Modified String: \"This is sample sentence for testing.\""
   ]
  },
  {
   "cell_type": "code",
   "execution_count": null,
   "id": "48728e4d",
   "metadata": {},
   "outputs": [],
   "source": []
  },
  {
   "cell_type": "code",
   "execution_count": null,
   "id": "e66906b9",
   "metadata": {},
   "outputs": [],
   "source": [
    "49. Insert a word at the nth position in a string?"
   ]
  },
  {
   "cell_type": "code",
   "execution_count": 20,
   "id": "2b74cd31",
   "metadata": {},
   "outputs": [
    {
     "name": "stdout",
     "output_type": "stream",
     "text": [
      "Updated String: The quick brown smart fox jumps over the lazy dog\n"
     ]
    }
   ],
   "source": [
    "def insert_word_at_position(original_string, word, position):\n",
    "    # Split the original string into a list of words\n",
    "    words = original_string.split()\n",
    "\n",
    "    # Insert the new word at the specified position\n",
    "    # Use min() to ensure the position is within the range of the list\n",
    "    words.insert(min(position, len(words)), word)\n",
    "\n",
    "    # Join the list back into a single string with spaces\n",
    "    updated_string = \" \".join(words)\n",
    "\n",
    "    return updated_string\n",
    "\n",
    "# Example usage\n",
    "original_string = \"The quick brown fox jumps over the lazy dog\"\n",
    "word = \"smart\"\n",
    "position = 3  # Insert at the 3rd position (0-based indexing)\n",
    "\n",
    "# Call the function and print the result\n",
    "result = insert_word_at_position(original_string, word, position)\n",
    "print(\"Updated String:\", result)\n"
   ]
  },
  {
   "cell_type": "code",
   "execution_count": null,
   "id": "d8be4140",
   "metadata": {},
   "outputs": [],
   "source": []
  },
  {
   "cell_type": "code",
   "execution_count": null,
   "id": "cb0cbf80",
   "metadata": {},
   "outputs": [],
   "source": []
  },
  {
   "cell_type": "code",
   "execution_count": null,
   "id": "9dc436fa",
   "metadata": {},
   "outputs": [],
   "source": [
    "50. Convert a CSV string to a list of lists?|"
   ]
  },
  {
   "cell_type": "code",
   "execution_count": 21,
   "id": "04ca9518",
   "metadata": {},
   "outputs": [
    {
     "name": "stdout",
     "output_type": "stream",
     "text": [
      "[['Name', ' Age', ' City'], ['John', ' 25', ' New York'], ['Alice', ' 30', ' Los Angeles'], ['Bob', ' 22', ' Chicago']]\n"
     ]
    }
   ],
   "source": [
    "import csv  # Import the CSV library for handling CSV formatted data\n",
    "\n",
    "def csv_to_list(csv_string):\n",
    "    # Initialize an empty list to hold our rows\n",
    "    rows = []\n",
    "\n",
    "    # Use the csv.reader to parse the string as if it were a CSV file\n",
    "    # 'csv_string.splitlines()' turns the multi-line string into a list of lines\n",
    "    csv_reader = csv.reader(csv_string.splitlines())\n",
    "\n",
    "    # Loop over each row in the reader object\n",
    "    for row in csv_reader:\n",
    "        # Append each row (as a list) to the 'rows' list\n",
    "        rows.append(row)\n",
    "    \n",
    "    return rows  # Return the final list of lists\n",
    "\n",
    "# Example CSV string input\n",
    "csv_string = \"\"\"Name, Age, City\n",
    "John, 25, New York\n",
    "Alice, 30, Los Angeles\n",
    "Bob, 22, Chicago\"\"\"\n",
    "\n",
    "# Convert CSV string to list of lists\n",
    "result = csv_to_list(csv_string)\n",
    "\n",
    "# Print the result\n",
    "print(result)  # Expected Output: [['Name', 'Age', 'City'], ['John', '25', 'New York'], ['Alice', '30', 'Los Angeles'], ['Bob', '22', 'Chicago']]\n"
   ]
  },
  {
   "cell_type": "code",
   "execution_count": null,
   "id": "8c6e544f",
   "metadata": {},
   "outputs": [],
   "source": []
  },
  {
   "cell_type": "markdown",
   "id": "1a394e11",
   "metadata": {},
   "source": [
    "# List Based Practice Problem :"
   ]
  },
  {
   "cell_type": "code",
   "execution_count": null,
   "id": "4bc4cb04",
   "metadata": {},
   "outputs": [],
   "source": [
    "1. Create a list with integers from 1 to 10?"
   ]
  },
  {
   "cell_type": "code",
   "execution_count": 22,
   "id": "205e7f3c",
   "metadata": {},
   "outputs": [
    {
     "name": "stdout",
     "output_type": "stream",
     "text": [
      "[1, 2, 3, 4, 5, 6, 7, 8, 9, 10]\n"
     ]
    }
   ],
   "source": [
    "\n",
    "# Use the `list` function to convert the range object into a list\n",
    "integer_list = list(range(1, 11))  # Creates a list containing numbers from 1 to 10\n",
    "\n",
    "#Print the list to verify the result\n",
    "print(integer_list)  \n",
    "\n",
    "\n",
    "\n"
   ]
  },
  {
   "cell_type": "code",
   "execution_count": null,
   "id": "0265bee7",
   "metadata": {},
   "outputs": [],
   "source": []
  },
  {
   "cell_type": "markdown",
   "id": "6e8a121f",
   "metadata": {},
   "source": [
    "\n"
   ]
  },
  {
   "cell_type": "code",
   "execution_count": null,
   "id": "e34c6f47",
   "metadata": {},
   "outputs": [],
   "source": [
    "2. Find the length of a list without using the `len()` function?"
   ]
  },
  {
   "cell_type": "code",
   "execution_count": 23,
   "id": "0cd79856",
   "metadata": {},
   "outputs": [
    {
     "name": "stdout",
     "output_type": "stream",
     "text": [
      "The length of the list is: 5\n"
     ]
    }
   ],
   "source": [
    "def find_length(my_list):\n",
    "    # Initialize a counter to keep track of the length\n",
    "    length = 0\n",
    "\n",
    "    # Iterate over each element in the list\n",
    "    for _ in my_list:  # The underscore `_` is used as we don't need the actual element\n",
    "        length += 1  # Increment the counter for each element\n",
    "\n",
    "    return length  # Return the final count\n",
    "\n",
    "# Example usage\n",
    "example_list = [10, 20, 30, 40, 50]  # A sample list\n",
    "result = find_length(example_list)  # Call the function\n",
    "print(\"The length of the list is:\", result)  # Output the result\n"
   ]
  },
  {
   "cell_type": "raw",
   "id": "fcb62ffa",
   "metadata": {},
   "source": []
  },
  {
   "cell_type": "code",
   "execution_count": null,
   "id": "09495567",
   "metadata": {},
   "outputs": [],
   "source": [
    "3. Append an element to the end of a list?"
   ]
  },
  {
   "cell_type": "code",
   "execution_count": 24,
   "id": "69be01f9",
   "metadata": {},
   "outputs": [
    {
     "name": "stdout",
     "output_type": "stream",
     "text": [
      "Updated List: [1, 2, 3, 4]\n"
     ]
    }
   ],
   "source": [
    "# Define a function to demonstrate appending an element to a list\n",
    "def append_element_to_list(original_list, element):\n",
    "    \"\"\"\n",
    "    Appends an element to the end of the provided list.\n",
    "\n",
    "    Parameters:\n",
    "    original_list (list): The list to which the element will be added.\n",
    "    element: The element to add to the list.\n",
    "\n",
    "    Returns:\n",
    "    list: The updated list with the new element added.\n",
    "    \"\"\"\n",
    "    # Use the append() method to add the element to the list\n",
    "    original_list.append(element)\n",
    "\n",
    "    # Return the updated list\n",
    "    return original_list\n",
    "\n",
    "# Example usage\n",
    "# Create an initial list\n",
    "my_list = [1, 2, 3]  # A list with three elements\n",
    "\n",
    "# Element to add\n",
    "new_element = 4  # The number 4 is to be appended\n",
    "\n",
    "# Call the function to append the element\n",
    "updated_list = append_element_to_list(my_list, new_element)\n",
    "\n",
    "# Print the updated list to see the result\n",
    "print(\"Updated List:\", updated_list)  \n",
    "\n",
    "\n",
    "\n"
   ]
  },
  {
   "cell_type": "raw",
   "id": "cfdae0ad",
   "metadata": {},
   "source": []
  },
  {
   "cell_type": "markdown",
   "id": "2b08ed92",
   "metadata": {},
   "source": []
  },
  {
   "cell_type": "code",
   "execution_count": null,
   "id": "bcdd8ba8",
   "metadata": {},
   "outputs": [],
   "source": [
    "4. Insert an element at a specific index in a list?"
   ]
  },
  {
   "cell_type": "code",
   "execution_count": 25,
   "id": "9237a97d",
   "metadata": {},
   "outputs": [
    {
     "name": "stdout",
     "output_type": "stream",
     "text": [
      "Original List: [10, 20, 30, 40]\n",
      "Updated List: [10, 20, 25, 30, 40]\n"
     ]
    }
   ],
   "source": [
    "def insert_element_at_index(my_list, index, element):\n",
    "    \"\"\"\n",
    "    Inserts an element into the list at the specified index.\n",
    "\n",
    "    Args:\n",
    "        my_list (list): The original list where the element will be added.\n",
    "        index (int): The position at which the element should be inserted.\n",
    "        element: The element to be inserted.\n",
    "\n",
    "    Returns:\n",
    "        list: The updated list with the new element inserted.\n",
    "    \"\"\"\n",
    "    # Using the 'insert()' method to add the element at the given index\n",
    "    my_list.insert(index, element)\n",
    "    return my_list  # Return the updated list\n",
    "\n",
    "# Example usage\n",
    "original_list = [10, 20, 30, 40]  # Initial list\n",
    "index_to_insert = 2  # Position where the new element will be added\n",
    "new_element = 25  # Element to be inserted\n",
    "\n",
    "# Insert the element at the specified index\n",
    "updated_list = insert_element_at_index(original_list, index_to_insert, new_element)\n",
    "\n",
    "# Print the original and updated lists\n",
    "print(\"Original List:\", [10, 20, 30, 40]) \n",
    "print(\"Updated List:\", updated_list)  \n"
   ]
  },
  {
   "cell_type": "raw",
   "id": "43b2a3b9",
   "metadata": {},
   "source": []
  },
  {
   "cell_type": "markdown",
   "id": "8423d655",
   "metadata": {},
   "source": []
  },
  {
   "cell_type": "code",
   "execution_count": null,
   "id": "45d06bbe",
   "metadata": {},
   "outputs": [],
   "source": [
    "5. Remove an element from a list by its value?"
   ]
  },
  {
   "cell_type": "code",
   "execution_count": 26,
   "id": "3bdade1c",
   "metadata": {},
   "outputs": [
    {
     "name": "stdout",
     "output_type": "stream",
     "text": [
      "Original List: [10, 30, 40, 20]\n",
      "Updated List: [10, 30, 40, 20]\n"
     ]
    }
   ],
   "source": [
    "def remove_element_by_value(my_list, value):\n",
    "    \"\"\"\n",
    "    Removes the first occurrence of a specific value from the list.\n",
    "\n",
    "    Args:\n",
    "        my_list (list): The list from which the value will be removed.\n",
    "        value: The value to remove.\n",
    "\n",
    "    Returns:\n",
    "        list: The updated list after the value is removed.\n",
    "    \"\"\"\n",
    "    try:\n",
    "        # Attempt to remove the value from the list\n",
    "        my_list.remove(value)\n",
    "    except ValueError:\n",
    "        # If the value is not found, print a message\n",
    "        print(f\"Value '{value}' not found in the list.\")\n",
    "    return my_list  # Return the updated list\n",
    "\n",
    "# Example usage\n",
    "original_list = [10, 20, 30, 40, 20]  # Initial list\n",
    "value_to_remove = 20  # The value to remove\n",
    "\n",
    "# Remove the specified value\n",
    "updated_list = remove_element_by_value(original_list, value_to_remove)\n",
    "\n",
    "# Print the original and updated lists\n",
    "print(\"Original List:\", original_list)  # Original list before modification\n",
    "print(\"Updated List:\", updated_list)  \n"
   ]
  },
  {
   "cell_type": "raw",
   "id": "bd289ce8",
   "metadata": {},
   "source": []
  },
  {
   "cell_type": "markdown",
   "id": "22f5c7fd",
   "metadata": {},
   "source": []
  },
  {
   "cell_type": "code",
   "execution_count": null,
   "id": "88367eaf",
   "metadata": {},
   "outputs": [],
   "source": [
    "6. Remove an element from a list by its index?"
   ]
  },
  {
   "cell_type": "code",
   "execution_count": 27,
   "id": "ab0617d4",
   "metadata": {},
   "outputs": [
    {
     "name": "stdout",
     "output_type": "stream",
     "text": [
      "Original List: [10, 20, 40, 50]\n",
      "Updated List: [10, 20, 40, 50]\n"
     ]
    }
   ],
   "source": [
    "def remove_element_by_index(my_list, index):\n",
    "    \"\"\"\n",
    "    Removes an element from the list at a specific index.\n",
    "\n",
    "    Args:\n",
    "        my_list (list): The list from which the element will be removed.\n",
    "        index (int): The index of the element to remove.\n",
    "\n",
    "    Returns:\n",
    "        list: The updated list after the element is removed.\n",
    "    \"\"\"\n",
    "    # Check if the index is within the valid range\n",
    "    if 0 <= index < len(my_list):\n",
    "        del my_list[index]  # Remove the element at the given index\n",
    "    else:\n",
    "        print(f\"Invalid index: {index}. Valid range is 0 to {len(my_list) - 1}\")\n",
    "    return my_list  # Return the updated list\n",
    "\n",
    "# Example usage\n",
    "original_list = [10, 20, 30, 40, 50]  # Initial list\n",
    "index_to_remove = 2  # The index of the element to remove\n",
    "\n",
    "# Remove the element at the specified index\n",
    "updated_list = remove_element_by_index(original_list, index_to_remove)\n",
    "\n",
    "# Print the original and updated lists\n",
    "print(\"Original List:\", original_list)  # Original list before modification\n",
    "print(\"Updated List:\", updated_list)  "
   ]
  },
  {
   "cell_type": "raw",
   "id": "3c8e5113",
   "metadata": {},
   "source": []
  },
  {
   "cell_type": "markdown",
   "id": "1baff0cc",
   "metadata": {},
   "source": []
  },
  {
   "cell_type": "code",
   "execution_count": null,
   "id": "6616442d",
   "metadata": {},
   "outputs": [],
   "source": [
    "7. Check if an element exists in a list?"
   ]
  },
  {
   "cell_type": "code",
   "execution_count": 28,
   "id": "cdadc46b",
   "metadata": {},
   "outputs": [
    {
     "name": "stdout",
     "output_type": "stream",
     "text": [
      "Does the element 30 exist in the list? True\n"
     ]
    }
   ],
   "source": [
    "def check_element_exists(my_list, element):\n",
    "    \"\"\"\n",
    "    Checks if an element exists in a list.\n",
    "\n",
    "    Args:\n",
    "        my_list (list): The list to search.\n",
    "        element: The element to check for.\n",
    "\n",
    "    Returns:\n",
    "        bool: True if the element exists, False otherwise.\n",
    "    \"\"\"\n",
    "    # Use the 'in' keyword to check if the element exists in the list\n",
    "    return element in my_list\n",
    "\n",
    "# Example usage\n",
    "my_list = [10, 20, 30, 40, 50]  # List to check\n",
    "element_to_check = 30  # Element to search for\n",
    "\n",
    "# Check if the element exists\n",
    "result = check_element_exists(my_list, element_to_check)\n",
    "\n",
    "# Print the result\n",
    "print(f\"Does the element {element_to_check} exist in the list? {result}\")\n"
   ]
  },
  {
   "cell_type": "code",
   "execution_count": null,
   "id": "572b9f20",
   "metadata": {},
   "outputs": [],
   "source": []
  },
  {
   "cell_type": "markdown",
   "id": "040eb913",
   "metadata": {},
   "source": []
  },
  {
   "cell_type": "code",
   "execution_count": null,
   "id": "7ec7e59c",
   "metadata": {},
   "outputs": [],
   "source": [
    "8. Find the index of the first occurrence of an element in a list?"
   ]
  },
  {
   "cell_type": "code",
   "execution_count": 29,
   "id": "be105ece",
   "metadata": {},
   "outputs": [
    {
     "name": "stdout",
     "output_type": "stream",
     "text": [
      "List: [10, 20, 30, 40, 20]\n",
      "The first occurrence of 20 is at index: 1\n"
     ]
    }
   ],
   "source": [
    "def find_first_occurrence_index(my_list, value):\n",
    "    \"\"\"\n",
    "    Finds the index of the first occurrence of a value in the list.\n",
    "\n",
    "    Args:\n",
    "        my_list (list): The list to search.\n",
    "        value: The value whose index is to be found.\n",
    "\n",
    "    Returns:\n",
    "        int: The index of the first occurrence of the value.\n",
    "             Returns -1 if the value is not in the list.\n",
    "    \"\"\"\n",
    "    # Check if the value exists in the list\n",
    "    if value in my_list:\n",
    "        # Return the index of the first occurrence\n",
    "        return my_list.index(value)\n",
    "    else:\n",
    "        # Return -1 if the value is not in the list\n",
    "        return -1\n",
    "\n",
    "# Example usage\n",
    "my_list = [10, 20, 30, 40, 20]\n",
    "value_to_find = 20\n",
    "\n",
    "# Find the index of the first occurrence\n",
    "index = find_first_occurrence_index(my_list, value_to_find)\n",
    "\n",
    "# Print the result\n",
    "print(\"List:\", my_list)  # Original list\n",
    "print(f\"The first occurrence of {value_to_find} is at index:\", index)  "
   ]
  },
  {
   "cell_type": "raw",
   "id": "a3fc220e",
   "metadata": {},
   "source": [
    "\n",
    "    \n"
   ]
  },
  {
   "cell_type": "markdown",
   "id": "32771dc0",
   "metadata": {},
   "source": []
  },
  {
   "cell_type": "code",
   "execution_count": null,
   "id": "8df74e88",
   "metadata": {},
   "outputs": [],
   "source": [
    "9. Count the occurrences of an element in a list?"
   ]
  },
  {
   "cell_type": "code",
   "execution_count": 30,
   "id": "b1dd5339",
   "metadata": {},
   "outputs": [
    {
     "name": "stdout",
     "output_type": "stream",
     "text": [
      "The element '2' occurs 3 times in the list.\n"
     ]
    }
   ],
   "source": [
    "def count_occurrences(my_list, element):\n",
    "    \"\"\"\n",
    "    Counts the number of occurrences of a specific element in the list.\n",
    "\n",
    "    Args:\n",
    "        my_list (list): The list in which to count occurrences.\n",
    "        element: The element whose occurrences are to be counted.\n",
    "\n",
    "    Returns:\n",
    "        int: The number of times the element appears in the list.\n",
    "    \"\"\"\n",
    "    # Use the list.count() method to count the occurrences of the element\n",
    "    count = my_list.count(element)\n",
    "    return count\n",
    "\n",
    "# Example usage\n",
    "example_list = [1, 2, 3, 4, 2, 5, 2, 6]  # Define the list\n",
    "target_element = 2  # Define the element to count\n",
    "\n",
    "# Call the function and print the result\n",
    "occurrences = count_occurrences(example_list, target_element)\n",
    "print(f\"The element '{target_element}' occurs {occurrences} times in the list.\")\n"
   ]
  },
  {
   "cell_type": "raw",
   "id": "4c245112",
   "metadata": {},
   "source": []
  },
  {
   "cell_type": "markdown",
   "id": "23879368",
   "metadata": {},
   "source": []
  },
  {
   "cell_type": "code",
   "execution_count": null,
   "id": "e989dc82",
   "metadata": {},
   "outputs": [],
   "source": [
    "10. Reverse the order of elements in a list?"
   ]
  },
  {
   "cell_type": "code",
   "execution_count": 31,
   "id": "9cdce162",
   "metadata": {},
   "outputs": [
    {
     "name": "stdout",
     "output_type": "stream",
     "text": [
      "Original List: [1, 2, 3, 4, 5]\n",
      "Reversed List: [5, 4, 3, 2, 1]\n"
     ]
    }
   ],
   "source": [
    "def reverse_list(my_list):\n",
    "    \"\"\"\n",
    "    Reverses the order of elements in the given list.\n",
    "\n",
    "    Args:\n",
    "        my_list (list): The list to reverse.\n",
    "\n",
    "    Returns:\n",
    "        list: A new list with elements in reversed order.\n",
    "    \"\"\"\n",
    "    # Use slicing to reverse the list\n",
    "    reversed_list = my_list[::-1]\n",
    "    return reversed_list\n",
    "\n",
    "# Example usage\n",
    "original_list = [1, 2, 3, 4, 5]  # Initial list\n",
    "reversed_result = reverse_list(original_list)  # Reverse the list\n",
    "\n",
    "# Print the original and reversed lists\n",
    "print(\"Original List:\", original_list)  \n",
    "print(\"Reversed List:\", reversed_result)  "
   ]
  },
  {
   "cell_type": "raw",
   "id": "03e8b0d8",
   "metadata": {},
   "source": []
  },
  {
   "cell_type": "markdown",
   "id": "232310ff",
   "metadata": {},
   "source": []
  },
  {
   "cell_type": "code",
   "execution_count": null,
   "id": "1db2b227",
   "metadata": {},
   "outputs": [],
   "source": [
    "11. Sort a list in ascending order?"
   ]
  },
  {
   "cell_type": "code",
   "execution_count": 32,
   "id": "1569324c",
   "metadata": {},
   "outputs": [
    {
     "name": "stdout",
     "output_type": "stream",
     "text": [
      "Original List: [40, 10, 30, 20, 50]\n",
      "Sorted List: [10, 20, 30, 40, 50]\n"
     ]
    }
   ],
   "source": [
    "def sort_list_ascending(my_list):\n",
    "    \"\"\"\n",
    "    Sorts a given list in ascending order.\n",
    "\n",
    "    Args:\n",
    "        my_list (list): The list to sort.\n",
    "\n",
    "    Returns:\n",
    "        list: A new list sorted in ascending order.\n",
    "    \"\"\"\n",
    "    # Using the sorted() function to create a new sorted list\n",
    "    sorted_list = sorted(my_list)\n",
    "    return sorted_list  # Return the sorted list\n",
    "\n",
    "# Example usage\n",
    "original_list = [40, 10, 30, 20, 50]  # List to be sorted\n",
    "\n",
    "# Sort the list\n",
    "sorted_list = sort_list_ascending(original_list)\n",
    "\n",
    "# Print the original and sorted lists\n",
    "print(\"Original List:\", original_list) \n",
    "print(\"Sorted List:\", sorted_list)  "
   ]
  },
  {
   "cell_type": "raw",
   "id": "01d83036",
   "metadata": {},
   "source": []
  },
  {
   "cell_type": "markdown",
   "id": "05563eb1",
   "metadata": {},
   "source": [
    "\n"
   ]
  },
  {
   "cell_type": "code",
   "execution_count": null,
   "id": "702b24af",
   "metadata": {},
   "outputs": [],
   "source": [
    "12. Sort a list in descending order?"
   ]
  },
  {
   "cell_type": "code",
   "execution_count": 33,
   "id": "f279c448",
   "metadata": {},
   "outputs": [
    {
     "name": "stdout",
     "output_type": "stream",
     "text": [
      "Original List: [10, 30, 20, 40, 50]\n",
      "Sorted List in Descending Order: [50, 40, 30, 20, 10]\n"
     ]
    }
   ],
   "source": [
    "def sort_list_descending(my_list):\n",
    "    \"\"\"\n",
    "    Sorts a list in descending order.\n",
    "\n",
    "    Args:\n",
    "        my_list (list): The list to be sorted.\n",
    "\n",
    "    Returns:\n",
    "        list: The list sorted in descending order.\n",
    "    \"\"\"\n",
    "    # Use the sorted function with reverse=True for descending order\n",
    "    sorted_list = sorted(my_list, reverse=True)\n",
    "    return sorted_list\n",
    "\n",
    "# Example usage\n",
    "original_list = [10, 30, 20, 40, 50]  # Initial list\n",
    "sorted_list = sort_list_descending(original_list)\n",
    "\n",
    "# Print the original and sorted lists\n",
    "print(\"Original List:\", original_list) \n",
    "print(\"Sorted List in Descending Order:\", sorted_list)  "
   ]
  },
  {
   "cell_type": "raw",
   "id": "da1e4c9b",
   "metadata": {},
   "source": []
  },
  {
   "cell_type": "raw",
   "id": "ae04f23a",
   "metadata": {},
   "source": []
  },
  {
   "cell_type": "code",
   "execution_count": null,
   "id": "235a8ea7",
   "metadata": {},
   "outputs": [],
   "source": [
    "13. Create a list of even numbers from 1 to 20?"
   ]
  },
  {
   "cell_type": "code",
   "execution_count": 34,
   "id": "dc033f2a",
   "metadata": {},
   "outputs": [
    {
     "name": "stdout",
     "output_type": "stream",
     "text": [
      "List of even numbers from 1 to 20: [2, 4, 6, 8, 10, 12, 14, 16, 18, 20]\n"
     ]
    }
   ],
   "source": [
    "# Create a list of even numbers from 1 to 20\n",
    "even_numbers = [num for num in range(1, 21) if num % 2 == 0]\n",
    "\n",
    "# Print the list of even numbers\n",
    "print(\"List of even numbers from 1 to 20:\", even_numbers)\n"
   ]
  },
  {
   "cell_type": "raw",
   "id": "f5e2c18f",
   "metadata": {},
   "source": [
    "\n"
   ]
  },
  {
   "cell_type": "markdown",
   "id": "eaf4d05a",
   "metadata": {},
   "source": []
  },
  {
   "cell_type": "code",
   "execution_count": null,
   "id": "c74448c5",
   "metadata": {},
   "outputs": [],
   "source": [
    "14. Create a list of odd numbers from 1 to 20?"
   ]
  },
  {
   "cell_type": "code",
   "execution_count": 35,
   "id": "6fb38183",
   "metadata": {},
   "outputs": [
    {
     "name": "stdout",
     "output_type": "stream",
     "text": [
      "List of odd numbers from 1 to 20: [1, 3, 5, 7, 9, 11, 13, 15, 17, 19]\n"
     ]
    }
   ],
   "source": [
    "# Create a list of odd numbers from 1 to 20\n",
    "odd_numbers = [num for num in range(1, 21) if num % 2 != 0]\n",
    "\n",
    "# Print the resulting list\n",
    "print(\"List of odd numbers from 1 to 20:\", odd_numbers)\n"
   ]
  },
  {
   "cell_type": "raw",
   "id": "a105f30f",
   "metadata": {},
   "source": [
    "\n"
   ]
  },
  {
   "cell_type": "markdown",
   "id": "cf48d4b3",
   "metadata": {},
   "source": []
  },
  {
   "cell_type": "code",
   "execution_count": null,
   "id": "2ef83ba8",
   "metadata": {},
   "outputs": [],
   "source": [
    "15. Find the sum of all elements in a list?\n"
   ]
  },
  {
   "cell_type": "code",
   "execution_count": 36,
   "id": "50ea3708",
   "metadata": {},
   "outputs": [
    {
     "name": "stdout",
     "output_type": "stream",
     "text": [
      "List: [10, 20, 30, 40, 50]\n",
      "Sum of elements: 150\n"
     ]
    }
   ],
   "source": [
    "def find_sum_of_list_elements(my_list):\n",
    "    \"\"\"\n",
    "    Calculates the sum of all elements in a list.\n",
    "\n",
    "    Args:\n",
    "        my_list (list): A list of numeric elements.\n",
    "\n",
    "    Returns:\n",
    "        int or float: The sum of all elements in the list.\n",
    "    \"\"\"\n",
    "    # Use Python's built-in sum() function to calculate the sum of the list elements\n",
    "    total_sum = sum(my_list)\n",
    "\n",
    "    # Return the calculated sum\n",
    "    return total_sum\n",
    "\n",
    "\n",
    "# Example usage\n",
    "example_list = [10, 20, 30, 40, 50]  # A list of numbers\n",
    "\n",
    "# Calculate the sum of the list elements\n",
    "result = find_sum_of_list_elements(example_list)\n",
    "\n",
    "# Print the list and its sum\n",
    "print(\"List:\", example_list) \n",
    "print(\"Sum of elements:\", result)  "
   ]
  },
  {
   "cell_type": "raw",
   "id": "58621287",
   "metadata": {},
   "source": []
  },
  {
   "cell_type": "markdown",
   "id": "e8b11073",
   "metadata": {},
   "source": []
  },
  {
   "cell_type": "code",
   "execution_count": null,
   "id": "dcaefb3f",
   "metadata": {},
   "outputs": [],
   "source": [
    "16. Find the maximum value in a list?"
   ]
  },
  {
   "cell_type": "code",
   "execution_count": 37,
   "id": "a2b3e3ac",
   "metadata": {},
   "outputs": [
    {
     "name": "stdout",
     "output_type": "stream",
     "text": [
      "Maximum Value: 8\n"
     ]
    }
   ],
   "source": [
    "def find_max_value(my_list):\n",
    "    \"\"\"\n",
    "    Finds the maximum value in a list.\n",
    "\n",
    "    Args:\n",
    "        my_list (list): The list of numbers.\n",
    "\n",
    "    Returns:\n",
    "        int/float: The maximum value in the list.\n",
    "    \"\"\"\n",
    "    # Initialize the maximum value to the first element\n",
    "    max_value = my_list[0]\n",
    "\n",
    "    # Iterate through the list to compare each value\n",
    "    for value in my_list:\n",
    "        if value > max_value:\n",
    "            max_value = value  # Update max_value if a larger value is found\n",
    "\n",
    "    return max_value\n",
    "\n",
    "# Example usage\n",
    "numbers = [3, 5, 7, 2, 8, 1]  # List of numbers\n",
    "max_value = find_max_value(numbers)  # Find the maximum value\n",
    "print(\"Maximum Value:\", max_value)  # Expected Output: 8\n"
   ]
  },
  {
   "cell_type": "raw",
   "id": "0f06da48",
   "metadata": {},
   "source": []
  },
  {
   "cell_type": "raw",
   "id": "2340a032",
   "metadata": {},
   "source": []
  },
  {
   "cell_type": "code",
   "execution_count": null,
   "id": "ceba6a43",
   "metadata": {},
   "outputs": [],
   "source": [
    "17. Find the minimum value in a list?"
   ]
  },
  {
   "cell_type": "code",
   "execution_count": 38,
   "id": "fef598bf",
   "metadata": {},
   "outputs": [
    {
     "name": "stdout",
     "output_type": "stream",
     "text": [
      "The minimum value in the list is: 4\n"
     ]
    }
   ],
   "source": [
    "def find_minimum_value(numbers):\n",
    "    \"\"\"\n",
    "    Finds the minimum value in a list.\n",
    "\n",
    "    Args:\n",
    "        numbers (list): A list of numerical values.\n",
    "\n",
    "    Returns:\n",
    "        int/float: The smallest value in the list.\n",
    "    \"\"\"\n",
    "    # Initialize the minimum value with the first element of the list\n",
    "    min_value = numbers[0]\n",
    "    \n",
    "    # Iterate through the list to find the smallest value\n",
    "    for num in numbers:\n",
    "        if num < min_value:\n",
    "            min_value = num  # Update min_value if a smaller number is found\n",
    "    \n",
    "    return min_value  # Return the smallest value\n",
    "\n",
    "# Example usage\n",
    "number_list = [42, 23, 4, 16, 8, 15]\n",
    "minimum_value = find_minimum_value(number_list)\n",
    "print(\"The minimum value in the list is:\", minimum_value)  "
   ]
  },
  {
   "cell_type": "code",
   "execution_count": null,
   "id": "566c36df",
   "metadata": {},
   "outputs": [],
   "source": []
  },
  {
   "cell_type": "markdown",
   "id": "0cffbbb8",
   "metadata": {},
   "source": []
  },
  {
   "cell_type": "code",
   "execution_count": null,
   "id": "bc2fc639",
   "metadata": {},
   "outputs": [],
   "source": [
    "18. Create a list of squares of numbers from 1 to 10?"
   ]
  },
  {
   "cell_type": "code",
   "execution_count": 39,
   "id": "ad0f7a06",
   "metadata": {},
   "outputs": [
    {
     "name": "stdout",
     "output_type": "stream",
     "text": [
      "List of Squares from 1 to 10: [1, 4, 9, 16, 25, 36, 49, 64, 81, 100]\n"
     ]
    }
   ],
   "source": [
    "# Create a list of squares of numbers from 1 to 10\n",
    "def generate_squares():\n",
    "    \"\"\"\n",
    "    Generates a list of squares of numbers from 1 to 10.\n",
    "\n",
    "    Returns:\n",
    "        list: A list containing squares of numbers from 1 to 10.\n",
    "    \"\"\"\n",
    "    # Initialize an empty list to store the squares\n",
    "    squares = []\n",
    "\n",
    "    # Loop through numbers from 1 to 10\n",
    "    for num in range(1, 11):\n",
    "        # Calculate the square of the current number\n",
    "        square = num ** 2\n",
    "\n",
    "        # Append the square to the list\n",
    "        squares.append(square)\n",
    "\n",
    "    # Return the list of squares\n",
    "    return squares\n",
    "\n",
    "# Example usage\n",
    "squares_list = generate_squares()\n",
    "\n",
    "# Print the resulting list\n",
    "print(\"List of Squares from 1 to 10:\", squares_list)\n"
   ]
  },
  {
   "cell_type": "code",
   "execution_count": null,
   "id": "089cdb9a",
   "metadata": {},
   "outputs": [],
   "source": []
  },
  {
   "cell_type": "raw",
   "id": "45e46009",
   "metadata": {},
   "source": []
  },
  {
   "cell_type": "raw",
   "id": "6b1c21e3",
   "metadata": {},
   "source": []
  },
  {
   "cell_type": "code",
   "execution_count": null,
   "id": "114b358b",
   "metadata": {},
   "outputs": [],
   "source": [
    "19. Create a list of random numbers?"
   ]
  },
  {
   "cell_type": "code",
   "execution_count": 40,
   "id": "ddeca01f",
   "metadata": {},
   "outputs": [
    {
     "name": "stdout",
     "output_type": "stream",
     "text": [
      "List of random numbers: [62, 44, 47, 26, 16, 64, 46, 29, 93, 37]\n"
     ]
    }
   ],
   "source": [
    "import random\n",
    "\n",
    "# Function to generate a list of random numbers\n",
    "def generate_random_numbers(count, start, end):\n",
    "    \"\"\"\n",
    "    Generates a list of random integers.\n",
    "\n",
    "    Args:\n",
    "        count (int): Number of random numbers to generate.\n",
    "        start (int): The lower bound of the random number range (inclusive).\n",
    "        end (int): The upper bound of the random number range (inclusive).\n",
    "\n",
    "    Returns:\n",
    "        list: List of random integers.\n",
    "    \"\"\"\n",
    "    random_numbers = [random.randint(start, end) for _ in range(count)]\n",
    "    return random_numbers\n",
    "\n",
    "# Example usage\n",
    "random_numbers = generate_random_numbers(10, 1, 100)\n",
    "print(\"List of random numbers:\", random_numbers)\n"
   ]
  },
  {
   "cell_type": "raw",
   "id": "469f843b",
   "metadata": {},
   "source": [
    "\n"
   ]
  },
  {
   "cell_type": "markdown",
   "id": "d6ead016",
   "metadata": {},
   "source": []
  },
  {
   "cell_type": "code",
   "execution_count": null,
   "id": "a1c2d6c1",
   "metadata": {},
   "outputs": [],
   "source": [
    "20. Remove duplicates from a list?"
   ]
  },
  {
   "cell_type": "code",
   "execution_count": 41,
   "id": "33f95673",
   "metadata": {},
   "outputs": [
    {
     "name": "stdout",
     "output_type": "stream",
     "text": [
      "Original List: [1, 2, 3, 2, 4, 3, 5, 6, 4]\n",
      "List without duplicates: [1, 2, 3, 4, 5, 6]\n"
     ]
    }
   ],
   "source": [
    "def remove_duplicates(my_list):\n",
    "    \"\"\"\n",
    "    Removes duplicate values from a list by converting it to a set, then back to a list.\n",
    "    \n",
    "    Args:\n",
    "        my_list (list): The list from which duplicates will be removed.\n",
    "    \n",
    "    Returns:\n",
    "        list: The list without duplicates.\n",
    "    \"\"\"\n",
    "    # Convert the list to a set to remove duplicates, then back to a list\n",
    "    unique_list = list(set(my_list))\n",
    "    \n",
    "    return unique_list\n",
    "\n",
    "# Example usage\n",
    "original_list = [1, 2, 3, 2, 4, 3, 5, 6, 4]\n",
    "result = remove_duplicates(original_list)\n",
    "\n",
    "# Print the original and result lists\n",
    "print(\"Original List:\", original_list)  \n",
    "print(\"List without duplicates:\", result)  \n"
   ]
  },
  {
   "cell_type": "raw",
   "id": "18d9ecf4",
   "metadata": {},
   "source": []
  },
  {
   "cell_type": "code",
   "execution_count": null,
   "id": "f9af9a0a",
   "metadata": {},
   "outputs": [],
   "source": []
  },
  {
   "cell_type": "raw",
   "id": "63ce87dd",
   "metadata": {},
   "source": []
  },
  {
   "cell_type": "markdown",
   "id": "06fbe0fa",
   "metadata": {},
   "source": [
    "21. Find the common elements between two lists?"
   ]
  },
  {
   "cell_type": "code",
   "execution_count": 42,
   "id": "e3faecbd",
   "metadata": {},
   "outputs": [
    {
     "name": "stdout",
     "output_type": "stream",
     "text": [
      "Common elements: [3, 4, 5]\n"
     ]
    }
   ],
   "source": [
    "def find_common_elements(list1, list2):\n",
    "    \"\"\"\n",
    "    Finds and returns the common elements between two lists.\n",
    "\n",
    "    Args:\n",
    "        list1 (list): The first list.\n",
    "        list2 (list): The second list.\n",
    "\n",
    "    Returns:\n",
    "        list: A list containing the common elements between the two input lists.\n",
    "    \"\"\"\n",
    "    # Use set intersection to find common elements\n",
    "    common_elements = list(set(list1) & set(list2))\n",
    "\n",
    "    return common_elements\n",
    "\n",
    "# Example usage\n",
    "list1 = [1, 2, 3, 4, 5]\n",
    "list2 = [3, 4, 5, 6, 7]\n",
    "\n",
    "# Call the function and store the result\n",
    "common = find_common_elements(list1, list2)\n",
    "\n",
    "# Print the result\n",
    "print(\"Common elements:\", common)\n"
   ]
  },
  {
   "cell_type": "code",
   "execution_count": null,
   "id": "1606ca6a",
   "metadata": {},
   "outputs": [],
   "source": []
  },
  {
   "cell_type": "raw",
   "id": "4f01ce9d",
   "metadata": {},
   "source": []
  },
  {
   "cell_type": "code",
   "execution_count": null,
   "id": "df928c88",
   "metadata": {},
   "outputs": [],
   "source": [
    "22. Find the difference between two lists?"
   ]
  },
  {
   "cell_type": "code",
   "execution_count": 43,
   "id": "309417cd",
   "metadata": {},
   "outputs": [
    {
     "name": "stdout",
     "output_type": "stream",
     "text": [
      "List A: [1, 2, 3, 4, 5]\n",
      "List B: [3, 4, 6]\n",
      "Difference (A - B): [1, 2, 5]\n"
     ]
    }
   ],
   "source": [
    "def list_difference(list1, list2):\n",
    "    \"\"\"\n",
    "    Finds the difference between two lists.\n",
    "    \n",
    "    Args:\n",
    "        list1 (list): The first list.\n",
    "        list2 (list): The second list.\n",
    "\n",
    "    Returns:\n",
    "        list: Elements present in list1 but not in list2.\n",
    "    \"\"\"\n",
    "    # Use list comprehension to filter out elements in list2 from list1\n",
    "    difference = [item for item in list1 if item not in list2]\n",
    "    return difference\n",
    "\n",
    "# Example usage\n",
    "list_a = [1, 2, 3, 4, 5]\n",
    "list_b = [3, 4, 6]\n",
    "\n",
    "# Find the difference\n",
    "result = list_difference(list_a, list_b)\n",
    "\n",
    "# Print the result\n",
    "print(\"List A:\", list_a) \n",
    "print(\"List B:\", list_b)\n",
    "print(\"Difference (A - B):\", result)  \n"
   ]
  },
  {
   "cell_type": "code",
   "execution_count": null,
   "id": "79ca1526",
   "metadata": {},
   "outputs": [],
   "source": []
  },
  {
   "cell_type": "markdown",
   "id": "6b5bc286",
   "metadata": {},
   "source": []
  },
  {
   "cell_type": "code",
   "execution_count": null,
   "id": "f41bcd4f",
   "metadata": {},
   "outputs": [],
   "source": [
    "23. Merge two lists?\n"
   ]
  },
  {
   "cell_type": "code",
   "execution_count": 44,
   "id": "0dc32edf",
   "metadata": {},
   "outputs": [
    {
     "name": "stdout",
     "output_type": "stream",
     "text": [
      "List A: [1, 2, 3]\n",
      "List B: [4, 5, 6]\n",
      "Merged List: [1, 2, 3, 4, 5, 6]\n"
     ]
    }
   ],
   "source": [
    "def merge_lists(list1, list2):\n",
    "    \"\"\"\n",
    "    Merges two lists into a single list.\n",
    "\n",
    "    Args:\n",
    "        list1 (list): The first list.\n",
    "        list2 (list): The second list.\n",
    "\n",
    "    Returns:\n",
    "        list: A new list containing all elements from both lists.\n",
    "    \"\"\"\n",
    "    # Use the '+' operator to combine the two lists\n",
    "    merged_list = list1 + list2\n",
    "\n",
    "    # Return the merged list\n",
    "    return merged_list\n",
    "\n",
    "# Example usage\n",
    "list_a = [1, 2, 3]  # First list\n",
    "list_b = [4, 5, 6]  # Second list\n",
    "\n",
    "# Merge the lists\n",
    "result = merge_lists(list_a, list_b)\n",
    "\n",
    "# Print the original and merged lists\n",
    "print(\"List A:\", list_a)  \n",
    "print(\"List B:\", list_b)  \n",
    "print(\"Merged List:\", result)  \n"
   ]
  },
  {
   "cell_type": "raw",
   "id": "066254d4",
   "metadata": {},
   "source": [
    "\n"
   ]
  },
  {
   "cell_type": "markdown",
   "id": "e0814bd5",
   "metadata": {},
   "source": []
  },
  {
   "cell_type": "code",
   "execution_count": null,
   "id": "fb65bf30",
   "metadata": {},
   "outputs": [],
   "source": [
    "24. Multiply all elements in a list by 2?\n"
   ]
  },
  {
   "cell_type": "code",
   "execution_count": 45,
   "id": "bb84b790",
   "metadata": {},
   "outputs": [
    {
     "name": "stdout",
     "output_type": "stream",
     "text": [
      "Original List: [1, 2, 3, 4, 5]\n",
      "Result List: [2, 4, 6, 8, 10]\n"
     ]
    }
   ],
   "source": [
    "def multiply_elements_by_two(my_list):\n",
    "    \"\"\"\n",
    "    Multiplies each element in a list by 2.\n",
    "\n",
    "    Args:\n",
    "        my_list (list): The input list of numbers.\n",
    "\n",
    "    Returns:\n",
    "        list: A new list where each element is multiplied by 2.\n",
    "    \"\"\"\n",
    "    # Use a list comprehension to multiply each element in the list by 2\n",
    "    multiplied_list = [element * 2 for element in my_list]\n",
    "\n",
    "    return multiplied_list  # Return the new list\n",
    "\n",
    "# Example usage\n",
    "original_list = [1, 2, 3, 4, 5]  # Initial list\n",
    "# Call the function to multiply each element by 2\n",
    "result_list = multiply_elements_by_two(original_list)\n",
    "\n",
    "# Print the original and resulting lists\n",
    "print(\"Original List:\", original_list)  \n",
    "print(\"Result List:\", result_list)     \n"
   ]
  },
  {
   "cell_type": "code",
   "execution_count": null,
   "id": "ba0dc4cd",
   "metadata": {},
   "outputs": [],
   "source": []
  },
  {
   "cell_type": "markdown",
   "id": "77b47c89",
   "metadata": {},
   "source": []
  },
  {
   "cell_type": "code",
   "execution_count": null,
   "id": "1e171d6b",
   "metadata": {},
   "outputs": [],
   "source": [
    "25. Filter out all even numbers from a list?"
   ]
  },
  {
   "cell_type": "code",
   "execution_count": 46,
   "id": "bc651649",
   "metadata": {},
   "outputs": [
    {
     "name": "stdout",
     "output_type": "stream",
     "text": [
      "Original List: [1, 2, 3, 4, 5, 6, 7, 8, 9, 10]\n",
      "Filtered List (Odds Only): [1, 3, 5, 7, 9]\n"
     ]
    }
   ],
   "source": [
    "def filter_odd_numbers(numbers):\n",
    "    \"\"\"\n",
    "    Filters out all even numbers from a given list, leaving only odd numbers.\n",
    "\n",
    "    Args:\n",
    "        numbers (list): The list of integers to filter.\n",
    "\n",
    "    Returns:\n",
    "        list: A new list containing only odd numbers.\n",
    "    \"\"\"\n",
    "    # Use list comprehension to include only odd numbers\n",
    "    odd_numbers = [num for num in numbers if num % 2 != 0]\n",
    "    return odd_numbers\n",
    "\n",
    "# Example usage\n",
    "original_list = [1, 2, 3, 4, 5, 6, 7, 8, 9, 10]  # Initial list\n",
    "filtered_list = filter_odd_numbers(original_list)  # Filter out even numbers\n",
    "\n",
    "# Print the results\n",
    "print(\"Original List:\", original_list)  \n",
    "print(\"Filtered List (Odds Only):\", filtered_list)"
   ]
  },
  {
   "cell_type": "raw",
   "id": "11cacddd",
   "metadata": {},
   "source": [
    "\n"
   ]
  },
  {
   "cell_type": "markdown",
   "id": "10c1bc7d",
   "metadata": {},
   "source": []
  },
  {
   "cell_type": "code",
   "execution_count": null,
   "id": "1c13b4de",
   "metadata": {},
   "outputs": [],
   "source": [
    "26. Convert a list of strings to a list of integers?"
   ]
  },
  {
   "cell_type": "code",
   "execution_count": 47,
   "id": "03386d0e",
   "metadata": {},
   "outputs": [
    {
     "name": "stdout",
     "output_type": "stream",
     "text": [
      "Original List (Strings): ['10', '20', '30', '40', '50']\n",
      "Converted List (Integers): [10, 20, 30, 40, 50]\n"
     ]
    }
   ],
   "source": [
    "def convert_strings_to_integers(string_list):\n",
    "    \"\"\"\n",
    "    Converts a list of strings to a list of integers.\n",
    "\n",
    "    Args:\n",
    "        string_list (list): A list containing string representations of integers.\n",
    "\n",
    "    Returns:\n",
    "        list: A list containing integers.\n",
    "    \"\"\"\n",
    "    # Use list comprehension to convert each string to an integer\n",
    "    integer_list = [int(item) for item in string_list]\n",
    "    return integer_list\n",
    "\n",
    "# Example usage\n",
    "string_list = [\"10\", \"20\", \"30\", \"40\", \"50\"]\n",
    "integer_list = convert_strings_to_integers(string_list)\n",
    "\n",
    "# Output the result\n",
    "print(\"Original List (Strings):\", string_list) \n",
    "print(\"Converted List (Integers):\", integer_list)  \n"
   ]
  },
  {
   "cell_type": "code",
   "execution_count": null,
   "id": "35cd28d2",
   "metadata": {},
   "outputs": [],
   "source": []
  },
  {
   "cell_type": "code",
   "execution_count": null,
   "id": "c15df518",
   "metadata": {},
   "outputs": [],
   "source": [
    "27. Convert a list of integers to a list of strings?"
   ]
  },
  {
   "cell_type": "code",
   "execution_count": 48,
   "id": "c0c5329a",
   "metadata": {},
   "outputs": [
    {
     "name": "stdout",
     "output_type": "stream",
     "text": [
      "Original Integer List: [1, 2, 3, 4, 5, 6]\n",
      "Converted String List: ['1', '2', '3', '4', '5', '6']\n"
     ]
    }
   ],
   "source": [
    "def convert_int_to_str_list(numbers):\n",
    "    \"\"\"\n",
    "    Converts a list of integers to a list of strings.\n",
    "\n",
    "    Args:\n",
    "        numbers (list): A list of integers.\n",
    "\n",
    "    Returns:\n",
    "        list: A list of strings where each string represents an integer.\n",
    "    \"\"\"\n",
    "    # Use list comprehension to convert each integer to a string\n",
    "    string_list = [str(num) for num in numbers]\n",
    "    return string_list\n",
    "\n",
    "# Example usage\n",
    "integer_list = [1, 2, 3, 4, 5, 6]\n",
    "string_list = convert_int_to_str_list(integer_list)\n",
    "\n",
    "# Output results\n",
    "print(\"Original Integer List:\", integer_list)  \n",
    "print(\"Converted String List:\", string_list)\n"
   ]
  },
  {
   "cell_type": "raw",
   "id": "0a71109d",
   "metadata": {},
   "source": [
    "\n"
   ]
  },
  {
   "cell_type": "code",
   "execution_count": null,
   "id": "4bbe424e",
   "metadata": {},
   "outputs": [],
   "source": [
    "28. Flatten a nested list?"
   ]
  },
  {
   "cell_type": "code",
   "execution_count": 1,
   "id": "14128ef4",
   "metadata": {},
   "outputs": [
    {
     "name": "stdout",
     "output_type": "stream",
     "text": [
      "Original Nested List: [[1, 2, 3], [4, 5], [6, 7, 8]]\n",
      "Flattened List: [1, 2, 3, 4, 5, 6, 7, 8]\n"
     ]
    }
   ],
   "source": [
    "def flatten_nested_list(nested_list):\n",
    "    \"\"\"\n",
    "    Flattens a nested list into a single-level list.\n",
    "\n",
    "    Args:\n",
    "        nested_list (list): A list containing sublists.\n",
    "\n",
    "    Returns:\n",
    "        list: A flattened single-level list.\n",
    "    \"\"\"\n",
    "    # Initialize an empty list to store the flattened elements\n",
    "    flat_list = []\n",
    "\n",
    "    # Iterate through each element in the nested list\n",
    "    for element in nested_list:\n",
    "        # If the element is a list, extend the flat list with its elements\n",
    "        if isinstance(element, list):\n",
    "            flat_list.extend(element)\n",
    "        else:\n",
    "            # If the element is not a list, directly append it to the flat list\n",
    "            flat_list.append(element)\n",
    "    \n",
    "    return flat_list\n",
    "\n",
    "# Example usage\n",
    "nested_list = [[1, 2, 3], [4, 5], [6, 7, 8]]\n",
    "flattened_list = flatten_nested_list(nested_list)\n",
    "\n",
    "# Output results\n",
    "print(\"Original Nested List:\", nested_list)\n",
    "print(\"Flattened List:\", flattened_list)\n"
   ]
  },
  {
   "cell_type": "markdown",
   "id": "c44b4659",
   "metadata": {},
   "source": []
  },
  {
   "cell_type": "code",
   "execution_count": null,
   "id": "414abd7d",
   "metadata": {},
   "outputs": [],
   "source": [
    "29. Create a list of the first 10 Fibonacci numbers?"
   ]
  },
  {
   "cell_type": "code",
   "execution_count": 2,
   "id": "91fde53f",
   "metadata": {},
   "outputs": [
    {
     "name": "stdout",
     "output_type": "stream",
     "text": [
      "The first 10 Fibonacci numbers are: [0, 1, 1, 2, 3, 5, 8, 13, 21, 34]\n"
     ]
    }
   ],
   "source": [
    "def generate_fibonacci(n):\n",
    "    \"\"\"\n",
    "    Generates the first n Fibonacci numbers.\n",
    "\n",
    "    Args:\n",
    "        n (int): The number of Fibonacci numbers to generate.\n",
    "\n",
    "    Returns:\n",
    "        list: A list of the first n Fibonacci numbers.\n",
    "    \"\"\"\n",
    "    # Initialize the Fibonacci list with the first two numbers\n",
    "    fibonacci = [0, 1]\n",
    "\n",
    "    # Generate the rest of the Fibonacci numbers up to n\n",
    "    for i in range(2, n):\n",
    "        # Add the sum of the last two numbers in the list\n",
    "        fibonacci.append(fibonacci[-1] + fibonacci[-2])\n",
    "\n",
    "    return fibonacci\n",
    "\n",
    "# Example usage\n",
    "first_10_fibonacci = generate_fibonacci(10)\n",
    "\n",
    "# Output the result\n",
    "print(\"The first 10 Fibonacci numbers are:\", first_10_fibonacci)\n"
   ]
  },
  {
   "cell_type": "markdown",
   "id": "57c29c65",
   "metadata": {},
   "source": [
    "\n"
   ]
  },
  {
   "cell_type": "code",
   "execution_count": null,
   "id": "8c699791",
   "metadata": {},
   "outputs": [],
   "source": [
    "30. Check if a list is sorted?\n"
   ]
  },
  {
   "cell_type": "code",
   "execution_count": 3,
   "id": "0797aa70",
   "metadata": {},
   "outputs": [
    {
     "name": "stdout",
     "output_type": "stream",
     "text": [
      "Is list1 sorted? True\n",
      "Is list2 sorted? False\n"
     ]
    }
   ],
   "source": [
    "def is_sorted(lst):\n",
    "    \"\"\"\n",
    "    Checks if a list is sorted in ascending order.\n",
    "\n",
    "    Args:\n",
    "        lst (list): The list to check.\n",
    "\n",
    "    Returns:\n",
    "        bool: True if the list is sorted, False otherwise.\n",
    "    \"\"\"\n",
    "    # Compare each element with the next one\n",
    "    for i in range(len(lst) - 1):\n",
    "        if lst[i] > lst[i + 1]:  # If the current element is greater than the next, the list is not sorted\n",
    "            return False\n",
    "    return True  # If no elements are out of order, the list is sorted\n",
    "\n",
    "# Example usage\n",
    "list1 = [1, 2, 3, 4, 5]\n",
    "list2 = [5, 3, 2, 1]\n",
    "\n",
    "print(\"Is list1 sorted?\", is_sorted(list1))  # True\n",
    "print(\"Is list2 sorted?\", is_sorted(list2))  # False\n"
   ]
  },
  {
   "cell_type": "markdown",
   "id": "cc1d29f4",
   "metadata": {},
   "source": []
  },
  {
   "cell_type": "code",
   "execution_count": null,
   "id": "72822436",
   "metadata": {},
   "outputs": [],
   "source": [
    "31. Extract the username from an email address string?"
   ]
  },
  {
   "cell_type": "code",
   "execution_count": 1,
   "id": "57c30526",
   "metadata": {},
   "outputs": [
    {
     "name": "stdout",
     "output_type": "stream",
     "text": [
      "Username: user\n"
     ]
    }
   ],
   "source": [
    "def extract_username(email):\n",
    "    \"\"\"\n",
    "    Extracts the username from an email address.\n",
    "\n",
    "    Args:\n",
    "        email (str): The email address string.\n",
    "\n",
    "    Returns:\n",
    "        str: The username part of the email.\n",
    "    \"\"\"\n",
    "    # Split the email address at the '@' symbol\n",
    "    username = email.split('@')[0]\n",
    "    return username\n",
    "\n",
    "# Example usage\n",
    "email_address = \"user@example.com\"\n",
    "username = extract_username(email_address)\n",
    "print(\"Username:\", username)\n"
   ]
  },
  {
   "cell_type": "markdown",
   "id": "5e2bcba0",
   "metadata": {},
   "source": []
  },
  {
   "cell_type": "code",
   "execution_count": null,
   "id": "91e991ec",
   "metadata": {},
   "outputs": [],
   "source": [
    "32. Extract the domain name from an email address string?"
   ]
  },
  {
   "cell_type": "code",
   "execution_count": 2,
   "id": "bbcd9fc1",
   "metadata": {},
   "outputs": [
    {
     "name": "stdout",
     "output_type": "stream",
     "text": [
      "Domain: example.com\n"
     ]
    }
   ],
   "source": [
    "def extract_domain(email):\n",
    "    \"\"\"\n",
    "    Extracts the domain name from an email address.\n",
    "\n",
    "    Args:\n",
    "        email (str): The email address string.\n",
    "\n",
    "    Returns:\n",
    "        str: The domain part of the email.\n",
    "    \"\"\"\n",
    "    # Split the email address at the '@' symbol\n",
    "    domain = email.split('@')[1]\n",
    "    return domain\n",
    "\n",
    "# Example usage\n",
    "email_address = \"user@example.com\"\n",
    "domain = extract_domain(email_address)\n",
    "print(\"Domain:\", domain)\n"
   ]
  },
  {
   "cell_type": "markdown",
   "id": "b16a9bdb",
   "metadata": {},
   "source": []
  },
  {
   "cell_type": "code",
   "execution_count": null,
   "id": "d576c5cb",
   "metadata": {},
   "outputs": [],
   "source": [
    "33. Replace multiple spaces in a string with a single space?"
   ]
  },
  {
   "cell_type": "code",
   "execution_count": 3,
   "id": "1b24b3ef",
   "metadata": {},
   "outputs": [
    {
     "name": "stdout",
     "output_type": "stream",
     "text": [
      "Original String: This    is  a    string   with   multiple    spaces.\n",
      "Modified String: This is a string with multiple spaces.\n"
     ]
    }
   ],
   "source": [
    "def replace_multiple_spaces(string):\n",
    "    \"\"\"\n",
    "    Replaces multiple spaces in a string with a single space.\n",
    "\n",
    "    Args:\n",
    "        string (str): The input string.\n",
    "\n",
    "    Returns:\n",
    "        str: The modified string with single spaces.\n",
    "    \"\"\"\n",
    "    # Split the string into words, automatically removing extra spaces\n",
    "    words = string.split()\n",
    "    # Join the words with a single space\n",
    "    result = ' '.join(words)\n",
    "    return result\n",
    "\n",
    "# Example usage\n",
    "input_string = \"This    is  a    string   with   multiple    spaces.\"\n",
    "output_string = replace_multiple_spaces(input_string)\n",
    "print(\"Original String:\", input_string)\n",
    "print(\"Modified String:\", output_string)\n"
   ]
  },
  {
   "cell_type": "markdown",
   "id": "90344974",
   "metadata": {},
   "source": []
  },
  {
   "cell_type": "code",
   "execution_count": null,
   "id": "27bc42c7",
   "metadata": {},
   "outputs": [],
   "source": [
    "34. Check if a string is a valid URL?\n"
   ]
  },
  {
   "cell_type": "code",
   "execution_count": 4,
   "id": "5225151e",
   "metadata": {},
   "outputs": [
    {
     "name": "stdout",
     "output_type": "stream",
     "text": [
      "Is 'https://www.example.com' a valid URL? True\n",
      "Is 'invalid-url' a valid URL? False\n"
     ]
    }
   ],
   "source": [
    "import re\n",
    "\n",
    "def is_valid_url(url):\n",
    "    \"\"\"\n",
    "    Checks if a string is a valid URL.\n",
    "\n",
    "    Args:\n",
    "        url (str): The string to validate.\n",
    "\n",
    "    Returns:\n",
    "        bool: True if the string is a valid URL, False otherwise.\n",
    "    \"\"\"\n",
    "    # Regular expression pattern for validating URLs\n",
    "    url_pattern = re.compile(\n",
    "        r'^(https?|ftp)://'               # Protocol (http, https, or ftp)\n",
    "        r'([a-zA-Z0-9.-]+)'               # Domain name or IP\n",
    "        r'(:[0-9]+)?'                    # Optional port\n",
    "        r'(/.*)?$',                      # Optional path, query, and fragment\n",
    "        re.IGNORECASE                    # Case-insensitive\n",
    "    )\n",
    "    # Match the pattern with the input URL\n",
    "    return re.match(url_pattern, url) is not None\n",
    "\n",
    "# Example usage\n",
    "test_url_1 = \"https://www.example.com\"\n",
    "test_url_2 = \"invalid-url\"\n",
    "\n",
    "print(f\"Is '{test_url_1}' a valid URL? {is_valid_url(test_url_1)}\")\n",
    "print(f\"Is '{test_url_2}' a valid URL? {is_valid_url(test_url_2)}\")\n"
   ]
  },
  {
   "cell_type": "markdown",
   "id": "2b1802f0",
   "metadata": {},
   "source": []
  },
  {
   "cell_type": "code",
   "execution_count": null,
   "id": "05e654a2",
   "metadata": {},
   "outputs": [],
   "source": [
    "35. Extract the protocol (http or https) from a URL string?"
   ]
  },
  {
   "cell_type": "code",
   "execution_count": 5,
   "id": "8ae9d304",
   "metadata": {},
   "outputs": [
    {
     "name": "stdout",
     "output_type": "stream",
     "text": [
      "Protocol of 'https://www.example.com': https\n",
      "Protocol of 'http://example.org': http\n"
     ]
    }
   ],
   "source": [
    "from urllib.parse import urlparse\n",
    "\n",
    "def extract_protocol(url):\n",
    "    \"\"\"\n",
    "    Extracts the protocol (http or https) from a URL.\n",
    "\n",
    "    Args:\n",
    "        url (str): The URL string.\n",
    "\n",
    "    Returns:\n",
    "        str: The protocol (e.g., 'http' or 'https').\n",
    "    \"\"\"\n",
    "    parsed_url = urlparse(url)  # Parse the URL\n",
    "    return parsed_url.scheme    # Extract the protocol\n",
    "\n",
    "# Example usage\n",
    "url_1 = \"https://www.example.com\"\n",
    "url_2 = \"http://example.org\"\n",
    "\n",
    "print(f\"Protocol of '{url_1}': {extract_protocol(url_1)}\")\n",
    "print(f\"Protocol of '{url_2}': {extract_protocol(url_2)}\")\n"
   ]
  },
  {
   "cell_type": "markdown",
   "id": "52ac339b",
   "metadata": {},
   "source": []
  },
  {
   "cell_type": "code",
   "execution_count": null,
   "id": "42c46736",
   "metadata": {},
   "outputs": [],
   "source": [
    "36. Replace every element in a list with its square?"
   ]
  },
  {
   "cell_type": "code",
   "execution_count": 1,
   "id": "0348e5bb",
   "metadata": {},
   "outputs": [
    {
     "name": "stdout",
     "output_type": "stream",
     "text": [
      "Original List: [1, 2, 3, 4, 5]\n",
      "Squared List: [1, 4, 9, 16, 25]\n"
     ]
    }
   ],
   "source": [
    "def square_elements_loop(lst):\n",
    "    \"\"\"\n",
    "    Squares each element in the list using a for loop.\n",
    "\n",
    "    Args:\n",
    "        lst (list): A list of integers or floats.\n",
    "\n",
    "    Returns:\n",
    "        list: A new list where each element is squared.\n",
    "    \"\"\"\n",
    "    squared_list = []\n",
    "    for num in lst:\n",
    "        squared_list.append(num ** 2)\n",
    "    return squared_list\n",
    "\n",
    "# Example usage\n",
    "numbers = [1, 2, 3, 4, 5]\n",
    "squared_numbers = square_elements_loop(numbers)\n",
    "print(f\"Original List: {numbers}\")\n",
    "print(f\"Squared List: {squared_numbers}\")\n"
   ]
  },
  {
   "cell_type": "markdown",
   "id": "df57b3bf",
   "metadata": {},
   "source": []
  },
  {
   "cell_type": "code",
   "execution_count": null,
   "id": "5848cf44",
   "metadata": {},
   "outputs": [],
   "source": [
    "37. Convert a list to a dictionary where list elements become keys and their\n",
    "indices become values?\n"
   ]
  },
  {
   "cell_type": "code",
   "execution_count": 2,
   "id": "24010649",
   "metadata": {},
   "outputs": [
    {
     "name": "stdout",
     "output_type": "stream",
     "text": [
      "Original List: ['a', 'b', 'c', 'd']\n",
      "Converted Dictionary: {'a': 0, 'b': 1, 'c': 2, 'd': 3}\n"
     ]
    }
   ],
   "source": [
    "def list_to_dict_loop(lst):\n",
    "    \"\"\"\n",
    "    Converts a list into a dictionary using a for loop.\n",
    "\n",
    "    Args:\n",
    "        lst (list): The input list.\n",
    "\n",
    "    Returns:\n",
    "        dict: A dictionary with elements as keys and indices as values.\n",
    "    \"\"\"\n",
    "    dictionary = {}\n",
    "    for index, value in enumerate(lst):\n",
    "        dictionary[value] = index\n",
    "    return dictionary\n",
    "\n",
    "# Example usage\n",
    "my_list = ['a', 'b', 'c', 'd']\n",
    "result = list_to_dict_loop(my_list)\n",
    "print(f\"Original List: {my_list}\")\n",
    "print(f\"Converted Dictionary: {result}\")\n"
   ]
  },
  {
   "cell_type": "markdown",
   "id": "8cd19841",
   "metadata": {},
   "source": []
  },
  {
   "cell_type": "code",
   "execution_count": null,
   "id": "5ef0036c",
   "metadata": {},
   "outputs": [],
   "source": [
    "38. Shuffle the elements of a list randomly?"
   ]
  },
  {
   "cell_type": "code",
   "execution_count": 3,
   "id": "fde04e60",
   "metadata": {},
   "outputs": [
    {
     "name": "stdout",
     "output_type": "stream",
     "text": [
      "Original List: [1, 2, 3, 4, 5, 6]\n",
      "Shuffled List: [6, 4, 3, 5, 1, 2]\n"
     ]
    }
   ],
   "source": [
    "import random\n",
    "\n",
    "def shuffle_list(lst):\n",
    "    \"\"\"\n",
    "    Shuffles the elements of a list randomly.\n",
    "\n",
    "    Args:\n",
    "        lst (list): The input list to be shuffled.\n",
    "\n",
    "    Returns:\n",
    "        list: The shuffled list.\n",
    "    \"\"\"\n",
    "    # Use random.shuffle to shuffle the list in place\n",
    "    random.shuffle(lst)\n",
    "    return lst\n",
    "\n",
    "# Example usage\n",
    "original_list = [1, 2, 3, 4, 5, 6]\n",
    "print(f\"Original List: {original_list}\")\n",
    "\n",
    "shuffled_list = original_list[:]  # Create a copy to preserve the original list\n",
    "shuffle_list(shuffled_list)\n",
    "\n",
    "print(f\"Shuffled List: {shuffled_list}\")\n"
   ]
  },
  {
   "cell_type": "markdown",
   "id": "d0662999",
   "metadata": {},
   "source": []
  },
  {
   "cell_type": "code",
   "execution_count": null,
   "id": "c380bbe4",
   "metadata": {},
   "outputs": [],
   "source": [
    "39. Create a list of the first 10 factorial numbers?\n"
   ]
  },
  {
   "cell_type": "code",
   "execution_count": 4,
   "id": "0b39f677",
   "metadata": {},
   "outputs": [
    {
     "name": "stdout",
     "output_type": "stream",
     "text": [
      "The first 10 factorial numbers are: [1, 2, 6, 24, 120, 720, 5040, 40320, 362880, 3628800]\n"
     ]
    }
   ],
   "source": [
    "def factorial(n):\n",
    "    \"\"\"\n",
    "    Calculates the factorial of a number n.\n",
    "    \n",
    "    Args:\n",
    "        n (int): The number to calculate the factorial for.\n",
    "    \n",
    "    Returns:\n",
    "        int: The factorial of n.\n",
    "    \"\"\"\n",
    "    result = 1\n",
    "    for i in range(1, n + 1):\n",
    "        result *= i\n",
    "    return result\n",
    "\n",
    "def generate_factorial_list(count):\n",
    "    \"\"\"\n",
    "    Generates a list of the first `count` factorial numbers.\n",
    "    \n",
    "    Args:\n",
    "        count (int): The number of factorials to generate.\n",
    "    \n",
    "    Returns:\n",
    "        list: A list of factorial numbers.\n",
    "    \"\"\"\n",
    "    return [factorial(i) for i in range(1, count + 1)]\n",
    "\n",
    "# Example usage\n",
    "factorial_list = generate_factorial_list(10)\n",
    "print(f\"The first 10 factorial numbers are: {factorial_list}\")\n"
   ]
  },
  {
   "cell_type": "markdown",
   "id": "7264fcce",
   "metadata": {},
   "source": []
  },
  {
   "cell_type": "code",
   "execution_count": null,
   "id": "cdc2c3e4",
   "metadata": {},
   "outputs": [],
   "source": [
    "40. Check if two lists have at least one element in common?"
   ]
  },
  {
   "cell_type": "code",
   "execution_count": 6,
   "id": "21911f12",
   "metadata": {},
   "outputs": [
    {
     "name": "stdout",
     "output_type": "stream",
     "text": [
      "Lists have a common elements: False\n",
      "Lists have a common elements: True\n"
     ]
    }
   ],
   "source": [
    "def have_common_elements_loop(list1, list2):\n",
    "    \"\"\"\n",
    "    Checks if two lists have at least one element in common using a loop.\n",
    "\n",
    "    Args:\n",
    "        list1 (list): First list of elements.\n",
    "        list2 (list): Second list of elements.\n",
    "\n",
    "    Returns:\n",
    "        bool: True if the lists share at least one element, False otherwise.\n",
    "    \"\"\"\n",
    "    for element in list1:\n",
    "        if element in list2:\n",
    "            return True\n",
    "    return False\n",
    "\n",
    "# Example usage\n",
    "list_a = [1, 2, 3, 4]\n",
    "list_b = [7, 8, 9]\n",
    "print(\"Lists have a common elements:\", have_common_elements_loop(list_a, list_b))\n",
    "\n",
    "list_a = [1, 2, 3, 4]\n",
    "list_b = [2, 7, 8, 9]\n",
    "print(\"Lists have a common elements:\", have_common_elements_loop(list_a, list_b))"
   ]
  },
  {
   "cell_type": "markdown",
   "id": "e13ec543",
   "metadata": {},
   "source": []
  },
  {
   "cell_type": "code",
   "execution_count": null,
   "id": "bbeb7e8b",
   "metadata": {},
   "outputs": [],
   "source": [
    "41. Remove all elements from a list? "
   ]
  },
  {
   "cell_type": "code",
   "execution_count": 8,
   "id": "51f9d0a5",
   "metadata": {},
   "outputs": [
    {
     "name": "stdout",
     "output_type": "stream",
     "text": [
      "Original List: [1, 2, 3, 4, 5]\n",
      "List after removing all elements: []\n"
     ]
    }
   ],
   "source": [
    "def remove_all_elements(lst):\n",
    "    \"\"\"\n",
    "    Removes all elements from a list using the clear() method.\n",
    "\n",
    "    Args:\n",
    "        lst (list): The list to clear.\n",
    "\n",
    "    Returns:\n",
    "        None\n",
    "    \"\"\"\n",
    "    lst.clear()\n",
    "\n",
    "# Example usage\n",
    "my_list = [1, 2, 3, 4, 5]\n",
    "print(\"Original List:\", my_list)\n",
    "\n",
    "remove_all_elements(my_list)\n",
    "print(\"List after removing all elements:\", my_list)\n"
   ]
  },
  {
   "cell_type": "code",
   "execution_count": null,
   "id": "7d5d3d64",
   "metadata": {},
   "outputs": [],
   "source": []
  },
  {
   "cell_type": "code",
   "execution_count": null,
   "id": "73c31410",
   "metadata": {},
   "outputs": [],
   "source": [
    "42. Replace negative numbers in a list with 0?"
   ]
  },
  {
   "cell_type": "code",
   "execution_count": 9,
   "id": "8d5c5a8a",
   "metadata": {},
   "outputs": [
    {
     "name": "stdout",
     "output_type": "stream",
     "text": [
      "Original List: [5, -3, 7, -1, 0, 4, -9]\n",
      "Modified List: [5, 0, 7, 0, 0, 4, 0]\n"
     ]
    }
   ],
   "source": [
    "def replace_negatives_with_zero(lst):\n",
    "    \"\"\"\n",
    "    Replaces all negative numbers in a list with 0 using list comprehension.\n",
    "\n",
    "    Args:\n",
    "        lst (list): A list of integers.\n",
    "\n",
    "    Returns:\n",
    "        list: A new list with negative numbers replaced by 0.\n",
    "    \"\"\"\n",
    "    return [0 if num < 0 else num for num in lst]\n",
    "\n",
    "# Example usage\n",
    "numbers = [5, -3, 7, -1, 0, 4, -9]\n",
    "result = replace_negatives_with_zero(numbers)\n",
    "print(\"Original List:\", numbers)\n",
    "print(\"Modified List:\", result)\n"
   ]
  },
  {
   "cell_type": "markdown",
   "id": "0c54d2d4",
   "metadata": {},
   "source": []
  },
  {
   "cell_type": "code",
   "execution_count": null,
   "id": "b34e7828",
   "metadata": {},
   "outputs": [],
   "source": [
    "43. Convert a string into a list of words.?"
   ]
  },
  {
   "cell_type": "code",
   "execution_count": 1,
   "id": "bd4a606c",
   "metadata": {},
   "outputs": [
    {
     "name": "stdout",
     "output_type": "stream",
     "text": [
      "Original String: Python is a powerful programming language\n",
      "List of Words: ['Python', 'is', 'a', 'powerful', 'programming', 'language']\n"
     ]
    }
   ],
   "source": [
    "def string_to_list_of_words(input_string):\n",
    "    \"\"\"\n",
    "    Converts a string into a list of words by splitting at spaces.\n",
    "\n",
    "    Args:\n",
    "        input_string (str): The input string to be split.\n",
    "\n",
    "    Returns:\n",
    "        list: A list of words in the string.\n",
    "    \"\"\"\n",
    "    # Using split() method to divide the string by spaces\n",
    "    word_list = input_string.split()\n",
    "    return word_list\n",
    "\n",
    "# Example usage\n",
    "input_string = \"Python is a powerful programming language\"\n",
    "result = string_to_list_of_words(input_string)\n",
    "print(\"Original String:\", input_string)\n",
    "print(\"List of Words:\", result)\n"
   ]
  },
  {
   "cell_type": "markdown",
   "id": "a785d109",
   "metadata": {},
   "source": []
  },
  {
   "cell_type": "code",
   "execution_count": null,
   "id": "89633444",
   "metadata": {},
   "outputs": [],
   "source": [
    "44. Convert a list of words into a string?\n"
   ]
  },
  {
   "cell_type": "code",
   "execution_count": 2,
   "id": "e6cdcea0",
   "metadata": {},
   "outputs": [
    {
     "name": "stdout",
     "output_type": "stream",
     "text": [
      "Original List: ['Python', 'is', 'a', 'powerful', 'language']\n",
      "Converted String: Python is a powerful language\n"
     ]
    }
   ],
   "source": [
    "def list_to_string(word_list):\n",
    "    \"\"\"\n",
    "    Converts a list of words into a single string.\n",
    "\n",
    "    Args:\n",
    "        word_list (list): A list of words to be joined.\n",
    "\n",
    "    Returns:\n",
    "        str: A single string created from the list of words.\n",
    "    \"\"\"\n",
    "    # Use the join method with space as the separator\n",
    "    result_string = \" \".join(word_list)\n",
    "    return result_string\n",
    "\n",
    "# Example usage\n",
    "word_list = ['Python', 'is', 'a', 'powerful', 'language']\n",
    "result = list_to_string(word_list)\n",
    "print(\"Original List:\", word_list)\n",
    "print(\"Converted String:\", result)\n"
   ]
  },
  {
   "cell_type": "markdown",
   "id": "8c4cd62e",
   "metadata": {},
   "source": []
  },
  {
   "cell_type": "code",
   "execution_count": null,
   "id": "d23fd891",
   "metadata": {},
   "outputs": [],
   "source": [
    "45. Create a list of the first `n` powers of 2?"
   ]
  },
  {
   "cell_type": "code",
   "execution_count": 3,
   "id": "68342e78",
   "metadata": {},
   "outputs": [
    {
     "name": "stdout",
     "output_type": "stream",
     "text": [
      "The first 10 powers of 2: [1, 2, 4, 8, 16, 32, 64, 128, 256, 512]\n"
     ]
    }
   ],
   "source": [
    "def generate_powers_of_2(n):\n",
    "    \"\"\"\n",
    "    Generates a list of the first `n` powers of 2.\n",
    "\n",
    "    Args:\n",
    "        n (int): The number of powers of 2 to generate.\n",
    "\n",
    "    Returns:\n",
    "        list: A list containing the first `n` powers of 2.\n",
    "    \"\"\"\n",
    "    # Generate the list using list comprehension\n",
    "    powers_of_2 = [2 ** i for i in range(n)]\n",
    "    return powers_of_2\n",
    "\n",
    "# Example usage\n",
    "n = 10\n",
    "result = generate_powers_of_2(n)\n",
    "print(f\"The first {n} powers of 2:\", result)\n"
   ]
  },
  {
   "cell_type": "markdown",
   "id": "94095f5d",
   "metadata": {},
   "source": []
  },
  {
   "cell_type": "code",
   "execution_count": null,
   "id": "3672a9ad",
   "metadata": {},
   "outputs": [],
   "source": [
    "46. Find the longest string in a list of strings?"
   ]
  },
  {
   "cell_type": "code",
   "execution_count": 4,
   "id": "362cea48",
   "metadata": {},
   "outputs": [
    {
     "name": "stdout",
     "output_type": "stream",
     "text": [
      "The longest string is: hippopotamus\n"
     ]
    }
   ],
   "source": [
    "def find_longest_string(strings):\n",
    "    \"\"\"\n",
    "    Finds the longest string in a list of strings.\n",
    "\n",
    "    Args:\n",
    "        strings (list): A list of strings.\n",
    "\n",
    "    Returns:\n",
    "        str: The longest string in the list. If there are ties, the first one is returned.\n",
    "    \"\"\"\n",
    "    # Use max() with key=len to find the longest string\n",
    "    longest = max(strings, key=len)\n",
    "    return longest\n",
    "\n",
    "# Example usage\n",
    "strings = [\"cat\", \"elephant\", \"giraffe\", \"hippopotamus\"]\n",
    "longest_string = find_longest_string(strings)\n",
    "print(\"The longest string is:\", longest_string)\n"
   ]
  },
  {
   "cell_type": "markdown",
   "id": "7981c3ef",
   "metadata": {},
   "source": []
  },
  {
   "cell_type": "code",
   "execution_count": null,
   "id": "6774223c",
   "metadata": {},
   "outputs": [],
   "source": [
    "47. Find the shortest string in a list of strings?"
   ]
  },
  {
   "cell_type": "code",
   "execution_count": 5,
   "id": "f29ff351",
   "metadata": {},
   "outputs": [
    {
     "name": "stdout",
     "output_type": "stream",
     "text": [
      "The shortest string is: kiwi\n"
     ]
    }
   ],
   "source": [
    "def find_shortest_string(strings):\n",
    "    \"\"\"\n",
    "    Finds the shortest string in a list of strings.\n",
    "\n",
    "    Args:\n",
    "        strings (list): A list of strings.\n",
    "\n",
    "    Returns:\n",
    "        str: The shortest string in the list. If there are ties, the first one is returned.\n",
    "    \"\"\"\n",
    "    # Use min() with key=len to find the shortest string\n",
    "    shortest = min(strings, key=len)\n",
    "    return shortest\n",
    "\n",
    "# Example usage\n",
    "strings = [\"apple\", \"banana\", \"kiwi\", \"grape\", \"pear\"]\n",
    "shortest_string = find_shortest_string(strings)\n",
    "print(\"The shortest string is:\", shortest_string)\n"
   ]
  },
  {
   "cell_type": "markdown",
   "id": "9ae0628d",
   "metadata": {},
   "source": []
  },
  {
   "cell_type": "code",
   "execution_count": null,
   "id": "19d4e2c1",
   "metadata": {},
   "outputs": [],
   "source": [
    "48. Create a list of the first `n` triangular numbers?"
   ]
  },
  {
   "cell_type": "code",
   "execution_count": 6,
   "id": "665b3118",
   "metadata": {},
   "outputs": [
    {
     "name": "stdout",
     "output_type": "stream",
     "text": [
      "First 10 triangular numbers: [1, 3, 6, 10, 15, 21, 28, 36, 45, 55]\n"
     ]
    }
   ],
   "source": [
    "def generate_triangular_numbers(n):\n",
    "    \"\"\"\n",
    "    Generates the first n triangular numbers.\n",
    "\n",
    "    Args:\n",
    "        n (int): The number of triangular numbers to generate.\n",
    "\n",
    "    Returns:\n",
    "        list: A list of the first n triangular numbers.\n",
    "    \"\"\"\n",
    "    triangular_numbers = []\n",
    "    \n",
    "    # Loop through numbers from 1 to n\n",
    "    for i in range(1, n + 1):\n",
    "        # Calculate the triangular number using the formula\n",
    "        triangular_number = (i * (i + 1)) // 2\n",
    "        triangular_numbers.append(triangular_number)\n",
    "    \n",
    "    return triangular_numbers\n",
    "\n",
    "# Example usage\n",
    "n = 10\n",
    "triangular_list = generate_triangular_numbers(n)\n",
    "print(\"First\", n, \"triangular numbers:\", triangular_list)\n"
   ]
  },
  {
   "cell_type": "markdown",
   "id": "8ec7615e",
   "metadata": {},
   "source": []
  },
  {
   "cell_type": "code",
   "execution_count": null,
   "id": "e83671d7",
   "metadata": {},
   "outputs": [],
   "source": [
    "49. Check if a list contains another list as a subsequence?"
   ]
  },
  {
   "cell_type": "code",
   "execution_count": 7,
   "id": "aab0e8b9",
   "metadata": {},
   "outputs": [
    {
     "name": "stdout",
     "output_type": "stream",
     "text": [
      "Is subsequence: True\n"
     ]
    }
   ],
   "source": [
    "def contains_subsequence(main_list, sub_list):\n",
    "    \"\"\"\n",
    "    Checks if main_list contains sub_list as a subsequence.\n",
    "\n",
    "    Args:\n",
    "        main_list (list): The list to search within.\n",
    "        sub_list (list): The list to search for.\n",
    "\n",
    "    Returns:\n",
    "        bool: True if sub_list is a subsequence of main_list, otherwise False.\n",
    "    \"\"\"\n",
    "    if not sub_list:  # An empty subsequence is always found\n",
    "        return True\n",
    "\n",
    "    # Pointers for main_list and sub_list\n",
    "    i, j = 0, 0\n",
    "\n",
    "    # Iterate through main_list\n",
    "    while i < len(main_list) and j < len(sub_list):\n",
    "        if main_list[i] == sub_list[j]:\n",
    "            j += 1  # Move sub_list pointer if there's a match\n",
    "        i += 1  # Always move main_list pointer\n",
    "\n",
    "    # If all elements of sub_list were found in order\n",
    "    return j == len(sub_list)\n",
    "\n",
    "# Example usage\n",
    "main_list = [1, 2, 3, 4, 5]\n",
    "sub_list = [2, 4]\n",
    "\n",
    "result = contains_subsequence(main_list, sub_list)\n",
    "print(\"Is subsequence:\", result)\n"
   ]
  },
  {
   "cell_type": "markdown",
   "id": "ac28a50c",
   "metadata": {},
   "source": []
  },
  {
   "cell_type": "code",
   "execution_count": null,
   "id": "da1843b0",
   "metadata": {},
   "outputs": [],
   "source": [
    "50. Swap two elements in a list by their indices?"
   ]
  },
  {
   "cell_type": "code",
   "execution_count": 8,
   "id": "09b36d73",
   "metadata": {},
   "outputs": [
    {
     "name": "stdout",
     "output_type": "stream",
     "text": [
      "List after swapping: [10, 40, 30, 20, 50]\n"
     ]
    }
   ],
   "source": [
    "def swap_elements(lst, index1, index2):\n",
    "    \"\"\"\n",
    "    Swaps two elements in a list by their indices.\n",
    "\n",
    "    Args:\n",
    "        lst (list): The list containing elements to swap.\n",
    "        index1 (int): The index of the first element.\n",
    "        index2 (int): The index of the second element.\n",
    "\n",
    "    Returns:\n",
    "        list: The list after swapping the elements.\n",
    "    \"\"\"\n",
    "    # Swap the elements using tuple unpacking\n",
    "    lst[index1], lst[index2] = lst[index2], lst[index1]\n",
    "    return lst\n",
    "\n",
    "# Example usage\n",
    "my_list = [10, 20, 30, 40, 50]\n",
    "index1 = 1\n",
    "index2 = 3\n",
    "\n",
    "result = swap_elements(my_list, index1, index2)\n",
    "print(\"List after swapping:\", result)\n"
   ]
  },
  {
   "cell_type": "markdown",
   "id": "1353d016",
   "metadata": {},
   "source": []
  },
  {
   "cell_type": "markdown",
   "id": "1ac1150d",
   "metadata": {},
   "source": [
    "# Tuple Based Practice Problem :"
   ]
  },
  {
   "cell_type": "code",
   "execution_count": null,
   "id": "7c1aef75",
   "metadata": {},
   "outputs": [],
   "source": [
    "1. Create a tuple with integers from 1 to 5?"
   ]
  },
  {
   "cell_type": "code",
   "execution_count": 1,
   "id": "690c7857",
   "metadata": {},
   "outputs": [
    {
     "name": "stdout",
     "output_type": "stream",
     "text": [
      "The tuple with integers from 1 to 5 is: (1, 2, 3, 4, 5)\n"
     ]
    }
   ],
   "source": [
    "# Step 1: Define the tuple\n",
    "# A tuple is a collection that is ordered and immutable (cannot be changed after creation).\n",
    "# It is defined using parentheses.\n",
    "numbers_tuple = (1, 2, 3, 4, 5)\n",
    "\n",
    "# Step 2: Print the tuple to verify its contents\n",
    "# The `print` function is used to display the value of the tuple.\n",
    "print(\"The tuple with integers from 1 to 5 is:\", numbers_tuple)\n"
   ]
  },
  {
   "cell_type": "markdown",
   "id": "b67443b3",
   "metadata": {},
   "source": []
  },
  {
   "cell_type": "code",
   "execution_count": null,
   "id": "a7f15fef",
   "metadata": {},
   "outputs": [],
   "source": [
    "2. Access the third element of a tuple?"
   ]
  },
  {
   "cell_type": "code",
   "execution_count": 2,
   "id": "374a71b1",
   "metadata": {},
   "outputs": [
    {
     "name": "stdout",
     "output_type": "stream",
     "text": [
      "The third element of the tuple is: 30\n"
     ]
    }
   ],
   "source": [
    "# Define a tuple with multiple elements\n",
    "my_tuple = (10, 20, 30, 40, 50)\n",
    "\n",
    "# Access the third element (index 2) of the tuple\n",
    "third_element = my_tuple[2]\n",
    "\n",
    "# Print the third element\n",
    "print(\"The third element of the tuple is:\", third_element)\n"
   ]
  },
  {
   "cell_type": "markdown",
   "id": "e6a42a90",
   "metadata": {},
   "source": []
  },
  {
   "cell_type": "code",
   "execution_count": null,
   "id": "09a1d7ea",
   "metadata": {},
   "outputs": [],
   "source": [
    "3. Find the length of a tuple without using the `len()` function?"
   ]
  },
  {
   "cell_type": "code",
   "execution_count": 3,
   "id": "cc6f6cca",
   "metadata": {},
   "outputs": [
    {
     "name": "stdout",
     "output_type": "stream",
     "text": [
      "The length of the tuple is: 5\n"
     ]
    }
   ],
   "source": [
    "# Initialize the tuple\n",
    "my_tuple = (10, 20, 30, 40, 50)\n",
    "\n",
    "# Initialize a counter variable\n",
    "length = 0\n",
    "\n",
    "# Iterate through the tuple\n",
    "for _ in my_tuple:\n",
    "    # Increment the counter for each element in the tuple\n",
    "    length += 1\n",
    "\n",
    "# Display the length of the tuple\n",
    "print(\"The length of the tuple is:\", length)\n"
   ]
  },
  {
   "cell_type": "markdown",
   "id": "61f29f7e",
   "metadata": {},
   "source": []
  },
  {
   "cell_type": "code",
   "execution_count": 5,
   "id": "b07e234c",
   "metadata": {},
   "outputs": [],
   "source": [
    "4. Count the occurrences of an element in a tuple?\n"
   ]
  },
  {
   "cell_type": "code",
   "execution_count": 6,
   "id": "7a6ceaff",
   "metadata": {},
   "outputs": [
    {
     "name": "stdout",
     "output_type": "stream",
     "text": [
      "The element 2 occurs 4 times in the tuple.\n"
     ]
    }
   ],
   "source": [
    "\n",
    "\n",
    "# Define a tuple with some elements\n",
    "example_tuple = (1, 2, 3, 4, 2, 2, 5, 6, 2)\n",
    "\n",
    "# Define the element to count\n",
    "target_element = 2\n",
    "\n",
    "# Use the count() method to find occurrences of the element in the tuple\n",
    "occurrences = example_tuple.count(target_element)\n",
    "\n",
    "# Print the result with an explanation\n",
    "print(f\"The element {target_element} occurs {occurrences} times in the tuple.\")\n",
    "\n",
    "\n"
   ]
  },
  {
   "cell_type": "markdown",
   "id": "ce8f54e4",
   "metadata": {},
   "source": []
  },
  {
   "cell_type": "code",
   "execution_count": null,
   "id": "1cc60c2a",
   "metadata": {},
   "outputs": [],
   "source": [
    "5. Find the index of the first occurrence of an element in a tuple?"
   ]
  },
  {
   "cell_type": "code",
   "execution_count": 7,
   "id": "41921d0b",
   "metadata": {},
   "outputs": [
    {
     "name": "stdout",
     "output_type": "stream",
     "text": [
      "The first occurrence of 20 is at index 1.\n"
     ]
    }
   ],
   "source": [
    "# Define a tuple with some elements\n",
    "my_tuple = (10, 20, 30, 20, 40, 50)\n",
    "\n",
    "# Specify the element to find\n",
    "element_to_find = 20\n",
    "\n",
    "# Use the index() method to find the first occurrence of the element\n",
    "try:\n",
    "    index = my_tuple.index(element_to_find)\n",
    "    print(f\"The first occurrence of {element_to_find} is at index {index}.\")\n",
    "except ValueError:\n",
    "    print(f\"The element {element_to_find} is not in the tuple.\")\n"
   ]
  },
  {
   "cell_type": "markdown",
   "id": "87c1a647",
   "metadata": {},
   "source": []
  },
  {
   "cell_type": "code",
   "execution_count": null,
   "id": "6b7f5cf5",
   "metadata": {},
   "outputs": [],
   "source": [
    "6. Check if an element exists in a tuple?"
   ]
  },
  {
   "cell_type": "code",
   "execution_count": 8,
   "id": "2cfc00a9",
   "metadata": {},
   "outputs": [
    {
     "name": "stdout",
     "output_type": "stream",
     "text": [
      "The element 30 exists in the tuple.\n"
     ]
    }
   ],
   "source": [
    "# Define a tuple with some elements\n",
    "example_tuple = (10, 20, 30, 40, 50)\n",
    "\n",
    "# Element to check\n",
    "element_to_check = 30\n",
    "\n",
    "# Check if the element exists in the tuple using 'in' keyword\n",
    "if element_to_check in example_tuple:\n",
    "    print(f\"The element {element_to_check} exists in the tuple.\")\n",
    "else:\n",
    "    print(f\"The element {element_to_check} does not exist in the tuple.\")\n"
   ]
  },
  {
   "cell_type": "markdown",
   "id": "338d41f7",
   "metadata": {},
   "source": []
  },
  {
   "cell_type": "code",
   "execution_count": null,
   "id": "5c273cab",
   "metadata": {},
   "outputs": [],
   "source": [
    "7. Convert a tuple to a list?"
   ]
  },
  {
   "cell_type": "code",
   "execution_count": 9,
   "id": "4c6588a0",
   "metadata": {},
   "outputs": [
    {
     "name": "stdout",
     "output_type": "stream",
     "text": [
      "Original tuple: (1, 2, 3, 4, 5)\n",
      "Converted list: [1, 2, 3, 4, 5]\n"
     ]
    }
   ],
   "source": [
    "# Step 1: Define a tuple\n",
    "my_tuple = (1, 2, 3, 4, 5)  # A tuple is an immutable collection of elements.\n",
    "\n",
    "# Step 2: Convert the tuple to a list\n",
    "my_list = list(my_tuple)  # The built-in list() function is used to convert the tuple to a list.\n",
    "\n",
    "# Step 3: Print the result\n",
    "print(\"Original tuple:\", my_tuple)  # Displays the original tuple to verify it is unchanged.\n",
    "print(\"Converted list:\", my_list)  # Displays the converted list.\n"
   ]
  },
  {
   "cell_type": "markdown",
   "id": "358ffd2d",
   "metadata": {},
   "source": []
  },
  {
   "cell_type": "code",
   "execution_count": null,
   "id": "da4f4a26",
   "metadata": {},
   "outputs": [],
   "source": [
    "8. Convert a list to a tuple?"
   ]
  },
  {
   "cell_type": "code",
   "execution_count": 10,
   "id": "b67a52cc",
   "metadata": {},
   "outputs": [
    {
     "name": "stdout",
     "output_type": "stream",
     "text": [
      "Original List: [1, 2, 3, 4, 5]\n",
      "Converted Tuple: (1, 2, 3, 4, 5)\n"
     ]
    }
   ],
   "source": [
    "# Step 1: Define a list\n",
    "my_list = [1, 2, 3, 4, 5]  # This is a sample list containing integers.\n",
    "\n",
    "# Step 2: Convert the list to a tuple\n",
    "my_tuple = tuple(my_list)  # The `tuple()` function is used to convert the list to a tuple.\n",
    "\n",
    "# Step 3: Display the result\n",
    "print(\"Original List:\", my_list)  # Output the original list\n",
    "print(\"Converted Tuple:\", my_tuple)  # Output the converted tuple\n"
   ]
  },
  {
   "cell_type": "markdown",
   "id": "0e83d5a1",
   "metadata": {},
   "source": []
  },
  {
   "cell_type": "code",
   "execution_count": null,
   "id": "8cd3c812",
   "metadata": {},
   "outputs": [],
   "source": [
    "9. Unpack the elements of a tuple into variables?"
   ]
  },
  {
   "cell_type": "code",
   "execution_count": 11,
   "id": "76247a63",
   "metadata": {},
   "outputs": [
    {
     "name": "stdout",
     "output_type": "stream",
     "text": [
      "Value of a: 10\n",
      "Value of b: 20\n",
      "Value of c: 30\n"
     ]
    }
   ],
   "source": [
    "\n",
    "\n",
    "# Step 1: Define a tuple\n",
    "my_tuple = (10, 20, 30)  # A tuple containing three elements\n",
    "\n",
    "# Step 2: Unpack the tuple into variables\n",
    "a, b, c = my_tuple  # Each element of the tuple is assigned to a variable\n",
    "\n",
    "# Step 3: Print the unpacked values\n",
    "print(\"Value of a:\", a)  # Prints the first element of the tuple\n",
    "print(\"Value of b:\", b)  # Prints the second element of the tuple\n",
    "print(\"Value of c:\", c)  # Prints the third element of the tuple\n"
   ]
  },
  {
   "cell_type": "markdown",
   "id": "4275a9f7",
   "metadata": {},
   "source": []
  },
  {
   "cell_type": "code",
   "execution_count": null,
   "id": "b658716c",
   "metadata": {},
   "outputs": [],
   "source": [
    "10. Create a tuple of even numbers from 1 to 10?"
   ]
  },
  {
   "cell_type": "code",
   "execution_count": 12,
   "id": "d0a93eed",
   "metadata": {},
   "outputs": [
    {
     "name": "stdout",
     "output_type": "stream",
     "text": [
      "(2, 4, 6, 8, 10)\n"
     ]
    }
   ],
   "source": [
    "# Step 1: Use a range to generate numbers from 1 to 10\n",
    "# Step 2: Filter only even numbers using a list comprehension\n",
    "# Step 3: Convert the list of even numbers to a tuple\n",
    "even_numbers = tuple(number for number in range(1, 11) if number % 2 == 0)\n",
    "\n",
    "# Print the tuple to verify the result\n",
    "print(even_numbers)\n"
   ]
  },
  {
   "cell_type": "markdown",
   "id": "5f3b9f19",
   "metadata": {},
   "source": []
  },
  {
   "cell_type": "code",
   "execution_count": null,
   "id": "e1fbbc8b",
   "metadata": {},
   "outputs": [],
   "source": [
    "11. Create a tuple of odd numbers from 1 to 10?"
   ]
  },
  {
   "cell_type": "code",
   "execution_count": 13,
   "id": "bd786b5c",
   "metadata": {},
   "outputs": [
    {
     "name": "stdout",
     "output_type": "stream",
     "text": [
      "(1, 3, 5, 7, 9)\n"
     ]
    }
   ],
   "source": [
    "# Step 1: Use a range to generate numbers from 1 to 10\n",
    "# Step 2: Filter only odd numbers using a list comprehension\n",
    "# Step 3: Convert the list of odd numbers to a tuple\n",
    "odd_numbers = tuple(number for number in range(1, 11) if number % 2 != 0)\n",
    "\n",
    "# Print the tuple to verify the result\n",
    "print(odd_numbers)\n"
   ]
  },
  {
   "cell_type": "markdown",
   "id": "cedf67de",
   "metadata": {},
   "source": []
  },
  {
   "cell_type": "code",
   "execution_count": null,
   "id": "c77260ce",
   "metadata": {},
   "outputs": [],
   "source": [
    "12. Concatenate two tuples?"
   ]
  },
  {
   "cell_type": "code",
   "execution_count": 14,
   "id": "ee18aa52",
   "metadata": {},
   "outputs": [
    {
     "name": "stdout",
     "output_type": "stream",
     "text": [
      "(1, 2, 3, 4, 5, 6)\n"
     ]
    }
   ],
   "source": [
    "# Define two tuples\n",
    "tuple1 = (1, 2, 3)\n",
    "tuple2 = (4, 5, 6)\n",
    "\n",
    "# Concatenate the two tuples using the + operator\n",
    "result_tuple = tuple1 + tuple2\n",
    "\n",
    "# Print the concatenated result\n",
    "print(result_tuple)\n"
   ]
  },
  {
   "cell_type": "markdown",
   "id": "fc8a82ba",
   "metadata": {},
   "source": []
  },
  {
   "cell_type": "code",
   "execution_count": null,
   "id": "67c354ba",
   "metadata": {},
   "outputs": [],
   "source": [
    "13. Repeat a tuple three times?"
   ]
  },
  {
   "cell_type": "code",
   "execution_count": 15,
   "id": "eeb44f8a",
   "metadata": {},
   "outputs": [
    {
     "name": "stdout",
     "output_type": "stream",
     "text": [
      "(1, 2, 3, 1, 2, 3, 1, 2, 3)\n"
     ]
    }
   ],
   "source": [
    "# Step 1: Define a tuple\n",
    "original_tuple = (1, 2, 3)\n",
    "\n",
    "# Step 2: Repeat the tuple three times\n",
    "repeated_tuple = original_tuple * 3\n",
    "\n",
    "# Print the repeated tuple to verify the result\n",
    "print(repeated_tuple)\n"
   ]
  },
  {
   "cell_type": "markdown",
   "id": "3ef534da",
   "metadata": {},
   "source": []
  },
  {
   "cell_type": "code",
   "execution_count": null,
   "id": "258e4496",
   "metadata": {},
   "outputs": [],
   "source": [
    "14. Check if a tuple is empty?"
   ]
  },
  {
   "cell_type": "code",
   "execution_count": 16,
   "id": "f3e5c941",
   "metadata": {},
   "outputs": [
    {
     "name": "stdout",
     "output_type": "stream",
     "text": [
      "The tuple is empty.\n"
     ]
    }
   ],
   "source": [
    "# Define the tuple\n",
    "my_tuple = ()\n",
    "\n",
    "# Check if the tuple is empty\n",
    "if not my_tuple:\n",
    "    print(\"The tuple is empty.\")\n",
    "else:\n",
    "    print(\"The tuple is not empty.\")\n"
   ]
  },
  {
   "cell_type": "markdown",
   "id": "af137f10",
   "metadata": {},
   "source": []
  },
  {
   "cell_type": "code",
   "execution_count": null,
   "id": "378a285a",
   "metadata": {},
   "outputs": [],
   "source": [
    "15. Create a nested tuple?"
   ]
  },
  {
   "cell_type": "code",
   "execution_count": 17,
   "id": "675b14a8",
   "metadata": {},
   "outputs": [
    {
     "name": "stdout",
     "output_type": "stream",
     "text": [
      "(1, 2, (3, 4, 5), (6, 7))\n"
     ]
    }
   ],
   "source": [
    "# Creating a nested tuple\n",
    "nested_tuple = (1, 2, (3, 4, 5), (6, 7))\n",
    "\n",
    "# Print the nested tuple to verify the result\n",
    "print(nested_tuple)\n"
   ]
  },
  {
   "cell_type": "markdown",
   "id": "ae815674",
   "metadata": {},
   "source": []
  },
  {
   "cell_type": "code",
   "execution_count": null,
   "id": "92594d01",
   "metadata": {},
   "outputs": [],
   "source": [
    "16. Access the first element of a nested tuple?"
   ]
  },
  {
   "cell_type": "code",
   "execution_count": 18,
   "id": "b442ff2f",
   "metadata": {},
   "outputs": [
    {
     "name": "stdout",
     "output_type": "stream",
     "text": [
      "1\n"
     ]
    }
   ],
   "source": [
    "# Step 1: Create a nested tuple\n",
    "nested_tuple = (1, (2, 3, 4), 5)\n",
    "\n",
    "# Step 2: Access the first element of the outer tuple (which is the first element of the nested tuple)\n",
    "first_element = nested_tuple[0]\n",
    "\n",
    "# Print the first element to verify the result\n",
    "print(first_element)\n"
   ]
  },
  {
   "cell_type": "markdown",
   "id": "ac2367a9",
   "metadata": {},
   "source": []
  },
  {
   "cell_type": "code",
   "execution_count": null,
   "id": "4e2a7e60",
   "metadata": {},
   "outputs": [],
   "source": [
    "17. Create a tuple with a single element?"
   ]
  },
  {
   "cell_type": "code",
   "execution_count": 19,
   "id": "2bb6c690",
   "metadata": {},
   "outputs": [
    {
     "name": "stdout",
     "output_type": "stream",
     "text": [
      "(5,)\n"
     ]
    }
   ],
   "source": [
    "# Creating a tuple with a single element\n",
    "single_element_tuple = (5,)  # The comma is essential to indicate it's a tuple, not a parenthesis\n",
    "\n",
    "# Print the tuple to verify the result\n",
    "print(single_element_tuple)\n"
   ]
  },
  {
   "cell_type": "markdown",
   "id": "07d4a4ab",
   "metadata": {},
   "source": []
  },
  {
   "cell_type": "code",
   "execution_count": null,
   "id": "98f93f68",
   "metadata": {},
   "outputs": [],
   "source": [
    "18. Compare two tuples?"
   ]
  },
  {
   "cell_type": "code",
   "execution_count": 20,
   "id": "474c23fb",
   "metadata": {},
   "outputs": [
    {
     "name": "stdout",
     "output_type": "stream",
     "text": [
      "The tuples are equal.\n"
     ]
    }
   ],
   "source": [
    "# Step 1: Define two tuples to compare\n",
    "tuple1 = (1, 2, 3, 4)\n",
    "tuple2 = (1, 2, 3, 4)\n",
    "\n",
    "# Step 2: Use comparison operators to compare the tuples\n",
    "if tuple1 == tuple2:\n",
    "    result = \"The tuples are equal.\"\n",
    "else:\n",
    "    result = \"The tuples are not equal.\"\n",
    "\n",
    "# Print the result\n",
    "print(result)\n"
   ]
  },
  {
   "cell_type": "markdown",
   "id": "787af7da",
   "metadata": {},
   "source": []
  },
  {
   "cell_type": "code",
   "execution_count": null,
   "id": "3c97ed38",
   "metadata": {},
   "outputs": [],
   "source": [
    "19. Delete a tuple?"
   ]
  },
  {
   "cell_type": "code",
   "execution_count": 21,
   "id": "802aa306",
   "metadata": {},
   "outputs": [
    {
     "name": "stdout",
     "output_type": "stream",
     "text": [
      "The tuple has been deleted.\n"
     ]
    }
   ],
   "source": [
    "# Step 1: Create a tuple\n",
    "my_tuple = (1, 2, 3, 4, 5)\n",
    "\n",
    "# Step 2: Delete the tuple using the 'del' keyword\n",
    "del my_tuple\n",
    "\n",
    "# Step 3: Try to print the tuple (will raise an error as the tuple is deleted)\n",
    "try:\n",
    "    print(my_tuple)\n",
    "except NameError:\n",
    "    print(\"The tuple has been deleted.\")\n"
   ]
  },
  {
   "cell_type": "markdown",
   "id": "e408f971",
   "metadata": {},
   "source": []
  },
  {
   "cell_type": "code",
   "execution_count": null,
   "id": "7ef19431",
   "metadata": {},
   "outputs": [],
   "source": [
    "20. Slice a tuple?"
   ]
  },
  {
   "cell_type": "code",
   "execution_count": 22,
   "id": "f5a32bab",
   "metadata": {},
   "outputs": [
    {
     "name": "stdout",
     "output_type": "stream",
     "text": [
      "(3, 4, 5, 6, 7)\n"
     ]
    }
   ],
   "source": [
    "# Original tuple\n",
    "my_tuple = (1, 2, 3, 4, 5, 6, 7, 8, 9, 10)\n",
    "\n",
    "# Slicing the tuple to get a sub-tuple from index 2 to 6 (excluding 7)\n",
    "sliced_tuple = my_tuple[2:7]\n",
    "\n",
    "# Print the sliced tuple\n",
    "print(sliced_tuple)\n"
   ]
  },
  {
   "cell_type": "markdown",
   "id": "39e55ad2",
   "metadata": {},
   "source": []
  },
  {
   "cell_type": "code",
   "execution_count": null,
   "id": "8f073817",
   "metadata": {},
   "outputs": [],
   "source": [
    "21. Find the maximum value in a tuple?"
   ]
  },
  {
   "cell_type": "code",
   "execution_count": 23,
   "id": "e56019e1",
   "metadata": {},
   "outputs": [
    {
     "name": "stdout",
     "output_type": "stream",
     "text": [
      "The maximum value in the tuple is: 19\n"
     ]
    }
   ],
   "source": [
    "# Step 1: Define the tuple with some numbers\n",
    "numbers_tuple = (4, 12, 7, 19, 3, 10)\n",
    "\n",
    "# Step 2: Use the built-in max() function to find the maximum value in the tuple\n",
    "max_value = max(numbers_tuple)\n",
    "\n",
    "# Step 3: Print the result\n",
    "print(\"The maximum value in the tuple is:\", max_value)\n"
   ]
  },
  {
   "cell_type": "markdown",
   "id": "2ccfa9ba",
   "metadata": {},
   "source": []
  },
  {
   "cell_type": "code",
   "execution_count": null,
   "id": "5672817c",
   "metadata": {},
   "outputs": [],
   "source": [
    "22. Find the minimum value in a tuple?"
   ]
  },
  {
   "cell_type": "code",
   "execution_count": 27,
   "id": "34c9cef7",
   "metadata": {},
   "outputs": [
    {
     "name": "stdout",
     "output_type": "stream",
     "text": [
      "The minimum value in the tuple is: 3\n"
     ]
    }
   ],
   "source": [
    "# Step 1: Define the tuple with some numbers\n",
    "numbers_tuple = (4, 12, 7, 19, 3, 10)\n",
    "\n",
    "# Step 2: Use the built-in max() function to find the maximum value in the tuple\n",
    "min_value = min(numbers_tuple)\n",
    "\n",
    "# Step 3: Print the result\n",
    "print(\"The minimum value in the tuple is:\", min_value)"
   ]
  },
  {
   "cell_type": "markdown",
   "id": "2488c332",
   "metadata": {},
   "source": []
  },
  {
   "cell_type": "code",
   "execution_count": null,
   "id": "7132d125",
   "metadata": {},
   "outputs": [],
   "source": [
    "23. Convert a string to a tuple of characters?"
   ]
  },
  {
   "cell_type": "code",
   "execution_count": 28,
   "id": "4e6d28d4",
   "metadata": {},
   "outputs": [
    {
     "name": "stdout",
     "output_type": "stream",
     "text": [
      "('H', 'e', 'l', 'l', 'o')\n"
     ]
    }
   ],
   "source": [
    "# Step 1: Define the string\n",
    "input_string = \"Hello\"\n",
    "\n",
    "# Step 2: Convert the string to a tuple of characters\n",
    "char_tuple = tuple(input_string)\n",
    "\n",
    "# Print the tuple to verify the result\n",
    "print(char_tuple)\n"
   ]
  },
  {
   "cell_type": "markdown",
   "id": "66b5922d",
   "metadata": {},
   "source": []
  },
  {
   "cell_type": "code",
   "execution_count": null,
   "id": "a7770ea7",
   "metadata": {},
   "outputs": [],
   "source": [
    "24. Convert a tuple of characters to a string?"
   ]
  },
  {
   "cell_type": "code",
   "execution_count": 30,
   "id": "86ce76fa",
   "metadata": {},
   "outputs": [
    {
     "name": "stdout",
     "output_type": "stream",
     "text": [
      "Hello\n"
     ]
    }
   ],
   "source": [
    "# Step 1: Define a tuple of characters\n",
    "char_tuple = ('H', 'e', 'l', 'l', 'o')\n",
    "\n",
    "# Step 2: Use the join() method to convert the tuple to a string\n",
    "result_string = ''.join(char_tuple)\n",
    "\n",
    "# Print the resulting string\n",
    "print(result_string)\n"
   ]
  },
  {
   "cell_type": "markdown",
   "id": "5efef5e1",
   "metadata": {},
   "source": []
  },
  {
   "cell_type": "code",
   "execution_count": null,
   "id": "5b52340f",
   "metadata": {},
   "outputs": [],
   "source": [
    "25. Create a tuple from multiple data types?"
   ]
  },
  {
   "cell_type": "code",
   "execution_count": 31,
   "id": "36d5c167",
   "metadata": {},
   "outputs": [
    {
     "name": "stdout",
     "output_type": "stream",
     "text": [
      "(1, 'hello', 3.14, True, None)\n"
     ]
    }
   ],
   "source": [
    "# Step 1: Define a tuple with different data types\n",
    "mixed_tuple = (1, \"hello\", 3.14, True, None)\n",
    "\n",
    "# Step 2: Print the tuple to verify the result\n",
    "print(mixed_tuple)\n"
   ]
  },
  {
   "cell_type": "markdown",
   "id": "c08ad7f6",
   "metadata": {},
   "source": []
  },
  {
   "cell_type": "code",
   "execution_count": null,
   "id": "ecec46fd",
   "metadata": {},
   "outputs": [],
   "source": [
    "26. Check if two tuples are identical?"
   ]
  },
  {
   "cell_type": "code",
   "execution_count": 33,
   "id": "47cd2bf7",
   "metadata": {},
   "outputs": [
    {
     "name": "stdout",
     "output_type": "stream",
     "text": [
      "The tuples are identical: True\n"
     ]
    }
   ],
   "source": [
    "# Step 1: Define two tuples\n",
    "tuple1 = (1, 2, 3, 4, 5)\n",
    "tuple2 = (1, 2, 3, 4, 5)\n",
    "\n",
    "# Step 2: Compare the two tuples using equality operator (==)\n",
    "are_identical = tuple1 == tuple2\n",
    "\n",
    "# Step 3: Print the result\n",
    "print(\"The tuples are identical:\", are_identical)\n"
   ]
  },
  {
   "cell_type": "markdown",
   "id": "54d2b93b",
   "metadata": {},
   "source": []
  },
  {
   "cell_type": "code",
   "execution_count": null,
   "id": "172fc378",
   "metadata": {},
   "outputs": [],
   "source": [
    "27. Sort the elements of a tuple?"
   ]
  },
  {
   "cell_type": "code",
   "execution_count": 34,
   "id": "121a25b5",
   "metadata": {},
   "outputs": [
    {
     "name": "stdout",
     "output_type": "stream",
     "text": [
      "(1, 2, 3, 5, 8, 9)\n"
     ]
    }
   ],
   "source": [
    "# Step 1: Create a tuple with unsorted elements\n",
    "unsorted_tuple = (5, 2, 8, 1, 9, 3)\n",
    "\n",
    "# Step 2: Sort the tuple using the sorted() function\n",
    "sorted_tuple = tuple(sorted(unsorted_tuple))\n",
    "\n",
    "# Print the sorted tuple\n",
    "print(sorted_tuple)\n"
   ]
  },
  {
   "cell_type": "markdown",
   "id": "b98acfa5",
   "metadata": {},
   "source": []
  },
  {
   "cell_type": "code",
   "execution_count": null,
   "id": "a12c04be",
   "metadata": {},
   "outputs": [],
   "source": [
    "28. Convert a tuple of integers to a tuple of strings?"
   ]
  },
  {
   "cell_type": "code",
   "execution_count": 35,
   "id": "580b8b54",
   "metadata": {},
   "outputs": [
    {
     "name": "stdout",
     "output_type": "stream",
     "text": [
      "('1', '2', '3', '4', '5')\n"
     ]
    }
   ],
   "source": [
    "# Step 1: Define a tuple of integers\n",
    "integer_tuple = (1, 2, 3, 4, 5)\n",
    "\n",
    "# Step 2: Convert each integer to a string using a tuple comprehension\n",
    "string_tuple = tuple(str(number) for number in integer_tuple)\n",
    "\n",
    "# Step 3: Print the resulting tuple\n",
    "print(string_tuple)\n"
   ]
  },
  {
   "cell_type": "markdown",
   "id": "3fa3ea0a",
   "metadata": {},
   "source": []
  },
  {
   "cell_type": "code",
   "execution_count": null,
   "id": "a1de6786",
   "metadata": {},
   "outputs": [],
   "source": [
    "29. Convert a tuple of strings to a tuple of integers?"
   ]
  },
  {
   "cell_type": "code",
   "execution_count": 38,
   "id": "54e2e4ef",
   "metadata": {},
   "outputs": [
    {
     "name": "stdout",
     "output_type": "stream",
     "text": [
      "(1, 2, 3, 4, 5)\n"
     ]
    }
   ],
   "source": [
    "# Step 1: Define a tuple of strings\n",
    "string_tuple = ('1', '2', '3', '4', '5')\n",
    "\n",
    "# Step 2: Convert each string in the tuple to an integer using map and tuple functions\n",
    "integer_tuple = tuple(map(int, string_tuple))\n",
    "\n",
    "# Print the resulting tuple to verify the conversion\n",
    "print(integer_tuple)\n"
   ]
  },
  {
   "cell_type": "markdown",
   "id": "e33572b9",
   "metadata": {},
   "source": []
  },
  {
   "cell_type": "code",
   "execution_count": null,
   "id": "f7caea40",
   "metadata": {},
   "outputs": [],
   "source": [
    "30. Merge two tuples?"
   ]
  },
  {
   "cell_type": "code",
   "execution_count": 39,
   "id": "d63ee9c7",
   "metadata": {},
   "outputs": [
    {
     "name": "stdout",
     "output_type": "stream",
     "text": [
      "(1, 2, 3, 4, 5, 6)\n"
     ]
    }
   ],
   "source": [
    "# Step 1: Define two tuples\n",
    "tuple1 = (1, 2, 3)\n",
    "tuple2 = (4, 5, 6)\n",
    "\n",
    "# Step 2: Merge the two tuples using the + operator\n",
    "merged_tuple = tuple1 + tuple2\n",
    "\n",
    "# Step 3: Print the merged tuple to verify the result\n",
    "print(merged_tuple)\n"
   ]
  },
  {
   "cell_type": "markdown",
   "id": "29fd02fb",
   "metadata": {},
   "source": []
  },
  {
   "cell_type": "code",
   "execution_count": null,
   "id": "f440622b",
   "metadata": {},
   "outputs": [],
   "source": [
    "31. Flatten a nested tuple?"
   ]
  },
  {
   "cell_type": "code",
   "execution_count": 40,
   "id": "bb1f75d3",
   "metadata": {},
   "outputs": [
    {
     "name": "stdout",
     "output_type": "stream",
     "text": [
      "(1, 2, 3, 4, 5, 6, 7)\n"
     ]
    }
   ],
   "source": [
    "# Step 1: Define a function to flatten a nested tuple\n",
    "def flatten_tuple(nested_tuple):\n",
    "    flat_list = []  # Step 2: Initialize an empty list to hold the flattened elements\n",
    "    for item in nested_tuple:  # Step 3: Iterate over each element in the tuple\n",
    "        if isinstance(item, tuple):  # Step 4: Check if the item is a tuple\n",
    "            flat_list.extend(flatten_tuple(item))  # Recursively flatten nested tuples\n",
    "        else:\n",
    "            flat_list.append(item)  # Step 5: Add the item to the flat list if it's not a tuple\n",
    "    return flat_list  # Step 6: Return the flattened list\n",
    "\n",
    "# Step 7: Example of a nested tuple\n",
    "nested_tuple = (1, (2, 3), (4, (5, 6)), 7)\n",
    "\n",
    "# Step 8: Flatten the nested tuple\n",
    "flat_result = flatten_tuple(nested_tuple)\n",
    "\n",
    "# Step 9: Convert the flat list back to a tuple\n",
    "flattened_tuple = tuple(flat_result)\n",
    "\n",
    "# Step 10: Print the flattened tuple\n",
    "print(flattened_tuple)\n"
   ]
  },
  {
   "cell_type": "markdown",
   "id": "7c18b696",
   "metadata": {},
   "source": []
  },
  {
   "cell_type": "code",
   "execution_count": null,
   "id": "b5e8a5bd",
   "metadata": {},
   "outputs": [],
   "source": [
    "32. Create a tuple of the first 5 prime numbers?"
   ]
  },
  {
   "cell_type": "code",
   "execution_count": 41,
   "id": "8ce14788",
   "metadata": {},
   "outputs": [
    {
     "name": "stdout",
     "output_type": "stream",
     "text": [
      "(2, 3, 5, 7, 11)\n"
     ]
    }
   ],
   "source": [
    "# Step 1: Define a function to check if a number is prime\n",
    "def is_prime(number):\n",
    "    if number <= 1:\n",
    "        return False\n",
    "    for i in range(2, int(number**0.5) + 1):\n",
    "        if number % i == 0:\n",
    "            return False\n",
    "    return True\n",
    "\n",
    "# Step 2: Use a loop to find the first 5 prime numbers\n",
    "primes = []\n",
    "number = 2  # Start from the first prime number\n",
    "\n",
    "while len(primes) < 5:\n",
    "    if is_prime(number):\n",
    "        primes.append(number)\n",
    "    number += 1\n",
    "\n",
    "# Step 3: Convert the list of primes to a tuple\n",
    "prime_tuple = tuple(primes)\n",
    "\n",
    "# Print the tuple to verify the result\n",
    "print(prime_tuple)\n"
   ]
  },
  {
   "cell_type": "markdown",
   "id": "ff81d0e5",
   "metadata": {},
   "source": []
  },
  {
   "cell_type": "code",
   "execution_count": null,
   "id": "e66d2639",
   "metadata": {},
   "outputs": [],
   "source": [
    "33. Check if a tuple is a palindrome?"
   ]
  },
  {
   "cell_type": "code",
   "execution_count": 42,
   "id": "b9b7a85d",
   "metadata": {},
   "outputs": [
    {
     "name": "stdout",
     "output_type": "stream",
     "text": [
      "Is the tuple a palindrome? True\n"
     ]
    }
   ],
   "source": [
    "# Step 1: Define the tuple to check\n",
    "sample_tuple = (1, 2, 3, 2, 1)\n",
    "\n",
    "# Step 2: Check if the tuple is the same when reversed\n",
    "is_palindrome = sample_tuple == sample_tuple[::-1]\n",
    "\n",
    "# Print the result\n",
    "print(f\"Is the tuple a palindrome? {is_palindrome}\")\n"
   ]
  },
  {
   "cell_type": "markdown",
   "id": "ef0670c7",
   "metadata": {},
   "source": []
  },
  {
   "cell_type": "code",
   "execution_count": null,
   "id": "8533ad4a",
   "metadata": {},
   "outputs": [],
   "source": [
    "34. Create a tuple of squares of numbers from 1 to 5?"
   ]
  },
  {
   "cell_type": "code",
   "execution_count": 43,
   "id": "991d6035",
   "metadata": {},
   "outputs": [
    {
     "name": "stdout",
     "output_type": "stream",
     "text": [
      "(1, 4, 9, 16, 25)\n"
     ]
    }
   ],
   "source": [
    "# Step 1: Use a range to generate numbers from 1 to 5\n",
    "# Step 2: Square each number in the range using a list comprehension\n",
    "# Step 3: Convert the list of squares to a tuple\n",
    "squares = tuple(number**2 for number in range(1, 6))\n",
    "\n",
    "# Print the tuple to verify the result\n",
    "print(squares)\n"
   ]
  },
  {
   "cell_type": "markdown",
   "id": "9b6d772a",
   "metadata": {},
   "source": []
  },
  {
   "cell_type": "code",
   "execution_count": null,
   "id": "7e3b6588",
   "metadata": {},
   "outputs": [],
   "source": [
    "35. Filter out all even numbers from a tuple?"
   ]
  },
  {
   "cell_type": "code",
   "execution_count": 44,
   "id": "0a3382b6",
   "metadata": {},
   "outputs": [
    {
     "name": "stdout",
     "output_type": "stream",
     "text": [
      "(1, 3, 5, 7, 9)\n"
     ]
    }
   ],
   "source": [
    "# Step 1: Define the original tuple\n",
    "original_tuple = (1, 2, 3, 4, 5, 6, 7, 8, 9, 10)\n",
    "\n",
    "# Step 2: Use a list comprehension to filter out even numbers\n",
    "filtered_tuple = tuple(number for number in original_tuple if number % 2 != 0)\n",
    "\n",
    "# Print the filtered tuple to verify the result\n",
    "print(filtered_tuple)\n"
   ]
  },
  {
   "cell_type": "markdown",
   "id": "2218d5f1",
   "metadata": {},
   "source": []
  },
  {
   "cell_type": "code",
   "execution_count": null,
   "id": "1260dbda",
   "metadata": {},
   "outputs": [],
   "source": [
    "36. Multiply all elements in a tuple by 2?"
   ]
  },
  {
   "cell_type": "code",
   "execution_count": 45,
   "id": "a0e85054",
   "metadata": {},
   "outputs": [
    {
     "name": "stdout",
     "output_type": "stream",
     "text": [
      "(2, 4, 6, 8, 10)\n"
     ]
    }
   ],
   "source": [
    "# Step 1: Define the original tuple\n",
    "original_tuple = (1, 2, 3, 4, 5)\n",
    "\n",
    "# Step 2: Use a tuple comprehension to multiply each element by 2\n",
    "modified_tuple = tuple(element * 2 for element in original_tuple)\n",
    "\n",
    "# Print the modified tuple to verify the result\n",
    "print(modified_tuple)\n"
   ]
  },
  {
   "cell_type": "markdown",
   "id": "ff5bc90a",
   "metadata": {},
   "source": []
  },
  {
   "cell_type": "code",
   "execution_count": null,
   "id": "1f6d52ab",
   "metadata": {},
   "outputs": [],
   "source": [
    "37. Create a tuple of random numbers?"
   ]
  },
  {
   "cell_type": "code",
   "execution_count": 46,
   "id": "2a2a5400",
   "metadata": {},
   "outputs": [
    {
     "name": "stdout",
     "output_type": "stream",
     "text": [
      "(71, 54, 4, 60, 25)\n"
     ]
    }
   ],
   "source": [
    "import random\n",
    "\n",
    "# Step 1: Define the number of random numbers and the range of values\n",
    "num_of_random_numbers = 5  # You can change this value based on your requirement\n",
    "lower_bound = 1\n",
    "upper_bound = 100\n",
    "\n",
    "# Step 2: Generate random numbers using a list comprehension\n",
    "random_numbers = tuple(random.randint(lower_bound, upper_bound) for _ in range(num_of_random_numbers))\n",
    "\n",
    "# Print the tuple to verify the result\n",
    "print(random_numbers)\n"
   ]
  },
  {
   "cell_type": "markdown",
   "id": "9fe7ce0b",
   "metadata": {},
   "source": []
  },
  {
   "cell_type": "code",
   "execution_count": null,
   "id": "de5ca545",
   "metadata": {},
   "outputs": [],
   "source": [
    "38. Check if a tuple is sorted?"
   ]
  },
  {
   "cell_type": "code",
   "execution_count": 47,
   "id": "70587459",
   "metadata": {},
   "outputs": [
    {
     "name": "stdout",
     "output_type": "stream",
     "text": [
      "Is tuple1 sorted? True\n",
      "Is tuple2 sorted? False\n"
     ]
    }
   ],
   "source": [
    "# Step 1: Define a function to check if the tuple is sorted\n",
    "def is_sorted(tup):\n",
    "    # Step 2: Compare the tuple with its sorted version\n",
    "    return tup == tuple(sorted(tup))\n",
    "\n",
    "# Example tuples for testing\n",
    "tuple1 = (1, 2, 3, 4, 5)\n",
    "tuple2 = (5, 4, 3, 2, 1)\n",
    "\n",
    "# Step 3: Check if each tuple is sorted\n",
    "print(f\"Is tuple1 sorted? {is_sorted(tuple1)}\")  # Expected output: True\n",
    "print(f\"Is tuple2 sorted? {is_sorted(tuple2)}\")  # Expected output: False\n"
   ]
  },
  {
   "cell_type": "markdown",
   "id": "1625dfda",
   "metadata": {},
   "source": []
  },
  {
   "cell_type": "code",
   "execution_count": null,
   "id": "12f9f20d",
   "metadata": {},
   "outputs": [],
   "source": [
    "39. Rotate a tuple to the left by `n` positions?"
   ]
  },
  {
   "cell_type": "code",
   "execution_count": 48,
   "id": "7c4d9683",
   "metadata": {},
   "outputs": [
    {
     "name": "stdout",
     "output_type": "stream",
     "text": [
      "(3, 4, 5, 1, 2)\n"
     ]
    }
   ],
   "source": [
    "# Function to rotate a tuple to the left by n positions\n",
    "def rotate_tuple_left(tup, n):\n",
    "    # Ensure n is within the bounds of the tuple length\n",
    "    n = n % len(tup)\n",
    "    # Rotate the tuple by slicing and concatenating the parts\n",
    "    return tup[n:] + tup[:n]\n",
    "\n",
    "# Example tuple and number of positions to rotate\n",
    "my_tuple = (1, 2, 3, 4, 5)\n",
    "n = 2\n",
    "\n",
    "# Rotate the tuple and print the result\n",
    "rotated_tuple = rotate_tuple_left(my_tuple, n)\n",
    "print(rotated_tuple)\n"
   ]
  },
  {
   "cell_type": "markdown",
   "id": "18464404",
   "metadata": {},
   "source": []
  },
  {
   "cell_type": "code",
   "execution_count": null,
   "id": "a776c53f",
   "metadata": {},
   "outputs": [],
   "source": [
    "40. Rotate a tuple to the right by `n` positions?"
   ]
  },
  {
   "cell_type": "code",
   "execution_count": 49,
   "id": "670aea15",
   "metadata": {},
   "outputs": [
    {
     "name": "stdout",
     "output_type": "stream",
     "text": [
      "(4, 5, 1, 2, 3)\n"
     ]
    }
   ],
   "source": [
    "# Function to rotate a tuple to the right by n positions\n",
    "def rotate_tuple(t, n):\n",
    "    # Ensure n is within the bounds of the tuple length\n",
    "    n = n % len(t)  # Handle cases where n is greater than the tuple length\n",
    "    return t[-n:] + t[:-n]\n",
    "\n",
    "# Example tuple\n",
    "original_tuple = (1, 2, 3, 4, 5)\n",
    "\n",
    "# Number of positions to rotate\n",
    "n = 2\n",
    "\n",
    "# Rotating the tuple\n",
    "rotated_tuple = rotate_tuple(original_tuple, n)\n",
    "\n",
    "# Print the rotated tuple\n",
    "print(rotated_tuple)\n"
   ]
  },
  {
   "cell_type": "markdown",
   "id": "49e66b67",
   "metadata": {},
   "source": []
  },
  {
   "cell_type": "code",
   "execution_count": null,
   "id": "598e43b3",
   "metadata": {},
   "outputs": [],
   "source": [
    "41. Create a tuple of the first 5 Fibonacci numbers?"
   ]
  },
  {
   "cell_type": "code",
   "execution_count": 1,
   "id": "fe3b8a2b",
   "metadata": {},
   "outputs": [
    {
     "name": "stdout",
     "output_type": "stream",
     "text": [
      "Tuple of first 5 Fibonacci numbers: (0, 1, 1, 2, 3)\n"
     ]
    }
   ],
   "source": [
    "def generate_fibonacci_tuple(n):\n",
    "    \"\"\"\n",
    "    Generate a tuple of the first `n` Fibonacci numbers.\n",
    "\n",
    "    Args:\n",
    "        n (int): The number of Fibonacci numbers to generate.\n",
    "\n",
    "    Returns:\n",
    "        tuple: A tuple containing the first `n` Fibonacci numbers.\n",
    "    \"\"\"\n",
    "    fibonacci = [0, 1]  # Initialize the first two Fibonacci numbers\n",
    "\n",
    "    # Generate the Fibonacci sequence up to `n` numbers\n",
    "    for i in range(2, n):\n",
    "        fibonacci.append(fibonacci[i - 1] + fibonacci[i - 2])\n",
    "\n",
    "    # Convert the list to a tuple\n",
    "    return tuple(fibonacci[:n])\n",
    "\n",
    "# Generate the first 5 Fibonacci numbers as a tuple\n",
    "fibonacci_tuple = generate_fibonacci_tuple(5)\n",
    "print(\"Tuple of first 5 Fibonacci numbers:\", fibonacci_tuple)\n"
   ]
  },
  {
   "cell_type": "markdown",
   "id": "7112ec95",
   "metadata": {},
   "source": []
  },
  {
   "cell_type": "code",
   "execution_count": null,
   "id": "cc3cd60d",
   "metadata": {},
   "outputs": [],
   "source": [
    "42. Create a tuple from user input?"
   ]
  },
  {
   "cell_type": "code",
   "execution_count": 2,
   "id": "67493c23",
   "metadata": {},
   "outputs": [
    {
     "name": "stdout",
     "output_type": "stream",
     "text": [
      "Create a tuple from user input:\n",
      "Enter elements separated by commas: vivekanandan,sowmi\n",
      "Your tuple: ('vivekanandan', 'sowmi')\n"
     ]
    }
   ],
   "source": [
    "def create_tuple_from_input():\n",
    "    \"\"\"\n",
    "    Prompts the user to enter values and creates a tuple from the inputs.\n",
    "\n",
    "    Returns:\n",
    "        tuple: A tuple containing the entered values.\n",
    "    \"\"\"\n",
    "    # Prompt the user for input\n",
    "    user_input = input(\"Enter elements separated by commas: \")\n",
    "\n",
    "    # Split the input string into a list using ',' as the delimiter\n",
    "    elements = user_input.split(',')\n",
    "\n",
    "    # Convert the list into a tuple\n",
    "    result_tuple = tuple(elements)\n",
    "\n",
    "    return result_tuple\n",
    "\n",
    "# Example usage\n",
    "print(\"Create a tuple from user input:\")\n",
    "user_tuple = create_tuple_from_input()\n",
    "print(\"Your tuple:\", user_tuple)\n"
   ]
  },
  {
   "cell_type": "markdown",
   "id": "a8d10e2d",
   "metadata": {},
   "source": []
  },
  {
   "cell_type": "code",
   "execution_count": null,
   "id": "e37501b3",
   "metadata": {},
   "outputs": [],
   "source": [
    "43. Swap two elements in a tuple?"
   ]
  },
  {
   "cell_type": "code",
   "execution_count": 3,
   "id": "15697726",
   "metadata": {},
   "outputs": [
    {
     "name": "stdout",
     "output_type": "stream",
     "text": [
      "Tuple after swapping: (10, 40, 30, 20, 50)\n"
     ]
    }
   ],
   "source": [
    "def swap_elements_in_tuple(input_tuple, index1, index2):\n",
    "    \"\"\"\n",
    "    Swaps two elements in a tuple by their indices.\n",
    "\n",
    "    Args:\n",
    "        input_tuple (tuple): The tuple containing elements to swap.\n",
    "        index1 (int): The index of the first element.\n",
    "        index2 (int): The index of the second element.\n",
    "\n",
    "    Returns:\n",
    "        tuple: A new tuple with the elements swapped.\n",
    "    \"\"\"\n",
    "    # Convert the tuple to a list for swapping\n",
    "    temp_list = list(input_tuple)\n",
    "    \n",
    "    # Swap elements at the specified indices\n",
    "    temp_list[index1], temp_list[index2] = temp_list[index2], temp_list[index1]\n",
    "    \n",
    "    # Convert the list back to a tuple and return\n",
    "    return tuple(temp_list)\n",
    "\n",
    "# Example usage\n",
    "my_tuple = (10, 20, 30, 40, 50)\n",
    "index1 = 1\n",
    "index2 = 3\n",
    "\n",
    "swapped_tuple = swap_elements_in_tuple(my_tuple, index1, index2)\n",
    "print(\"Tuple after swapping:\", swapped_tuple)\n"
   ]
  },
  {
   "cell_type": "markdown",
   "id": "b6517e94",
   "metadata": {},
   "source": []
  },
  {
   "cell_type": "code",
   "execution_count": null,
   "id": "7e5076d2",
   "metadata": {},
   "outputs": [],
   "source": [
    "44. Reverse the elements of a tuple?"
   ]
  },
  {
   "cell_type": "code",
   "execution_count": 4,
   "id": "dbde2e31",
   "metadata": {},
   "outputs": [
    {
     "name": "stdout",
     "output_type": "stream",
     "text": [
      "Original Tuple: (10, 20, 30, 40, 50)\n",
      "Reversed Tuple: (50, 40, 30, 20, 10)\n"
     ]
    }
   ],
   "source": [
    "def reverse_tuple(input_tuple):\n",
    "    \"\"\"\n",
    "    Reverses the elements of a tuple.\n",
    "\n",
    "    Args:\n",
    "        input_tuple (tuple): The tuple to be reversed.\n",
    "\n",
    "    Returns:\n",
    "        tuple: The reversed tuple.\n",
    "    \"\"\"\n",
    "    # Reverse the tuple using slicing\n",
    "    return input_tuple[::-1]\n",
    "\n",
    "# Example usage\n",
    "my_tuple = (10, 20, 30, 40, 50)\n",
    "reversed_tuple = reverse_tuple(my_tuple)\n",
    "print(\"Original Tuple:\", my_tuple)\n",
    "print(\"Reversed Tuple:\", reversed_tuple)\n"
   ]
  },
  {
   "cell_type": "markdown",
   "id": "ec2a34fd",
   "metadata": {},
   "source": []
  },
  {
   "cell_type": "code",
   "execution_count": null,
   "id": "3dd452d0",
   "metadata": {},
   "outputs": [],
   "source": [
    "45. Create a tuple of the first `n` powers of 2?"
   ]
  },
  {
   "cell_type": "code",
   "execution_count": 5,
   "id": "761bdada",
   "metadata": {},
   "outputs": [
    {
     "name": "stdout",
     "output_type": "stream",
     "text": [
      "Tuple of first 10 powers of 2: (1, 2, 4, 8, 16, 32, 64, 128, 256, 512)\n"
     ]
    }
   ],
   "source": [
    "def generate_powers_of_two(n):\n",
    "    \"\"\"\n",
    "    Generate a tuple of the first n powers of 2.\n",
    "\n",
    "    Args:\n",
    "        n (int): Number of powers of 2 to generate.\n",
    "\n",
    "    Returns:\n",
    "        tuple: A tuple containing the first n powers of 2.\n",
    "    \"\"\"\n",
    "    return tuple(2 ** i for i in range(n))\n",
    "\n",
    "# Example usage\n",
    "n = 10\n",
    "result = generate_powers_of_two(n)\n",
    "print(\"Tuple of first\", n, \"powers of 2:\", result)\n"
   ]
  },
  {
   "cell_type": "markdown",
   "id": "b752687b",
   "metadata": {},
   "source": []
  },
  {
   "cell_type": "code",
   "execution_count": null,
   "id": "179bd419",
   "metadata": {},
   "outputs": [],
   "source": [
    "46. Find the longest string in a tuple of strings?"
   ]
  },
  {
   "cell_type": "code",
   "execution_count": 6,
   "id": "d92f76f5",
   "metadata": {},
   "outputs": [
    {
     "name": "stdout",
     "output_type": "stream",
     "text": [
      "Longest string: pineapple\n"
     ]
    }
   ],
   "source": [
    "def find_longest_string(strings):\n",
    "    \"\"\"\n",
    "    Finds the longest string in a tuple of strings.\n",
    "\n",
    "    Args:\n",
    "        strings (tuple): A tuple containing strings.\n",
    "\n",
    "    Returns:\n",
    "        str: The longest string in the tuple.\n",
    "    \"\"\"\n",
    "    if not strings:  # Check if the tuple is empty\n",
    "        return None\n",
    "\n",
    "    # Use max() with the key as the length of the string\n",
    "    longest_string = max(strings, key=len)\n",
    "    return longest_string\n",
    "\n",
    "# Example usage\n",
    "string_tuple = (\"apple\", \"banana\", \"cherry\", \"pineapple\", \"kiwi\")\n",
    "longest = find_longest_string(string_tuple)\n",
    "print(\"Longest string:\", longest)\n"
   ]
  },
  {
   "cell_type": "markdown",
   "id": "3ea12ca4",
   "metadata": {},
   "source": []
  },
  {
   "cell_type": "code",
   "execution_count": null,
   "id": "f56e7e3d",
   "metadata": {},
   "outputs": [],
   "source": [
    "47. Find the shortest string in a tuple of strings?"
   ]
  },
  {
   "cell_type": "code",
   "execution_count": 7,
   "id": "1a2dac6e",
   "metadata": {},
   "outputs": [
    {
     "name": "stdout",
     "output_type": "stream",
     "text": [
      "Shortest string: kiwi\n"
     ]
    }
   ],
   "source": [
    "def find_shortest_string(strings):\n",
    "    \"\"\"\n",
    "    Finds the shortest string in a tuple of strings.\n",
    "\n",
    "    Args:\n",
    "        strings (tuple): A tuple containing strings.\n",
    "\n",
    "    Returns:\n",
    "        str: The shortest string in the tuple.\n",
    "    \"\"\"\n",
    "    # Use the min() function with the key argument for string length\n",
    "    shortest = min(strings, key=len)\n",
    "    return shortest\n",
    "\n",
    "# Example usage\n",
    "string_tuple = (\"apple\", \"banana\", \"kiwi\", \"pear\")\n",
    "shortest_string = find_shortest_string(string_tuple)\n",
    "print(\"Shortest string:\", shortest_string)\n"
   ]
  },
  {
   "cell_type": "markdown",
   "id": "3ce4232b",
   "metadata": {},
   "source": []
  },
  {
   "cell_type": "code",
   "execution_count": null,
   "id": "89b4a34e",
   "metadata": {},
   "outputs": [],
   "source": [
    "48. Create a tuple of the first `n` triangular numbers?"
   ]
  },
  {
   "cell_type": "code",
   "execution_count": 8,
   "id": "69930cb4",
   "metadata": {},
   "outputs": [
    {
     "name": "stdout",
     "output_type": "stream",
     "text": [
      "First 10 triangular numbers: (1, 3, 6, 10, 15, 21, 28, 36, 45, 55)\n"
     ]
    }
   ],
   "source": [
    "def triangular_numbers(n):\n",
    "    \"\"\"\n",
    "    Generate a tuple of the first `n` triangular numbers.\n",
    "\n",
    "    Args:\n",
    "        n (int): Number of triangular numbers to generate.\n",
    "\n",
    "    Returns:\n",
    "        tuple: A tuple containing the first `n` triangular numbers.\n",
    "    \"\"\"\n",
    "    # Generate triangular numbers using the formula T(n) = n * (n + 1) // 2\n",
    "    return tuple(i * (i + 1) // 2 for i in range(1, n + 1))\n",
    "\n",
    "# Example usage\n",
    "n = 10  # Number of triangular numbers to generate\n",
    "triangular_tuple = triangular_numbers(n)\n",
    "print(\"First\", n, \"triangular numbers:\", triangular_tuple)\n"
   ]
  },
  {
   "cell_type": "markdown",
   "id": "054ad855",
   "metadata": {},
   "source": []
  },
  {
   "cell_type": "code",
   "execution_count": null,
   "id": "7200126f",
   "metadata": {},
   "outputs": [],
   "source": [
    "49. Check if a tuple contains another tuple as a subsequence?"
   ]
  },
  {
   "cell_type": "code",
   "execution_count": 9,
   "id": "628fc383",
   "metadata": {},
   "outputs": [
    {
     "name": "stdout",
     "output_type": "stream",
     "text": [
      "Does the tuple (10, 20, 30, 40, 50) contain (20, 30) as a subsequence? False\n"
     ]
    }
   ],
   "source": [
    "def contains_subtuple(main_tuple, sub_tuple):\n",
    "    \"\"\"\n",
    "    Checks if a tuple contains another tuple as a subsequence.\n",
    "\n",
    "    Args:\n",
    "        main_tuple (tuple): The tuple to check within.\n",
    "        sub_tuple (tuple): The tuple to check for as a subsequence.\n",
    "\n",
    "    Returns:\n",
    "        bool: True if sub_tuple is a subsequence of main_tuple, False otherwise.\n",
    "    \"\"\"\n",
    "    # Convert the main tuple to a string\n",
    "    main_str = str(main_tuple)\n",
    "    sub_str = str(sub_tuple)\n",
    "    \n",
    "    # Check if the string representation of the sub_tuple is in the main_tuple string\n",
    "    return sub_str in main_str\n",
    "\n",
    "# Example usage\n",
    "main_tuple = (10, 20, 30, 40, 50)\n",
    "sub_tuple = (20, 30)\n",
    "\n",
    "result = contains_subtuple(main_tuple, sub_tuple)\n",
    "print(f\"Does the tuple {main_tuple} contain {sub_tuple} as a subsequence? {result}\")\n"
   ]
  },
  {
   "cell_type": "markdown",
   "id": "4d4dc8c0",
   "metadata": {},
   "source": []
  },
  {
   "cell_type": "code",
   "execution_count": null,
   "id": "d814ac64",
   "metadata": {},
   "outputs": [],
   "source": [
    "50. Create a tuple of alternating 1s and 0s of length `n`?"
   ]
  },
  {
   "cell_type": "code",
   "execution_count": 10,
   "id": "8a51d2dc",
   "metadata": {},
   "outputs": [
    {
     "name": "stdout",
     "output_type": "stream",
     "text": [
      "Alternating tuple of length 10 : (1, 0, 1, 0, 1, 0, 1, 0, 1, 0)\n"
     ]
    }
   ],
   "source": [
    "def create_alternating_tuple(n):\n",
    "    \"\"\"\n",
    "    Creates a tuple of alternating 1s and 0s of specified length.\n",
    "\n",
    "    Args:\n",
    "        n (int): The desired length of the tuple.\n",
    "\n",
    "    Returns:\n",
    "        tuple: A tuple with alternating 1s and 0s.\n",
    "    \"\"\"\n",
    "    # Use a list comprehension to alternate 1s and 0s, then convert to a tuple\n",
    "    alternating_tuple = tuple(1 if i % 2 == 0 else 0 for i in range(n))\n",
    "    return alternating_tuple\n",
    "\n",
    "# Example usage\n",
    "n = 10\n",
    "result = create_alternating_tuple(n)\n",
    "print(\"Alternating tuple of length\", n, \":\", result)\n"
   ]
  },
  {
   "cell_type": "markdown",
   "id": "4f7f89a8",
   "metadata": {},
   "source": []
  },
  {
   "cell_type": "markdown",
   "id": "164d203d",
   "metadata": {},
   "source": [
    "# Set Based Practice Problem :"
   ]
  },
  {
   "cell_type": "code",
   "execution_count": null,
   "id": "4678f27b",
   "metadata": {},
   "outputs": [],
   "source": [
    "1. Create a set with integers from 1 to 5?"
   ]
  },
  {
   "cell_type": "code",
   "execution_count": 11,
   "id": "e5f9bedc",
   "metadata": {},
   "outputs": [
    {
     "name": "stdout",
     "output_type": "stream",
     "text": [
      "The set is: {1, 2, 3, 4, 5}\n"
     ]
    }
   ],
   "source": [
    "# Create a set with integers from 1 to 5\n",
    "my_set = {1, 2, 3, 4, 5}\n",
    "\n",
    "# Print the set\n",
    "print(\"The set is:\", my_set)\n"
   ]
  },
  {
   "cell_type": "markdown",
   "id": "bf70fafc",
   "metadata": {},
   "source": []
  },
  {
   "cell_type": "code",
   "execution_count": null,
   "id": "4845ad89",
   "metadata": {},
   "outputs": [],
   "source": [
    "2. Add an element to a set?"
   ]
  },
  {
   "cell_type": "code",
   "execution_count": 12,
   "id": "05e3e374",
   "metadata": {},
   "outputs": [
    {
     "name": "stdout",
     "output_type": "stream",
     "text": [
      "Updated Set: {1, 2, 3, 4, 5}\n"
     ]
    }
   ],
   "source": [
    "# Define a set\n",
    "my_set = {1, 2, 3, 4}\n",
    "\n",
    "# Add an element to the set\n",
    "my_set.add(5)\n",
    "\n",
    "# Print the updated set\n",
    "print(\"Updated Set:\", my_set)\n"
   ]
  },
  {
   "cell_type": "markdown",
   "id": "14480a87",
   "metadata": {},
   "source": []
  },
  {
   "cell_type": "code",
   "execution_count": null,
   "id": "316ad42c",
   "metadata": {},
   "outputs": [],
   "source": [
    "3. Remove an element from a set?"
   ]
  },
  {
   "cell_type": "code",
   "execution_count": 13,
   "id": "483dfc14",
   "metadata": {},
   "outputs": [
    {
     "name": "stdout",
     "output_type": "stream",
     "text": [
      "After remove: {1, 2, 4, 5}\n",
      "After discard: {1, 3, 4, 5}\n"
     ]
    }
   ],
   "source": [
    "# Create a set\n",
    "my_set = {1, 2, 3, 4, 5}\n",
    "\n",
    "# Remove an element using 'remove()' method\n",
    "my_set.remove(3)  # This will remove element 3 from the set\n",
    "print(\"After remove:\", my_set)\n",
    "\n",
    "# Create a new set\n",
    "my_set = {1, 2, 3, 4, 5}\n",
    "\n",
    "# Remove an element using 'discard()' method\n",
    "my_set.discard(2)  # This will remove element 2 from the set\n",
    "print(\"After discard:\", my_set)\n"
   ]
  },
  {
   "cell_type": "markdown",
   "id": "7eaa7681",
   "metadata": {},
   "source": []
  },
  {
   "cell_type": "code",
   "execution_count": null,
   "id": "269d0a08",
   "metadata": {},
   "outputs": [],
   "source": [
    "4. Check if an element exists in a set?"
   ]
  },
  {
   "cell_type": "code",
   "execution_count": 14,
   "id": "e216a254",
   "metadata": {},
   "outputs": [
    {
     "name": "stdout",
     "output_type": "stream",
     "text": [
      "Element 3 exists in the set: True\n"
     ]
    }
   ],
   "source": [
    "def check_element_in_set(my_set, element):\n",
    "    \"\"\"\n",
    "    Checks if an element exists in a set.\n",
    "\n",
    "    Args:\n",
    "        my_set (set): The set to check for the element.\n",
    "        element: The element to check for in the set.\n",
    "\n",
    "    Returns:\n",
    "        bool: True if element is in the set, otherwise False.\n",
    "    \"\"\"\n",
    "    return element in my_set\n",
    "\n",
    "# Example usage\n",
    "my_set = {1, 2, 3, 4, 5}\n",
    "element = 3\n",
    "\n",
    "result = check_element_in_set(my_set, element)\n",
    "print(f\"Element {element} exists in the set: {result}\")\n"
   ]
  },
  {
   "cell_type": "markdown",
   "id": "08c054ab",
   "metadata": {},
   "source": []
  },
  {
   "cell_type": "code",
   "execution_count": null,
   "id": "247430c2",
   "metadata": {},
   "outputs": [],
   "source": [
    "5. Find the length of a set without using the `len()` function?"
   ]
  },
  {
   "cell_type": "code",
   "execution_count": 15,
   "id": "a98cd902",
   "metadata": {},
   "outputs": [
    {
     "name": "stdout",
     "output_type": "stream",
     "text": [
      "Length of the set: 5\n"
     ]
    }
   ],
   "source": [
    "def find_set_length(input_set):\n",
    "    # Initialize a counter variable\n",
    "    count = 0\n",
    "\n",
    "    # Iterate over the set to count the elements\n",
    "    for _ in input_set:\n",
    "        count += 1\n",
    "\n",
    "    return count\n",
    "\n",
    "# Example usage\n",
    "my_set = {10, 20, 30, 40, 50}\n",
    "set_length = find_set_length(my_set)\n",
    "print(\"Length of the set:\", set_length)\n"
   ]
  },
  {
   "cell_type": "markdown",
   "id": "725d1d5a",
   "metadata": {},
   "source": []
  },
  {
   "cell_type": "code",
   "execution_count": null,
   "id": "e214cef0",
   "metadata": {},
   "outputs": [],
   "source": [
    "6. Clear all elements from a set?"
   ]
  },
  {
   "cell_type": "code",
   "execution_count": 16,
   "id": "522feb66",
   "metadata": {},
   "outputs": [
    {
     "name": "stdout",
     "output_type": "stream",
     "text": [
      "Original set: {1, 2, 3, 4, 5}\n",
      "Cleared set: set()\n"
     ]
    }
   ],
   "source": [
    "def clear_set(input_set):\n",
    "    \"\"\"\n",
    "    Clears all elements from the provided set.\n",
    "    \n",
    "    Args:\n",
    "        input_set (set): The set to be cleared.\n",
    "    \n",
    "    Returns:\n",
    "        set: The cleared set (empty set).\n",
    "    \"\"\"\n",
    "    input_set.clear()  # Clears all elements from the set\n",
    "    return input_set\n",
    "\n",
    "# Example usage\n",
    "my_set = {1, 2, 3, 4, 5}\n",
    "print(\"Original set:\", my_set)\n",
    "\n",
    "# Clear all elements from the set\n",
    "cleared_set = clear_set(my_set)\n",
    "print(\"Cleared set:\", cleared_set)\n"
   ]
  },
  {
   "cell_type": "markdown",
   "id": "16cd7ffa",
   "metadata": {},
   "source": []
  },
  {
   "cell_type": "code",
   "execution_count": null,
   "id": "0f8f08a6",
   "metadata": {},
   "outputs": [],
   "source": [
    "7. Create a set of even numbers from 1 to 10?"
   ]
  },
  {
   "cell_type": "code",
   "execution_count": 17,
   "id": "2cf3c1c1",
   "metadata": {},
   "outputs": [
    {
     "name": "stdout",
     "output_type": "stream",
     "text": [
      "Set of even numbers from 1 to 10: {2, 4, 6, 8, 10}\n"
     ]
    }
   ],
   "source": [
    "# Create a set of even numbers from 1 to 10\n",
    "even_numbers = {x for x in range(1, 11) if x % 2 == 0}\n",
    "\n",
    "# Display the set\n",
    "print(\"Set of even numbers from 1 to 10:\", even_numbers)\n"
   ]
  },
  {
   "cell_type": "markdown",
   "id": "5898f592",
   "metadata": {},
   "source": []
  },
  {
   "cell_type": "code",
   "execution_count": null,
   "id": "6585f1f6",
   "metadata": {},
   "outputs": [],
   "source": [
    "8. Create a set of odd numbers from 1 to 10?"
   ]
  },
  {
   "cell_type": "code",
   "execution_count": 18,
   "id": "3d1ec762",
   "metadata": {},
   "outputs": [
    {
     "name": "stdout",
     "output_type": "stream",
     "text": [
      "{1, 3, 5, 7, 9}\n"
     ]
    }
   ],
   "source": [
    "# Create a set of odd numbers from 1 to 10\n",
    "odd_numbers = {num for num in range(1, 11) if num % 2 != 0}\n",
    "\n",
    "# Print the result\n",
    "print(odd_numbers)\n"
   ]
  },
  {
   "cell_type": "markdown",
   "id": "3661133e",
   "metadata": {},
   "source": []
  },
  {
   "cell_type": "code",
   "execution_count": null,
   "id": "79120534",
   "metadata": {},
   "outputs": [],
   "source": [
    "9. Find the union of two sets?"
   ]
  },
  {
   "cell_type": "code",
   "execution_count": 19,
   "id": "3a28f063",
   "metadata": {},
   "outputs": [
    {
     "name": "stdout",
     "output_type": "stream",
     "text": [
      "Union using union() method: {1, 2, 3, 4, 5, 6}\n",
      "Union using | operator: {1, 2, 3, 4, 5, 6}\n"
     ]
    }
   ],
   "source": [
    "# Define two sets\n",
    "set1 = {1, 2, 3, 4}\n",
    "set2 = {3, 4, 5, 6}\n",
    "\n",
    "# Using the union() method\n",
    "union_set = set1.union(set2)\n",
    "\n",
    "# Or using the | (pipe) operator\n",
    "union_set_alternative = set1 | set2\n",
    "\n",
    "# Print the results\n",
    "print(\"Union using union() method:\", union_set)\n",
    "print(\"Union using | operator:\", union_set_alternative)\n"
   ]
  },
  {
   "cell_type": "markdown",
   "id": "65810791",
   "metadata": {},
   "source": []
  },
  {
   "cell_type": "code",
   "execution_count": null,
   "id": "7700b483",
   "metadata": {},
   "outputs": [],
   "source": [
    "10. Find the intersection of two sets?"
   ]
  },
  {
   "cell_type": "code",
   "execution_count": 20,
   "id": "7ad51b99",
   "metadata": {},
   "outputs": [
    {
     "name": "stdout",
     "output_type": "stream",
     "text": [
      "Intersection of the sets: {4, 5}\n"
     ]
    }
   ],
   "source": [
    "def find_intersection(set1, set2):\n",
    "    \"\"\"\n",
    "    Finds the intersection of two sets and returns the common elements.\n",
    "\n",
    "    Args:\n",
    "        set1 (set): The first set.\n",
    "        set2 (set): The second set.\n",
    "\n",
    "    Returns:\n",
    "        set: The intersection of the two sets.\n",
    "    \"\"\"\n",
    "    return set1 & set2  # Using the intersection operator\n",
    "\n",
    "# Example usage\n",
    "set_a = {1, 2, 3, 4, 5}\n",
    "set_b = {4, 5, 6, 7, 8}\n",
    "\n",
    "intersection = find_intersection(set_a, set_b)\n",
    "print(\"Intersection of the sets:\", intersection)\n"
   ]
  },
  {
   "cell_type": "markdown",
   "id": "f18edf05",
   "metadata": {},
   "source": []
  },
  {
   "cell_type": "code",
   "execution_count": null,
   "id": "69d00a34",
   "metadata": {},
   "outputs": [],
   "source": [
    "11. Find the difference between two sets?"
   ]
  },
  {
   "cell_type": "code",
   "execution_count": 21,
   "id": "c062e101",
   "metadata": {},
   "outputs": [
    {
     "name": "stdout",
     "output_type": "stream",
     "text": [
      "Difference (set1 - set2): {1, 2}\n",
      "Difference (set1 - set2) using '-': {1, 2}\n"
     ]
    }
   ],
   "source": [
    "def find_set_difference(set1, set2):\n",
    "    \"\"\"\n",
    "    Finds the difference between two sets.\n",
    "\n",
    "    Args:\n",
    "        set1 (set): The first set.\n",
    "        set2 (set): The second set.\n",
    "\n",
    "    Returns:\n",
    "        set: A new set containing elements in set1 but not in set2.\n",
    "    \"\"\"\n",
    "    # Using the difference method\n",
    "    difference = set1.difference(set2)\n",
    "    return difference\n",
    "\n",
    "# Example usage\n",
    "set1 = {1, 2, 3, 4, 5}\n",
    "set2 = {3, 4, 5, 6, 7}\n",
    "\n",
    "result = find_set_difference(set1, set2)\n",
    "print(\"Difference (set1 - set2):\", result)\n",
    "\n",
    "# Alternative using the - operator\n",
    "result_alt = set1 - set2\n",
    "print(\"Difference (set1 - set2) using '-':\", result_alt)\n"
   ]
  },
  {
   "cell_type": "markdown",
   "id": "aadf35fc",
   "metadata": {},
   "source": []
  },
  {
   "cell_type": "code",
   "execution_count": null,
   "id": "9d15dc07",
   "metadata": {},
   "outputs": [],
   "source": [
    "12. Check if a set is a subset of another set?"
   ]
  },
  {
   "cell_type": "code",
   "execution_count": 22,
   "id": "7ca97702",
   "metadata": {},
   "outputs": [
    {
     "name": "stdout",
     "output_type": "stream",
     "text": [
      "Is set_a a subset of set_b? True\n"
     ]
    }
   ],
   "source": [
    "def check_subset(set1, set2):\n",
    "    \"\"\"\n",
    "    Check if set1 is a subset of set2.\n",
    "\n",
    "    Args:\n",
    "        set1 (set): The first set to check.\n",
    "        set2 (set): The second set to check against.\n",
    "\n",
    "    Returns:\n",
    "        bool: True if set1 is a subset of set2, False otherwise.\n",
    "    \"\"\"\n",
    "    return set1.issubset(set2)\n",
    "\n",
    "# Example usage\n",
    "set_a = {1, 2, 3}\n",
    "set_b = {1, 2, 3, 4, 5}\n",
    "\n",
    "result = check_subset(set_a, set_b)\n",
    "print(f\"Is set_a a subset of set_b? {result}\")\n"
   ]
  },
  {
   "cell_type": "markdown",
   "id": "7d86e2b3",
   "metadata": {},
   "source": []
  },
  {
   "cell_type": "code",
   "execution_count": null,
   "id": "4a7a33a2",
   "metadata": {},
   "outputs": [],
   "source": [
    "13. Check if a set is a superset of another set?"
   ]
  },
  {
   "cell_type": "code",
   "execution_count": 23,
   "id": "b76fe5c9",
   "metadata": {},
   "outputs": [
    {
     "name": "stdout",
     "output_type": "stream",
     "text": [
      "Is set1 a superset of set2? True\n"
     ]
    }
   ],
   "source": [
    "def check_superset(set1, set2):\n",
    "    \"\"\"\n",
    "    Check if set1 is a superset of set2.\n",
    "\n",
    "    Args:\n",
    "        set1 (set): The first set to check.\n",
    "        set2 (set): The second set to check.\n",
    "\n",
    "    Returns:\n",
    "        bool: True if set1 is a superset of set2, False otherwise.\n",
    "    \"\"\"\n",
    "    return set1.issuperset(set2)  # or use: return set1 >= set2\n",
    "\n",
    "# Example usage:\n",
    "set1 = {1, 2, 3, 4, 5}\n",
    "set2 = {2, 3, 4}\n",
    "\n",
    "result = check_superset(set1, set2)\n",
    "print(f\"Is set1 a superset of set2? {result}\")\n"
   ]
  },
  {
   "cell_type": "markdown",
   "id": "2dae620d",
   "metadata": {},
   "source": []
  },
  {
   "cell_type": "code",
   "execution_count": null,
   "id": "e979775f",
   "metadata": {},
   "outputs": [],
   "source": [
    "14. Create a set from a list?"
   ]
  },
  {
   "cell_type": "code",
   "execution_count": 24,
   "id": "b70ff4e8",
   "metadata": {},
   "outputs": [
    {
     "name": "stdout",
     "output_type": "stream",
     "text": [
      "Set: {1, 2, 3, 4, 5}\n"
     ]
    }
   ],
   "source": [
    "def list_to_set(input_list):\n",
    "    \"\"\"\n",
    "    Converts a list to a set, removing duplicate values.\n",
    "    \n",
    "    Args:\n",
    "        input_list (list): The list to be converted to a set.\n",
    "    \n",
    "    Returns:\n",
    "        set: A set containing unique elements from the list.\n",
    "    \"\"\"\n",
    "    return set(input_list)\n",
    "\n",
    "# Example usage\n",
    "my_list = [1, 2, 2, 3, 4, 4, 5]\n",
    "my_set = list_to_set(my_list)\n",
    "print(\"Set:\", my_set)\n"
   ]
  },
  {
   "cell_type": "markdown",
   "id": "1c5ca259",
   "metadata": {},
   "source": []
  },
  {
   "cell_type": "code",
   "execution_count": null,
   "id": "1d298c4a",
   "metadata": {},
   "outputs": [],
   "source": [
    "15. Convert a set to a list?"
   ]
  },
  {
   "cell_type": "code",
   "execution_count": 25,
   "id": "d2f0e643",
   "metadata": {},
   "outputs": [
    {
     "name": "stdout",
     "output_type": "stream",
     "text": [
      "List after conversion: [1, 2, 3, 4, 5]\n"
     ]
    }
   ],
   "source": [
    "def convert_set_to_list(input_set):\n",
    "    \"\"\"\n",
    "    Converts a set to a list.\n",
    "\n",
    "    Args:\n",
    "        input_set (set): The set to be converted to a list.\n",
    "\n",
    "    Returns:\n",
    "        list: The list representation of the input set.\n",
    "    \"\"\"\n",
    "    # Convert the set to a list\n",
    "    result_list = list(input_set)\n",
    "    return result_list\n",
    "\n",
    "# Example usage\n",
    "my_set = {1, 2, 3, 4, 5}\n",
    "result = convert_set_to_list(my_set)\n",
    "print(\"List after conversion:\", result)\n"
   ]
  },
  {
   "cell_type": "markdown",
   "id": "958da7b1",
   "metadata": {},
   "source": []
  },
  {
   "cell_type": "code",
   "execution_count": null,
   "id": "a8c99352",
   "metadata": {},
   "outputs": [],
   "source": [
    "15. Convert a set to a list?"
   ]
  },
  {
   "cell_type": "code",
   "execution_count": 26,
   "id": "795da192",
   "metadata": {},
   "outputs": [
    {
     "name": "stdout",
     "output_type": "stream",
     "text": [
      "Converted List: [50, 20, 40, 10, 30]\n"
     ]
    }
   ],
   "source": [
    "def set_to_list(input_set):\n",
    "    \"\"\"\n",
    "    Converts a set to a list.\n",
    "\n",
    "    Args:\n",
    "        input_set (set): The set to be converted.\n",
    "\n",
    "    Returns:\n",
    "        list: The converted list containing elements of the set.\n",
    "    \"\"\"\n",
    "    return list(input_set)\n",
    "\n",
    "# Example usage\n",
    "my_set = {10, 20, 30, 40, 50}\n",
    "result = set_to_list(my_set)\n",
    "print(\"Converted List:\", result)\n"
   ]
  },
  {
   "cell_type": "markdown",
   "id": "15591664",
   "metadata": {},
   "source": []
  },
  {
   "cell_type": "code",
   "execution_count": null,
   "id": "e1a18d83",
   "metadata": {},
   "outputs": [],
   "source": [
    "16. Remove a random element from a set?"
   ]
  },
  {
   "cell_type": "code",
   "execution_count": 27,
   "id": "ec87a529",
   "metadata": {},
   "outputs": [
    {
     "name": "stdout",
     "output_type": "stream",
     "text": [
      "Removed element: 1\n",
      "Updated set: {2, 3, 4, 5}\n"
     ]
    }
   ],
   "source": [
    "import random\n",
    "\n",
    "def remove_random_element(my_set):\n",
    "    \"\"\"\n",
    "    Removes a random element from the set and returns the updated set.\n",
    "    \n",
    "    Args:\n",
    "        my_set (set): The set from which a random element will be removed.\n",
    "        \n",
    "    Returns:\n",
    "        set: The updated set after removing a random element.\n",
    "    \"\"\"\n",
    "    # Check if the set is empty\n",
    "    if my_set:\n",
    "        removed_element = my_set.pop()\n",
    "        print(f\"Removed element: {removed_element}\")\n",
    "    else:\n",
    "        print(\"The set is empty, no element to remove.\")\n",
    "    return my_set\n",
    "\n",
    "# Example usage\n",
    "my_set = {1, 2, 3, 4, 5}\n",
    "updated_set = remove_random_element(my_set)\n",
    "print(\"Updated set:\", updated_set)\n"
   ]
  },
  {
   "cell_type": "markdown",
   "id": "31184c2c",
   "metadata": {},
   "source": []
  },
  {
   "cell_type": "code",
   "execution_count": null,
   "id": "81be48d0",
   "metadata": {},
   "outputs": [],
   "source": [
    "17. Pop an element from a set?"
   ]
  },
  {
   "cell_type": "code",
   "execution_count": 28,
   "id": "b2b190ea",
   "metadata": {},
   "outputs": [
    {
     "name": "stdout",
     "output_type": "stream",
     "text": [
      "Popped Element: 50\n",
      "Updated Set: {20, 40, 10, 30}\n"
     ]
    }
   ],
   "source": [
    "# Initialize a set\n",
    "my_set = {10, 20, 30, 40, 50}\n",
    "\n",
    "# Pop a random element from the set\n",
    "popped_element = my_set.pop()\n",
    "\n",
    "# Print the element that was popped and the updated set\n",
    "print(\"Popped Element:\", popped_element)\n",
    "print(\"Updated Set:\", my_set)\n"
   ]
  },
  {
   "cell_type": "markdown",
   "id": "cce28b91",
   "metadata": {},
   "source": []
  },
  {
   "cell_type": "code",
   "execution_count": null,
   "id": "9d1e67b9",
   "metadata": {},
   "outputs": [],
   "source": [
    "18. Check if two sets have no elements in common?"
   ]
  },
  {
   "cell_type": "code",
   "execution_count": 29,
   "id": "25e81eaf",
   "metadata": {},
   "outputs": [
    {
     "name": "stdout",
     "output_type": "stream",
     "text": [
      "Do the sets have no elements in common? True\n",
      "Do the sets have no elements in common? False\n"
     ]
    }
   ],
   "source": [
    "def are_sets_disjoint(set1, set2):\n",
    "    \"\"\"\n",
    "    Checks if two sets have no elements in common.\n",
    "\n",
    "    Args:\n",
    "        set1 (set): The first set.\n",
    "        set2 (set): The second set.\n",
    "\n",
    "    Returns:\n",
    "        bool: True if the sets have no elements in common, False otherwise.\n",
    "    \"\"\"\n",
    "    return set1.isdisjoint(set2)\n",
    "\n",
    "# Example usage\n",
    "set1 = {1, 2, 3, 4}\n",
    "set2 = {5, 6, 7, 8}\n",
    "\n",
    "result = are_sets_disjoint(set1, set2)\n",
    "print(\"Do the sets have no elements in common?\", result)\n",
    "\n",
    "# Example with common element\n",
    "set3 = {3, 4, 5}\n",
    "set4 = {4, 5, 6}\n",
    "result2 = are_sets_disjoint(set3, set4)\n",
    "print(\"Do the sets have no elements in common?\", result2)\n"
   ]
  },
  {
   "cell_type": "markdown",
   "id": "12ac9d7c",
   "metadata": {},
   "source": []
  },
  {
   "cell_type": "code",
   "execution_count": null,
   "id": "a8e86efb",
   "metadata": {},
   "outputs": [],
   "source": [
    "19. Find the symmetric difference between two sets?"
   ]
  },
  {
   "cell_type": "code",
   "execution_count": 30,
   "id": "817f5ccb",
   "metadata": {},
   "outputs": [
    {
     "name": "stdout",
     "output_type": "stream",
     "text": [
      "Symmetric Difference: {1, 2, 3, 6, 7, 8}\n"
     ]
    }
   ],
   "source": [
    "def symmetric_difference(set1, set2):\n",
    "    \"\"\"\n",
    "    Returns the symmetric difference between two sets.\n",
    "    \n",
    "    Args:\n",
    "        set1 (set): The first set.\n",
    "        set2 (set): The second set.\n",
    "    \n",
    "    Returns:\n",
    "        set: The symmetric difference between set1 and set2.\n",
    "    \"\"\"\n",
    "    return set1 ^ set2  # Using the ^ operator to find the symmetric difference\n",
    "\n",
    "# Example usage\n",
    "set1 = {1, 2, 3, 4, 5}\n",
    "set2 = {4, 5, 6, 7, 8}\n",
    "\n",
    "result = symmetric_difference(set1, set2)\n",
    "print(\"Symmetric Difference:\", result)\n"
   ]
  },
  {
   "cell_type": "markdown",
   "id": "c4c5946a",
   "metadata": {},
   "source": []
  },
  {
   "cell_type": "code",
   "execution_count": null,
   "id": "593e7187",
   "metadata": {},
   "outputs": [],
   "source": [
    "20. Update a set with elements from another set?"
   ]
  },
  {
   "cell_type": "code",
   "execution_count": 31,
   "id": "ad07fdc8",
   "metadata": {},
   "outputs": [
    {
     "name": "stdout",
     "output_type": "stream",
     "text": [
      "Updated set1: {1, 2, 3, 4, 5, 6}\n"
     ]
    }
   ],
   "source": [
    "# Define two sets\n",
    "set1 = {1, 2, 3, 4}\n",
    "set2 = {3, 4, 5, 6}\n",
    "\n",
    "# Update set1 with elements from set2\n",
    "set1.update(set2)\n",
    "\n",
    "# Print the updated set1\n",
    "print(\"Updated set1:\", set1)\n"
   ]
  },
  {
   "cell_type": "markdown",
   "id": "3f93142b",
   "metadata": {},
   "source": []
  },
  {
   "cell_type": "code",
   "execution_count": null,
   "id": "c432de05",
   "metadata": {},
   "outputs": [],
   "source": [
    "21. Create a set of the first 5 prime numbers?"
   ]
  },
  {
   "cell_type": "code",
   "execution_count": 32,
   "id": "4afd946f",
   "metadata": {},
   "outputs": [
    {
     "name": "stdout",
     "output_type": "stream",
     "text": [
      "Set of the first 5 prime numbers: {2, 3, 5, 7, 11}\n"
     ]
    }
   ],
   "source": [
    "# Function to check if a number is prime\n",
    "def is_prime(num):\n",
    "    if num <= 1:\n",
    "        return False\n",
    "    for i in range(2, int(num ** 0.5) + 1):\n",
    "        if num % i == 0:\n",
    "            return False\n",
    "    return True\n",
    "\n",
    "# Create a set of the first 5 prime numbers\n",
    "def first_n_primes(n):\n",
    "    primes = set()  # Using a set to store unique primes\n",
    "    num = 2  # Start checking from 2 (the first prime number)\n",
    "    while len(primes) < n:\n",
    "        if is_prime(num):\n",
    "            primes.add(num)\n",
    "        num += 1\n",
    "    return primes\n",
    "\n",
    "# Get the first 5 prime numbers\n",
    "prime_set = first_n_primes(5)\n",
    "\n",
    "# Print the set of prime numbers\n",
    "print(\"Set of the first 5 prime numbers:\", prime_set)\n"
   ]
  },
  {
   "cell_type": "markdown",
   "id": "a2dcc2b6",
   "metadata": {},
   "source": []
  },
  {
   "cell_type": "code",
   "execution_count": null,
   "id": "136ac714",
   "metadata": {},
   "outputs": [],
   "source": [
    "22. Check if two sets are identical?"
   ]
  },
  {
   "cell_type": "code",
   "execution_count": 33,
   "id": "947796c0",
   "metadata": {},
   "outputs": [
    {
     "name": "stdout",
     "output_type": "stream",
     "text": [
      "True\n",
      "False\n"
     ]
    }
   ],
   "source": [
    "def are_sets_identical(set1, set2):\n",
    "    \"\"\"\n",
    "    Checks if two sets are identical.\n",
    "\n",
    "    Args:\n",
    "        set1 (set): The first set.\n",
    "        set2 (set): The second set.\n",
    "\n",
    "    Returns:\n",
    "        bool: True if sets are identical, False otherwise.\n",
    "    \"\"\"\n",
    "    return set1 == set2\n",
    "\n",
    "# Example usage\n",
    "set1 = {1, 2, 3, 4}\n",
    "set2 = {4, 3, 2, 1}\n",
    "set3 = {1, 2, 3}\n",
    "\n",
    "# Check if set1 and set2 are identical\n",
    "print(are_sets_identical(set1, set2))  # Output: True\n",
    "\n",
    "# Check if set1 and set3 are identical\n",
    "print(are_sets_identical(set1, set3))  # Output: False\n"
   ]
  },
  {
   "cell_type": "markdown",
   "id": "a9021b6a",
   "metadata": {},
   "source": []
  },
  {
   "cell_type": "code",
   "execution_count": null,
   "id": "0be7e97d",
   "metadata": {},
   "outputs": [],
   "source": [
    "23. Create a frozen set?"
   ]
  },
  {
   "cell_type": "code",
   "execution_count": 34,
   "id": "8edf3078",
   "metadata": {},
   "outputs": [
    {
     "name": "stdout",
     "output_type": "stream",
     "text": [
      "Frozen Set: frozenset({1, 2, 3, 4, 5})\n"
     ]
    }
   ],
   "source": [
    "# Create a frozen set\n",
    "frozen_set = frozenset([1, 2, 3, 4, 5])\n",
    "\n",
    "# Output the frozen set\n",
    "print(\"Frozen Set:\", frozen_set)\n",
    "\n",
    "# Attempting to modify the frozen set will raise an error:\n",
    "# frozen_set.add(6)  # Uncommenting this line will raise an AttributeError\n"
   ]
  },
  {
   "cell_type": "markdown",
   "id": "1ecbe45c",
   "metadata": {},
   "source": []
  },
  {
   "cell_type": "code",
   "execution_count": null,
   "id": "29b7ceb2",
   "metadata": {},
   "outputs": [],
   "source": [
    "24. Check if a set is disjoint with another set?"
   ]
  },
  {
   "cell_type": "code",
   "execution_count": 35,
   "id": "b2166e65",
   "metadata": {},
   "outputs": [
    {
     "name": "stdout",
     "output_type": "stream",
     "text": [
      "Are set1 and set2 disjoint? True\n",
      "Are set1 and set3 disjoint? False\n"
     ]
    }
   ],
   "source": [
    "def are_sets_disjoint(set1, set2):\n",
    "    \"\"\"\n",
    "    Checks if two sets are disjoint (i.e., have no common elements).\n",
    "\n",
    "    Args:\n",
    "        set1 (set): First set.\n",
    "        set2 (set): Second set.\n",
    "\n",
    "    Returns:\n",
    "        bool: True if sets are disjoint, False otherwise.\n",
    "    \"\"\"\n",
    "    return set1.isdisjoint(set2)\n",
    "\n",
    "# Example usage\n",
    "set1 = {1, 2, 3, 4}\n",
    "set2 = {5, 6, 7, 8}\n",
    "set3 = {3, 4, 5, 6}\n",
    "\n",
    "# Check if set1 and set2 are disjoint\n",
    "print(\"Are set1 and set2 disjoint?\", are_sets_disjoint(set1, set2))  # Expected: True\n",
    "\n",
    "# Check if set1 and set3 are disjoint\n",
    "print(\"Are set1 and set3 disjoint?\", are_sets_disjoint(set1, set3))  # Expected: False\n"
   ]
  },
  {
   "cell_type": "markdown",
   "id": "09df1e33",
   "metadata": {},
   "source": []
  },
  {
   "cell_type": "code",
   "execution_count": null,
   "id": "1a2fb40a",
   "metadata": {},
   "outputs": [],
   "source": [
    "25. Create a set of squares of numbers from 1 to 5?"
   ]
  },
  {
   "cell_type": "code",
   "execution_count": 36,
   "id": "f20570af",
   "metadata": {},
   "outputs": [
    {
     "name": "stdout",
     "output_type": "stream",
     "text": [
      "{1, 4, 9, 16, 25}\n"
     ]
    }
   ],
   "source": [
    "# Create a set of squares of numbers from 1 to 5\n",
    "squares = {x**2 for x in range(1, 6)}\n",
    "\n",
    "# Print the set of squares\n",
    "print(squares)\n"
   ]
  },
  {
   "cell_type": "markdown",
   "id": "81913027",
   "metadata": {},
   "source": []
  },
  {
   "cell_type": "code",
   "execution_count": null,
   "id": "b21d6c31",
   "metadata": {},
   "outputs": [],
   "source": [
    "26. Filter out all even numbers from a set?"
   ]
  },
  {
   "cell_type": "code",
   "execution_count": 37,
   "id": "c4e88713",
   "metadata": {},
   "outputs": [
    {
     "name": "stdout",
     "output_type": "stream",
     "text": [
      "Filtered set (only odd numbers): {1, 3, 5, 7, 9}\n"
     ]
    }
   ],
   "source": [
    "def filter_even_numbers(input_set):\n",
    "    \"\"\"\n",
    "    Filters out all even numbers from a set.\n",
    "\n",
    "    Args:\n",
    "        input_set (set): A set containing integers.\n",
    "\n",
    "    Returns:\n",
    "        set: A new set containing only the odd numbers.\n",
    "    \"\"\"\n",
    "    # Using set comprehension to filter out even numbers\n",
    "    return {num for num in input_set if num % 2 != 0}\n",
    "\n",
    "# Example usage\n",
    "my_set = {1, 2, 3, 4, 5, 6, 7, 8, 9}\n",
    "result = filter_even_numbers(my_set)\n",
    "print(\"Filtered set (only odd numbers):\", result)\n"
   ]
  },
  {
   "cell_type": "markdown",
   "id": "3fbbd950",
   "metadata": {},
   "source": []
  },
  {
   "cell_type": "code",
   "execution_count": null,
   "id": "ca766016",
   "metadata": {},
   "outputs": [],
   "source": [
    "27. Multiply all elements in a set by 2?"
   ]
  },
  {
   "cell_type": "code",
   "execution_count": 38,
   "id": "e508e3de",
   "metadata": {},
   "outputs": [
    {
     "name": "stdout",
     "output_type": "stream",
     "text": [
      "Set after multiplication: {2, 4, 6, 8, 10}\n"
     ]
    }
   ],
   "source": [
    "def multiply_elements_by_2(input_set):\n",
    "    \"\"\"\n",
    "    Multiplies all elements in a set by 2.\n",
    "\n",
    "    Args:\n",
    "        input_set (set): A set containing numerical elements.\n",
    "\n",
    "    Returns:\n",
    "        set: A new set with all elements multiplied by 2.\n",
    "    \"\"\"\n",
    "    # Using set comprehension to multiply each element by 2\n",
    "    return {x * 2 for x in input_set}\n",
    "\n",
    "# Example usage\n",
    "my_set = {1, 2, 3, 4, 5}\n",
    "result_set = multiply_elements_by_2(my_set)\n",
    "print(\"Set after multiplication:\", result_set)\n"
   ]
  },
  {
   "cell_type": "markdown",
   "id": "ad0fcc2c",
   "metadata": {},
   "source": []
  },
  {
   "cell_type": "code",
   "execution_count": null,
   "id": "edb345ef",
   "metadata": {},
   "outputs": [],
   "source": [
    "28. Create a set of random numbers?"
   ]
  },
  {
   "cell_type": "code",
   "execution_count": 39,
   "id": "e42660a3",
   "metadata": {},
   "outputs": [
    {
     "name": "stdout",
     "output_type": "stream",
     "text": [
      "Random set of numbers: {37, 71, 39, 10, 43, 18, 50, 59, 93, 63}\n"
     ]
    }
   ],
   "source": [
    "import random\n",
    "\n",
    "def generate_random_set(num_elements, min_value, max_value):\n",
    "    \"\"\"\n",
    "    Generates a set of random numbers.\n",
    "    \n",
    "    Args:\n",
    "        num_elements (int): The number of random elements to generate.\n",
    "        min_value (int): The minimum value for the random number range.\n",
    "        max_value (int): The maximum value for the random number range.\n",
    "        \n",
    "    Returns:\n",
    "        set: A set of unique random numbers.\n",
    "    \"\"\"\n",
    "    random_set = set()\n",
    "\n",
    "    # Generate random numbers and add them to the set\n",
    "    while len(random_set) < num_elements:\n",
    "        random_set.add(random.randint(min_value, max_value))\n",
    "    \n",
    "    return random_set\n",
    "\n",
    "# Example usage\n",
    "num_elements = 10  # Number of random elements\n",
    "min_value = 1      # Minimum value for random numbers\n",
    "max_value = 100    # Maximum value for random numbers\n",
    "\n",
    "random_numbers = generate_random_set(num_elements, min_value, max_value)\n",
    "print(\"Random set of numbers:\", random_numbers)\n"
   ]
  },
  {
   "cell_type": "markdown",
   "id": "7e6c5dd5",
   "metadata": {},
   "source": []
  },
  {
   "cell_type": "code",
   "execution_count": null,
   "id": "81953d35",
   "metadata": {},
   "outputs": [],
   "source": [
    "29. Check if a set is empty?"
   ]
  },
  {
   "cell_type": "code",
   "execution_count": 40,
   "id": "cc42830c",
   "metadata": {},
   "outputs": [
    {
     "name": "stdout",
     "output_type": "stream",
     "text": [
      "Is the set empty? True\n",
      "Is the set empty? False\n"
     ]
    }
   ],
   "source": [
    "def is_set_empty(my_set):\n",
    "    \"\"\"\n",
    "    Checks if the provided set is empty.\n",
    "\n",
    "    Args:\n",
    "        my_set (set): The set to check.\n",
    "\n",
    "    Returns:\n",
    "        bool: True if the set is empty, False otherwise.\n",
    "    \"\"\"\n",
    "    return len(my_set) == 0\n",
    "\n",
    "# Example usage\n",
    "my_set = set()  # An empty set\n",
    "print(\"Is the set empty?\", is_set_empty(my_set))\n",
    "\n",
    "my_set2 = {1, 2, 3}  # A non-empty set\n",
    "print(\"Is the set empty?\", is_set_empty(my_set2))\n"
   ]
  },
  {
   "cell_type": "markdown",
   "id": "64206d45",
   "metadata": {},
   "source": []
  },
  {
   "cell_type": "code",
   "execution_count": null,
   "id": "d4de571d",
   "metadata": {},
   "outputs": [],
   "source": [
    "30. Create a nested set (hint: use frozenset)?"
   ]
  },
  {
   "cell_type": "code",
   "execution_count": 41,
   "id": "a94e45f2",
   "metadata": {},
   "outputs": [
    {
     "name": "stdout",
     "output_type": "stream",
     "text": [
      "Nested Set: {frozenset({1, 2, 3}), frozenset({8, 6, 7}), frozenset({4, 5})}\n",
      "Updated Nested Set: {frozenset({1, 2, 3}), frozenset({8, 6, 7}), frozenset({9, 10}), frozenset({4, 5})}\n"
     ]
    }
   ],
   "source": [
    "# Creating a nested set using frozenset\n",
    "nested_set = {frozenset([1, 2, 3]), frozenset([4, 5]), frozenset([6, 7, 8])}\n",
    "\n",
    "# Displaying the nested set\n",
    "print(\"Nested Set:\", nested_set)\n",
    "\n",
    "# Adding a new frozenset to the nested set\n",
    "nested_set.add(frozenset([9, 10]))\n",
    "print(\"Updated Nested Set:\", nested_set)\n"
   ]
  },
  {
   "cell_type": "markdown",
   "id": "a8084f7c",
   "metadata": {},
   "source": []
  },
  {
   "cell_type": "code",
   "execution_count": null,
   "id": "1f337b13",
   "metadata": {},
   "outputs": [],
   "source": [
    "31. Remove an element from a set using the discard method?"
   ]
  },
  {
   "cell_type": "code",
   "execution_count": 42,
   "id": "49182fe5",
   "metadata": {},
   "outputs": [
    {
     "name": "stdout",
     "output_type": "stream",
     "text": [
      "Original Set: {50, 20, 40, 10, 30}\n",
      "Set after discarding 30: {50, 20, 40, 10}\n",
      "Set after discarding 60 (non-existing element): {50, 20, 40, 10}\n"
     ]
    }
   ],
   "source": [
    "# Creating a set\n",
    "my_set = {10, 20, 30, 40, 50}\n",
    "\n",
    "# Print the set before removing an element\n",
    "print(\"Original Set:\", my_set)\n",
    "\n",
    "# Remove element 30 from the set using discard() method\n",
    "my_set.discard(30)\n",
    "\n",
    "# Print the set after removing the element\n",
    "print(\"Set after discarding 30:\", my_set)\n",
    "\n",
    "# Try to discard an element that is not in the set\n",
    "my_set.discard(60)  # No error will be raised, unlike remove()\n",
    "\n",
    "# Print the set after attempting to discard an element not in the set\n",
    "print(\"Set after discarding 60 (non-existing element):\", my_set)\n"
   ]
  },
  {
   "cell_type": "markdown",
   "id": "081e4cfb",
   "metadata": {},
   "source": []
  },
  {
   "cell_type": "code",
   "execution_count": null,
   "id": "a3ce1b5b",
   "metadata": {},
   "outputs": [],
   "source": [
    "32. Compare two sets?"
   ]
  },
  {
   "cell_type": "code",
   "execution_count": 43,
   "id": "8cce05d7",
   "metadata": {},
   "outputs": [
    {
     "name": "stdout",
     "output_type": "stream",
     "text": [
      "Comparison Results: {'equal': False, 'subset': False, 'superset': False, 'difference': {1, 2}, 'symmetric_difference': {1, 2, 5, 6}}\n"
     ]
    }
   ],
   "source": [
    "def compare_sets(set1, set2):\n",
    "    \"\"\"\n",
    "    Compare two sets and return the result of various comparison operations.\n",
    "    \n",
    "    Args:\n",
    "        set1 (set): The first set to compare.\n",
    "        set2 (set): The second set to compare.\n",
    "        \n",
    "    Returns:\n",
    "        dict: Dictionary containing comparison results for equality, \n",
    "              subset, and set differences.\n",
    "    \"\"\"\n",
    "    comparison_results = {\n",
    "        \"equal\": set1 == set2,  # Check if both sets are equal\n",
    "        \"subset\": set1.issubset(set2),  # Check if set1 is a subset of set2\n",
    "        \"superset\": set1.issuperset(set2),  # Check if set1 is a superset of set2\n",
    "        \"difference\": set1 - set2,  # Items in set1 but not in set2\n",
    "        \"symmetric_difference\": set1 ^ set2  # Items in either set1 or set2, but not both\n",
    "    }\n",
    "    return comparison_results\n",
    "\n",
    "# Example usage\n",
    "set_a = {1, 2, 3, 4}\n",
    "set_b = {3, 4, 5, 6}\n",
    "\n",
    "result = compare_sets(set_a, set_b)\n",
    "print(\"Comparison Results:\", result)\n"
   ]
  },
  {
   "cell_type": "markdown",
   "id": "1b8b2cb5",
   "metadata": {},
   "source": []
  },
  {
   "cell_type": "code",
   "execution_count": null,
   "id": "27666f1d",
   "metadata": {},
   "outputs": [],
   "source": [
    "33. Create a set from a string?"
   ]
  },
  {
   "cell_type": "code",
   "execution_count": 44,
   "id": "fbce38c5",
   "metadata": {},
   "outputs": [
    {
     "name": "stdout",
     "output_type": "stream",
     "text": [
      "Set from string: {'h', 'e', 'o', 'l'}\n"
     ]
    }
   ],
   "source": [
    "def string_to_set(input_string):\n",
    "    \"\"\"\n",
    "    Converts a string into a set of unique characters.\n",
    "\n",
    "    Args:\n",
    "        input_string (str): The string from which to create a set.\n",
    "\n",
    "    Returns:\n",
    "        set: A set containing the unique characters from the string.\n",
    "    \"\"\"\n",
    "    # Convert the string to a set to remove duplicate characters\n",
    "    return set(input_string)\n",
    "\n",
    "# Example usage\n",
    "input_string = \"hello\"\n",
    "result = string_to_set(input_string)\n",
    "print(\"Set from string:\", result)\n"
   ]
  },
  {
   "cell_type": "markdown",
   "id": "659cbd6b",
   "metadata": {},
   "source": []
  },
  {
   "cell_type": "code",
   "execution_count": null,
   "id": "8ef563d7",
   "metadata": {},
   "outputs": [],
   "source": [
    "34. Convert a set of strings to a set of integers?"
   ]
  },
  {
   "cell_type": "code",
   "execution_count": 45,
   "id": "0c701159",
   "metadata": {},
   "outputs": [
    {
     "name": "stdout",
     "output_type": "stream",
     "text": [
      "Set of integers: {1, 2, 3, 4, 5}\n"
     ]
    }
   ],
   "source": [
    "def convert_set_to_integers(string_set):\n",
    "    \"\"\"\n",
    "    Converts a set of strings to a set of integers.\n",
    "    \n",
    "    Args:\n",
    "        string_set (set): A set containing string elements that represent integers.\n",
    "    \n",
    "    Returns:\n",
    "        set: A set of integers converted from the string set.\n",
    "    \"\"\"\n",
    "    # Convert each string element to integer using map and set to preserve uniqueness\n",
    "    integer_set = set(map(int, string_set))\n",
    "    return integer_set\n",
    "\n",
    "# Example usage\n",
    "string_set = {\"1\", \"2\", \"3\", \"4\", \"5\"}\n",
    "result = convert_set_to_integers(string_set)\n",
    "print(\"Set of integers:\", result)\n"
   ]
  },
  {
   "cell_type": "markdown",
   "id": "2356b547",
   "metadata": {},
   "source": []
  },
  {
   "cell_type": "markdown",
   "id": "46115abb",
   "metadata": {},
   "source": [
    "35. Convert a set of integers to a set of strings?"
   ]
  },
  {
   "cell_type": "code",
   "execution_count": 46,
   "id": "97043ef8",
   "metadata": {},
   "outputs": [
    {
     "name": "stdout",
     "output_type": "stream",
     "text": [
      "Set of strings: {'1', '3', '2', '5', '4'}\n"
     ]
    }
   ],
   "source": [
    "def convert_to_strings(int_set):\n",
    "    \"\"\"\n",
    "    Converts a set of integers to a set of strings.\n",
    "    \n",
    "    Args:\n",
    "        int_set (set): A set containing integers.\n",
    "    \n",
    "    Returns:\n",
    "        set: A set of strings corresponding to the integers in the input set.\n",
    "    \"\"\"\n",
    "    # Using map to convert each integer to a string\n",
    "    string_set = set(map(str, int_set))\n",
    "    return string_set\n",
    "\n",
    "# Example usage\n",
    "int_set = {1, 2, 3, 4, 5}\n",
    "string_set = convert_to_strings(int_set)\n",
    "print(\"Set of strings:\", string_set)\n"
   ]
  },
  {
   "cell_type": "markdown",
   "id": "c305c173",
   "metadata": {},
   "source": []
  },
  {
   "cell_type": "code",
   "execution_count": 49,
   "id": "4d40038c",
   "metadata": {},
   "outputs": [],
   "source": [
    "36. Create a set from a tuple?"
   ]
  },
  {
   "cell_type": "code",
   "execution_count": 50,
   "id": "bf765467",
   "metadata": {},
   "outputs": [
    {
     "name": "stdout",
     "output_type": "stream",
     "text": [
      "Set from tuple: {1, 2, 3, 4, 5}\n"
     ]
    }
   ],
   "source": [
    "def tuple_to_set(input_tuple):\n",
    "    \"\"\"\n",
    "    Converts a tuple to a set, removing any duplicates.\n",
    "\n",
    "    Args:\n",
    "        input_tuple (tuple): The tuple to be converted.\n",
    "\n",
    "    Returns:\n",
    "        set: The set created from the tuple.\n",
    "    \"\"\"\n",
    "    return set(input_tuple)\n",
    "\n",
    "# Example usage\n",
    "my_tuple = (1, 2, 3, 4, 4, 5)\n",
    "result = tuple_to_set(my_tuple)\n",
    "print(\"Set from tuple:\", result)\n"
   ]
  },
  {
   "cell_type": "markdown",
   "id": "6e7f9a00",
   "metadata": {},
   "source": []
  },
  {
   "cell_type": "code",
   "execution_count": null,
   "id": "5416c43d",
   "metadata": {},
   "outputs": [],
   "source": [
    "37. Convert a set to a tuple?"
   ]
  },
  {
   "cell_type": "code",
   "execution_count": 51,
   "id": "929815b9",
   "metadata": {},
   "outputs": [
    {
     "name": "stdout",
     "output_type": "stream",
     "text": [
      "Set converted to tuple: (1, 2, 3, 4, 5)\n"
     ]
    }
   ],
   "source": [
    "def set_to_tuple(s):\n",
    "    \"\"\"\n",
    "    Converts a set to a tuple.\n",
    "\n",
    "    Args:\n",
    "        s (set): The input set to be converted.\n",
    "\n",
    "    Returns:\n",
    "        tuple: The corresponding tuple representation of the set.\n",
    "    \"\"\"\n",
    "    # Convert the set to a tuple\n",
    "    return tuple(s)\n",
    "\n",
    "# Example usage\n",
    "my_set = {1, 2, 3, 4, 5}\n",
    "result = set_to_tuple(my_set)\n",
    "\n",
    "print(\"Set converted to tuple:\", result)\n"
   ]
  },
  {
   "cell_type": "raw",
   "id": "157c2e04",
   "metadata": {},
   "source": []
  },
  {
   "cell_type": "code",
   "execution_count": null,
   "id": "0a490e4d",
   "metadata": {},
   "outputs": [],
   "source": [
    "38. Find the maximum value in a set?"
   ]
  },
  {
   "cell_type": "code",
   "execution_count": 52,
   "id": "39f169da",
   "metadata": {},
   "outputs": [
    {
     "name": "stdout",
     "output_type": "stream",
     "text": [
      "The maximum value in the set is: 50\n"
     ]
    }
   ],
   "source": [
    "def find_max_value(my_set):\n",
    "    \"\"\"\n",
    "    Finds the maximum value in a given set.\n",
    "\n",
    "    Args:\n",
    "        my_set (set): The set from which to find the maximum value.\n",
    "\n",
    "    Returns:\n",
    "        max_value: The maximum value in the set.\n",
    "    \"\"\"\n",
    "    if my_set:\n",
    "        max_value = max(my_set)\n",
    "        return max_value\n",
    "    else:\n",
    "        return \"Set is empty\"\n",
    "\n",
    "# Example usage\n",
    "my_set = {10, 20, 30, 40, 50}\n",
    "result = find_max_value(my_set)\n",
    "print(\"The maximum value in the set is:\", result)\n"
   ]
  },
  {
   "cell_type": "markdown",
   "id": "29bfa7c1",
   "metadata": {},
   "source": []
  },
  {
   "cell_type": "code",
   "execution_count": null,
   "id": "83656743",
   "metadata": {},
   "outputs": [],
   "source": [
    "39. Find the minimum value in a set?"
   ]
  },
  {
   "cell_type": "code",
   "execution_count": 53,
   "id": "68464293",
   "metadata": {},
   "outputs": [
    {
     "name": "stdout",
     "output_type": "stream",
     "text": [
      "The minimum value in the set is: 1\n"
     ]
    }
   ],
   "source": [
    "def find_minimum_value(input_set):\n",
    "    \"\"\"\n",
    "    Finds the minimum value in a given set.\n",
    "\n",
    "    Args:\n",
    "        input_set (set): The set of elements.\n",
    "\n",
    "    Returns:\n",
    "        The minimum value in the set.\n",
    "    \"\"\"\n",
    "    # Use the min() function to find the minimum value\n",
    "    return min(input_set)\n",
    "\n",
    "# Example usage\n",
    "my_set = {5, 2, 9, 1, 7}\n",
    "minimum_value = find_minimum_value(my_set)\n",
    "print(\"The minimum value in the set is:\", minimum_value)\n"
   ]
  },
  {
   "cell_type": "markdown",
   "id": "9b7f0f82",
   "metadata": {},
   "source": []
  },
  {
   "cell_type": "code",
   "execution_count": null,
   "id": "83f81a6f",
   "metadata": {},
   "outputs": [],
   "source": [
    "40. Create a set from user input?"
   ]
  },
  {
   "cell_type": "code",
   "execution_count": 54,
   "id": "65cd9f41",
   "metadata": {},
   "outputs": [
    {
     "name": "stdout",
     "output_type": "stream",
     "text": [
      "Enter elements separated by spaces: vivekanandan sowmi\n",
      "Created Set: {'sowmi', 'vivekanandan'}\n"
     ]
    }
   ],
   "source": [
    "def create_set_from_input():\n",
    "    \"\"\"\n",
    "    Creates a set from user input, allowing the user to enter values separated by space.\n",
    "\n",
    "    Returns:\n",
    "        set: A set containing the unique elements entered by the user.\n",
    "    \"\"\"\n",
    "    # Prompt the user for input\n",
    "    user_input = input(\"Enter elements separated by spaces: \")\n",
    "\n",
    "    # Split the input string by spaces and convert it to a set\n",
    "    user_set = set(user_input.split())\n",
    "\n",
    "    return user_set\n",
    "\n",
    "# Example usage\n",
    "result_set = create_set_from_input()\n",
    "print(\"Created Set:\", result_set)\n"
   ]
  },
  {
   "cell_type": "markdown",
   "id": "8c73c8d7",
   "metadata": {},
   "source": []
  },
  {
   "cell_type": "code",
   "execution_count": null,
   "id": "79ccfe7b",
   "metadata": {},
   "outputs": [],
   "source": [
    "41. Check if the intersection of two sets is empty?"
   ]
  },
  {
   "cell_type": "code",
   "execution_count": 55,
   "id": "bb46a058",
   "metadata": {},
   "outputs": [
    {
     "name": "stdout",
     "output_type": "stream",
     "text": [
      "Is the intersection empty? True\n"
     ]
    }
   ],
   "source": [
    "def is_intersection_empty(set1, set2):\n",
    "    \"\"\"\n",
    "    Checks if the intersection of two sets is empty.\n",
    "\n",
    "    Args:\n",
    "        set1 (set): The first set.\n",
    "        set2 (set): The second set.\n",
    "\n",
    "    Returns:\n",
    "        bool: True if the intersection is empty, otherwise False.\n",
    "    \"\"\"\n",
    "    # Using the & operator to find the intersection\n",
    "    return not bool(set1 & set2)\n",
    "\n",
    "# Example usage\n",
    "set1 = {1, 2, 3}\n",
    "set2 = {4, 5, 6}\n",
    "\n",
    "result = is_intersection_empty(set1, set2)\n",
    "print(\"Is the intersection empty?\", result)\n"
   ]
  },
  {
   "cell_type": "raw",
   "id": "3c67ccd0",
   "metadata": {},
   "source": []
  },
  {
   "cell_type": "code",
   "execution_count": null,
   "id": "dcdb405b",
   "metadata": {},
   "outputs": [],
   "source": [
    "42. Create a set of the first 5 Fibonacci numbers?"
   ]
  },
  {
   "cell_type": "code",
   "execution_count": 56,
   "id": "0146886b",
   "metadata": {},
   "outputs": [
    {
     "name": "stdout",
     "output_type": "stream",
     "text": [
      "Set of the first 5 Fibonacci numbers: {0, 1, 2, 3}\n"
     ]
    }
   ],
   "source": [
    "def fibonacci_set(n):\n",
    "    \"\"\"\n",
    "    Generate a set of the first n Fibonacci numbers.\n",
    "\n",
    "    Args:\n",
    "        n (int): The number of Fibonacci numbers to generate.\n",
    "\n",
    "    Returns:\n",
    "        set: A set containing the first n Fibonacci numbers.\n",
    "    \"\"\"\n",
    "    fib_sequence = [0, 1]  # Starting values for the Fibonacci sequence\n",
    "    while len(fib_sequence) < n:\n",
    "        fib_sequence.append(fib_sequence[-1] + fib_sequence[-2])  # Append next Fibonacci number\n",
    "    return set(fib_sequence[:n])  # Return the first n Fibonacci numbers as a set\n",
    "\n",
    "# Example usage\n",
    "fib_set = fibonacci_set(5)\n",
    "print(f\"Set of the first 5 Fibonacci numbers: {fib_set}\")\n"
   ]
  },
  {
   "cell_type": "markdown",
   "id": "bea592c5",
   "metadata": {},
   "source": []
  },
  {
   "cell_type": "code",
   "execution_count": null,
   "id": "e1a9558e",
   "metadata": {},
   "outputs": [],
   "source": [
    "43. Remove duplicates from a list using sets?"
   ]
  },
  {
   "cell_type": "code",
   "execution_count": 57,
   "id": "02612b71",
   "metadata": {},
   "outputs": [
    {
     "name": "stdout",
     "output_type": "stream",
     "text": [
      "List after removing duplicates: [1, 2, 3, 4, 5]\n"
     ]
    }
   ],
   "source": [
    "def remove_duplicates(input_list):\n",
    "    \"\"\"\n",
    "    Removes duplicates from a list using sets.\n",
    "    \n",
    "    Args:\n",
    "        input_list (list): The list from which duplicates will be removed.\n",
    "\n",
    "    Returns:\n",
    "        list: A new list with duplicates removed.\n",
    "    \"\"\"\n",
    "    # Convert the list to a set to remove duplicates, then convert it back to a list\n",
    "    return list(set(input_list))\n",
    "\n",
    "# Example usage\n",
    "my_list = [1, 2, 2, 3, 4, 4, 5]\n",
    "result = remove_duplicates(my_list)\n",
    "print(\"List after removing duplicates:\", result)\n"
   ]
  },
  {
   "cell_type": "markdown",
   "id": "bc19a893",
   "metadata": {},
   "source": []
  },
  {
   "cell_type": "code",
   "execution_count": null,
   "id": "7d3505ce",
   "metadata": {},
   "outputs": [],
   "source": [
    "44. Check if two sets have the same elements, regardless of their count?"
   ]
  },
  {
   "cell_type": "code",
   "execution_count": 58,
   "id": "c6cef967",
   "metadata": {},
   "outputs": [
    {
     "name": "stdout",
     "output_type": "stream",
     "text": [
      "Are set_a and set_b equal? True\n",
      "Are set_a and set_c equal? False\n"
     ]
    }
   ],
   "source": [
    "def are_sets_equal(set1, set2):\n",
    "    \"\"\"\n",
    "    Compares two sets to check if they contain the same elements.\n",
    "\n",
    "    Args:\n",
    "        set1 (set): The first set to compare.\n",
    "        set2 (set): The second set to compare.\n",
    "\n",
    "    Returns:\n",
    "        bool: True if both sets have the same elements, False otherwise.\n",
    "    \"\"\"\n",
    "    return set1 == set2\n",
    "\n",
    "# Example usage\n",
    "set_a = {1, 2, 3, 4, 5}\n",
    "set_b = {5, 4, 3, 2, 1}\n",
    "set_c = {1, 2, 3, 6, 7}\n",
    "\n",
    "# Test the function\n",
    "print(\"Are set_a and set_b equal?\", are_sets_equal(set_a, set_b))  # True\n",
    "print(\"Are set_a and set_c equal?\", are_sets_equal(set_a, set_c))  # False\n"
   ]
  },
  {
   "cell_type": "markdown",
   "id": "a0eb067f",
   "metadata": {},
   "source": []
  },
  {
   "cell_type": "code",
   "execution_count": null,
   "id": "5d892402",
   "metadata": {},
   "outputs": [],
   "source": [
    "45. Create a set of the first `n` powers of 2?"
   ]
  },
  {
   "cell_type": "code",
   "execution_count": 59,
   "id": "8310d431",
   "metadata": {},
   "outputs": [
    {
     "name": "stdout",
     "output_type": "stream",
     "text": [
      "Set of the first 5 powers of 2: {1, 2, 4, 8, 16}\n"
     ]
    }
   ],
   "source": [
    "def powers_of_two(n):\n",
    "    \"\"\"\n",
    "    Generates a set of the first n powers of 2.\n",
    "\n",
    "    Args:\n",
    "        n (int): The number of powers of 2 to generate.\n",
    "\n",
    "    Returns:\n",
    "        set: A set containing the first n powers of 2.\n",
    "    \"\"\"\n",
    "    return {2 ** i for i in range(n)}\n",
    "\n",
    "# Example usage\n",
    "n = 5\n",
    "result = powers_of_two(n)\n",
    "print(\"Set of the first\", n, \"powers of 2:\", result)\n"
   ]
  },
  {
   "cell_type": "markdown",
   "id": "17cdbffb",
   "metadata": {},
   "source": []
  },
  {
   "cell_type": "code",
   "execution_count": null,
   "id": "477c9b4a",
   "metadata": {},
   "outputs": [],
   "source": [
    "46. Find the common elements between a set and a list?"
   ]
  },
  {
   "cell_type": "code",
   "execution_count": 60,
   "id": "59eeb397",
   "metadata": {},
   "outputs": [
    {
     "name": "stdout",
     "output_type": "stream",
     "text": [
      "Common elements: [3, 4, 5]\n"
     ]
    }
   ],
   "source": [
    "def find_common_elements(set_data, list_data):\n",
    "    \"\"\"\n",
    "    Finds common elements between a set and a list.\n",
    "\n",
    "    Args:\n",
    "        set_data (set): The set containing unique elements.\n",
    "        list_data (list): The list with multiple elements.\n",
    "\n",
    "    Returns:\n",
    "        list: A list of common elements between the set and the list.\n",
    "    \"\"\"\n",
    "    # Convert list to set and find the intersection\n",
    "    common_elements = set_data.intersection(list_data)\n",
    "    return list(common_elements)\n",
    "\n",
    "# Example usage\n",
    "my_set = {1, 2, 3, 4, 5}\n",
    "my_list = [3, 4, 5, 6, 7]\n",
    "\n",
    "result = find_common_elements(my_set, my_list)\n",
    "print(\"Common elements:\", result)\n"
   ]
  },
  {
   "cell_type": "markdown",
   "id": "1409dda3",
   "metadata": {},
   "source": []
  },
  {
   "cell_type": "code",
   "execution_count": null,
   "id": "921fd7fa",
   "metadata": {},
   "outputs": [],
   "source": [
    "47. Create a set of the first `n` triangular numbers?"
   ]
  },
  {
   "cell_type": "code",
   "execution_count": 61,
   "id": "45212301",
   "metadata": {},
   "outputs": [
    {
     "name": "stdout",
     "output_type": "stream",
     "text": [
      "Set of the first 10 triangular numbers: {1, 3, 36, 6, 10, 45, 15, 21, 55, 28}\n"
     ]
    }
   ],
   "source": [
    "def generate_triangular_numbers(n):\n",
    "    \"\"\"\n",
    "    Generates a set of the first n triangular numbers.\n",
    "\n",
    "    A triangular number is the sum of the first n natural numbers.\n",
    "    The formula for the nth triangular number is: T(n) = n * (n + 1) / 2\n",
    "\n",
    "    Args:\n",
    "        n (int): The number of triangular numbers to generate.\n",
    "\n",
    "    Returns:\n",
    "        set: A set containing the first n triangular numbers.\n",
    "    \"\"\"\n",
    "    triangular_numbers = set()  # Using a set to store the numbers uniquely\n",
    "    for i in range(1, n + 1):\n",
    "        # Calculate the ith triangular number using the formula T(n) = n * (n + 1) / 2\n",
    "        triangular_number = (i * (i + 1)) // 2\n",
    "        triangular_numbers.add(triangular_number)\n",
    "    \n",
    "    return triangular_numbers\n",
    "\n",
    "# Example usage\n",
    "n = 10\n",
    "result = generate_triangular_numbers(n)\n",
    "print(\"Set of the first\", n, \"triangular numbers:\", result)\n"
   ]
  },
  {
   "cell_type": "markdown",
   "id": "4eb7cab5",
   "metadata": {},
   "source": []
  },
  {
   "cell_type": "code",
   "execution_count": null,
   "id": "4eb8929f",
   "metadata": {},
   "outputs": [],
   "source": [
    "48. Check if a set contains another set as a subset?"
   ]
  },
  {
   "cell_type": "code",
   "execution_count": 62,
   "id": "796f4f88",
   "metadata": {},
   "outputs": [
    {
     "name": "stdout",
     "output_type": "stream",
     "text": [
      "Is set2 a subset of set1? True\n"
     ]
    }
   ],
   "source": [
    "def check_subset(set1, set2):\n",
    "    \"\"\"\n",
    "    Checks if set2 is a subset of set1.\n",
    "\n",
    "    Args:\n",
    "        set1 (set): The main set.\n",
    "        set2 (set): The set to check as a subset.\n",
    "\n",
    "    Returns:\n",
    "        bool: True if set2 is a subset of set1, False otherwise.\n",
    "    \"\"\"\n",
    "    # Using the issubset() method\n",
    "    return set2.issubset(set1)\n",
    "\n",
    "# Example usage\n",
    "set1 = {1, 2, 3, 4, 5}\n",
    "set2 = {2, 3, 4}\n",
    "\n",
    "result = check_subset(set1, set2)\n",
    "print(\"Is set2 a subset of set1?\", result)\n"
   ]
  },
  {
   "cell_type": "markdown",
   "id": "412c5e25",
   "metadata": {},
   "source": []
  },
  {
   "cell_type": "code",
   "execution_count": null,
   "id": "ebbb7e32",
   "metadata": {},
   "outputs": [],
   "source": [
    "49. Create a set of alternating 1s and 0s of length `n`?"
   ]
  },
  {
   "cell_type": "code",
   "execution_count": 63,
   "id": "651c70ce",
   "metadata": {},
   "outputs": [
    {
     "name": "stdout",
     "output_type": "stream",
     "text": [
      "Alternating 1s and 0s: [1, 0, 1, 0, 1, 0, 1, 0, 1, 0]\n"
     ]
    }
   ],
   "source": [
    "def alternating_ones_zeros(n):\n",
    "    \"\"\"\n",
    "    Creates a list of alternating 1s and 0s of length n.\n",
    "\n",
    "    Args:\n",
    "        n (int): The length of the desired list.\n",
    "\n",
    "    Returns:\n",
    "        list: A list containing alternating 1s and 0s of length n.\n",
    "    \"\"\"\n",
    "    return [1 if i % 2 == 0 else 0 for i in range(n)]\n",
    "\n",
    "# Example usage\n",
    "n = 10\n",
    "result = alternating_ones_zeros(n)\n",
    "print(\"Alternating 1s and 0s:\", result)\n"
   ]
  },
  {
   "cell_type": "markdown",
   "id": "cd6ac313",
   "metadata": {},
   "source": []
  },
  {
   "cell_type": "code",
   "execution_count": null,
   "id": "171d9842",
   "metadata": {},
   "outputs": [],
   "source": [
    "50. Merge multiple sets into one?"
   ]
  },
  {
   "cell_type": "code",
   "execution_count": 64,
   "id": "b521dd6a",
   "metadata": {},
   "outputs": [
    {
     "name": "stdout",
     "output_type": "stream",
     "text": [
      "Merged Set: {1, 2, 3, 4, 5, 6, 7}\n"
     ]
    }
   ],
   "source": [
    "def merge_sets(*sets):\n",
    "    \"\"\"\n",
    "    Merges multiple sets into one set.\n",
    "\n",
    "    Args:\n",
    "        *sets (set): Multiple sets to be merged.\n",
    "\n",
    "    Returns:\n",
    "        set: A merged set containing all unique elements.\n",
    "    \"\"\"\n",
    "    merged_set = set()  # Initialize an empty set\n",
    "    for s in sets:\n",
    "        merged_set.update(s)  # Update the merged set with elements from each set\n",
    "    return merged_set\n",
    "\n",
    "# Example usage\n",
    "set1 = {1, 2, 3}\n",
    "set2 = {3, 4, 5}\n",
    "set3 = {5, 6, 7}\n",
    "\n",
    "merged_result = merge_sets(set1, set2, set3)\n",
    "print(\"Merged Set:\", merged_result)\n"
   ]
  },
  {
   "cell_type": "markdown",
   "id": "8dda8b0f",
   "metadata": {},
   "source": []
  },
  {
   "cell_type": "markdown",
   "id": "4bebb855",
   "metadata": {},
   "source": []
  }
 ],
 "metadata": {
  "kernelspec": {
   "display_name": "Python 3 (ipykernel)",
   "language": "python",
   "name": "python3"
  },
  "language_info": {
   "codemirror_mode": {
    "name": "ipython",
    "version": 3
   },
   "file_extension": ".py",
   "mimetype": "text/x-python",
   "name": "python",
   "nbconvert_exporter": "python",
   "pygments_lexer": "ipython3",
   "version": "3.9.12"
  }
 },
 "nbformat": 4,
 "nbformat_minor": 5
}
