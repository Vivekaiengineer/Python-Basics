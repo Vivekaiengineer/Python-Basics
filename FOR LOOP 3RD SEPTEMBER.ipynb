{
 "cells": [
  {
   "cell_type": "markdown",
   "id": "7187b9ce",
   "metadata": {},
   "source": [
    "# FOR LOOP ASSIGNMENT QUESTIONS"
   ]
  },
  {
   "cell_type": "markdown",
   "id": "353fed48",
   "metadata": {},
   "source": [
    "  # Basic Level"
   ]
  },
  {
   "cell_type": "markdown",
   "id": "e9fea5f6",
   "metadata": {},
   "source": []
  },
  {
   "cell_type": "code",
   "execution_count": null,
   "id": "16d21cd3",
   "metadata": {},
   "outputs": [],
   "source": [
    "1. Write a Python program to print the numbers from 1 to 10 using a `for` loop?"
   ]
  },
  {
   "cell_type": "code",
   "execution_count": 1,
   "id": "04f14ef2",
   "metadata": {},
   "outputs": [
    {
     "name": "stdout",
     "output_type": "stream",
     "text": [
      "1\n",
      "2\n",
      "3\n",
      "4\n",
      "5\n",
      "6\n",
      "7\n",
      "8\n",
      "9\n",
      "10\n"
     ]
    }
   ],
   "source": [
    "# Loop through numbers 1 to 10\n",
    "for number in range(1, 11):  # range(1, 11) generates numbers from 1 to 10 (inclusive)\n",
    "    print(number)  # Print each number\n"
   ]
  },
  {
   "cell_type": "markdown",
   "id": "f4d7a5ed",
   "metadata": {},
   "source": []
  },
  {
   "cell_type": "code",
   "execution_count": null,
   "id": "f0707fde",
   "metadata": {},
   "outputs": [],
   "source": [
    "2. Create a program that calculates the sum of all numbers in a list using a `for` loop?"
   ]
  },
  {
   "cell_type": "code",
   "execution_count": 2,
   "id": "f4a07456",
   "metadata": {},
   "outputs": [
    {
     "name": "stdout",
     "output_type": "stream",
     "text": [
      "The sum of the numbers in the list is: 150\n"
     ]
    }
   ],
   "source": [
    "def calculate_sum(numbers):\n",
    "    \"\"\"\n",
    "    Calculates the sum of all numbers in a list using a for loop.\n",
    "\n",
    "    Args:\n",
    "        numbers (list): A list of numerical values.\n",
    "\n",
    "    Returns:\n",
    "        int: The total sum of the numbers in the list.\n",
    "    \"\"\"\n",
    "    total = 0  # Initialize the sum to 0\n",
    "\n",
    "    # Iterate through each number in the list\n",
    "    for num in numbers:\n",
    "        total += num  # Add each number to the total\n",
    "\n",
    "    return total  # Return the final sum\n",
    "\n",
    "# Example usage\n",
    "my_list = [10, 20, 30, 40, 50]\n",
    "result = calculate_sum(my_list)\n",
    "print(\"The sum of the numbers in the list is:\", result)\n"
   ]
  },
  {
   "cell_type": "markdown",
   "id": "4c1b4679",
   "metadata": {},
   "source": []
  },
  {
   "cell_type": "code",
   "execution_count": null,
   "id": "0ab0b3e0",
   "metadata": {},
   "outputs": [],
   "source": [
    "3. Write a program to print the characters of a string in reverse order using a `for` loop?"
   ]
  },
  {
   "cell_type": "code",
   "execution_count": 3,
   "id": "b5055603",
   "metadata": {},
   "outputs": [
    {
     "name": "stdout",
     "output_type": "stream",
     "text": [
      "Reversed String: !dlroW ,olleH\n"
     ]
    }
   ],
   "source": [
    "def reverse_string_with_for_loop(input_string):\n",
    "    \"\"\"\n",
    "    Prints the characters of a string in reverse order using a for loop.\n",
    "\n",
    "    Args:\n",
    "        input_string (str): The string to be reversed.\n",
    "\n",
    "    Returns:\n",
    "        None\n",
    "    \"\"\"\n",
    "    print(\"Reversed String:\", end=\" \")\n",
    "    for i in range(len(input_string) - 1, -1, -1):  # Start from the last index to the first\n",
    "        print(input_string[i], end=\"\")  # Print each character without newline\n",
    "    print()  # Add a newline at the end\n",
    "\n",
    "# Example usage\n",
    "original_string = \"Hello, World!\"\n",
    "reverse_string_with_for_loop(original_string)\n"
   ]
  },
  {
   "cell_type": "markdown",
   "id": "a9d926b7",
   "metadata": {},
   "source": []
  },
  {
   "cell_type": "code",
   "execution_count": null,
   "id": "18ae12a4",
   "metadata": {},
   "outputs": [],
   "source": [
    "4. Develop a program that finds the factorial of a given number using a `for` loop?"
   ]
  },
  {
   "cell_type": "code",
   "execution_count": 4,
   "id": "0e76dd58",
   "metadata": {},
   "outputs": [
    {
     "name": "stdout",
     "output_type": "stream",
     "text": [
      "Enter a number to calculate its factorial: 15\n",
      "The factorial of 15 is 1307674368000\n"
     ]
    }
   ],
   "source": [
    "def calculate_factorial(number):\n",
    "    \"\"\"\n",
    "    Calculate the factorial of a given number using a for loop.\n",
    "\n",
    "    Args:\n",
    "        number (int): The number to find the factorial of.\n",
    "\n",
    "    Returns:\n",
    "        int: The factorial of the given number.\n",
    "    \"\"\"\n",
    "    factorial = 1  # Initialize factorial to 1 as multiplication identity\n",
    "\n",
    "    # Loop through all numbers from 1 to the given number\n",
    "    for i in range(1, number + 1):\n",
    "        factorial *= i  # Multiply the current number with factorial\n",
    "\n",
    "    return factorial\n",
    "\n",
    "# Example usage\n",
    "user_input = int(input(\"Enter a number to calculate its factorial: \"))\n",
    "result = calculate_factorial(user_input)\n",
    "print(f\"The factorial of {user_input} is {result}\")\n"
   ]
  },
  {
   "cell_type": "markdown",
   "id": "35c5ec1e",
   "metadata": {},
   "source": []
  },
  {
   "cell_type": "code",
   "execution_count": null,
   "id": "28e997aa",
   "metadata": {},
   "outputs": [],
   "source": [
    "5. Create a program to print the multiplication table of a given number using a `for` loop?"
   ]
  },
  {
   "cell_type": "code",
   "execution_count": 1,
   "id": "cb6ea440",
   "metadata": {},
   "outputs": [
    {
     "name": "stdout",
     "output_type": "stream",
     "text": [
      "Enter a number to print its multiplication table: 15\n",
      "Multiplication Table for 15:\n",
      "\n",
      "15 x 1 = 15\n",
      "15 x 2 = 30\n",
      "15 x 3 = 45\n",
      "15 x 4 = 60\n",
      "15 x 5 = 75\n",
      "15 x 6 = 90\n",
      "15 x 7 = 105\n",
      "15 x 8 = 120\n",
      "15 x 9 = 135\n",
      "15 x 10 = 150\n"
     ]
    }
   ],
   "source": [
    "def print_multiplication_table(number, limit=10):\n",
    "    \"\"\"\n",
    "    Prints the multiplication table of a given number up to a specified limit.\n",
    "\n",
    "    Args:\n",
    "        number (int): The number for which the multiplication table is generated.\n",
    "        limit (int, optional): The range for the table. Default is 10.\n",
    "    \"\"\"\n",
    "    print(f\"Multiplication Table for {number}:\\n\")\n",
    "    for i in range(1, limit + 1):  # Loop from 1 to the specified limit\n",
    "        result = number * i  # Calculate the product\n",
    "        print(f\"{number} x {i} = {result}\")  # Print the result\n",
    "\n",
    "# Example usage\n",
    "user_number = int(input(\"Enter a number to print its multiplication table: \"))\n",
    "print_multiplication_table(user_number)\n"
   ]
  },
  {
   "cell_type": "markdown",
   "id": "8fd05ad4",
   "metadata": {},
   "source": []
  },
  {
   "cell_type": "code",
   "execution_count": null,
   "id": "831b6f51",
   "metadata": {},
   "outputs": [],
   "source": [
    "6. Write a program that counts the number of even and odd numbers in a list using a `for` loop?"
   ]
  },
  {
   "cell_type": "code",
   "execution_count": 2,
   "id": "5fa1f531",
   "metadata": {},
   "outputs": [
    {
     "name": "stdout",
     "output_type": "stream",
     "text": [
      "Number of Even Numbers: 5\n",
      "Number of Odd Numbers: 5\n"
     ]
    }
   ],
   "source": [
    "def count_even_odd(numbers):\n",
    "    \"\"\"\n",
    "    Counts the number of even and odd numbers in a list.\n",
    "\n",
    "    Args:\n",
    "        numbers (list): A list of integers.\n",
    "\n",
    "    Returns:\n",
    "        tuple: A tuple containing the count of even and odd numbers.\n",
    "    \"\"\"\n",
    "    even_count = 0  # Initialize counter for even numbers\n",
    "    odd_count = 0   # Initialize counter for odd numbers\n",
    "\n",
    "    for num in numbers:  # Iterate through each number in the list\n",
    "        if num % 2 == 0:  # Check if the number is even\n",
    "            even_count += 1\n",
    "        else:  # If not even, it must be odd\n",
    "            odd_count += 1\n",
    "\n",
    "    return even_count, odd_count\n",
    "\n",
    "# Example usage\n",
    "numbers_list = [10, 21, 32, 43, 54, 65, 76, 87, 98, 109]\n",
    "even, odd = count_even_odd(numbers_list)\n",
    "\n",
    "print(\"Number of Even Numbers:\", even)\n",
    "print(\"Number of Odd Numbers:\", odd)\n"
   ]
  },
  {
   "cell_type": "markdown",
   "id": "0cff49cc",
   "metadata": {},
   "source": []
  },
  {
   "cell_type": "code",
   "execution_count": null,
   "id": "291d6bd5",
   "metadata": {},
   "outputs": [],
   "source": [
    "7. Develop a program that prints the squares of numbers from 1 to 5 using a `for` loop?"
   ]
  },
  {
   "cell_type": "code",
   "execution_count": 3,
   "id": "01eefa14",
   "metadata": {},
   "outputs": [
    {
     "name": "stdout",
     "output_type": "stream",
     "text": [
      "The square of 1 is 1\n",
      "The square of 2 is 4\n",
      "The square of 3 is 9\n",
      "The square of 4 is 16\n",
      "The square of 5 is 25\n"
     ]
    }
   ],
   "source": [
    "# Program to print squares of numbers from 1 to 5\n",
    "\n",
    "def print_squares():\n",
    "    \"\"\"\n",
    "    This function prints the squares of numbers from 1 to 5 using a for loop.\n",
    "    \"\"\"\n",
    "    for number in range(1, 6):  # Loop through numbers from 1 to 5\n",
    "        square = number ** 2  # Calculate the square of the current number\n",
    "        print(f\"The square of {number} is {square}\")  # Print the result\n",
    "\n",
    "# Call the function\n",
    "print_squares()\n"
   ]
  },
  {
   "cell_type": "markdown",
   "id": "03dea2d8",
   "metadata": {},
   "source": []
  },
  {
   "cell_type": "code",
   "execution_count": null,
   "id": "25a53045",
   "metadata": {},
   "outputs": [],
   "source": [
    "8. Create a program to find the length of a string without using the `len()` function?"
   ]
  },
  {
   "cell_type": "code",
   "execution_count": 4,
   "id": "26066bbd",
   "metadata": {},
   "outputs": [
    {
     "name": "stdout",
     "output_type": "stream",
     "text": [
      "The length of the string is: 13\n"
     ]
    }
   ],
   "source": [
    "def find_string_length(string):\n",
    "    \"\"\"\n",
    "    Find the length of a string without using the built-in len() function.\n",
    "\n",
    "    Args:\n",
    "        string (str): The input string.\n",
    "\n",
    "    Returns:\n",
    "        int: The length of the string.\n",
    "    \"\"\"\n",
    "    count = 0  # Initialize a counter variable\n",
    "    for char in string:\n",
    "        count += 1  # Increment counter for each character in the string\n",
    "    return count\n",
    "\n",
    "# Example usage\n",
    "input_string = \"Hello, World!\"\n",
    "string_length = find_string_length(input_string)\n",
    "print(\"The length of the string is:\", string_length)\n"
   ]
  },
  {
   "cell_type": "markdown",
   "id": "d39c807a",
   "metadata": {},
   "source": []
  },
  {
   "cell_type": "code",
   "execution_count": null,
   "id": "88885423",
   "metadata": {},
   "outputs": [],
   "source": [
    "9. Write a program that calculates the average of a list of numbers using a `for` loop?"
   ]
  },
  {
   "cell_type": "code",
   "execution_count": 5,
   "id": "ed5df809",
   "metadata": {},
   "outputs": [
    {
     "name": "stdout",
     "output_type": "stream",
     "text": [
      "The average of the list is: 30.0\n"
     ]
    }
   ],
   "source": [
    "def calculate_average(numbers):\n",
    "    \"\"\"\n",
    "    Calculates the average of a list of numbers using a for loop.\n",
    "\n",
    "    Args:\n",
    "        numbers (list): A list of numerical values.\n",
    "\n",
    "    Returns:\n",
    "        float: The average of the numbers in the list.\n",
    "    \"\"\"\n",
    "    total = 0  # Variable to store the sum of numbers\n",
    "    count = len(numbers)  # Number of elements in the list\n",
    "\n",
    "    # Iterate through the list and calculate the total\n",
    "    for num in numbers:\n",
    "        total += num  # Add each number to the total\n",
    "\n",
    "    # Calculate the average\n",
    "    average = total / count if count > 0 else 0  # Prevent division by zero\n",
    "\n",
    "    return average\n",
    "\n",
    "# Example usage\n",
    "numbers_list = [10, 20, 30, 40, 50]\n",
    "average_result = calculate_average(numbers_list)\n",
    "print(\"The average of the list is:\", average_result)\n"
   ]
  },
  {
   "cell_type": "markdown",
   "id": "b96b7368",
   "metadata": {},
   "source": []
  },
  {
   "cell_type": "code",
   "execution_count": null,
   "id": "54e35a37",
   "metadata": {},
   "outputs": [],
   "source": [
    "10. Develop a program that prints the first `n` Fibonacci numbers using a `for` loop?"
   ]
  },
  {
   "cell_type": "code",
   "execution_count": 6,
   "id": "7ec2428b",
   "metadata": {},
   "outputs": [
    {
     "name": "stdout",
     "output_type": "stream",
     "text": [
      "The first 10 Fibonacci numbers are: [0, 1, 1, 2, 3, 5, 8, 13, 21, 34]\n"
     ]
    }
   ],
   "source": [
    "def fibonacci_numbers(n):\n",
    "    \"\"\"\n",
    "    Prints the first `n` Fibonacci numbers.\n",
    "\n",
    "    Args:\n",
    "        n (int): The number of Fibonacci numbers to generate.\n",
    "\n",
    "    Returns:\n",
    "        list: A list of the first `n` Fibonacci numbers.\n",
    "    \"\"\"\n",
    "    if n <= 0:\n",
    "        return []  # Return an empty list for invalid input\n",
    "\n",
    "    # Initialize the first two Fibonacci numbers\n",
    "    fib_sequence = [0, 1]\n",
    "\n",
    "    # Generate the Fibonacci numbers up to `n`\n",
    "    for i in range(2, n):  # Start from the 3rd element (index 2)\n",
    "        next_fib = fib_sequence[-1] + fib_sequence[-2]  # Add the last two elements\n",
    "        fib_sequence.append(next_fib)  # Append the new Fibonacci number to the list\n",
    "\n",
    "    return fib_sequence[:n]  # Return the list up to `n` elements\n",
    "\n",
    "# Example usage\n",
    "num = 10  # Number of Fibonacci numbers to generate\n",
    "result = fibonacci_numbers(num)\n",
    "print(f\"The first {num} Fibonacci numbers are:\", result)\n"
   ]
  },
  {
   "cell_type": "markdown",
   "id": "05e99885",
   "metadata": {},
   "source": []
  },
  {
   "cell_type": "markdown",
   "id": "ef9afa2d",
   "metadata": {},
   "source": [
    "# Intermediate Level"
   ]
  },
  {
   "cell_type": "code",
   "execution_count": null,
   "id": "1806bed7",
   "metadata": {},
   "outputs": [],
   "source": [
    "11. Write a program to check if a given list contains any duplicates using a `for` loop?"
   ]
  },
  {
   "cell_type": "code",
   "execution_count": 7,
   "id": "3ec9f371",
   "metadata": {},
   "outputs": [
    {
     "name": "stdout",
     "output_type": "stream",
     "text": [
      "Does the list contain duplicates? True\n"
     ]
    }
   ],
   "source": [
    "def check_duplicates(input_list):\n",
    "    \"\"\"\n",
    "    Check if the given list contains any duplicates using a for loop.\n",
    "\n",
    "    Args:\n",
    "    input_list (list): The list to check for duplicates.\n",
    "\n",
    "    Returns:\n",
    "    bool: True if duplicates are found, False otherwise.\n",
    "    \"\"\"\n",
    "    seen_elements = []  # A list to keep track of elements we've seen\n",
    "\n",
    "    for item in input_list:\n",
    "        if item in seen_elements:\n",
    "            return True  # Duplicate found\n",
    "        seen_elements.append(item)  # Add item to seen list if not a duplicate\n",
    "\n",
    "    return False  # No duplicates found\n",
    "\n",
    "# Example usage\n",
    "input_list = [1, 2, 3, 4, 5, 2]\n",
    "result = check_duplicates(input_list)\n",
    "print(\"Does the list contain duplicates?\", result)\n"
   ]
  },
  {
   "cell_type": "markdown",
   "id": "dce016b5",
   "metadata": {},
   "source": []
  },
  {
   "cell_type": "code",
   "execution_count": null,
   "id": "b20bc091",
   "metadata": {},
   "outputs": [],
   "source": [
    "12. Create a program that prints the prime numbers in a given range using a `for` loop?"
   ]
  },
  {
   "cell_type": "code",
   "execution_count": 8,
   "id": "f40c4ecb",
   "metadata": {},
   "outputs": [
    {
     "name": "stdout",
     "output_type": "stream",
     "text": [
      "Prime numbers between 10 and 50:\n",
      "11 13 17 19 23 29 31 37 41 43 47 "
     ]
    }
   ],
   "source": [
    "def is_prime(num):\n",
    "    \"\"\"\n",
    "    Function to check if a number is prime.\n",
    "    \n",
    "    Args:\n",
    "    num (int): The number to check.\n",
    "    \n",
    "    Returns:\n",
    "    bool: True if num is prime, False otherwise.\n",
    "    \"\"\"\n",
    "    if num <= 1:\n",
    "        return False  # Numbers less than or equal to 1 are not prime\n",
    "    for i in range(2, int(num ** 0.5) + 1):\n",
    "        if num % i == 0:\n",
    "            return False  # If num is divisible by i, it's not prime\n",
    "    return True\n",
    "\n",
    "def print_prime_numbers(start, end):\n",
    "    \"\"\"\n",
    "    Function to print all prime numbers in the given range.\n",
    "    \n",
    "    Args:\n",
    "    start (int): The starting value of the range.\n",
    "    end (int): The ending value of the range.\n",
    "    \"\"\"\n",
    "    print(f\"Prime numbers between {start} and {end}:\")\n",
    "    for num in range(start, end + 1):\n",
    "        if is_prime(num):\n",
    "            print(num, end=\" \")\n",
    "\n",
    "# Example usage\n",
    "start = 10\n",
    "end = 50\n",
    "print_prime_numbers(start, end)\n"
   ]
  },
  {
   "cell_type": "markdown",
   "id": "9eb7258d",
   "metadata": {},
   "source": []
  },
  {
   "cell_type": "code",
   "execution_count": null,
   "id": "9cc1a5ef",
   "metadata": {},
   "outputs": [],
   "source": [
    "13. Develop a program that counts the number of vowels in a string using a `for` loop?"
   ]
  },
  {
   "cell_type": "code",
   "execution_count": 9,
   "id": "d21806dd",
   "metadata": {},
   "outputs": [
    {
     "name": "stdout",
     "output_type": "stream",
     "text": [
      "The number of vowels in the string is: 7\n"
     ]
    }
   ],
   "source": [
    "def count_vowels(input_string):\n",
    "    vowels = \"aeiouAEIOU\"  # Vowel characters (both lowercase and uppercase)\n",
    "    count = 0  # Initialize the vowel counter to 0\n",
    "\n",
    "    # Loop through each character in the string\n",
    "    for char in input_string:\n",
    "        # Check if the character is a vowel\n",
    "        if char in vowels:\n",
    "            count += 1  # Increment the count for each vowel found\n",
    "\n",
    "    return count  # Return the total number of vowels\n",
    "\n",
    "# Example usage\n",
    "input_string = \"Hello, how are you?\"\n",
    "vowel_count = count_vowels(input_string)\n",
    "print(f\"The number of vowels in the string is: {vowel_count}\")\n"
   ]
  },
  {
   "cell_type": "markdown",
   "id": "21501598",
   "metadata": {},
   "source": []
  },
  {
   "cell_type": "code",
   "execution_count": null,
   "id": "c50c6457",
   "metadata": {},
   "outputs": [],
   "source": [
    "14. Write a program to find the maximum element in a 2D list using a nested `for` loop?"
   ]
  },
  {
   "cell_type": "code",
   "execution_count": 10,
   "id": "9cc6e3ee",
   "metadata": {},
   "outputs": [
    {
     "name": "stdout",
     "output_type": "stream",
     "text": [
      "Maximum element: 9\n"
     ]
    }
   ],
   "source": [
    "def find_max_element(matrix):\n",
    "    \"\"\"\n",
    "    Finds the maximum element in a 2D list (matrix).\n",
    "\n",
    "    Args:\n",
    "        matrix (list of lists): A 2D list containing numerical elements.\n",
    "\n",
    "    Returns:\n",
    "        int/float: The maximum value found in the matrix.\n",
    "    \"\"\"\n",
    "    # Initialize the maximum element as a very small number\n",
    "    max_element = matrix[0][0]\n",
    "    \n",
    "    # Iterate through each row\n",
    "    for row in matrix:\n",
    "        # Iterate through each element in the row\n",
    "        for element in row:\n",
    "            # Update max_element if the current element is larger\n",
    "            if element > max_element:\n",
    "                max_element = element\n",
    "                \n",
    "    return max_element\n",
    "\n",
    "# Example usage\n",
    "matrix = [\n",
    "    [1, 2, 3],\n",
    "    [4, 5, 6],\n",
    "    [7, 8, 9]\n",
    "]\n",
    "\n",
    "max_value = find_max_element(matrix)\n",
    "print(\"Maximum element:\", max_value)\n"
   ]
  },
  {
   "cell_type": "markdown",
   "id": "775456c8",
   "metadata": {},
   "source": []
  },
  {
   "cell_type": "code",
   "execution_count": null,
   "id": "4b8bb2bb",
   "metadata": {},
   "outputs": [],
   "source": [
    "15. Create a program that removes all occurrences of a specific element from a list using a `for` loop?"
   ]
  },
  {
   "cell_type": "code",
   "execution_count": 11,
   "id": "af7ed4a2",
   "metadata": {},
   "outputs": [
    {
     "name": "stdout",
     "output_type": "stream",
     "text": [
      "Updated List: [1, 3, 4, 5]\n"
     ]
    }
   ],
   "source": [
    "def remove_element_from_list(input_list, element_to_remove):\n",
    "    \"\"\"\n",
    "    Removes all occurrences of the specified element from the list.\n",
    "\n",
    "    Args:\n",
    "    input_list (list): The list from which elements will be removed.\n",
    "    element_to_remove: The element that should be removed from the list.\n",
    "\n",
    "    Returns:\n",
    "    list: A new list with the specified element removed.\n",
    "    \"\"\"\n",
    "    # Create an empty list to store the result\n",
    "    result_list = []\n",
    "\n",
    "    # Iterate through the input list\n",
    "    for item in input_list:\n",
    "        # Add item to result_list only if it's not the element to remove\n",
    "        if item != element_to_remove:\n",
    "            result_list.append(item)\n",
    "\n",
    "    return result_list\n",
    "\n",
    "# Example usage\n",
    "input_list = [1, 2, 3, 4, 2, 5, 2]\n",
    "element_to_remove = 2\n",
    "updated_list = remove_element_from_list(input_list, element_to_remove)\n",
    "print(\"Updated List:\", updated_list)\n"
   ]
  },
  {
   "cell_type": "markdown",
   "id": "cd937c86",
   "metadata": {},
   "source": []
  },
  {
   "cell_type": "code",
   "execution_count": null,
   "id": "349628c1",
   "metadata": {},
   "outputs": [],
   "source": [
    "16. Develop a program that generates a multiplication table for numbers from 1 to 5 using a nested `for` loop?"
   ]
  },
  {
   "cell_type": "code",
   "execution_count": 12,
   "id": "34654ae9",
   "metadata": {},
   "outputs": [
    {
     "name": "stdout",
     "output_type": "stream",
     "text": [
      "1 x 1 = 1\t1 x 2 = 2\t1 x 3 = 3\t1 x 4 = 4\t1 x 5 = 5\t\n",
      "2 x 1 = 2\t2 x 2 = 4\t2 x 3 = 6\t2 x 4 = 8\t2 x 5 = 10\t\n",
      "3 x 1 = 3\t3 x 2 = 6\t3 x 3 = 9\t3 x 4 = 12\t3 x 5 = 15\t\n",
      "4 x 1 = 4\t4 x 2 = 8\t4 x 3 = 12\t4 x 4 = 16\t4 x 5 = 20\t\n",
      "5 x 1 = 5\t5 x 2 = 10\t5 x 3 = 15\t5 x 4 = 20\t5 x 5 = 25\t\n"
     ]
    }
   ],
   "source": [
    "# Outer loop for numbers from 1 to 5\n",
    "for i in range(1, 6):\n",
    "    # Inner loop for multiplication with numbers from 1 to 5\n",
    "    for j in range(1, 6):\n",
    "        # Print the product of i and j in a formatted way\n",
    "        print(f\"{i} x {j} = {i * j}\", end=\"\\t\")  # end=\"\\t\" ensures the output stays in the same row\n",
    "    print()  # After each row, print a new line to separate the results\n"
   ]
  },
  {
   "cell_type": "markdown",
   "id": "a0ac4ab2",
   "metadata": {},
   "source": []
  },
  {
   "cell_type": "code",
   "execution_count": null,
   "id": "4e20f572",
   "metadata": {},
   "outputs": [],
   "source": [
    "17. Write a program that converts a list of Fahrenheit temperatures to Celsius using a `for` loop?"
   ]
  },
  {
   "cell_type": "code",
   "execution_count": 13,
   "id": "a9fd8194",
   "metadata": {},
   "outputs": [
    {
     "name": "stdout",
     "output_type": "stream",
     "text": [
      "Fahrenheit Temperatures: [32, 50, 77, 104, 212]\n",
      "Converted Celsius Temperatures: [0.0, 10.0, 25.0, 40.0, 100.0]\n"
     ]
    }
   ],
   "source": [
    "def fahrenheit_to_celsius(fahrenheit_list):\n",
    "    \"\"\"\n",
    "    Converts a list of Fahrenheit temperatures to Celsius.\n",
    "    \n",
    "    Args:\n",
    "        fahrenheit_list (list): List of temperatures in Fahrenheit.\n",
    "        \n",
    "    Returns:\n",
    "        list: List of temperatures converted to Celsius.\n",
    "    \"\"\"\n",
    "    celsius_list = []  # Initialize an empty list to store Celsius temperatures\n",
    "    \n",
    "    # Loop through each Fahrenheit temperature in the list\n",
    "    for fahrenheit in fahrenheit_list:\n",
    "        # Apply the conversion formula\n",
    "        celsius = (fahrenheit - 32) * 5 / 9\n",
    "        # Append the converted Celsius temperature to the list\n",
    "        celsius_list.append(celsius)\n",
    "    \n",
    "    return celsius_list\n",
    "\n",
    "# Example usage\n",
    "fahrenheit_temps = [32, 50, 77, 104, 212]\n",
    "celsius_temps = fahrenheit_to_celsius(fahrenheit_temps)\n",
    "\n",
    "# Display the result\n",
    "print(\"Fahrenheit Temperatures:\", fahrenheit_temps)\n",
    "print(\"Converted Celsius Temperatures:\", celsius_temps)\n"
   ]
  },
  {
   "cell_type": "markdown",
   "id": "a4093119",
   "metadata": {},
   "source": []
  },
  {
   "cell_type": "code",
   "execution_count": null,
   "id": "09261d2c",
   "metadata": {},
   "outputs": [],
   "source": [
    "18. Create a program to print the common elements from two lists using a `for` loop?"
   ]
  },
  {
   "cell_type": "code",
   "execution_count": 14,
   "id": "8d29dda8",
   "metadata": {},
   "outputs": [
    {
     "name": "stdout",
     "output_type": "stream",
     "text": [
      "Common Elements: [3, 4, 5]\n"
     ]
    }
   ],
   "source": [
    "def find_common_elements(list1, list2):\n",
    "    \"\"\"\n",
    "    Finds and prints the common elements between two lists using a for loop.\n",
    "\n",
    "    Args:\n",
    "    list1 (list): First list to check for common elements.\n",
    "    list2 (list): Second list to check for common elements.\n",
    "    \"\"\"\n",
    "    common_elements = []  # Initialize an empty list to store common elements\n",
    "    for element in list1:\n",
    "        if element in list2:  # Check if the element is present in the second list\n",
    "            common_elements.append(element)  # Add the element to the common_elements list\n",
    "\n",
    "    # Print the common elements\n",
    "    print(\"Common Elements:\", common_elements)\n",
    "\n",
    "# Example usage\n",
    "list1 = [1, 2, 3, 4, 5]\n",
    "list2 = [3, 4, 5, 6, 7]\n",
    "find_common_elements(list1, list2)\n"
   ]
  },
  {
   "cell_type": "markdown",
   "id": "df5a95be",
   "metadata": {},
   "source": []
  },
  {
   "cell_type": "code",
   "execution_count": null,
   "id": "1da654a9",
   "metadata": {},
   "outputs": [],
   "source": [
    "19. Develop a program that prints the pattern of right-angled triangles using a `for` loop. Use ‘*’ to draw the\n",
    "pattern?"
   ]
  },
  {
   "cell_type": "code",
   "execution_count": 15,
   "id": "71db63e7",
   "metadata": {},
   "outputs": [
    {
     "name": "stdout",
     "output_type": "stream",
     "text": [
      "*\n",
      "**\n",
      "***\n",
      "****\n",
      "*****\n"
     ]
    }
   ],
   "source": [
    "def print_triangle(n):\n",
    "    \"\"\"\n",
    "    This function prints a right-angled triangle pattern of '*' characters.\n",
    "    \n",
    "    Args:\n",
    "    n (int): The number of rows in the triangle.\n",
    "    \n",
    "    Returns:\n",
    "    None\n",
    "    \"\"\"\n",
    "    # Outer loop for each row\n",
    "    for i in range(1, n + 1):\n",
    "        # Inner loop to print '*' for each column in the row\n",
    "        for j in range(i):\n",
    "            print('*', end='')  # Print '*' without a new line\n",
    "        print()  # Move to the next line after each row\n",
    "\n",
    "# Example usage\n",
    "rows = 5  # Number of rows in the triangle\n",
    "print_triangle(rows)\n"
   ]
  },
  {
   "cell_type": "markdown",
   "id": "51168a1b",
   "metadata": {},
   "source": []
  },
  {
   "cell_type": "code",
   "execution_count": null,
   "id": "c2a0fb40",
   "metadata": {},
   "outputs": [],
   "source": [
    "20. Write a program to find the greatest common divisor (GCD) of two numbers using a `for` loop?"
   ]
  },
  {
   "cell_type": "code",
   "execution_count": 16,
   "id": "9ae84759",
   "metadata": {},
   "outputs": [
    {
     "name": "stdout",
     "output_type": "stream",
     "text": [
      "The GCD of 56 and 98 is: 14\n"
     ]
    }
   ],
   "source": [
    "def find_gcd(a, b):\n",
    "    # Find the smaller of the two numbers\n",
    "    smaller = min(a, b)\n",
    "    \n",
    "    # Iterate from the smaller number down to 1\n",
    "    for i in range(smaller, 0, -1):\n",
    "        # Check if both numbers are divisible by i\n",
    "        if a % i == 0 and b % i == 0:\n",
    "            return i  # Return the greatest common divisor\n",
    "\n",
    "# Example usage\n",
    "num1 = 56\n",
    "num2 = 98\n",
    "gcd = find_gcd(num1, num2)\n",
    "print(\"The GCD of\", num1, \"and\", num2, \"is:\", gcd)\n"
   ]
  },
  {
   "cell_type": "markdown",
   "id": "2cb64875",
   "metadata": {},
   "source": []
  },
  {
   "cell_type": "markdown",
   "id": "9082791f",
   "metadata": {},
   "source": [
    "# Advanced Level"
   ]
  },
  {
   "cell_type": "code",
   "execution_count": null,
   "id": "9190a6ef",
   "metadata": {},
   "outputs": [],
   "source": [
    "21. Create a program that calculates the sum of the digits of numbers in a list using a list comprehension?"
   ]
  },
  {
   "cell_type": "code",
   "execution_count": 17,
   "id": "41efb53c",
   "metadata": {},
   "outputs": [
    {
     "name": "stdout",
     "output_type": "stream",
     "text": [
      "Sum of digits for each number: [6, 15, 24]\n"
     ]
    }
   ],
   "source": [
    "def sum_of_digits(numbers):\n",
    "    # Using list comprehension to calculate the sum of digits for each number in the list\n",
    "    return [sum(int(digit) for digit in str(number)) for number in numbers]\n",
    "\n",
    "# Example usage\n",
    "numbers = [123, 456, 789]\n",
    "result = sum_of_digits(numbers)\n",
    "print(\"Sum of digits for each number:\", result)\n"
   ]
  },
  {
   "cell_type": "markdown",
   "id": "b368ee50",
   "metadata": {},
   "source": []
  },
  {
   "cell_type": "code",
   "execution_count": null,
   "id": "0afd07c0",
   "metadata": {},
   "outputs": [],
   "source": [
    "22. Write a program to find the prime factors of a given number using a `for` loop and list comprehension?"
   ]
  },
  {
   "cell_type": "code",
   "execution_count": 18,
   "id": "43b9a840",
   "metadata": {},
   "outputs": [
    {
     "name": "stdout",
     "output_type": "stream",
     "text": [
      "Prime factors of 56: [2, 7]\n"
     ]
    }
   ],
   "source": [
    "def prime_factors(number):\n",
    "    # Create a list to store prime factors\n",
    "    factors = [i for i in range(2, number + 1) if number % i == 0 and all(i % j != 0 for j in range(2, int(i**0.5) + 1))]\n",
    "    return factors\n",
    "\n",
    "# Example usage\n",
    "num = 56\n",
    "result = prime_factors(num)\n",
    "print(f\"Prime factors of {num}: {result}\")\n"
   ]
  },
  {
   "cell_type": "markdown",
   "id": "f2448d66",
   "metadata": {},
   "source": []
  },
  {
   "cell_type": "code",
   "execution_count": null,
   "id": "f155d586",
   "metadata": {},
   "outputs": [],
   "source": [
    "23. Develop a program that extracts unique elements from a list and stores them in a new list using a list\n",
    "comprehension?"
   ]
  },
  {
   "cell_type": "code",
   "execution_count": 19,
   "id": "7f5dc5c9",
   "metadata": {},
   "outputs": [
    {
     "name": "stdout",
     "output_type": "stream",
     "text": [
      "Unique Elements: [1, 2, 3, 4, 5, 6, 7, 8]\n"
     ]
    }
   ],
   "source": [
    "def extract_unique_elements(input_list):\n",
    "    \"\"\"\n",
    "    Extracts unique elements from a list and returns them in a new list using list comprehension.\n",
    "\n",
    "    Args:\n",
    "        input_list (list): The list from which unique elements need to be extracted.\n",
    "\n",
    "    Returns:\n",
    "        list: A new list containing unique elements.\n",
    "    \"\"\"\n",
    "    # Using list comprehension to extract unique elements\n",
    "    unique_list = [element for index, element in enumerate(input_list) if input_list.index(element) == index]\n",
    "\n",
    "    return unique_list\n",
    "\n",
    "\n",
    "# Example usage\n",
    "input_list = [1, 2, 2, 3, 4, 4, 5, 6, 7, 7, 8]\n",
    "unique_elements = extract_unique_elements(input_list)\n",
    "\n",
    "print(\"Unique Elements:\", unique_elements)\n"
   ]
  },
  {
   "cell_type": "markdown",
   "id": "025e1e7c",
   "metadata": {},
   "source": []
  },
  {
   "cell_type": "code",
   "execution_count": null,
   "id": "ef4c3c3e",
   "metadata": {},
   "outputs": [],
   "source": [
    "24. Create a program that generates a list of all palindromic numbers up to a specified limit using a list\n",
    "comprehension?"
   ]
  },
  {
   "cell_type": "code",
   "execution_count": 20,
   "id": "e77ae290",
   "metadata": {},
   "outputs": [
    {
     "name": "stdout",
     "output_type": "stream",
     "text": [
      "Palindromic numbers up to 1000: [0, 1, 2, 3, 4, 5, 6, 7, 8, 9, 11, 22, 33, 44, 55, 66, 77, 88, 99, 101, 111, 121, 131, 141, 151, 161, 171, 181, 191, 202, 212, 222, 232, 242, 252, 262, 272, 282, 292, 303, 313, 323, 333, 343, 353, 363, 373, 383, 393, 404, 414, 424, 434, 444, 454, 464, 474, 484, 494, 505, 515, 525, 535, 545, 555, 565, 575, 585, 595, 606, 616, 626, 636, 646, 656, 666, 676, 686, 696, 707, 717, 727, 737, 747, 757, 767, 777, 787, 797, 808, 818, 828, 838, 848, 858, 868, 878, 888, 898, 909, 919, 929, 939, 949, 959, 969, 979, 989, 999]\n"
     ]
    }
   ],
   "source": [
    "def find_palindromic_numbers(limit):\n",
    "    \"\"\"\n",
    "    Generates a list of palindromic numbers up to a specified limit using list comprehension.\n",
    "\n",
    "    Args:\n",
    "        limit (int): The upper bound to search for palindromic numbers.\n",
    "\n",
    "    Returns:\n",
    "        list: A list of palindromic numbers up to the specified limit.\n",
    "    \"\"\"\n",
    "    # Using list comprehension to find palindromic numbers\n",
    "    palindromic_numbers = [num for num in range(limit) if str(num) == str(num)[::-1]]\n",
    "    return palindromic_numbers\n",
    "\n",
    "# Example usage\n",
    "limit = 1000\n",
    "result = find_palindromic_numbers(limit)\n",
    "print(f\"Palindromic numbers up to {limit}: {result}\")\n"
   ]
  },
  {
   "cell_type": "markdown",
   "id": "c7b1652c",
   "metadata": {},
   "source": []
  },
  {
   "cell_type": "code",
   "execution_count": null,
   "id": "42f8bfba",
   "metadata": {},
   "outputs": [],
   "source": [
    "25. Write a program to flatten a nested list using list comprehension?"
   ]
  },
  {
   "cell_type": "code",
   "execution_count": 21,
   "id": "a610bab5",
   "metadata": {},
   "outputs": [
    {
     "name": "stdout",
     "output_type": "stream",
     "text": [
      "Flattened List: [1, 2, 3, 4, 5, 6, 7, 8]\n"
     ]
    }
   ],
   "source": [
    "def flatten_nested_list(nested_list):\n",
    "    \"\"\"\n",
    "    Flattens a nested list into a single list using list comprehension.\n",
    "\n",
    "    Args:\n",
    "        nested_list (list): A list which may contain other lists.\n",
    "\n",
    "    Returns:\n",
    "        list: A flattened list containing all elements from the nested lists.\n",
    "    \"\"\"\n",
    "    return [item for sublist in nested_list for item in sublist]\n",
    "\n",
    "# Example usage\n",
    "nested_list = [[1, 2, 3], [4, 5], [6, 7, 8]]\n",
    "flattened_list = flatten_nested_list(nested_list)\n",
    "\n",
    "print(\"Flattened List:\", flattened_list)\n"
   ]
  },
  {
   "cell_type": "markdown",
   "id": "15494580",
   "metadata": {},
   "source": []
  },
  {
   "cell_type": "code",
   "execution_count": null,
   "id": "af8ebfba",
   "metadata": {},
   "outputs": [],
   "source": [
    "26. Develop a program that computes the sum of even and odd numbers in a list separately using list\n",
    "comprehension?"
   ]
  },
  {
   "cell_type": "code",
   "execution_count": 22,
   "id": "f7652dc9",
   "metadata": {},
   "outputs": [
    {
     "name": "stdout",
     "output_type": "stream",
     "text": [
      "Sum of even numbers: 30\n",
      "Sum of odd numbers: 25\n"
     ]
    }
   ],
   "source": [
    "def sum_even_odd(numbers):\n",
    "    # Using list comprehension to filter even and odd numbers and calculate their sum\n",
    "    even_sum = sum([num for num in numbers if num % 2 == 0])\n",
    "    odd_sum = sum([num for num in numbers if num % 2 != 0])\n",
    "    \n",
    "    return even_sum, odd_sum\n",
    "\n",
    "# Example usage\n",
    "numbers = [1, 2, 3, 4, 5, 6, 7, 8, 9, 10]\n",
    "even_sum, odd_sum = sum_even_odd(numbers)\n",
    "\n",
    "print(f\"Sum of even numbers: {even_sum}\")\n",
    "print(f\"Sum of odd numbers: {odd_sum}\")\n"
   ]
  },
  {
   "cell_type": "markdown",
   "id": "72997a64",
   "metadata": {},
   "source": []
  },
  {
   "cell_type": "code",
   "execution_count": null,
   "id": "1bcf8153",
   "metadata": {},
   "outputs": [],
   "source": [
    "27. Create a program that generates a list of squares of odd numbers between 1 and 10 using list\n",
    "comprehension?"
   ]
  },
  {
   "cell_type": "code",
   "execution_count": 23,
   "id": "9f0a6525",
   "metadata": {},
   "outputs": [
    {
     "name": "stdout",
     "output_type": "stream",
     "text": [
      "Squares of odd numbers between 1 and 10: [1, 9, 25, 49, 81]\n"
     ]
    }
   ],
   "source": [
    "# Using list comprehension to generate squares of odd numbers between 1 and 10\n",
    "odd_squares = [x**2 for x in range(1, 11) if x % 2 != 0]\n",
    "\n",
    "# Print the result\n",
    "print(\"Squares of odd numbers between 1 and 10:\", odd_squares)\n"
   ]
  },
  {
   "cell_type": "markdown",
   "id": "e973cf93",
   "metadata": {},
   "source": []
  },
  {
   "cell_type": "code",
   "execution_count": null,
   "id": "2dda32c9",
   "metadata": {},
   "outputs": [],
   "source": [
    "28. Write a program that combines two lists into a dictionary using list comprehension?"
   ]
  },
  {
   "cell_type": "code",
   "execution_count": 24,
   "id": "58e5e07b",
   "metadata": {},
   "outputs": [
    {
     "name": "stdout",
     "output_type": "stream",
     "text": [
      "{'a': 1, 'b': 2, 'c': 3, 'd': 4}\n"
     ]
    }
   ],
   "source": [
    "# Sample lists\n",
    "keys = ['a', 'b', 'c', 'd']\n",
    "values = [1, 2, 3, 4]\n",
    "\n",
    "# Using list comprehension to combine into a dictionary\n",
    "combined_dict = {keys[i]: values[i] for i in range(len(keys))}\n",
    "\n",
    "# Output the resulting dictionary\n",
    "print(combined_dict)\n"
   ]
  },
  {
   "cell_type": "markdown",
   "id": "518c30e3",
   "metadata": {},
   "source": []
  },
  {
   "cell_type": "code",
   "execution_count": null,
   "id": "4d2c5ea2",
   "metadata": {},
   "outputs": [],
   "source": [
    "29. Develop a program that extracts the vowels from a string and stores them in a list using list comprehension?"
   ]
  },
  {
   "cell_type": "code",
   "execution_count": 25,
   "id": "482e463e",
   "metadata": {},
   "outputs": [
    {
     "name": "stdout",
     "output_type": "stream",
     "text": [
      "Vowels Extracted: ['e', 'o', 'o']\n"
     ]
    }
   ],
   "source": [
    "def extract_vowels(input_string):\n",
    "    \"\"\"\n",
    "    Extracts all vowels from a given string and stores them in a list.\n",
    "    \n",
    "    Args:\n",
    "        input_string (str): The string from which vowels will be extracted.\n",
    "\n",
    "    Returns:\n",
    "        list: A list of vowels extracted from the input string.\n",
    "    \"\"\"\n",
    "    vowels = \"aeiouAEIOU\"  # Define vowels (both uppercase and lowercase)\n",
    "    \n",
    "    # Use list comprehension to filter out the vowels from the input string\n",
    "    vowel_list = [char for char in input_string if char in vowels]\n",
    "    \n",
    "    return vowel_list\n",
    "\n",
    "# Example usage\n",
    "input_string = \"Hello, World!\"\n",
    "vowels_in_string = extract_vowels(input_string)\n",
    "print(\"Vowels Extracted:\", vowels_in_string)\n"
   ]
  },
  {
   "cell_type": "markdown",
   "id": "15c18a73",
   "metadata": {},
   "source": []
  },
  {
   "cell_type": "code",
   "execution_count": null,
   "id": "e1c7ac2e",
   "metadata": {},
   "outputs": [],
   "source": [
    "30. Create a program that removes all non-numeric characters from a list of strings using list comprehension?"
   ]
  },
  {
   "cell_type": "code",
   "execution_count": 26,
   "id": "b62f9ae4",
   "metadata": {},
   "outputs": [
    {
     "name": "stdout",
     "output_type": "stream",
     "text": [
      "Cleaned Strings: ['123', '456', '789', '1234']\n"
     ]
    }
   ],
   "source": [
    "def remove_non_numeric(strings):\n",
    "    # List comprehension to filter out non-numeric characters\n",
    "    return [''.join([char for char in string if char.isdigit()]) for string in strings]\n",
    "\n",
    "# Example usage\n",
    "strings = [\"abc123\", \"hello456world\", \"789!@#\", \"12$34\"]\n",
    "cleaned_strings = remove_non_numeric(strings)\n",
    "\n",
    "print(\"Cleaned Strings:\", cleaned_strings)\n"
   ]
  },
  {
   "cell_type": "markdown",
   "id": "07c4341d",
   "metadata": {},
   "source": []
  },
  {
   "cell_type": "markdown",
   "id": "d30c0ec2",
   "metadata": {},
   "source": [
    "# Challenge Level"
   ]
  },
  {
   "cell_type": "code",
   "execution_count": null,
   "id": "af81d22b",
   "metadata": {},
   "outputs": [],
   "source": [
    "31. Write a program to generate a list of prime numbers using the Sieve of Eratosthenes algorithm and list\n",
    "comprehension?"
   ]
  },
  {
   "cell_type": "code",
   "execution_count": 27,
   "id": "91c996e1",
   "metadata": {},
   "outputs": [
    {
     "name": "stdout",
     "output_type": "stream",
     "text": [
      "Prime numbers up to 50 : [2, 3, 5, 7, 11, 13, 17, 19, 23, 29, 31, 37, 41, 43, 47]\n"
     ]
    }
   ],
   "source": [
    "def sieve_of_eratosthenes(n):\n",
    "    # Initialize a list of boolean values, where True means \"prime\"\n",
    "    primes = [True] * (n+1)\n",
    "    primes[0], primes[1] = False, False  # 0 and 1 are not prime\n",
    "\n",
    "    # Implement the sieve algorithm\n",
    "    for i in range(2, int(n**0.5) + 1):\n",
    "        if primes[i]:\n",
    "            # Mark all multiples of i as not prime\n",
    "            primes[i*i:n+1:i] = [False] * len(range(i*i, n+1, i))\n",
    "\n",
    "    # Use list comprehension to return all numbers that are prime\n",
    "    return [num for num, is_prime in enumerate(primes) if is_prime]\n",
    "\n",
    "# Example usage\n",
    "n = 50\n",
    "prime_numbers = sieve_of_eratosthenes(n)\n",
    "print(\"Prime numbers up to\", n, \":\", prime_numbers)\n"
   ]
  },
  {
   "cell_type": "markdown",
   "id": "1a889066",
   "metadata": {},
   "source": []
  },
  {
   "cell_type": "raw",
   "id": "2b7c8f07",
   "metadata": {},
   "source": []
  },
  {
   "cell_type": "code",
   "execution_count": null,
   "id": "bcd4f04d",
   "metadata": {},
   "outputs": [],
   "source": [
    "32. Create a program that generates a list of all Pythagorean triplets up to a specified limit using list\n",
    "comprehension?"
   ]
  },
  {
   "cell_type": "code",
   "execution_count": 1,
   "id": "cca9ed75",
   "metadata": {},
   "outputs": [
    {
     "name": "stdout",
     "output_type": "stream",
     "text": [
      "Pythagorean triplets up to 30:\n",
      "(3, 4, 5)\n",
      "(5, 12, 13)\n",
      "(6, 8, 10)\n",
      "(7, 24, 25)\n",
      "(8, 15, 17)\n",
      "(9, 12, 15)\n",
      "(10, 24, 26)\n",
      "(12, 16, 20)\n",
      "(15, 20, 25)\n",
      "(20, 21, 29)\n"
     ]
    }
   ],
   "source": [
    "def generate_pythagorean_triplets(limit):\n",
    "    \"\"\"\n",
    "    Generate all Pythagorean triplets up to the given limit.\n",
    "\n",
    "    Args:\n",
    "    limit (int): The maximum value for the hypotenuse c.\n",
    "\n",
    "    Returns:\n",
    "    list: A list of tuples representing Pythagorean triplets.\n",
    "    \"\"\"\n",
    "    triplets = [\n",
    "        (a, b, c)\n",
    "        for a in range(1, limit)\n",
    "        for b in range(a, limit)  # Start b from a to avoid duplicates\n",
    "        for c in range(b, limit)\n",
    "        if a**2 + b**2 == c**2\n",
    "    ]\n",
    "    return triplets\n",
    "\n",
    "# Example usage:\n",
    "limit = 30  # Specify the maximum value for the hypotenuse\n",
    "triplets = generate_pythagorean_triplets(limit)\n",
    "\n",
    "# Print the results\n",
    "print(f\"Pythagorean triplets up to {limit}:\")\n",
    "for triplet in triplets:\n",
    "    print(triplet)\n"
   ]
  },
  {
   "cell_type": "raw",
   "id": "1bf240fa",
   "metadata": {},
   "source": []
  },
  {
   "cell_type": "code",
   "execution_count": null,
   "id": "30a64928",
   "metadata": {},
   "outputs": [],
   "source": [
    "33. Develop a program that generates a list of all possible combinations of two lists using list comprehension?"
   ]
  },
  {
   "cell_type": "code",
   "execution_count": 2,
   "id": "0fcd3b71",
   "metadata": {},
   "outputs": [
    {
     "name": "stdout",
     "output_type": "stream",
     "text": [
      "All possible combinations:\n",
      "[(1, 'a'), (1, 'b'), (1, 'c'), (2, 'a'), (2, 'b'), (2, 'c'), (3, 'a'), (3, 'b'), (3, 'c')]\n"
     ]
    }
   ],
   "source": [
    "# Define two lists\n",
    "list1 = [1, 2, 3]\n",
    "list2 = ['a', 'b', 'c']\n",
    "\n",
    "# Generate all combinations using list comprehension\n",
    "combinations = [(x, y) for x in list1 for y in list2]\n",
    "\n",
    "# Print the resulting combinations\n",
    "print(\"All possible combinations:\")\n",
    "print(combinations)\n"
   ]
  },
  {
   "cell_type": "raw",
   "id": "ce0f2a74",
   "metadata": {},
   "source": []
  },
  {
   "cell_type": "code",
   "execution_count": null,
   "id": "7a82edba",
   "metadata": {},
   "outputs": [],
   "source": [
    "34. Write a program that calculates the mean, median, and mode of a list of numbers using list\n",
    "comprehension?"
   ]
  },
  {
   "cell_type": "code",
   "execution_count": 3,
   "id": "256dd8c5",
   "metadata": {},
   "outputs": [
    {
     "name": "stdout",
     "output_type": "stream",
     "text": [
      "Mean: 5.0\n",
      "Median: 5\n",
      "Mode: 3\n"
     ]
    }
   ],
   "source": [
    "from statistics import mean, median, mode\n",
    "\n",
    "# Input list of numbers\n",
    "numbers = [3, 7, 7, 1, 3, 7, 4, 3, 9, 5, 6]\n",
    "\n",
    "# Calculate Mean\n",
    "mean_value = sum([num for num in numbers]) / len(numbers)  # List comprehension for summing up\n",
    "\n",
    "# Calculate Median\n",
    "sorted_numbers = sorted([num for num in numbers])  # Sorting the list\n",
    "n = len(sorted_numbers)\n",
    "median_value = (sorted_numbers[n // 2] if n % 2 != 0 \n",
    "                else (sorted_numbers[n // 2 - 1] + sorted_numbers[n // 2]) / 2)\n",
    "\n",
    "# Calculate Mode\n",
    "count_dict = {num: numbers.count(num) for num in set(numbers)}  # Count occurrences\n",
    "mode_value = max(count_dict, key=lambda x: count_dict[x])  # Find the most frequent value\n",
    "\n",
    "# Output the results\n",
    "print(\"Mean:\", mean_value)\n",
    "print(\"Median:\", median_value)\n",
    "print(\"Mode:\", mode_value)\n"
   ]
  },
  {
   "cell_type": "raw",
   "id": "530c725d",
   "metadata": {},
   "source": []
  },
  {
   "cell_type": "code",
   "execution_count": null,
   "id": "d4b10f40",
   "metadata": {},
   "outputs": [],
   "source": [
    "35. Create a program that generates Pascal's triangle up to a specified number of rows using list\n",
    "comprehension?"
   ]
  },
  {
   "cell_type": "code",
   "execution_count": 2,
   "id": "5c82dbc3",
   "metadata": {},
   "outputs": [
    {
     "name": "stdout",
     "output_type": "stream",
     "text": [
      "Enter the number of rows for Pascal's triangle: 5\n",
      "\n",
      "Pascal's Triangle:\n",
      "[1]\n",
      "[1, 1]\n",
      "[1, 2, 1]\n",
      "[1, 3, 3, 1]\n",
      "[1, 4, 6, 4, 1]\n"
     ]
    }
   ],
   "source": [
    "def generate_pascals_triangle(rows):\n",
    "    \"\"\"\n",
    "    Generate Pascal's triangle up to a specified number of rows.\n",
    "\n",
    "    Args:\n",
    "        rows (int): The number of rows of Pascal's triangle to generate.\n",
    "\n",
    "    Returns:\n",
    "        list: A list of lists representing Pascal's triangle.\n",
    "    \"\"\"\n",
    "    pascal_triangle = []  # Initialize the triangle as an empty list\n",
    "\n",
    "    # Loop to generate each row\n",
    "    for row in range(rows):\n",
    "        # Create a new row with 1 at the beginning and end\n",
    "        new_row = [1 if col == 0 or col == row else pascal_triangle[row - 1][col - 1] + pascal_triangle[row - 1][col]\n",
    "                   for col in range(row + 1)]\n",
    "        pascal_triangle.append(new_row)  # Add the new row to the triangle\n",
    "\n",
    "    return pascal_triangle\n",
    "\n",
    "\n",
    "# Input: Specify the number of rows\n",
    "num_rows = int(input(\"Enter the number of rows for Pascal's triangle: \"))\n",
    "\n",
    "# Generate Pascal's triangle\n",
    "triangle = generate_pascals_triangle(num_rows)\n",
    "\n",
    "# Print the triangle\n",
    "print(\"\\nPascal's Triangle:\")\n",
    "for row in triangle:\n",
    "    print(row)\n"
   ]
  },
  {
   "cell_type": "raw",
   "id": "ef632cf1",
   "metadata": {},
   "source": []
  },
  {
   "cell_type": "code",
   "execution_count": null,
   "id": "d70ba0ca",
   "metadata": {},
   "outputs": [],
   "source": [
    "36. Develop a program that calculates the sum of the digits of a factorial of numbers from 1 to 5 using list\n",
    "comprehension?"
   ]
  },
  {
   "cell_type": "code",
   "execution_count": 3,
   "id": "3627af67",
   "metadata": {},
   "outputs": [
    {
     "name": "stdout",
     "output_type": "stream",
     "text": [
      "Sum of digits of factorials from 1 to 5: [1, 2, 6, 6, 3]\n"
     ]
    }
   ],
   "source": [
    "import math\n",
    "\n",
    "# Calculate the sum of the digits of the factorial of numbers from 1 to 5\n",
    "factorial_digit_sums = [sum(int(digit) for digit in str(math.factorial(num))) for num in range(1, 6)]\n",
    "\n",
    "# Output the results\n",
    "print(\"Sum of digits of factorials from 1 to 5:\", factorial_digit_sums)\n"
   ]
  },
  {
   "cell_type": "raw",
   "id": "24e89fb4",
   "metadata": {},
   "source": []
  },
  {
   "cell_type": "code",
   "execution_count": null,
   "id": "4c4a3407",
   "metadata": {},
   "outputs": [],
   "source": [
    "37. Write a program that finds the longest word in a sentence using list comprehension?"
   ]
  },
  {
   "cell_type": "code",
   "execution_count": 4,
   "id": "983ddfa0",
   "metadata": {},
   "outputs": [
    {
     "name": "stdout",
     "output_type": "stream",
     "text": [
      "The longest word is: comprehension\n"
     ]
    }
   ],
   "source": [
    "\n",
    "\n",
    "# Input sentence\n",
    "sentence = \"Write a program that finds the longest word in a sentence using list comprehension\"\n",
    "\n",
    "# Using list comprehension to split the sentence into words and find the longest one\n",
    "longest_word = max([word for word in sentence.split()], key=len)\n",
    "\n",
    "# Output the result\n",
    "print(\"The longest word is:\", longest_word)\n"
   ]
  },
  {
   "cell_type": "raw",
   "id": "9d2b19a9",
   "metadata": {},
   "source": [
    " "
   ]
  },
  {
   "cell_type": "code",
   "execution_count": null,
   "id": "9f768aa1",
   "metadata": {},
   "outputs": [],
   "source": [
    "38. Create a program that filters a list of strings to include only those with more than three vowels using list\n",
    "comprehension?"
   ]
  },
  {
   "cell_type": "code",
   "execution_count": 5,
   "id": "ef2ad39c",
   "metadata": {},
   "outputs": [
    {
     "name": "stdout",
     "output_type": "stream",
     "text": [
      "Strings with more than three vowels: ['education', 'beautiful']\n"
     ]
    }
   ],
   "source": [
    "# Function to count vowels in a string\n",
    "def count_vowels(string):\n",
    "    vowels = \"aeiouAEIOU\"\n",
    "    return sum(1 for char in string if char in vowels)\n",
    "\n",
    "# List of strings to filter\n",
    "strings = [\n",
    "    \"education\", \n",
    "    \"science\", \n",
    "    \"programming\", \n",
    "    \"python\", \n",
    "    \"beautiful\", \n",
    "    \"algorithm\"\n",
    "]\n",
    "\n",
    "# List comprehension to filter strings with more than three vowels\n",
    "filtered_strings = [s for s in strings if count_vowels(s) > 3]\n",
    "\n",
    "# Output the filtered list\n",
    "print(\"Strings with more than three vowels:\", filtered_strings)\n"
   ]
  },
  {
   "cell_type": "raw",
   "id": "f49937d8",
   "metadata": {},
   "source": []
  },
  {
   "cell_type": "code",
   "execution_count": null,
   "id": "f87606ef",
   "metadata": {},
   "outputs": [],
   "source": [
    "39. Develop a program that calculates the sum of the digits of numbers from 1 to 1000 using list\n",
    "comprehension?"
   ]
  },
  {
   "cell_type": "code",
   "execution_count": 6,
   "id": "466e4382",
   "metadata": {},
   "outputs": [
    {
     "name": "stdout",
     "output_type": "stream",
     "text": [
      "Sum of digits for numbers from 1 to 1000 has been calculated.\n",
      "Example: Sum of digits for 123 is: 6\n"
     ]
    }
   ],
   "source": [
    "\n",
    "\n",
    "# List comprehension to calculate the sum of digits for numbers 1 to 1000\n",
    "sum_of_digits = [sum(int(digit) for digit in str(number)) for number in range(1, 1001)]\n",
    "\n",
    "# Display the results\n",
    "print(\"Sum of digits for numbers from 1 to 1000 has been calculated.\")\n",
    "print(\"Example: Sum of digits for 123 is:\", sum(int(digit) for digit in str(123)))\n"
   ]
  },
  {
   "cell_type": "raw",
   "id": "c0ea9c69",
   "metadata": {},
   "source": []
  },
  {
   "cell_type": "code",
   "execution_count": null,
   "id": "f770affe",
   "metadata": {},
   "outputs": [],
   "source": [
    "40. Write a program that generates a list of prime palindromic numbers using list comprehension?"
   ]
  },
  {
   "cell_type": "code",
   "execution_count": 7,
   "id": "4cf6e057",
   "metadata": {},
   "outputs": [
    {
     "name": "stdout",
     "output_type": "stream",
     "text": [
      "Prime Palindromic Numbers: [2, 3, 5, 7, 11, 101, 131, 151, 181, 191, 313, 353, 373, 383, 727, 757, 787, 797, 919, 929]\n"
     ]
    }
   ],
   "source": [
    "def is_prime(num):\n",
    "    \"\"\"Check if a number is prime.\"\"\"\n",
    "    if num < 2:\n",
    "        return False\n",
    "    for i in range(2, int(num**0.5) + 1):\n",
    "        if num % i == 0:\n",
    "            return False\n",
    "    return True\n",
    "\n",
    "def is_palindrome(num):\n",
    "    \"\"\"Check if a number is a palindrome.\"\"\"\n",
    "    return str(num) == str(num)[::-1]\n",
    "\n",
    "# Generate prime palindromic numbers using list comprehension\n",
    "prime_palindromes = [num for num in range(1, 1000) if is_prime(num) and is_palindrome(num)]\n",
    "\n",
    "print(\"Prime Palindromic Numbers:\", prime_palindromes)\n"
   ]
  },
  {
   "cell_type": "code",
   "execution_count": null,
   "id": "5c3fbbfa",
   "metadata": {},
   "outputs": [],
   "source": []
  },
  {
   "cell_type": "code",
   "execution_count": null,
   "id": "a45ea07e",
   "metadata": {},
   "outputs": [],
   "source": []
  }
 ],
 "metadata": {
  "kernelspec": {
   "display_name": "Python 3 (ipykernel)",
   "language": "python",
   "name": "python3"
  },
  "language_info": {
   "codemirror_mode": {
    "name": "ipython",
    "version": 3
   },
   "file_extension": ".py",
   "mimetype": "text/x-python",
   "name": "python",
   "nbconvert_exporter": "python",
   "pygments_lexer": "ipython3",
   "version": "3.9.12"
  }
 },
 "nbformat": 4,
 "nbformat_minor": 5
}
